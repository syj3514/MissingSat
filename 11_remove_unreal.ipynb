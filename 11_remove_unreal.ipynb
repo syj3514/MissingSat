{
 "cells": [
  {
   "cell_type": "code",
   "execution_count": 1,
   "metadata": {},
   "outputs": [],
   "source": [
    "from tqdm import tqdm\n",
    "import matplotlib.pyplot as plt # type: module\n",
    "import matplotlib.ticker as ticker\n",
    "\n",
    "import numpy as np\n",
    "import os, glob\n",
    "import time\n",
    "import warnings\n",
    "\n",
    "from rur.fortranfile import FortranFile\n",
    "from rur import uri, uhmi, painter, drawer\n",
    "from rur.sci.photometry import measure_luminosity\n",
    "from rur.sci.geometry import get_angles, euler_angle\n",
    "from rur.utool import rotate_data\n",
    "from scipy.ndimage import gaussian_filter\n",
    "uri.timer.verbose=0\n",
    "# from rur.sci.kinematics import f_getpot\n",
    "\n",
    "from icl_IO import mode2repo, pklsave, pklload\n",
    "from icl_tool import *\n",
    "from icl_numba import large_isin, large_isind, isin\n",
    "from icl_draw import drawsnap, add_scalebar, addtext, MakeSub_nolabel, label_to_in, fancy_axis, circle\n",
    "import argparse, subprocess\n",
    "from importlib import reload\n",
    "import cmasher as cmr"
   ]
  },
  {
   "cell_type": "code",
   "execution_count": 2,
   "metadata": {},
   "outputs": [
    {
     "name": "stdout",
     "output_type": "stream",
     "text": [
      "81\n"
     ]
    }
   ],
   "source": [
    "mode = 'nh'\n",
    "iout = 1026\n",
    "repo, rurmode, dp = mode2repo(mode)\n",
    "snap = uri.RamsesSnapshot(repo, iout, mode=rurmode)\n",
    "snaps = uri.TimeSeries(snap)\n",
    "snaps.read_iout_avail()\n",
    "nout = snaps.iout_avail['iout']\n",
    "gals = pklload(\"./database/01_nh_ghmatch.pickle\")\n",
    "hals = uhmi.HaloMaker.load(snap, galaxy=False, double_precision=dp)\n",
    "\n",
    "results = pklload(f\"./database/03_MWA1s.pickle\")\n",
    "pairs = pklload(f\"./database/06_nh_subhalo_pairs.pickle\")\n",
    "scores = pklload(f\"./database/08_nh_scores.pickle\")\n",
    "dm_scores = pklload(\"./database/08_nh_dm_scores.pickle\")\n",
    "\n",
    "cols = [\n",
    "    \"Host\", \"Sat\", \"r50m\", \"r90m\", \"r50r\", \"r90r\", \n",
    "    \"SFR_mem\", \"u_mem\", \"g_mem\", \"r_mem\", \"i_mem\", \"z_mem\", \"metal_mem\", \"ager_mem\", \"t50_mem\", \"t90_mem\"] \n",
    "category = [\"r50m\", \"r90m\", \"r50r\", \"r90r\", \"rmax\"]\n",
    "for icate in category:\n",
    "    cols = cols+[f\"SFR_{icate}\", f\"u_{icate}\", f\"g_{icate}\", f\"r_{icate}\", f\"i_{icate}\", f\"z_{icate}\", f\"metal_{icate}\", f\"ager_{icate}\", f\"t50_{icate}\", f\"t90_{icate}\", f\"mgas_{icate}\", f\"mcold_{icate}\", f\"mdm_{icate}\"]\n",
    "dtype = [(col, np.float64) for col in cols]\n",
    "print(len(dtype))\n",
    "dtype[0] = (\"Host\", np.int32)\n",
    "dtype[1] = (\"Sat\", np.int32)\n",
    "dtype = np.dtype(dtype)\n",
    "vad = np.genfromtxt(\"./database/09_value_added.txt\", delimiter=\"\\t\", dtype=dtype, skip_header=1)\n",
    "# pklsave(vad, \"./database/09_value_added.pickle\")"
   ]
  },
  {
   "cell_type": "code",
   "execution_count": 3,
   "metadata": {},
   "outputs": [
    {
     "name": "stdout",
     "output_type": "stream",
     "text": [
      "a\n",
      "a\n",
      "b\n",
      "c\n",
      "d\n",
      "e\n",
      "f\n",
      "g\n",
      "h\n",
      "i\n",
      "j\n"
     ]
    },
    {
     "data": {
      "image/png": "[encoded data removed]",
      "text/plain": [
       "<Figure size 600x600 with 1 Axes>"
      ]
     },
     "metadata": {},
     "output_type": "display_data"
    }
   ],
   "source": [
    "xval = 'z'\n",
    "yval = 'y'\n",
    "\n",
    "fig, ax = fancy_axis(figsize=(6, 6))\n",
    "# ax.scatter(results['x'], results['y'], marker='x', color='w')\n",
    "regions = np.zeros(len(results), dtype=[('id',np.int32),('region','<U1')])\n",
    "regions['id'] = results['id']\n",
    "regions['region'] = 'z'\n",
    "\n",
    "init_alphabet()\n",
    "text = get_alphabet()\n",
    "print(text)\n",
    "for result in results:\n",
    "    neighbor = cut_sphere(results, result['x'], result['y'], result['z'], result['r200_code']*1.5, both_sphere=True)\n",
    "    # print(len(neighbor))\n",
    "    if(len(neighbor)>1):\n",
    "        already=True\n",
    "        for neigh in neighbor:\n",
    "            arg = np.where(results['id']==neigh['id'])[0][0]\n",
    "            if(regions['region'][arg] != 'z'):\n",
    "                pass\n",
    "            else:\n",
    "                regions['region'][arg] = text\n",
    "                already=False\n",
    "        if(not already): text = get_alphabet()\n",
    "\n",
    "\n",
    "init_colors()\n",
    "for text in np.unique(regions['region']):\n",
    "    if(text=='z'): continue\n",
    "    print(text)\n",
    "    groups = regions[regions['region']==text]['id']\n",
    "    color = get_color()\n",
    "    for group in groups:\n",
    "        target = results[results['id']==group][0]\n",
    "        # cir = circle(target, rname='r200_code', color=color)\n",
    "        cir = plt.Circle((target[xval], target[yval]), target['r200_code'], color=color, fill=False)\n",
    "        ax.add_patch(cir)\n",
    "        ax.scatter(target[xval], target[yval], marker='x', color='w')\n"
   ]
  },
  {
   "cell_type": "code",
   "execution_count": 4,
   "metadata": {},
   "outputs": [
    {
     "data": {
      "text/plain": [
       "array(['a', 'b', 'c', 'd', 'e', 'f', 'g', 'h', 'i', 'j'], dtype='<U1')"
      ]
     },
     "execution_count": 4,
     "metadata": {},
     "output_type": "execute_result"
    }
   ],
   "source": [
    "names = np.unique(regions['region'])[:-1]\n",
    "names"
   ]
  },
  {
   "cell_type": "code",
   "execution_count": 5,
   "metadata": {},
   "outputs": [],
   "source": [
    "for name in names:\n",
    "    if(not os.path.exists(f\"./database/photo/11_remove_unreal/{name}.png\")):\n",
    "        temp = regions[regions['region']==name]['id']\n",
    "        ind = isin(results['id'], temp)\n",
    "        groups = results[ind]\n",
    "        if(len(groups)<2): continue\n",
    "        print(name, len(groups))\n",
    "\n",
    "        x1 = np.min(groups['x'] - groups['r200_code']*1.5)\n",
    "        x2 = np.max(groups['x'] + groups['r200_code']*1.5)\n",
    "        y1 = np.min(groups['y'] - groups['r200_code']*1.5)\n",
    "        y2 = np.max(groups['y'] + groups['r200_code']*1.5)\n",
    "        z1 = np.min(groups['z'] - groups['r200_code']*1.5)\n",
    "        z2 = np.max(groups['z'] + groups['r200_code']*1.5)\n",
    "        snap.box = np.array([[x1, x2], [y1, y2], [z1, z2]])\n",
    "        snap.get_part(pname='star', nthread=32)\n",
    "        \n",
    "        fig, ax = fancy_axis(figsize=(6, 6),dpi=200)\n",
    "        painter.draw_partmap(snap.part, ax=ax, cmap=cmr.ember)\n",
    "        for group in groups:\n",
    "            cir = plt.Circle((group['x'], group['y']), 1.5*group['r200_code'], color='w', fill=False)\n",
    "            ax.add_patch(cir)\n",
    "            ax.text(group['x'], group['y'], f\"{group['id']}\", color='w', fontsize=15, ha='center', va='bottom')\n",
    "        ax.set_title(name)\n",
    "        plt.savefig(f\"./database/photo/11_remove_unreal/{name}.png\", dpi=300, facecolor='white')\n",
    "        plt.show()\n",
    "        plt.close()\n",
    "        snap.clear()"
   ]
  },
  {
   "cell_type": "markdown",
   "metadata": {},
   "source": [
    "# Basic Array"
   ]
  },
  {
   "cell_type": "code",
   "execution_count": 6,
   "metadata": {},
   "outputs": [],
   "source": [
    "LocalGroup = {}\n",
    "for result in results:\n",
    "    LocalGroup[result['id']] = {}\n",
    "    LocalGroup[result['id']]['BGG'] = result\n",
    "    LocalGroup[result['id']]['neighbor'] = np.zeros(0, dtype=[('id',np.int32),('mratio',np.float64)])"
   ]
  },
  {
   "cell_type": "markdown",
   "metadata": {},
   "source": [
    "## Add merger & neighbor"
   ]
  },
  {
   "cell_type": "code",
   "execution_count": 7,
   "metadata": {},
   "outputs": [
    {
     "name": "stdout",
     "output_type": "stream",
     "text": [
      "[a] BGG=2\n",
      " > 20) 1:6.33 Minor merger\n",
      "[b] BGG=3\n",
      " > 1252) 1:1.45 Major merger\n",
      "[c] BGG=4\n",
      " > 19) 1:4.50 Minor merger\n",
      "[d] BGG=7\n",
      " > 1545) 1:3.71 Major merger\n",
      "[e] BGG=9\n",
      " > 65) 1:19.11 Mini merger\n",
      "[f] BGG=14\n",
      " > 66) 1:10.49 Mini merger\n",
      " > 133) 1:15.92 Mini merger\n",
      " > 148) 1:6.88 Minor merger\n",
      " > 1920) 1:13.01 Mini merger\n",
      "[g] BGG=11\n",
      " > 21) 1:1.41 Major merger\n",
      "[h] BGG=24\n",
      " > 54) 1:1.18 Major merger\n",
      "[i] BGG=36\n",
      " > 60) 1:2.11 Major merger\n",
      "[j] BGG=165\n",
      " > 41) 1:1.06 Major merger\n"
     ]
    }
   ],
   "source": [
    "for name in names:\n",
    "    temp = regions[regions['region']==name]['id']\n",
    "    ind = isin(results['id'], temp)\n",
    "    groups = results[ind]\n",
    "    temp = [ (ig['id'], np.log10(ig['m'])) for ig in groups ]\n",
    "\n",
    "    argmax = np.argmax(groups['m'])\n",
    "    BGG = groups[argmax]\n",
    "    others = groups[groups['id']!=BGG['id']]\n",
    "    merger_rate = BGG['m'] / others['m']\n",
    "    print(f\"[{name}] BGG={BGG['id']}\")\n",
    "    for other, mrate in zip(others, merger_rate):\n",
    "        if(mrate < 4):\n",
    "            cate = \"Major\"\n",
    "        elif(mrate < 10):\n",
    "            cate = \"Minor\"\n",
    "        else:\n",
    "            cate = \"Mini\"\n",
    "        print(f\" > {other['id']}) 1:{mrate:.2f} {cate} merger\")\n",
    "        del LocalGroup[other['id']]\n",
    "        LocalGroup[BGG['id']]['neighbor'] = np.append(LocalGroup[BGG['id']]['neighbor'], np.array([(other['id'], mrate)], dtype=LocalGroup[BGG['id']]['neighbor'].dtype))"
   ]
  },
  {
   "cell_type": "markdown",
   "metadata": {},
   "source": [
    "## Add satellites"
   ]
  },
  {
   "cell_type": "code",
   "execution_count": 8,
   "metadata": {},
   "outputs": [],
   "source": [
    "keys = list(LocalGroup.keys())\n",
    "# Find all real sats\n",
    "for key in keys:\n",
    "    find_ids = np.array([key])\n",
    "    if(len(LocalGroup[key]['neighbor'])>0):\n",
    "        find_ids = np.append(find_ids, LocalGroup[key]['neighbor']['id'])\n",
    "    \n",
    "    satids = None\n",
    "    for find_id in find_ids:\n",
    "        tmp = np.array(list(scores['take'][key].keys()))\n",
    "        indices = np.zeros(len(tmp), dtype=bool)\n",
    "        for i, sat in enumerate(tmp):\n",
    "            scos = scores['take'][key][sat]\n",
    "            indices[i] = 2 * np.median(scos%1) > 0.5\n",
    "        tmp = tmp[indices]\n",
    "        if(len(tmp)>0):\n",
    "            satids = tmp if(satids is None) else np.union1d(satids, tmp)\n",
    "    \n",
    "    if(satids is None):\n",
    "        LocalGroup[key]['sats'] = np.zeros(0, dtype=vad.dtype)\n",
    "    else:\n",
    "        LocalGroup[key]['sats'] = vad[ isin(vad['Sat'], satids) ]"
   ]
  },
  {
   "cell_type": "markdown",
   "metadata": {},
   "source": [
    "## Add subhalos"
   ]
  },
  {
   "cell_type": "code",
   "execution_count": 9,
   "metadata": {},
   "outputs": [],
   "source": [
    "keys = list(LocalGroup.keys())\n",
    "# Find all real subs\n",
    "for key in keys:\n",
    "    find_ids = np.array([key])\n",
    "    if(len(LocalGroup[key]['neighbor'])>0):\n",
    "        find_ids = np.append(find_ids, LocalGroup[key]['neighbor']['id'])\n",
    "    \n",
    "    subids = None\n",
    "    for find_id in find_ids:\n",
    "        tmp = np.array(list(dm_scores['take'][key].keys()))\n",
    "        indices = np.zeros(len(tmp), dtype=bool)\n",
    "        for i, sat in enumerate(tmp):\n",
    "            scos = dm_scores['take'][key][sat]\n",
    "            indices[i] = 2 * np.median(scos%1) > 0.5\n",
    "        tmp = tmp[indices]\n",
    "        if(len(tmp)>0):\n",
    "            subids = tmp if(subids is None) else np.union1d(subids, tmp)\n",
    "    \n",
    "    if(subids is None):\n",
    "        LocalGroup[key]['subs'] = np.zeros(0, dtype=hals.dtype)\n",
    "    else:\n",
    "        LocalGroup[key]['subs'] = hals[ isin(hals['id'], subids) ]"
   ]
  },
  {
   "cell_type": "markdown",
   "metadata": {},
   "source": [
    "## Add real pairs"
   ]
  },
  {
   "cell_type": "code",
   "execution_count": 10,
   "metadata": {},
   "outputs": [
    {
     "data": {
      "text/plain": [
       "dict_keys([1, 2, 3, 4, 7, 8, 9, 10, 14, 17, 19, 20, 21, 23, 24, 25, 26, 29, 35, 36, 37, 40, 41, 46, 47, 52, 54, 60, 63, 64, 65, 66, 68, 75, 84, 91, 92, 104, 107, 108, 121, 129, 133, 136, 148, 165, 168, 207, 212, 937, 1252, 1545, 1920])"
      ]
     },
     "execution_count": 10,
     "metadata": {},
     "output_type": "execute_result"
    }
   ],
   "source": [
    "real_members = pklload(f\"./database/10_real_members.pickle\")\n",
    "real_members.keys()"
   ]
  },
  {
   "cell_type": "code",
   "execution_count": 11,
   "metadata": {},
   "outputs": [],
   "source": [
    "keys = list(LocalGroup.keys())\n",
    "dtype = [('hid',np.int32),('gid',np.int32),('state','<U7')]\n",
    "\n",
    "for key in keys:\n",
    "    find_ids = np.array([key])\n",
    "    if(len(LocalGroup[key]['neighbor'])>0):\n",
    "        find_ids = np.append(find_ids, LocalGroup[key]['neighbor']['id'])\n",
    "\n",
    "    real_mems = None\n",
    "    for find_id in find_ids:\n",
    "        if(find_id in real_members.keys()):\n",
    "            tmp = real_members[find_id]\n",
    "            state = np.zeros(len(tmp), dtype='<U7')\n",
    "            state[ (tmp[:,0]>0)&(tmp[:,1]>0) ] = 'pair' # pairs\n",
    "            state[ (tmp[:,0]>0)&(tmp[:,1]==0) ] = 'dink' # DINK\n",
    "            state[ (tmp[:,0]==0)&(tmp[:,1]>0)] = 'orphan' # Orphans\n",
    "            empty = np.empty(tmp.shape[0], dtype=dtype)\n",
    "            empty['hid'] = tmp[:,0]\n",
    "            empty['gid'] = tmp[:,1]\n",
    "            empty['state'] = state\n",
    "\n",
    "        real_mems = empty if(real_mems is None) else np.union1d(real_mems, empty)\n",
    "    real_mems = np.sort(real_mems, order='gid')\n",
    "    LocalGroup[key]['real'] = real_mems"
   ]
  },
  {
   "cell_type": "code",
   "execution_count": 12,
   "metadata": {},
   "outputs": [],
   "source": [
    "pklsave(LocalGroup, f\"./database/11_LocalGroup.pickle\", overwrite=True)"
   ]
  },
  {
   "cell_type": "code",
   "execution_count": 13,
   "metadata": {},
   "outputs": [],
   "source": [
    "# 20 -> 2 merging\n",
    "# 1252 -> 3 merging\n",
    "# 19 -> 4 merging\n",
    "# 1545 -> 7 merging\n",
    "# 65 -> 9 merging\n",
    "# 133,148,1920 -> 14 merging\n",
    "# 21 -> 11 merging\n",
    "# 24 -> 54 merging\n",
    "# 60 -> 36 merging\n",
    "# 41 -> 165 merging\n"
   ]
  }
 ],
 "metadata": {
  "kernelspec": {
   "display_name": "jeonpy",
   "language": "python",
   "name": "python3"
  },
  "language_info": {
   "codemirror_mode": {
    "name": "ipython",
    "version": 3
   },
   "file_extension": ".py",
   "mimetype": "text/x-python",
   "name": "python",
   "nbconvert_exporter": "python",
   "pygments_lexer": "ipython3",
   "version": "3.10.4"
  },
  "orig_nbformat": 4
 },
 "nbformat": 4,
 "nbformat_minor": 2
}
