{
 "cells": [
  {
   "cell_type": "code",
   "execution_count": 69,
   "metadata": {},
   "outputs": [],
   "source": [
    "from common_func import *\n",
    "if type_of_script() == 'jupyter': from tqdm.notebook import tqdm\n",
    "else: from tqdm import tqdm\n",
    "    \n",
    "import matplotlib.pyplot as plt\n",
    "import matplotlib.ticker as ticker\n",
    "from matplotlib import colormaps\n",
    "from matplotlib.colors import Normalize\n",
    "import matplotlib.gridspec as gridspec\n",
    "from mpl_toolkits.mplot3d import Axes3D, proj3d\n",
    "#import cmasher as cmr\n",
    "\n",
    "import numpy as np\n",
    "import os, glob, atexit, signal, time, warnings, argparse, subprocess\n",
    "\n",
    "from rur.fortranfile import FortranFile\n",
    "from rur import uri, uhmi, painter, drawer\n",
    "from rur.sci.photometry import measure_luminosity\n",
    "from rur.sci.geometry import get_angles, euler_angle\n",
    "from rur.utool import rotate_data\n",
    "from scipy.ndimage import gaussian_filter\n",
    "uri.timer.verbose=1\n",
    "\n",
    "from icl_IO import mode2repo, pklsave, pklload\n",
    "from icl_tool import *\n",
    "from icl_numba import large_isin, large_isind, isin\n",
    "from icl_draw import drawsnap, add_scalebar, addtext, MakeSub_nolabel, label_to_in, fancy_axis, circle\n",
    "\n",
    "from importlib import reload\n",
    "from copy import deepcopy\n",
    "from multiprocessing import Pool, shared_memory, Value"
   ]
  },
  {
   "cell_type": "code",
   "execution_count": 70,
   "metadata": {},
   "outputs": [
    {
     "name": "stdout",
     "output_type": "stream",
     "text": [
      "[Output 01026] Age (Gyr) : 11.624 / 13.741, z = 0.17149 (a = 0.8536)\n",
      "[Output 00797] Age (Gyr) : 11.623 / 13.741, z = 0.17158 (a = 0.8536)\n"
     ]
    }
   ],
   "source": [
    "mode1 = 'nh'\n",
    "iout1 = 1026\n",
    "repo, rurmode, dp = mode2repo(mode1)\n",
    "nh1 = uri.RamsesSnapshot(repo, iout1, mode=rurmode)\n",
    "nh1s = uri.TimeSeries(nh1)\n",
    "nh1s.read_iout_avail()\n",
    "nout1 = nh1s.iout_avail['iout']\n",
    "gals1 = uhmi.HaloMaker.load(nh1, galaxy=True, double_precision=dp)\n",
    "hals1 = uhmi.HaloMaker.load(nh1, galaxy=False, double_precision=dp)\n",
    "database1 = f\"/home/jeon/MissingSat/database\"\n",
    "\n",
    "mode2 = 'nh2'\n",
    "iout2 = 797\n",
    "repo, rurmode, dp = mode2repo(mode2)\n",
    "nh2 = uri.RamsesSnapshot(repo, iout2, mode=rurmode)\n",
    "nh2s = uri.TimeSeries(nh2)\n",
    "nh2s.read_iout_avail()\n",
    "nout2 = nh2s.iout_avail['iout']\n",
    "gals2 = uhmi.HaloMaker.load(nh2, galaxy=True, double_precision=dp)\n",
    "hals2 = uhmi.HaloMaker.load(nh2, galaxy=False, double_precision=dp)\n",
    "database2 = f\"/home/jeon/MissingSat/database/nh2\""
   ]
  },
  {
   "cell_type": "markdown",
   "metadata": {},
   "source": [
    "# Sample Selection"
   ]
  },
  {
   "cell_type": "markdown",
   "metadata": {},
   "source": [
    "# MWA"
   ]
  },
  {
   "cell_type": "code",
   "execution_count": 71,
   "metadata": {},
   "outputs": [],
   "source": [
    "LG1 = pklload(f\"{database1}/LG\")\n",
    "LG2 = pklload(f\"{database2}/LG\")\n",
    "old1 = pklload(f\"{database}/old/befo231031/03_MWA1s.pickle\")\n",
    "old1[8]['m200'] = LG1[11]['BGG']['m200']\n",
    "old2 = pklload(f\"{database}/old/befo231031/03_MWA2s.pickle\")\n",
    "keys1 = []\n",
    "for key in LG1.keys():\n",
    "    if(LG1[key]['isLG']): keys1.append(key)\n",
    "keys2 = []\n",
    "for key in LG2.keys():\n",
    "    if(LG2[key]['isLG']): keys2.append(key)"
   ]
  },
  {
   "cell_type": "code",
   "execution_count": 72,
   "metadata": {},
   "outputs": [],
   "source": [
    "MWmass = 6.08e10; dMW = (7.22-4.94)/2 * 10**10\n",
    "sm1 = MWmass-2*dMW; sm2 = MWmass+2*dMW\n",
    "LGmass = 3.4e12; dLG = (4.8-2.3)/2 * 10**12\n",
    "lm1 = LGmass-2*dLG; lm2 = LGmass+2*dLG"
   ]
  },
  {
   "cell_type": "code",
   "execution_count": 73,
   "metadata": {},
   "outputs": [
    {
     "data": {
      "image/png": "[encoded data removed]",
      "text/plain": [
       "<Figure size 640x480 with 1 Axes>"
      ]
     },
     "metadata": {},
     "output_type": "display_data"
    }
   ],
   "source": [
    "fig, ax = plt.subplots()\n",
    "\n",
    "tmp = old1[ (old1['m']>1e10) & (old1['m200']>1e11)]\n",
    "mask = isin(tmp['id'], keys1)\n",
    "ax.scatter(tmp[mask]['m'], tmp[mask]['m200'], fc='k', ec='none', label='NH & NH2')\n",
    "tmp = old2[ (old2['m']>1e10) & (old2['m200']>1e11)]\n",
    "mask = isin(tmp['id'], keys2)\n",
    "ax.scatter(tmp[mask]['m'], tmp[mask]['m200'], fc='k', ec='none')\n",
    "\n",
    "ax.errorbar([6.08e10], [3.4e12], yerr=[1.25e12], xerr=[1.14e10],color='r', label='MW')\n",
    "ax.set_xscale('log')\n",
    "ax.set_yscale('log')\n",
    "\n",
    "ax.set_xticks([1e10, 2e10, 4e10, 8e10])\n",
    "ax.set_xticklabels([\"1\", \"2\", \"4\", \"8\"])\n",
    "ax.set_yticks([4e11, 8e11, 1e12, 2e12, 4e12])\n",
    "ax.set_yticklabels([\"0.4\", \"0.8\", \"1\", \"2\", \"4\"])\n",
    "ax.set_xlabel(r\"$10^{10}\\ M_*\\,/\\,M_\\odot$\")\n",
    "ax.set_ylabel(r\"$10^{12}\\ M_{200}\\,/\\,M_\\odot$\")\n",
    "ax.legend(loc='upper left')\n",
    "plt.savefig(f\"01_Mass_obs.png\", dpi=400, facecolor='white', transparent=False, bbox_inches='tight', pad_inches=0.1)\n",
    "plt.show(); plt.close()"
   ]
  },
  {
   "cell_type": "markdown",
   "metadata": {},
   "source": [
    "## HaloMaker"
   ]
  },
  {
   "cell_type": "markdown",
   "metadata": {},
   "source": [
    "In 3D plot, draw 2D density and levels"
   ]
  },
  {
   "cell_type": "code",
   "execution_count": 74,
   "metadata": {},
   "outputs": [],
   "source": [
    "jump=os.path.exists(f\"01_HaloMaker_3.png\")"
   ]
  },
  {
   "cell_type": "code",
   "execution_count": 75,
   "metadata": {},
   "outputs": [],
   "source": [
    "if(not jump):\n",
    "    tmp = hals1[hals1['mcontam']==0]\n",
    "    tmp = tmp[tmp['mvir'] < 1e12]\n",
    "    tmp = tmp[np.argmax(tmp['mvir'])]\n",
    "    print(np.log10(tmp['mvir']))\n",
    "    nh1.set_box_halo(tmp, radius=1, radius_name='r')\n",
    "    nh1.get_part(pname='dm', nthread=16, target_fields=['x','y','z','m'])\n",
    "    print(nh1.part.shape)\n",
    "    members = hals1[hals1['host'] == tmp['id']]\n",
    "    print( np.unique(members['level'], return_counts=True) )"
   ]
  },
  {
   "cell_type": "code",
   "execution_count": 76,
   "metadata": {},
   "outputs": [],
   "source": [
    "from matplotlib.colors import LightSource\n",
    "import mpl_toolkits.mplot3d.art3d as art3d\n",
    "\n",
    "if(not jump):\n",
    "    ls = LightSource(azdeg=-45, altdeg=30)\n",
    "    nbin = 240\n",
    "    xbins = np.linspace(nh1.box[0][0], nh1.box[0][1], nbin+1)\n",
    "    ybins = np.linspace(nh1.box[1][0], nh1.box[1][1], nbin+1)\n",
    "    bins = [xbins, ybins]\n",
    "\n",
    "\n",
    "    for i in range(4):\n",
    "        if(os.path.exists(f\"01_HaloMaker_{i}.png\")): continue\n",
    "        fig, ax = plt.subplots(1,1, figsize=(4,8), dpi=200, subplot_kw={'projection':'3d', 'box_aspect':(0.6, 0.6, 1),\"computed_zorder\":False})\n",
    "        plt.subplots_adjust(wspace=0, hspace=0)\n",
    "        if(i==0):\n",
    "            raw, xe, ye = np.histogram2d(nh1.part['x'], nh1.part['y'], bins=bins, weights=nh1.part['m','Msol'])\n",
    "            xx,yy = np.meshgrid(0.5*(xe[1:]+xe[:-1]), 0.5*(ye[1:]+ye[:-1]))\n",
    "            ax.set_title(f\"All\", color='w')\n",
    "            drawhals = members\n",
    "        elif(i==1):\n",
    "            parts = uhmi.HaloMaker.read_member_part(nh1, tmp['id'], galaxy=False)\n",
    "            raw, xe, ye = np.histogram2d(parts['x'], parts['y'], bins=bins, weights=parts['m','Msol'])\n",
    "            ax.set_title(f\"level {i}\", color='w')\n",
    "            drawhals = [tmp]\n",
    "        else:\n",
    "            ihals = members[members['level'] == i]\n",
    "            parts = uhmi.HaloMaker.read_member_parts(nh1, ihals, galaxy=False, nthread=8)\n",
    "            raw, xe, ye = np.histogram2d(parts['x'], parts['y'], bins=bins, weights=parts['m','Msol'])\n",
    "            ax.set_title(f\"level {i}\", color='w')\n",
    "            drawhals = members[members['level'] == i]\n",
    "        hist = gaussian_filter(raw, sigma=2)\n",
    "        raw = gaussian_filter(raw, sigma=1)\n",
    "        amin = np.min(hist[hist>0])\n",
    "        if(i==0):\n",
    "            vmin = np.log10(np.min(hist[hist>0]))\n",
    "            vmax = np.log10(np.max(hist))\n",
    "        else:\n",
    "            vmin -= 0.5\n",
    "        hist[hist==0] = amin/2\n",
    "        lhist = np.log10(hist)\n",
    "        \n",
    "        if(i>-1):\n",
    "            rgb = ls.shade(lhist, plt.get_cmap(\"inferno\"), vmin=vmin, vmax=vmax)\n",
    "            lhist[lhist<vmin] = np.nan\n",
    "            ax.plot_surface(xx, yy, lhist, rstride=1, cstride=1, lw=0, facecolors=rgb, antialiased=False, zorder=6)\n",
    "            ax.set_zlim(vmin-1.5,vmax)\n",
    "            ax.contourf(xx, yy, np.log10(raw.T), levels=30, zdir='z', offset=vmin-1.51, cmap='inferno', zorder=4, vmin=vmin, vmax=vmax)\n",
    "        for drawhal in drawhals:\n",
    "            cir = circle(drawhal, rname='rvir', zorder=5, color='cyan', lw=0.5)\n",
    "            ax.add_patch(cir)\n",
    "            art3d.pathpatch_2d_to_3d(cir, z=vmin-1.5, zdir=\"z\")\n",
    "\n",
    "        ax.set_xlim(xe[0], xe[-1])\n",
    "        ax.set_ylim(ye[0], ye[-1])\n",
    "        ax.set_xticklabels([])\n",
    "        ax.set_yticklabels([])\n",
    "        ax.set_zticklabels([])\n",
    "        \n",
    "        ax.set_axis_off()\n",
    "        plt.savefig(f\"01_HaloMaker_{i}.png\", dpi=400, facecolor='none', transparent=True, bbox_inches='tight', pad_inches=0.1)\n",
    "        print(f\"`00_HaloMaker_{i}.png` done\")\n",
    "        plt.close()"
   ]
  },
  {
   "cell_type": "markdown",
   "metadata": {},
   "source": [
    "## Local Group"
   ]
  },
  {
   "cell_type": "code",
   "execution_count": 77,
   "metadata": {},
   "outputs": [],
   "source": [
    "LG1 = pklload(f\"{database1}/LG\")\n",
    "LG2 = pklload(f\"{database2}/LG\")\n",
    "jump=os.path.exists(f\"01_MWA_3.png\")\n",
    "jump=False"
   ]
  },
  {
   "cell_type": "code",
   "execution_count": 78,
   "metadata": {},
   "outputs": [],
   "source": [
    "if(not jump):\n",
    "    key=1; MWA = LG1[1]\n",
    "    BGG = MWA['BGG']\n",
    "    sats = MWA['sats']\n",
    "    subs = MWA['subs']\n",
    "    real = MWA['real']\n",
    "    star = pklload(f\"{database1}/parts/nh_star_{key:04d}.pickle\")\n",
    "    dm = pklload(f\"{database1}/parts/nh_dm_{key:04d}.pickle\")\n",
    "    cell = pklload(f\"{database1}/parts/nh_cell_{key:04d}.pickle\")\n",
    "    nh1.box = MWA['box']\n",
    "    star = uri.Particle(star,nh1)\n",
    "    dm = uri.Particle(dm,nh1)\n",
    "    cell = uri.Cell(cell,nh1)"
   ]
  },
  {
   "cell_type": "code",
   "execution_count": 82,
   "metadata": {},
   "outputs": [
    {
     "name": "stdout",
     "output_type": "stream",
     "text": [
      "Computing particle map of 7815248 particles... \n",
      "Done (2.745s).\n",
      "Computing particle map of 1444269 particles... \n",
      "Done (0.177s).\n",
      "MinLvl = 12, MaxLvl = 18, Initial Image Size:  [1280 1280]\n",
      "Drawing gas map... \n",
      "Done (3.981s).\n",
      "MinLvl = 13, MaxLvl = 18, Initial Image Size:  [1248 1216]\n",
      "Drawing gas map... \n",
      "Done (2.233s).\n"
     ]
    }
   ],
   "source": [
    "from common_func import _ibox\n",
    "ibox = _ibox(BGG, factor=1.5, rname='r200_code')\n",
    "if(not jump):\n",
    "    rband = measure_luminosity(star, 'SDSS_r')\n",
    "    starmap = painter.partmap(star, box=ibox, weights=rband, shape=1080)\n",
    "    dmmap_raw = painter.partmap(dm, box=ibox, shape=1080)\n",
    "    dmmap = gaussian_filter(dmmap_raw, sigma=3)\n",
    "    # instar = cut_sphere(star, BGG['x'], BGG['y'], BGG['z'], BGG['r']/3)\n",
    "    # irband = measure_luminosity(instar, 'SDSS_r')\n",
    "    # instarmap = painter.partmap(instar, box=ibox, weights=irband, shape=1080)\n",
    "\n",
    "    mask = cell['T','K'] < 5e4\n",
    "    cellmap = painter.gasmap(cell[~mask], box=ibox, shape=1080)\n",
    "    coldmap = painter.gasmap(cell[mask], box=ibox, shape=1080)"
   ]
  },
  {
   "cell_type": "code",
   "execution_count": 83,
   "metadata": {},
   "outputs": [],
   "source": [
    "import cmasher as cmr\n",
    "if(not jump):\n",
    "    cmap_star = drawer.make_cmap([(0,0,0),(1,0,0),(1,1,0),(1,1,1)], position=[0,0.4,0.8,1])\n",
    "    cmap_dm = drawer.make_cmap([(0,0,0),(0.1,0.25,0.15),(0,0.5,0)], position=[0,0.5,1])\n",
    "    # cmap_cell = cmr.neutral\n",
    "    cmap_cell = cmr.dusk\n",
    "    # cmap_cold = cmr.arctic\n",
    "    cmap_cold = drawer.make_cmap(\n",
    "            [[0,0,0], [2/255,2/255,25/255], [25/255, 25/255, 132/255], [25/255, 191/255, 255/255], [222/255, 222/255, 255/255]], \n",
    "            position=[0, 0.15, 0.35,0.85,1])\n",
    "    comp1 = painter.composite_image(\n",
    "        [starmap, coldmap], \n",
    "        cmaps=[cmap_star, cmap_cold],\n",
    "        qscales=[4,5],\n",
    "        mode='average',\n",
    "        vmaxs = [np.nanmax(starmap)*0.9, np.nanmax(coldmap)],\n",
    "        weights=[1,1]\n",
    "        )\n",
    "    comp2 = painter.composite_image(\n",
    "        [cellmap, dmmap], \n",
    "        cmaps=[cmap_cell, cmap_dm],\n",
    "        qscales=[4,3.5],\n",
    "        mode='average',\n",
    "        vmaxs = [np.nanmax(cellmap)*10, np.nanmax(dmmap)*5],\n",
    "        weights=[1,4]\n",
    "        )"
   ]
  },
  {
   "cell_type": "markdown",
   "metadata": {},
   "source": [
    "### A. Pure Image"
   ]
  },
  {
   "cell_type": "code",
   "execution_count": 92,
   "metadata": {},
   "outputs": [],
   "source": [
    "if(not os.path.exists(\"01_MWA_0.png\"))or(not jump):\n",
    "    fig, axes = fancy_axes(ncols=2, figsize=(16,8), dpi=200,)\n",
    "    ax = axes[0]\n",
    "    ax.imshow(comp1, origin='lower', extent=ibox[:2].flatten(), aspect='equal')\n",
    "    cir = plt.Circle((BGG['x'], BGG['y']), BGG['r200_code'], color='w', fill=False, lw=0.5, ls=':', zorder=10)\n",
    "    ax.add_patch(cir)\n",
    "    cir = plt.Circle((BGG['x'], BGG['y']), 1.5*BGG['r200_code'], color='w', fill=False, lw=0.5, ls=':', zorder=10)\n",
    "    ax.add_patch(cir)\n",
    "    # ax_inset = ax.inset_axes([0.75,0.75,0.24,0.24])\n",
    "    # istarimg = cmap_star(painter.norm(instarmap, None, None, qscale=4, mode='log'))\n",
    "    # ax_inset.imshow(istarimg, origin='lower', extent=ibox[:2].flatten(), aspect='equal')\n",
    "    # ax_inset.spines['bottom'].set_color('white')\n",
    "    # ax_inset.spines['top'].set_color('white')\n",
    "    # ax_inset.spines['left'].set_color('white')\n",
    "    # ax_inset.spines['right'].set_color('white')\n",
    "    # ax_inset.set_xticks([]); ax_inset.set_yticks([])\n",
    "    # ax_inset.set_xticklabels([]); ax_inset.set_yticklabels([])\n",
    "\n",
    "    add_scalebar(ax, nh1.unit_l)\n",
    "    # addtext(f\"Milky Way Analog\",ax=ax, loc='upper left', color='white', fontsize=12, offset=0.025, family='serif')\n",
    "    ax.text(0.5, 0.05, \"Star & Cold Gas\", ha='center', va='center', color='white', fontsize=12, family='serif', transform=ax.transAxes)\n",
    "    ax = axes[1]\n",
    "    ax.imshow(comp2, origin='lower', extent=ibox[:2].flatten(), aspect='equal')\n",
    "    cir = plt.Circle((BGG['x'], BGG['y']), BGG['r200_code'], color='w', fill=False, lw=0.5, ls=':', zorder=10)\n",
    "    ax.add_patch(cir)\n",
    "    cir = plt.Circle((BGG['x'], BGG['y']), 1.5*BGG['r200_code'], color='w', fill=False, lw=0.5, ls=':', zorder=10)\n",
    "    ax.add_patch(cir)\n",
    "\n",
    "    add_scalebar(ax, nh1.unit_l)\n",
    "    # addtext(f\"Local Group Analog\",ax=ax, loc='upper left', color='white', fontsize=12, offset=0.025, family='serif')\n",
    "    ax.text(0.5, 0.05, \"DM & Hot Gas\", ha='center', va='center', color='white', fontsize=12, family='serif', transform=ax.transAxes)\n",
    "    plt.savefig(f\"01_MWA_0.png\", dpi=400, transparent=False, facecolor='none', bbox_inches='tight', pad_inches=0)\n",
    "    plt.close()"
   ]
  },
  {
   "cell_type": "markdown",
   "metadata": {},
   "source": [
    "### B. HaloMaker Image"
   ]
  },
  {
   "cell_type": "code",
   "execution_count": 86,
   "metadata": {},
   "outputs": [
    {
     "data": {
      "application/json": {
       "ascii": false,
       "bar_format": null,
       "colour": null,
       "elapsed": 0.023371458053588867,
       "initial": 0,
       "n": 0,
       "ncols": null,
       "nrows": null,
       "postfix": null,
       "prefix": "",
       "rate": null,
       "total": 35,
       "unit": "it",
       "unit_divisor": 1000,
       "unit_scale": false
      },
      "application/vnd.jupyter.widget-view+json": {
       "model_id": "bbed9a5b65d84cd1b650a3b8761d8851",
       "version_major": 2,
       "version_minor": 0
      },
      "text/plain": [
       "  0%|          | 0/35 [00:00<?, ?it/s]"
      ]
     },
     "metadata": {},
     "output_type": "display_data"
    },
    {
     "data": {
      "application/json": {
       "ascii": false,
       "bar_format": null,
       "colour": null,
       "elapsed": 0.019010305404663086,
       "initial": 0,
       "n": 0,
       "ncols": null,
       "nrows": null,
       "postfix": null,
       "prefix": "",
       "rate": null,
       "total": 3,
       "unit": "it",
       "unit_divisor": 1000,
       "unit_scale": false
      },
      "application/vnd.jupyter.widget-view+json": {
       "model_id": "5dc8bfe594cc41fa84fbfafa039e05f3",
       "version_major": 2,
       "version_minor": 0
      },
      "text/plain": [
       "  0%|          | 0/3 [00:00<?, ?it/s]"
      ]
     },
     "metadata": {},
     "output_type": "display_data"
    },
    {
     "data": {
      "application/json": {
       "ascii": false,
       "bar_format": null,
       "colour": null,
       "elapsed": 0.018625736236572266,
       "initial": 0,
       "n": 0,
       "ncols": null,
       "nrows": null,
       "postfix": null,
       "prefix": "",
       "rate": null,
       "total": 35,
       "unit": "it",
       "unit_divisor": 1000,
       "unit_scale": false
      },
      "application/vnd.jupyter.widget-view+json": {
       "model_id": "41d28d1d69ac4efc9fef13a9f236501e",
       "version_major": 2,
       "version_minor": 0
      },
      "text/plain": [
       "  0%|          | 0/35 [00:00<?, ?it/s]"
      ]
     },
     "metadata": {},
     "output_type": "display_data"
    },
    {
     "data": {
      "application/json": {
       "ascii": false,
       "bar_format": null,
       "colour": null,
       "elapsed": 0.018966197967529297,
       "initial": 0,
       "n": 0,
       "ncols": null,
       "nrows": null,
       "postfix": null,
       "prefix": "",
       "rate": null,
       "total": 3,
       "unit": "it",
       "unit_divisor": 1000,
       "unit_scale": false
      },
      "application/vnd.jupyter.widget-view+json": {
       "model_id": "f37c88d665a5471189aee848de5dd459",
       "version_major": 2,
       "version_minor": 0
      },
      "text/plain": [
       "  0%|          | 0/3 [00:00<?, ?it/s]"
      ]
     },
     "metadata": {},
     "output_type": "display_data"
    }
   ],
   "source": [
    "virials1 = pklload(f\"{database1}/merged_to_LG/virial_radius_nh_1026.pickle\")\n",
    "dtype1 = hals1.dtype\n",
    "dtype2 = virials1.dtype\n",
    "dtype = np.dtype(dtype1.descr + dtype2.descr)\n",
    "nhals1 = np.zeros(hals1.shape, dtype=dtype)\n",
    "for iname in tqdm(hals1.dtype.names):\n",
    "    nhals1[iname] = hals1[iname]\n",
    "for iname in tqdm(virials1.dtype.names):\n",
    "    nhals1[iname] = virials1[iname]\n",
    "\n",
    "virials2 = pklload(f\"{database2}/virial_radius_nh2_797.pickle\")\n",
    "dtype1 = hals2.dtype\n",
    "dtype2 = virials2.dtype\n",
    "dtype = np.dtype(dtype1.descr + dtype2.descr)\n",
    "nhals2 = np.zeros(hals2.shape, dtype=dtype)\n",
    "for iname in tqdm(hals2.dtype.names):\n",
    "    nhals2[iname] = hals2[iname]\n",
    "for iname in tqdm(virials2.dtype.names):\n",
    "    nhals2[iname] = virials2[iname]"
   ]
  },
  {
   "cell_type": "code",
   "execution_count": 93,
   "metadata": {},
   "outputs": [],
   "source": [
    "from matplotlib.lines import Line2D\n",
    "if(not os.path.exists(\"01_MWA_1.png\"))or(not jump):\n",
    "    hs = cut_sphere(nhals1, BGG['x'], BGG['y'], BGG['z'], 1.5*BGG['r200_code'], both_sphere=True, rname='r200')\n",
    "    hs = hs[hs['id'] != BGG['halo_id']]\n",
    "\n",
    "    radii = 1.5*BGG['r200_code']\n",
    "    radii = max(radii, np.max(distance(hs, BGG)+hs['r200']))\n",
    "\n",
    "    gs = cut_sphere(gals1, BGG['x'], BGG['y'], BGG['z'], radii, both_sphere=True, rname='r')\n",
    "    gs = gs[gs['id'] != BGG['id']]\n",
    "\n",
    "\n",
    "    fig, axes = fancy_axes(ncols=2, figsize=(16,8), dpi=200,)\n",
    "    ax = axes[0]\n",
    "    ax.imshow(comp1, origin='lower', extent=ibox[:2].flatten(), aspect='equal')\n",
    "    cir = plt.Circle((BGG['x'], BGG['y']), BGG['r200_code'], color='w', fill=False, lw=0.5, ls=':', zorder=10)\n",
    "    ax.add_artist(cir)\n",
    "    cir = plt.Circle((BGG['x'], BGG['y']), 1.5*BGG['r200_code'], color='w', fill=False, lw=0.5, ls=':', zorder=10)\n",
    "    ax.add_artist(cir)\n",
    "    # ax_inset = ax.inset_axes([0.75,0.75,0.24,0.24])\n",
    "    # istarimg = cmap_star(painter.norm(instarmap, None, None, qscale=4, mode='log'))\n",
    "    # ax_inset.imshow(istarimg, origin='lower', extent=ibox[:2].flatten(), aspect='equal')\n",
    "    # ax_inset.spines['bottom'].set_color('white')\n",
    "    # ax_inset.spines['top'].set_color('white')\n",
    "    # ax_inset.spines['left'].set_color('white')\n",
    "    # ax_inset.spines['right'].set_color('white')\n",
    "    # ax_inset.set_xticks([]); ax_inset.set_yticks([])\n",
    "    # ax_inset.set_xticklabels([]); ax_inset.set_yticklabels([])\n",
    "\n",
    "    for g in gs:\n",
    "        cir = circle(g, rname='r', zorder=5, color='cyan', lw=0.5)\n",
    "        ax.add_artist(cir)\n",
    "    label=fr\"$N_{{satellite}}={len(gs)}$\"\n",
    "    legend_circle = Line2D([0], [0], marker='o', color='cyan', label=label, lw=0,\n",
    "                        markersize=15, mfc='none', mec='cyan')\n",
    "    leg = ax.legend(loc='lower left', handles=[legend_circle], frameon=False)\n",
    "    for text in leg.get_texts():\n",
    "        text.set_color('cyan')\n",
    "\n",
    "    add_scalebar(ax, nh1.unit_l)\n",
    "    # addtext(f\"Milky Way Analog\",ax=ax, loc='upper left', color='white', fontsize=12, offset=0.025, family='serif')\n",
    "    ax.text(0.5, 0.05, \"Star & Cold Gas\", ha='center', va='center', color='white', fontsize=12, family='serif', transform=ax.transAxes)\n",
    "    ax = axes[1]\n",
    "    ax.imshow(comp2, origin='lower', extent=ibox[:2].flatten(), aspect='equal')\n",
    "    cir = plt.Circle((BGG['x'], BGG['y']), BGG['r200_code'], color='w', fill=False, lw=0.5, ls=':', zorder=10)\n",
    "    ax.add_artist(cir)\n",
    "    cir = plt.Circle((BGG['x'], BGG['y']), 1.5*BGG['r200_code'], color='w', fill=False, lw=0.5, ls=':', zorder=10)\n",
    "    ax.add_artist(cir)\n",
    "\n",
    "    for h in hs:\n",
    "        cir = circle(h, rname='rvir', zorder=5, color='magenta', lw=0.5)\n",
    "        ax.add_artist(cir)\n",
    "    label=fr\"$N_{{subhalo}}={len(hs)}$\"\n",
    "    legend_circle = Line2D([0], [0], marker='o', color='magenta', label=label, lw=0,\n",
    "                        markersize=15, mfc='none', mec='magenta')\n",
    "    leg = ax.legend(loc='lower left', handles=[legend_circle], frameon=False)\n",
    "    for text in leg.get_texts():\n",
    "        text.set_color('magenta')\n",
    "\n",
    "    add_scalebar(ax, nh1.unit_l)\n",
    "    # addtext(f\"Local Group Analog\",ax=ax, loc='upper left', color='white', fontsize=12, offset=0.025, family='serif')\n",
    "    ax.text(0.5, 0.05, \"DM & Hot Gas\", ha='center', va='center', color='white', fontsize=12, family='serif', transform=ax.transAxes)\n",
    "    plt.savefig(f\"01_MWA_1.png\", dpi=400, transparent=False, facecolor='none', bbox_inches='tight', pad_inches=0)\n",
    "    plt.close()"
   ]
  },
  {
   "cell_type": "markdown",
   "metadata": {},
   "source": [
    "### C. Remove non-reals"
   ]
  },
  {
   "cell_type": "code",
   "execution_count": 94,
   "metadata": {},
   "outputs": [],
   "source": [
    "from matplotlib.lines import Line2D\n",
    "if(not os.path.exists(\"01_MWA_2.png\"))or(not jump):\n",
    "    ohs = cut_sphere(nhals1, BGG['x'], BGG['y'], BGG['z'], 1.5*BGG['r200_code'], both_sphere=True, rname='r200')\n",
    "    ohs = ohs[ohs['id'] != BGG['halo_id']]\n",
    "    hs = ohs[isin(ohs['id'], real['hid'])]\n",
    "\n",
    "    radii = 1.5*BGG['r200_code']\n",
    "    radii = max(radii, np.max(distance(hs, BGG)+hs['r200']))\n",
    "\n",
    "    ogs = cut_sphere(gals1, BGG['x'], BGG['y'], BGG['z'], radii, both_sphere=True, rname='r')\n",
    "    ogs = ogs[ogs['id'] != BGG['id']]\n",
    "    gs = ogs[isin(ogs['id'], real['gid'])]\n",
    "\n",
    "\n",
    "    fig, axes = fancy_axes(ncols=2, figsize=(16,8), dpi=200,)\n",
    "    ax = axes[0]\n",
    "    ax.imshow(comp1, origin='lower', extent=ibox[:2].flatten(), aspect='equal')\n",
    "    cir = plt.Circle((BGG['x'], BGG['y']), BGG['r200_code'], color='w', fill=False, lw=0.5, ls=':', zorder=10)\n",
    "    ax.add_artist(cir)\n",
    "    cir = plt.Circle((BGG['x'], BGG['y']), 1.5*BGG['r200_code'], color='w', fill=False, lw=0.5, ls=':', zorder=10)\n",
    "    ax.add_artist(cir)\n",
    "    # ax_inset = ax.inset_axes([0.75,0.75,0.24,0.24])\n",
    "    # istarimg = cmap_star(painter.norm(instarmap, None, None, qscale=4, mode='log'))\n",
    "    # ax_inset.imshow(istarimg, origin='lower', extent=ibox[:2].flatten(), aspect='equal')\n",
    "    # ax_inset.spines['bottom'].set_color('white')\n",
    "    # ax_inset.spines['top'].set_color('white')\n",
    "    # ax_inset.spines['left'].set_color('white')\n",
    "    # ax_inset.spines['right'].set_color('white')\n",
    "    # ax_inset.set_xticks([]); ax_inset.set_yticks([])\n",
    "    # ax_inset.set_xticklabels([]); ax_inset.set_yticklabels([])\n",
    "\n",
    "    for g in gs:\n",
    "        cir = circle(g, rname='r', zorder=5, color='cyan', lw=0.5)\n",
    "        ax.add_artist(cir)\n",
    "    label=fr\"$N_{{satellite}}={len(ogs)}\\to{len(gs)}$\"\n",
    "    legend_circle = Line2D([0], [0], marker='o', color='cyan', label=label, lw=0,\n",
    "                        markersize=15, mfc='none', mec='cyan')\n",
    "    leg = ax.legend(loc='lower left', handles=[legend_circle], frameon=False)\n",
    "    for text in leg.get_texts():\n",
    "        text.set_color('cyan')\n",
    "\n",
    "\n",
    "    add_scalebar(ax, nh1.unit_l)\n",
    "    # addtext(f\"Milky Way Analog\",ax=ax, loc='upper left', color='white', fontsize=12, offset=0.025, family='serif')\n",
    "    ax.text(0.5, 0.05, \"Star & Cold Gas\", ha='center', va='center', color='white', fontsize=12, family='serif', transform=ax.transAxes)\n",
    "    ax = axes[1]\n",
    "    ax.imshow(comp2, origin='lower', extent=ibox[:2].flatten(), aspect='equal')\n",
    "    cir = plt.Circle((BGG['x'], BGG['y']), BGG['r200_code'], color='w', fill=False, lw=0.5, ls=':', zorder=10)\n",
    "    ax.add_artist(cir)\n",
    "    cir = plt.Circle((BGG['x'], BGG['y']), 1.5*BGG['r200_code'], color='w', fill=False, lw=0.5, ls=':', zorder=10)\n",
    "    ax.add_artist(cir)\n",
    "\n",
    "    for h in hs:\n",
    "        cir = circle(h, rname='rvir', zorder=5, color='magenta', lw=0.5)\n",
    "        ax.add_artist(cir)\n",
    "    label=fr\"$N_{{subhalo}}={len(ohs)}\\to{len(hs)}$\"\n",
    "    legend_circle = Line2D([0], [0], marker='o', color='magenta', label=label, lw=0,\n",
    "                        markersize=15, mfc='none', mec='magenta')\n",
    "    leg = ax.legend(loc='lower left', handles=[legend_circle], frameon=False)\n",
    "    for text in leg.get_texts():\n",
    "        text.set_color('magenta')\n",
    "\n",
    "    add_scalebar(ax, nh1.unit_l)\n",
    "    # addtext(f\"Local Group Analog\",ax=ax, loc='upper left', color='white', fontsize=12, offset=0.025, family='serif')\n",
    "    ax.text(0.5, 0.05, \"DM & Hot Gas\", ha='center', va='center', color='white', fontsize=12, family='serif', transform=ax.transAxes)\n",
    "    plt.savefig(f\"01_MWA_2.png\", dpi=400, transparent=False, facecolor='none', bbox_inches='tight', pad_inches=0)\n",
    "    plt.close()"
   ]
  },
  {
   "cell_type": "markdown",
   "metadata": {},
   "source": [
    "### D. Classify"
   ]
  },
  {
   "cell_type": "code",
   "execution_count": 88,
   "metadata": {},
   "outputs": [],
   "source": [
    "from matplotlib.lines import Line2D\n",
    "if(not os.path.exists(\"01_MWA_3.png\"))or(not jump):\n",
    "    ohs = cut_sphere(nhals1, BGG['x'], BGG['y'], BGG['z'], 1.5*BGG['r200_code'], both_sphere=True, rname='r200')\n",
    "    ohs = ohs[ohs['id'] != BGG['halo_id']]\n",
    "    hs = ohs[isin(ohs['id'], real['hid'])]\n",
    "\n",
    "    radii = 1.5*BGG['r200_code']\n",
    "    radii = max(radii, np.max(distance(hs, BGG)+hs['r200']))\n",
    "\n",
    "    ogs = cut_sphere(gals1, BGG['x'], BGG['y'], BGG['z'], radii, both_sphere=True, rname='r')\n",
    "    ogs = ogs[ogs['id'] != BGG['id']]\n",
    "    gs = ogs[isin(ogs['id'], real['gid'])]\n",
    "\n",
    "\n",
    "\n",
    "\n",
    "    fig, axes = fancy_axes(ncols=2, figsize=(16,8), dpi=200,)\n",
    "    ax = axes[0]\n",
    "    ax.imshow(comp1, origin='lower', extent=ibox[:2].flatten(), aspect='equal')\n",
    "    cir = plt.Circle((BGG['x'], BGG['y']), BGG['r200_code'], color='w', fill=False, lw=0.5, ls=':', zorder=10)\n",
    "    ax.add_artist(cir)\n",
    "    cir = plt.Circle((BGG['x'], BGG['y']), 1.5*BGG['r200_code'], color='w', fill=False, lw=0.5, ls=':', zorder=10)\n",
    "    ax.add_artist(cir)\n",
    "    # ax_inset = ax.inset_axes([0.75,0.75,0.24,0.24])\n",
    "    # istarimg = cmap_star(painter.norm(instarmap, None, None, qscale=4, mode='log'))\n",
    "    # ax_inset.imshow(istarimg, origin='lower', extent=ibox[:2].flatten(), aspect='equal')\n",
    "    # ax_inset.spines['bottom'].set_color('white')\n",
    "    # ax_inset.spines['top'].set_color('white')\n",
    "    # ax_inset.spines['left'].set_color('white')\n",
    "    # ax_inset.spines['right'].set_color('white')\n",
    "    # ax_inset.set_xticks([]); ax_inset.set_yticks([])\n",
    "    # ax_inset.set_xticklabels([]); ax_inset.set_yticklabels([])\n",
    "\n",
    "    for g in gs:\n",
    "        arg = np.where(g['id'] == real['gid'])[0][0]\n",
    "        color='white' if(real['state'][arg]=='pair') else 'cyan'\n",
    "        cir = circle(g, rname='r', zorder=5, color=color, lw=0.5)\n",
    "        ax.add_artist(cir)\n",
    "    udgs = sats[sats['id'] < 0]\n",
    "    # for g in udgs:\n",
    "    #     cir = circle(g, rname='r', zorder=5, color='yellow', lw=0.5, ls=':')\n",
    "    #     ax.add_artist(cir)\n",
    "    npair = np.sum( (real['state']=='pair')&isin(real['gid'], gs['id']) )\n",
    "    label=fr\"$N_{{sat,pair}}={npair}$\"\n",
    "    pair_circle = Line2D([0], [0], marker='o', color='white', label=label, lw=0,\n",
    "                        markersize=15, mfc='none', mec='white')\n",
    "    label=fr\"$N_{{sat,orphan}}={len(gs)-npair}$\"\n",
    "    orphan_circle = Line2D([0], [0], marker='o', color='cyan', label=label, lw=0,\n",
    "                        markersize=15, mfc='none', mec='cyan')\n",
    "    # label=fr\"$N_{{sat,UDG}}={len(udgs)}$\"\n",
    "    # UDG_circle = Line2D([0], [0], marker='o', color='yellow', label=label, lw=0,\n",
    "    #                     markersize=15, mfc='none', mec='yellow')\n",
    "    leg = ax.legend(loc='lower left', handles=[pair_circle,orphan_circle], frameon=False)\n",
    "    for text, eline in zip(leg.get_texts(), leg.get_lines()):\n",
    "        text.set_color(eline.get_color())\n",
    "\n",
    "\n",
    "    add_scalebar(ax, nh1.unit_l)\n",
    "    # addtext(f\"Milky Way Analog\",ax=ax, loc='upper left', color='white', fontsize=12, offset=0.025, family='serif')\n",
    "    ax.text(0.5, 0.05, \"Star & Cold Gas\", ha='center', va='center', color='white', fontsize=12, family='serif', transform=ax.transAxes)\n",
    "    ax = axes[1]\n",
    "    ax.imshow(comp2, origin='lower', extent=ibox[:2].flatten(), aspect='equal')\n",
    "    cir = plt.Circle((BGG['x'], BGG['y']), BGG['r200_code'], color='w', fill=False, lw=0.5, ls=':', zorder=10)\n",
    "    ax.add_artist(cir)\n",
    "    cir = plt.Circle((BGG['x'], BGG['y']), 1.5*BGG['r200_code'], color='w', fill=False, lw=0.5, ls=':', zorder=10)\n",
    "    ax.add_artist(cir)\n",
    "\n",
    "    udgs = real[real['state']=='upair']['hid']\n",
    "    for h in hs:\n",
    "        if(h['id'] in udgs): continue\n",
    "        arg = np.where(h['id'] == real['hid'])[0][0]\n",
    "        color='white' if(real['state'][arg]=='pair') else 'magenta'\n",
    "        cir = circle(h, rname='rvir', zorder=5, color=color, lw=0.5)\n",
    "        ax.add_artist(cir)\n",
    "    # for ih in udgs:\n",
    "    #     h = hals1[ih-1]\n",
    "    #     cir = circle(h, rname='rvir', zorder=5, color='yellow', lw=0.5, ls=':')\n",
    "    #     ax.add_artist(cir)\n",
    "    npair = np.sum( (real['state']=='pair')&isin(real['hid'], hs['id']) )\n",
    "    label=fr\"$N_{{sub,pair}}={npair}$\"\n",
    "    pair_circle = Line2D([0], [0], marker='o', color='white', label=label, lw=0,\n",
    "                        markersize=15, mfc='none', mec='white')\n",
    "    label=fr\"$N_{{sub,dink}}={len(hs)-npair-len(udgs)}$\"\n",
    "    dink_circle = Line2D([0], [0], marker='o', color='magenta', label=label, lw=0,\n",
    "                        markersize=15, mfc='none', mec='magenta')\n",
    "    # label=fr\"$N_{{sub,UDG}}={len(udgs)}$\"\n",
    "    # UDG_circle = Line2D([0], [0], marker='o', color='yellow', label=label, lw=0,\n",
    "    #                     markersize=15, mfc='none', mec='yellow')\n",
    "    leg = ax.legend(loc='lower left', handles=[pair_circle,dink_circle], frameon=False)\n",
    "    for text, eline in zip(leg.get_texts(), leg.get_lines()):\n",
    "        text.set_color(eline.get_color())\n",
    "\n",
    "    add_scalebar(ax, nh1.unit_l)\n",
    "    # addtext(f\"Local Group Analog\",ax=ax, loc='upper left', color='white', fontsize=12, offset=0.025, family='serif')\n",
    "    ax.text(0.5, 0.05, \"DM & Hot Gas\", ha='center', va='center', color='white', fontsize=12, family='serif', transform=ax.transAxes)\n",
    "    plt.savefig(f\"01_MWA_3.png\", dpi=400, transparent=False, facecolor='none', bbox_inches='tight', pad_inches=0)\n",
    "    plt.close()"
   ]
  },
  {
   "cell_type": "markdown",
   "metadata": {},
   "source": [
    "## Numbers"
   ]
  },
  {
   "cell_type": "code",
   "execution_count": 15,
   "metadata": {},
   "outputs": [
    {
     "name": "stdout",
     "output_type": "stream",
     "text": [
      "[1, 3, 7, 8, 10, 23, 25, 26, 36, 64, 121, 129, 11] 13\n",
      "130 130 1145 83 61 61\n"
     ]
    }
   ],
   "source": [
    "keys = []\n",
    "pairgs = None; pairhs = None; dinkhs = None; upairgs = None; upairhs = None; orphans = None\n",
    "for key in LG1.keys():\n",
    "    if(LG1[key]['isLG']):\n",
    "        keys.append(key)\n",
    "        sats = LG1[key]['sats']\n",
    "        subs = LG1[key]['subs']\n",
    "        real = LG1[key]['real']\n",
    "\n",
    "        tmp = sats[isin(sats['id'], real[real['state']=='pair']['gid'])]\n",
    "        pairgs = tmp if(pairgs is None) else np.hstack((pairgs, tmp))\n",
    "        tmp = subs[isin(subs['id'], real[real['state']=='pair']['hid'])]\n",
    "        pairhs = tmp if(pairhs is None) else np.hstack((pairhs, tmp))\n",
    "        tmp = subs[isin(subs['id'], real[real['state']=='dink']['hid'])]\n",
    "        dinkhs = tmp if(dinkhs is None) else np.hstack((dinkhs, tmp))\n",
    "        tmp = sats[isin(sats['id'], real[real['state']=='orphan']['gid'])]\n",
    "        orphans = tmp if(orphans is None) else np.hstack((orphans, tmp))\n",
    "        tmp = sats[isin(sats['id'], real[real['state']=='upair']['gid'])]\n",
    "        upairgs = tmp if(upairgs is None) else np.hstack((upairgs, tmp))\n",
    "        tmp = subs[isin(subs['id'], real[real['state']=='upair']['hid'])]\n",
    "        upairhs = tmp if(upairhs is None) else np.hstack((upairhs, tmp))\n",
    "\n",
    "print(keys, len(keys))\n",
    "print(len(pairgs), len(pairhs), len(dinkhs), len(orphans), len(upairgs), len(upairhs))"
   ]
  },
  {
   "cell_type": "code",
   "execution_count": 16,
   "metadata": {},
   "outputs": [
    {
     "name": "stdout",
     "output_type": "stream",
     "text": [
      "[2, 12, 45, 14, 3, 19, 18, 25, 37, 131, 143, 89, 10] 13\n",
      "79 79 1120 33 43 43\n"
     ]
    }
   ],
   "source": [
    "keys = []\n",
    "pairgs = None; pairhs = None; dinkhs = None; upairgs = None; upairhs = None; orphans = None\n",
    "for key in LG2.keys():\n",
    "    if(LG2[key]['isLG']):\n",
    "        keys.append(key)\n",
    "        sats = LG2[key]['sats']\n",
    "        subs = LG2[key]['subs']\n",
    "        real = LG2[key]['real']\n",
    "\n",
    "        tmp = sats[isin(sats['id'], real[real['state']=='pair']['gid'])]\n",
    "        pairgs = tmp if(pairgs is None) else np.hstack((pairgs, tmp))\n",
    "        tmp = subs[isin(subs['id'], real[real['state']=='pair']['hid'])]\n",
    "        pairhs = tmp if(pairhs is None) else np.hstack((pairhs, tmp))\n",
    "        tmp = subs[isin(subs['id'], real[real['state']=='dink']['hid'])]\n",
    "        dinkhs = tmp if(dinkhs is None) else np.hstack((dinkhs, tmp))\n",
    "        tmp = sats[isin(sats['id'], real[real['state']=='orphan']['gid'])]\n",
    "        orphans = tmp if(orphans is None) else np.hstack((orphans, tmp))\n",
    "        tmp = sats[isin(sats['id'], real[real['state']=='upair']['gid'])]\n",
    "        upairgs = tmp if(upairgs is None) else np.hstack((upairgs, tmp))\n",
    "        tmp = subs[isin(subs['id'], real[real['state']=='upair']['hid'])]\n",
    "        upairhs = tmp if(upairhs is None) else np.hstack((upairhs, tmp))\n",
    "\n",
    "print(keys, len(keys))\n",
    "print(len(pairgs), len(pairhs), len(dinkhs), len(orphans), len(upairgs), len(upairhs))"
   ]
  }
 ],
 "metadata": {
  "kernelspec": {
   "display_name": "jeonpy",
   "language": "python",
   "name": "python3"
  },
  "language_info": {
   "codemirror_mode": {
    "name": "ipython",
    "version": 3
   },
   "file_extension": ".py",
   "mimetype": "text/x-python",
   "name": "python",
   "nbconvert_exporter": "python",
   "pygments_lexer": "ipython3",
   "version": "3.10.4"
  }
 },
 "nbformat": 4,
 "nbformat_minor": 2
}
