{
 "cells": [
  {
   "cell_type": "code",
   "execution_count": 1,
   "metadata": {},
   "outputs": [
    {
     "name": "stdout",
     "output_type": "stream",
     "text": [
      "[Output 01026] Age (Gyr) : 11.624 / 13.741, z = 0.17149 (a = 0.8536)\n"
     ]
    }
   ],
   "source": [
    "from tqdm import tqdm\n",
    "import matplotlib.pyplot as plt # type: module\n",
    "import matplotlib.ticker as ticker\n",
    "from matplotlib import colormaps\n",
    "from matplotlib.colors import Normalize\n",
    "\n",
    "import numpy as np\n",
    "import os, glob\n",
    "import time\n",
    "import warnings\n",
    "\n",
    "from rur.fortranfile import FortranFile\n",
    "from rur import uri, uhmi, painter, drawer\n",
    "from rur.sci.photometry import measure_luminosity\n",
    "from rur.sci.geometry import get_angles, euler_angle\n",
    "from rur.utool import rotate_data\n",
    "from scipy.ndimage import gaussian_filter\n",
    "uri.timer.verbose=1\n",
    "# from rur.sci.kinematics import f_getpot\n",
    "\n",
    "from icl_IO import mode2repo, pklsave, pklload\n",
    "from icl_tool import *\n",
    "from icl_numba import large_isin, large_isind, isin\n",
    "from icl_draw import drawsnap, add_scalebar, addtext, MakeSub_nolabel, label_to_in, fancy_axis, circle\n",
    "import argparse, subprocess\n",
    "from importlib import reload\n",
    "import cmasher as cmr\n",
    "from copy import deepcopy\n",
    "from multiprocessing import Pool, shared_memory\n",
    "\n",
    "mode = 'nh'\n",
    "iout = 1026\n",
    "repo, rurmode, dp = mode2repo(mode)\n",
    "snap = uri.RamsesSnapshot(repo, iout, mode=rurmode)\n",
    "snaps = uri.TimeSeries(snap)\n",
    "snaps.read_iout_avail()\n",
    "nout = snaps.iout_avail['iout']\n",
    "gals = uhmi.HaloMaker.load(snap, galaxy=True, double_precision=dp)\n",
    "hals = uhmi.HaloMaker.load(snap, galaxy=False, double_precision=dp)\n",
    "database = f\"/home/jeon/MissingSat/database\""
   ]
  },
  {
   "cell_type": "code",
   "execution_count": 2,
   "metadata": {},
   "outputs": [],
   "source": [
    "LG = pklload(f\"{database}/00_LocalGroup_final_h_addudg.pickle\")"
   ]
  },
  {
   "cell_type": "code",
   "execution_count": 3,
   "metadata": {},
   "outputs": [
    {
     "data": {
      "text/plain": [
       "dtype([('nparts', '<i4'), ('id', '<i4'), ('timestep', '<i4'), ('level', '<i4'), ('host', '<i4'), ('hostsub', '<i4'), ('nbsub', '<i4'), ('nextsub', '<i4'), ('aexp', '<f8'), ('m', '<f8'), ('x', '<f8'), ('y', '<f8'), ('z', '<f8'), ('vx', '<f8'), ('vy', '<f8'), ('vz', '<f8'), ('Lx', '<f8'), ('Ly', '<f8'), ('Lz', '<f8'), ('r', '<f8'), ('a', '<f8'), ('b', '<f8'), ('c', '<f8'), ('ek', '<f8'), ('ep', '<f8'), ('et', '<f8'), ('spin', '<f8'), ('sigma', '<f8'), ('rvir', '<f8'), ('mvir', '<f8'), ('tvir', '<f8'), ('cvel', '<f8'), ('rho0', '<f8'), ('rc', '<f8'), ('mcontam', '<f8'), ('r10_mem', '<f8'), ('r50_mem', '<f8'), ('r90_mem', '<f8'), ('r10_vir', '<f8'), ('r50_vir', '<f8'), ('r90_vir', '<f8'), ('r10_max', '<f8'), ('r50_max', '<f8'), ('r90_max', '<f8'), ('sub', '<i8'), ('dink', '?'), ('mdm', '<f8'), ('mstar', '<f8'), ('mcold', '<f8'), ('mcell', '<f8'), ('Host', '<i4'), ('r200kpc', '<f8'), ('m200', '<f8'), ('r200', '<f8')])"
      ]
     },
     "execution_count": 3,
     "metadata": {},
     "output_type": "execute_result"
    }
   ],
   "source": [
    "allsubs = None\n",
    "for key in LG.keys():\n",
    "    subs = LG[key]['subs']\n",
    "    allsubs = subs if allsubs is None else np.hstack((allsubs, subs))\n",
    "argsort = np.argsort(allsubs['id'])\n",
    "allsubs = allsubs[argsort]\n",
    "allsubs.dtype\n"
   ]
  },
  {
   "cell_type": "code",
   "execution_count": 4,
   "metadata": {},
   "outputs": [
    {
     "name": "stderr",
     "output_type": "stream",
     "text": [
      "100%|██████████| 3851/3851 [00:01<00:00, 2421.18it/s]\n"
     ]
    },
    {
     "data": {
      "text/plain": [
       "125047740"
      ]
     },
     "execution_count": 4,
     "metadata": {},
     "output_type": "execute_result"
    }
   ],
   "source": [
    "lastids = {}\n",
    "maxid = 0\n",
    "for sub in tqdm( allsubs ):\n",
    "    lastids[sub['id']] = uhmi.HaloMaker.read_member_part(snaps.get_snap(sub['timestep']), sub['id'], galaxy=False, simple=True)\n",
    "    maxid = max(maxid, lastids[sub['id']].max())\n",
    "maxid"
   ]
  },
  {
   "cell_type": "code",
   "execution_count": 30,
   "metadata": {},
   "outputs": [],
   "source": [
    "iouts = os.listdir(\"/storage6/NewHorizon/halo\")\n",
    "iouts = [int(f[-5:]) for f in iouts if f.startswith(\"tree_bricks\")]\n",
    "iouts.sort()\n",
    "iouts = np.array(iouts[::-1])"
   ]
  },
  {
   "cell_type": "code",
   "execution_count": 31,
   "metadata": {},
   "outputs": [],
   "source": [
    "dtype = [(\"lastid\", np.int16), (\"timestep\", np.int16), (\"id\", np.int16), (\"give_score\", np.float64), (\"take_score\", np.float64)]\n",
    "nstep = len(iouts)\n",
    "nsub = len(allsubs)\n",
    "\n",
    "result = np.zeros(nstep*nsub, dtype=dtype)\n",
    "result[:nsub]['lastid'] = allsubs['id']\n",
    "result[:nsub]['timestep'] = allsubs['timestep']\n",
    "result[:nsub]['id'] = allsubs['id']\n",
    "result[:nsub]['give_score'] = 1\n",
    "result[:nsub]['take_score'] = 1\n",
    "\n",
    "cursor = nsub"
   ]
  },
  {
   "cell_type": "code",
   "execution_count": 36,
   "metadata": {},
   "outputs": [
    {
     "name": "stderr",
     "output_type": "stream",
     "text": [
      "100%|██████████| 3851/3851 [00:01<00:00, 3788.52it/s]\n"
     ]
    },
    {
     "name": "stdout",
     "output_type": "stream",
     "text": [
      "[Output 01024] Age (Gyr) : 11.612 / 13.741, z = 0.17261 (a = 0.8528)\n"
     ]
    },
    {
     "name": "stderr",
     "output_type": "stream",
     "text": [
      "100%|██████████| 3851/3851 [00:01<00:00, 2772.49it/s]\n"
     ]
    },
    {
     "name": "stdout",
     "output_type": "stream",
     "text": [
      "[Output 01023] Age (Gyr) : 11.608 / 13.741, z = 0.17293 (a = 0.8526)\n"
     ]
    },
    {
     "ename": "KeyboardInterrupt",
     "evalue": "",
     "output_type": "error",
     "traceback": [
      "\u001b[0;31m---------------------------------------------------------------------------\u001b[0m",
      "\u001b[0;31mKeyboardInterrupt\u001b[0m                         Traceback (most recent call last)",
      "\u001b[1;32m/home/jeon/MissingSat/02_progenitors.ipynb Cell 7\u001b[0m line \u001b[0;36m<cell line: 1>\u001b[0;34m()\u001b[0m\n\u001b[1;32m      <a href='vscode-notebook-cell://ssh-remote%2B7b22686f73744e616d65223a22474336227d/home/jeon/MissingSat/02_progenitors.ipynb#X43sdnNjb2RlLXJlbW90ZQ%3D%3D?line=2'>3</a>\u001b[0m phals, ppids \u001b[39m=\u001b[39m uhmi\u001b[39m.\u001b[39mHaloMaker\u001b[39m.\u001b[39mload(psnap, galaxy\u001b[39m=\u001b[39m\u001b[39mFalse\u001b[39;00m, load_parts\u001b[39m=\u001b[39m\u001b[39mTrue\u001b[39;00m)\n\u001b[1;32m      <a href='vscode-notebook-cell://ssh-remote%2B7b22686f73744e616d65223a22474336227d/home/jeon/MissingSat/02_progenitors.ipynb#X43sdnNjb2RlLXJlbW90ZQ%3D%3D?line=3'>4</a>\u001b[0m cparts \u001b[39m=\u001b[39m phals[\u001b[39m'\u001b[39m\u001b[39mnparts\u001b[39m\u001b[39m'\u001b[39m]; cparts \u001b[39m=\u001b[39m np\u001b[39m.\u001b[39mcumsum(cparts); cparts \u001b[39m=\u001b[39m np\u001b[39m.\u001b[39mhstack((\u001b[39m0\u001b[39m, cparts))\n\u001b[0;32m----> <a href='vscode-notebook-cell://ssh-remote%2B7b22686f73744e616d65223a22474336227d/home/jeon/MissingSat/02_progenitors.ipynb#X43sdnNjb2RlLXJlbW90ZQ%3D%3D?line=4'>5</a>\u001b[0m table \u001b[39m=\u001b[39m np\u001b[39m.\u001b[39;49mrepeat(phals[\u001b[39m'\u001b[39;49m\u001b[39mid\u001b[39;49m\u001b[39m'\u001b[39;49m], phals[\u001b[39m'\u001b[39;49m\u001b[39mnparts\u001b[39;49m\u001b[39m'\u001b[39;49m])\u001b[39m.\u001b[39mastype(np\u001b[39m.\u001b[39mint16)\n\u001b[1;32m      <a href='vscode-notebook-cell://ssh-remote%2B7b22686f73744e616d65223a22474336227d/home/jeon/MissingSat/02_progenitors.ipynb#X43sdnNjb2RlLXJlbW90ZQ%3D%3D?line=5'>6</a>\u001b[0m pids \u001b[39m=\u001b[39m np\u001b[39m.\u001b[39mzeros(\u001b[39mmax\u001b[39m(maxid, ppids\u001b[39m.\u001b[39mmax()), dtype\u001b[39m=\u001b[39mnp\u001b[39m.\u001b[39mint32)\n\u001b[1;32m      <a href='vscode-notebook-cell://ssh-remote%2B7b22686f73744e616d65223a22474336227d/home/jeon/MissingSat/02_progenitors.ipynb#X43sdnNjb2RlLXJlbW90ZQ%3D%3D?line=6'>7</a>\u001b[0m pids[ppids\u001b[39m-\u001b[39m\u001b[39m1\u001b[39m] \u001b[39m=\u001b[39m table\n",
      "File \u001b[0;32m<__array_function__ internals>:180\u001b[0m, in \u001b[0;36mrepeat\u001b[0;34m(*args, **kwargs)\u001b[0m\n",
      "File \u001b[0;32m~/.conda/envs/jeonpy/lib/python3.10/site-packages/numpy/core/fromnumeric.py:479\u001b[0m, in \u001b[0;36mrepeat\u001b[0;34m(a, repeats, axis)\u001b[0m\n\u001b[1;32m    436\u001b[0m \u001b[39m@array_function_dispatch\u001b[39m(_repeat_dispatcher)\n\u001b[1;32m    437\u001b[0m \u001b[39mdef\u001b[39;00m \u001b[39mrepeat\u001b[39m(a, repeats, axis\u001b[39m=\u001b[39m\u001b[39mNone\u001b[39;00m):\n\u001b[1;32m    438\u001b[0m     \u001b[39m\"\"\"\u001b[39;00m\n\u001b[1;32m    439\u001b[0m \u001b[39m    Repeat elements of an array.\u001b[39;00m\n\u001b[1;32m    440\u001b[0m \n\u001b[0;32m   (...)\u001b[0m\n\u001b[1;32m    477\u001b[0m \n\u001b[1;32m    478\u001b[0m \u001b[39m    \"\"\"\u001b[39;00m\n\u001b[0;32m--> 479\u001b[0m     \u001b[39mreturn\u001b[39;00m _wrapfunc(a, \u001b[39m'\u001b[39;49m\u001b[39mrepeat\u001b[39;49m\u001b[39m'\u001b[39;49m, repeats, axis\u001b[39m=\u001b[39;49maxis)\n",
      "File \u001b[0;32m~/.conda/envs/jeonpy/lib/python3.10/site-packages/numpy/core/fromnumeric.py:57\u001b[0m, in \u001b[0;36m_wrapfunc\u001b[0;34m(obj, method, *args, **kwds)\u001b[0m\n\u001b[1;32m     54\u001b[0m     \u001b[39mreturn\u001b[39;00m _wrapit(obj, method, \u001b[39m*\u001b[39margs, \u001b[39m*\u001b[39m\u001b[39m*\u001b[39mkwds)\n\u001b[1;32m     56\u001b[0m \u001b[39mtry\u001b[39;00m:\n\u001b[0;32m---> 57\u001b[0m     \u001b[39mreturn\u001b[39;00m bound(\u001b[39m*\u001b[39;49margs, \u001b[39m*\u001b[39;49m\u001b[39m*\u001b[39;49mkwds)\n\u001b[1;32m     58\u001b[0m \u001b[39mexcept\u001b[39;00m \u001b[39mTypeError\u001b[39;00m:\n\u001b[1;32m     59\u001b[0m     \u001b[39m# A TypeError occurs if the object does have such a method in its\u001b[39;00m\n\u001b[1;32m     60\u001b[0m     \u001b[39m# class, but its signature is not identical to that of NumPy's. This\u001b[39;00m\n\u001b[0;32m   (...)\u001b[0m\n\u001b[1;32m     64\u001b[0m     \u001b[39m# Call _wrapit from within the except clause to ensure a potential\u001b[39;00m\n\u001b[1;32m     65\u001b[0m     \u001b[39m# exception has a traceback chain.\u001b[39;00m\n\u001b[1;32m     66\u001b[0m     \u001b[39mreturn\u001b[39;00m _wrapit(obj, method, \u001b[39m*\u001b[39margs, \u001b[39m*\u001b[39m\u001b[39m*\u001b[39mkwds)\n",
      "\u001b[0;31mKeyboardInterrupt\u001b[0m: "
     ]
    }
   ],
   "source": [
    "for pout in tqdm(iouts[1:]):\n",
    "    psnap = snaps.get_snap(pout)\n",
    "    phals, ppids = uhmi.HaloMaker.load(psnap, galaxy=False, load_parts=True)\n",
    "    cparts = phals['nparts']; cparts = np.cumsum(cparts); cparts = np.hstack((0, cparts))\n",
    "    table = np.repeat(phals['id'], phals['nparts']).astype(np.int16)\n",
    "    pids = np.zeros(max(maxid, ppids.max()), dtype=np.int32)\n",
    "    pids[ppids-1] = table\n",
    "\n",
    "    result[cursor:cursor+nsub]['lastid'] = allsubs['id']\n",
    "    result[cursor:cursor+nsub]['timestep'] = pout\n",
    "\n",
    "    for key in lastids.keys():\n",
    "        pid = lastids[key]\n",
    "\n",
    "        # Find Prog\n",
    "        progs = pids[pid-1]\n",
    "        unique, counts = np.unique(progs, return_counts=True)\n",
    "        if( (len(unique)==1)&(0 in unique) ):\n",
    "            prog=0\n",
    "            give_score=0\n",
    "            take_score=0\n",
    "        else:\n",
    "            if(0 in unique):\n",
    "                mask = unique!=0\n",
    "                unique = unique[mask]; counts = counts[mask]\n",
    "            \n",
    "            # Give Score\n",
    "            argmax = np.argmax(counts)\n",
    "            prog = unique[argmax]\n",
    "            give_score = counts[argmax] / len(pid)\n",
    "            # print(prog, give_score)\n",
    "\n",
    "            # Take Score\n",
    "            part_of_prog = ppids[ cparts[prog-1]:cparts[prog] ]\n",
    "            ind = isin(part_of_prog, pid, assume_unique=True)\n",
    "            take_score = np.sum(ind)/len(part_of_prog)\n",
    "        result[cursor]['id'] = prog\n",
    "        result[cursor]['give_score'] = give_score\n",
    "        result[cursor]['take_score'] = take_score\n",
    "        cursor += 1\n",
    "    psnap.clear()\n",
    "    del snaps.snaps[pout]\n",
    "pklsave(result, f\"{database}/02_main_progenitors.pickle\")"
   ]
  },
  {
   "cell_type": "code",
   "execution_count": 16,
   "metadata": {},
   "outputs": [
    {
     "name": "stderr",
     "output_type": "stream",
     "text": [
      "100%|██████████| 3851/3851 [00:01<00:00, 2602.86it/s]\n"
     ]
    }
   ],
   "source": [
    "tarr = [0,0,0]\n",
    "for key in tqdm( lastids.keys() ):\n",
    "    pid = lastids[key]\n",
    "\n",
    "    # Find Prog\n",
    "    progs = pids[pid-1]\n",
    "    unique, counts = np.unique(progs, return_counts=True)\n",
    "    if( (len(unique)==1)&(0 in unique) ):\n",
    "        prog=0\n",
    "        give_score=0\n",
    "        take_score=0\n",
    "    else:\n",
    "        if(0 in unique):\n",
    "            mask = unique!=0\n",
    "            unique = unique[mask]; counts = counts[mask]\n",
    "        \n",
    "        # Give Score\n",
    "        argmax = np.argmax(counts)\n",
    "        prog = unique[argmax]\n",
    "        give_score = counts[argmax] / len(pid)\n",
    "        # print(prog, give_score)\n",
    "\n",
    "        # Take Score\n",
    "        part_of_prog = ppids[ cparts[prog-1]:cparts[prog] ]\n",
    "        ind = isin(part_of_prog, pid, assume_unique=True)\n",
    "        take_score = np.sum(ind)/len(part_of_prog)"
   ]
  },
  {
   "cell_type": "code",
   "execution_count": 23,
   "metadata": {},
   "outputs": [
    {
     "data": {
      "text/plain": [
       "(24939, 24924, array([24924], dtype=int32), array([178]), 178)"
      ]
     },
     "execution_count": 23,
     "metadata": {},
     "output_type": "execute_result"
    }
   ],
   "source": [
    "key, prog, unique, counts, len(pid)"
   ]
  },
  {
   "cell_type": "code",
   "execution_count": 19,
   "metadata": {},
   "outputs": [
    {
     "data": {
      "text/plain": [
       "(1.0, 1.0)"
      ]
     },
     "execution_count": 19,
     "metadata": {},
     "output_type": "execute_result"
    }
   ],
   "source": [
    "take_score, give_score"
   ]
  },
  {
   "cell_type": "code",
   "execution_count": 9,
   "metadata": {},
   "outputs": [
    {
     "data": {
      "text/plain": [
       "((63576592,), (63576592,))"
      ]
     },
     "execution_count": 9,
     "metadata": {},
     "output_type": "execute_result"
    }
   ],
   "source": [
    "table.shape, ppids.shape"
   ]
  },
  {
   "cell_type": "code",
   "execution_count": 24,
   "metadata": {},
   "outputs": [
    {
     "data": {
      "text/plain": [
       "array([0, 0, 0, ..., 0, 0, 0])"
      ]
     },
     "execution_count": 24,
     "metadata": {},
     "output_type": "execute_result"
    }
   ],
   "source": [
    "allsubs['sub']"
   ]
  },
  {
   "cell_type": "code",
   "execution_count": 7,
   "metadata": {},
   "outputs": [
    {
     "data": {
      "text/plain": [
       "(3851, 3851)"
      ]
     },
     "execution_count": 7,
     "metadata": {},
     "output_type": "execute_result"
    }
   ],
   "source": [
    "len(allsubs), len(np.unique(allsubs['id']))"
   ]
  },
  {
   "cell_type": "code",
   "execution_count": 15,
   "metadata": {},
   "outputs": [
    {
     "data": {
      "text/plain": [
       "31929"
      ]
     },
     "execution_count": 15,
     "metadata": {},
     "output_type": "execute_result"
    }
   ],
   "source": [
    "ptree_dm = pklload(\"/storage6/NewHorizon/ptree_dm/ptree_stable.pkl\")\n",
    "np.max(ptree_dm['hmid'])"
   ]
  },
  {
   "cell_type": "code",
   "execution_count": 16,
   "metadata": {},
   "outputs": [
    {
     "data": {
      "text/plain": [
       "31929"
      ]
     },
     "execution_count": 16,
     "metadata": {},
     "output_type": "execute_result"
    }
   ],
   "source": [
    "np.int16(31929)"
   ]
  },
  {
   "cell_type": "code",
   "execution_count": 14,
   "metadata": {},
   "outputs": [
    {
     "data": {
      "text/plain": [
       "dtype([('nparts', '<i4'), ('timestep', '<i4'), ('level', '<i4'), ('host', '<i4'), ('hostsub', '<i4'), ('nbsub', '<i4'), ('nextsub', '<i4'), ('aexp', '<f4'), ('m', '<f4'), ('x', '<f4'), ('y', '<f4'), ('z', '<f4'), ('vx', '<f4'), ('vy', '<f4'), ('vz', '<f4'), ('Lx', '<f4'), ('Ly', '<f4'), ('Lz', '<f4'), ('r', '<f4'), ('a', '<f4'), ('b', '<f4'), ('c', '<f4'), ('ek', '<f4'), ('ep', '<f4'), ('et', '<f4'), ('spin', '<f4'), ('sigma', '<f4'), ('rvir', '<f4'), ('mvir', '<f4'), ('tvir', '<f4'), ('cvel', '<f4'), ('rho0', '<f4'), ('rc', '<f4'), ('npass', '<i4', (3, 4)), ('hmid', '<i4'), ('id', '<i8'), ('desc', '<i8', (3, 4)), ('fat', '<i8'), ('son', '<i8'), ('score_fat', '<f8'), ('score_son', '<f8'), ('nprog', '<i8'), ('ndesc', '<i8'), ('first', '<i8'), ('last', '<i8'), ('first_rev', '<i8'), ('last_rev', '<i8')])"
      ]
     },
     "execution_count": 14,
     "metadata": {},
     "output_type": "execute_result"
    }
   ],
   "source": [
    "ptree_dm.dtype"
   ]
  },
  {
   "cell_type": "code",
   "execution_count": 10,
   "metadata": {},
   "outputs": [
    {
     "data": {
      "text/plain": [
       "(173, 1026, 1, 3797, 0, 0, -1, 0.8536139, 2.2580139e+08, 0.46665937, 0.47781152, 0.5196389, 87.81165, 148.05669, 45.939163, -22001868., -28816116., 16329762., 0.00023365, 0.00961726, 0.00533737, 0.00715285, 29.632973, -0.10264013, 29.530333, 20.736216, 82.52841, 9.651364e-05, 1.2530019e+08, 1653.2484, 6.786124, 62.217022, 9.651364e-05, [[0, 0, 0, 0], [0, 0, 0, 0], [0, 0, 0, 0]], 3797, 11636873, [[-1, -1, -1, -1], [-1, -1, -1, -1], [-1, -1, -1, -1]], 235823877, -1, 0.46531792, 0., 0, 1, 242010087, 11636873, -1, -1)"
      ]
     },
     "execution_count": 10,
     "metadata": {},
     "output_type": "execute_result"
    }
   ],
   "source": [
    "\n",
    "tmp"
   ]
  },
  {
   "cell_type": "code",
   "execution_count": 32,
   "metadata": {},
   "outputs": [
    {
     "name": "stdout",
     "output_type": "stream",
     "text": [
      "25258\n",
      "11 11\n"
     ]
    },
    {
     "data": {
      "image/png": "[encoded data removed]",
      "text/plain": [
       "<Figure size 600x600 with 1 Axes>"
      ]
     },
     "metadata": {},
     "output_type": "display_data"
    }
   ],
   "source": [
    "target = np.random.choice(allsubs)\n",
    "tmp = ptree_dm[ (ptree_dm['hmid']==target['id'])&(ptree_dm['timestep']==target['timestep']) ][0]\n",
    "print(tmp['hmid'])\n",
    "\n",
    "samelast = ptree_dm[ptree_dm['last'] == tmp['last']]\n",
    "argsort = np.argsort(samelast['timestep'])\n",
    "samelast = samelast[argsort]\n",
    "fig, ax = plt.subplots(figsize=(6,6))#, sharex=True, sharey=True)\n",
    "ax.scatter(samelast['x'], samelast['y'], s=1)\n",
    "for ihal in samelast:\n",
    "    cir = circle(ihal, color='k', rname='rvir')\n",
    "    ax.add_patch(cir)\n",
    "ax.set_aspect(1)\n",
    "print( len(samelast), len(np.unique(samelast['timestep'])) )\n",
    "\n",
    "# samelast = ptree_dm[ptree_dm['first'] == tmp['first']]\n",
    "# ax = axes[1]\n",
    "# ax.scatter(samelast['x'], samelast['y'], s=1)\n",
    "# for ihal in samelast:\n",
    "#     cir = circle(ihal, color='k', rname='rvir')\n",
    "#     ax.add_patch(cir)\n",
    "# ax.set_aspect(1)\n",
    "# print( len(samelast), len(np.unique(samelast['timestep'])) )"
   ]
  },
  {
   "cell_type": "code",
   "execution_count": 33,
   "metadata": {},
   "outputs": [
    {
     "data": {
      "text/plain": [
       "array([1016, 1017, 1018, 1019, 1020], dtype=int32)"
      ]
     },
     "execution_count": 33,
     "metadata": {},
     "output_type": "execute_result"
    }
   ],
   "source": [
    "samelast[:5]['timestep']"
   ]
  },
  {
   "cell_type": "code",
   "execution_count": 38,
   "metadata": {},
   "outputs": [],
   "source": [
    "def printdt(table):\n",
    "    for iname in table.dtype.names:\n",
    "        print(f\"{iname:10s} {table[iname]}\")"
   ]
  },
  {
   "cell_type": "code",
   "execution_count": 39,
   "metadata": {},
   "outputs": [
    {
     "name": "stdout",
     "output_type": "stream",
     "text": [
      "nparts     131\n",
      "timestep   1016\n",
      "level      4\n",
      "host       5542\n",
      "hostsub    25250\n",
      "nbsub      0\n",
      "nextsub    25251\n",
      "aexp       0.8491386771202087\n",
      "m          170982560.0\n",
      "x          0.4852020740509033\n",
      "y          0.5355851054191589\n",
      "z          0.5239984393119812\n",
      "vx         -262.8435974121094\n",
      "vy         -35.21074676513672\n",
      "vz         101.21028900146484\n",
      "Lx         1061022.125\n",
      "Ly         14673754.0\n",
      "Lz         -7540389.0\n",
      "r          9.0245739556849e-05\n",
      "a          0.0016344417817890644\n",
      "b          0.004110465291887522\n",
      "c          0.003328179009258747\n",
      "ek         31.094209671020508\n",
      "ep         -0.13570444285869598\n",
      "et         30.958505630493164\n",
      "spin       17.69141960144043\n",
      "sigma      115.32636260986328\n",
      "rvir       7.866149098845199e-05\n",
      "mvir       170982560.0\n",
      "tvir       2782.57958984375\n",
      "cvel       8.803929328918457\n",
      "rho0       159.3079833984375\n",
      "rc         7.866149098845199e-05\n",
      "npass      [[115   8   8   0]\n",
      " [ 96  19  15   1]\n",
      " [ 92  38   1   0]]\n",
      "hmid       25286\n",
      "id         345936039\n",
      "desc       [[345936038 345857132  21479717        -1]\n",
      " [346804597  21538747 346541282 346672927]\n",
      " [346225435  21551875 346093875        -1]]\n",
      "fat        346725595\n",
      "son        345936038\n",
      "score_fat  0.08225848907607265\n",
      "score_son  0.21298354108287437\n",
      "nprog      1\n",
      "ndesc      0\n",
      "first      345936039\n",
      "last       345462728\n",
      "first_rev  -1\n",
      "last_rev   -1\n"
     ]
    }
   ],
   "source": [
    "printdt(samelast[0])"
   ]
  },
  {
   "cell_type": "code",
   "execution_count": 43,
   "metadata": {},
   "outputs": [
    {
     "name": "stdout",
     "output_type": "stream",
     "text": [
      "nparts     464\n",
      "timestep   1015\n",
      "level      3\n",
      "host       5545\n",
      "hostsub    25309\n",
      "nbsub      0\n",
      "nextsub    25318\n",
      "aexp       0.8485590815544128\n",
      "m          605617600.0\n",
      "x          0.4853149950504303\n",
      "y          0.5356280207633972\n",
      "z          0.5240876078605652\n",
      "vx         -99.36996459960938\n",
      "vy         40.65567398071289\n",
      "vz         101.90373229980469\n",
      "Lx         -152222960.0\n",
      "Ly         376112992.0\n",
      "Lz         -2776298.25\n",
      "r          0.00023595840320922434\n",
      "a          0.003452897537499666\n",
      "b          0.0026019508950412273\n",
      "c          0.009360698983073235\n",
      "ek         101.83783721923828\n",
      "ep         -1.7786390781402588\n",
      "et         100.05919647216797\n",
      "spin       33.06216049194336\n",
      "sigma      125.5080795288086\n",
      "rvir       0.00016354965919163078\n",
      "mvir       604312384.0\n",
      "tvir       4733.3251953125\n",
      "cvel       11.482486724853516\n",
      "rho0       62.773223876953125\n",
      "rc         0.00016354965919163078\n",
      "npass      [[309 100  33  22]\n",
      " [285 102  62  15]\n",
      " [287  88  63  26]]\n",
      "hmid       25317\n",
      "id         346725595\n",
      "desc       [[344989761 345936039  21512503 344727136]\n",
      " [345962342 345936038  21479717 345857132]\n",
      " [346672927 346804597  21538747 346541282]]\n",
      "fat        346067571\n",
      "son        344989761\n",
      "score_fat  0.37657934475112775\n",
      "score_son  0.22813527410352474\n",
      "nprog      2\n",
      "ndesc      1\n",
      "first      49924982\n",
      "last       346251743\n",
      "first_rev  -1\n",
      "last_rev   -1\n"
     ]
    }
   ],
   "source": [
    "aa = ptree_dm[ptree_dm['id'] == 346725595][0]\n",
    "printdt(aa)"
   ]
  },
  {
   "cell_type": "code",
   "execution_count": 41,
   "metadata": {},
   "outputs": [
    {
     "data": {
      "text/plain": [
       "106"
      ]
     },
     "execution_count": 41,
     "metadata": {},
     "output_type": "execute_result"
    }
   ],
   "source": [
    "ptree_dm['id'].min()"
   ]
  },
  {
   "cell_type": "code",
   "execution_count": 35,
   "metadata": {},
   "outputs": [
    {
     "data": {
      "text/plain": [
       "((131, 1016, 4, 5542, 25250, 0, 25251, 0.8491387, 1.7098256e+08, 0.48520207, 0.5355851, 0.52399844, -262.8436, -35.210747, 101.21029, 1061022.1, 14673754., -7540389., 9.024574e-05, 0.00163444, 0.00411047, 0.00332818, 31.09421, -0.13570444, 30.958506, 17.69142, 115.32636, 7.866149e-05, 1.7098256e+08, 2782.5796, 8.803929, 159.30798, 7.866149e-05, [[115,   8,   8,   0], [ 96,  19,  15,   1], [ 92,  38,   1,   0]], 25286, 345936039, [[345936038, 345857132,  21479717,        -1], [346804597,  21538747, 346541282, 346672927], [346225435,  21551875, 346093875,        -1]], 346725595, 345936038, 0.08225849, 0.21298354, 1, 0, 345936039, 345462728, -1, -1),\n",
       " dtype([('nparts', '<i4'), ('timestep', '<i4'), ('level', '<i4'), ('host', '<i4'), ('hostsub', '<i4'), ('nbsub', '<i4'), ('nextsub', '<i4'), ('aexp', '<f4'), ('m', '<f4'), ('x', '<f4'), ('y', '<f4'), ('z', '<f4'), ('vx', '<f4'), ('vy', '<f4'), ('vz', '<f4'), ('Lx', '<f4'), ('Ly', '<f4'), ('Lz', '<f4'), ('r', '<f4'), ('a', '<f4'), ('b', '<f4'), ('c', '<f4'), ('ek', '<f4'), ('ep', '<f4'), ('et', '<f4'), ('spin', '<f4'), ('sigma', '<f4'), ('rvir', '<f4'), ('mvir', '<f4'), ('tvir', '<f4'), ('cvel', '<f4'), ('rho0', '<f4'), ('rc', '<f4'), ('npass', '<i4', (3, 4)), ('hmid', '<i4'), ('id', '<i8'), ('desc', '<i8', (3, 4)), ('fat', '<i8'), ('son', '<i8'), ('score_fat', '<f8'), ('score_son', '<f8'), ('nprog', '<i8'), ('ndesc', '<i8'), ('first', '<i8'), ('last', '<i8'), ('first_rev', '<i8'), ('last_rev', '<i8')]))"
      ]
     },
     "execution_count": 35,
     "metadata": {},
     "output_type": "execute_result"
    }
   ],
   "source": [
    "samelast[0], ptree_dm.dtype"
   ]
  },
  {
   "cell_type": "code",
   "execution_count": null,
   "metadata": {},
   "outputs": [],
   "source": []
  }
 ],
 "metadata": {
  "kernelspec": {
   "display_name": "jeonpy",
   "language": "python",
   "name": "python3"
  },
  "language_info": {
   "codemirror_mode": {
    "name": "ipython",
    "version": 3
   },
   "file_extension": ".py",
   "mimetype": "text/x-python",
   "name": "python",
   "nbconvert_exporter": "python",
   "pygments_lexer": "ipython3",
   "version": "3.10.4"
  }
 },
 "nbformat": 4,
 "nbformat_minor": 2
}
