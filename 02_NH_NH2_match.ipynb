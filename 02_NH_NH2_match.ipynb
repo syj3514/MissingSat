{
 "cells": [
  {
   "cell_type": "code",
   "execution_count": 207,
   "metadata": {},
   "outputs": [],
   "source": [
    "from tqdm import tqdm\n",
    "import matplotlib.pyplot as plt # type: module\n",
    "import numpy as np\n",
    "import os, glob\n",
    "import time\n",
    "import warnings\n",
    "\n",
    "from rur.fortranfile import FortranFile\n",
    "from rur import uri, uhmi, painter, drawer\n",
    "from scipy.ndimage import gaussian_filter\n",
    "# from rur.sci.kinematics import f_getpot\n",
    "\n",
    "from icl_IO import mode2repo, pklsave, pklload\n",
    "from icl_tool import *\n",
    "from icl_numba import large_isin, large_isind\n",
    "from icl_draw import drawsnap, add_scalebar, addtext\n",
    "import argparse, subprocess"
   ]
  },
  {
   "cell_type": "markdown",
   "metadata": {},
   "source": [
    "# Data Preparation"
   ]
  },
  {
   "cell_type": "code",
   "execution_count": 208,
   "metadata": {},
   "outputs": [
    {
     "name": "stdout",
     "output_type": "stream",
     "text": [
      "[Output 01026] Age (Gyr) : 11.624 / 13.741, z = 0.17149 (a = 0.8536)\n"
     ]
    }
   ],
   "source": [
    "mode1 = 'nh'\n",
    "fout1 = 1026\n",
    "repo1,rurmode1,dp1 = mode2repo(mode1)\n",
    "snap1 = uri.RamsesSnapshot(repo1, fout1, mode=rurmode1)\n",
    "snap1s = uri.TimeSeries(snap1)\n",
    "snap1s.read_iout_avail()\n",
    "nout1 = snap1s.iout_avail['iout']\n",
    "gal1s = uhmi.HaloMaker.load(snap1, galaxy=True, double_precision=dp1)\n",
    "hal1s, hmpid1s = uhmi.HaloMaker.load(snap1, galaxy=False, double_precision=dp1, load_parts=True)\n",
    "halo_id1s = np.repeat(hal1s['id'], hal1s['nparts'])"
   ]
  },
  {
   "cell_type": "code",
   "execution_count": 209,
   "metadata": {},
   "outputs": [
    {
     "name": "stdout",
     "output_type": "stream",
     "text": [
      "[Output 00797] Age (Gyr) : 11.623 / 13.741, z = 0.17158 (a = 0.8536)\n"
     ]
    }
   ],
   "source": [
    "mode2 = 'nh2'\n",
    "fout2 = 797\n",
    "repo2,rurmode2,dp2 = mode2repo(mode2)\n",
    "snap2 = uri.RamsesSnapshot(repo2, fout2, mode=rurmode2)\n",
    "snap2s = uri.TimeSeries(snap2)\n",
    "snap2s.read_iout_avail()\n",
    "nout2 = snap2s.iout_avail['iout']\n",
    "gal2s = uhmi.HaloMaker.load(snap2, galaxy=True, double_precision=dp2)\n",
    "hal2s, hmpid2s = uhmi.HaloMaker.load(snap2, galaxy=False, double_precision=dp2, load_parts=True)\n",
    "halo_id2s = np.repeat(hal2s['id'], hal2s['nparts'])"
   ]
  },
  {
   "cell_type": "code",
   "execution_count": 210,
   "metadata": {},
   "outputs": [
    {
     "data": {
      "text/plain": [
       "(2, 126492136)"
      ]
     },
     "execution_count": 210,
     "metadata": {},
     "output_type": "execute_result"
    }
   ],
   "source": [
    "matchid = pklload(f\"{repo1}/DMID_NH_to_NH2.pickle\")\n",
    "matchid.shape"
   ]
  },
  {
   "cell_type": "code",
   "execution_count": 211,
   "metadata": {},
   "outputs": [
    {
     "name": "stdout",
     "output_type": "stream",
     "text": [
      "(4070,) (4070,)\n",
      "(1528,) (1528,)\n"
     ]
    }
   ],
   "source": [
    "result1s = pklload(\"./database/01_nh_ghmatch.pickle\")\n",
    "result2s = pklload(\"./database/01_nh2_ghmatch.pickle\")\n",
    "print(result1s.shape, gal1s.shape)\n",
    "print(result2s.shape, gal2s.shape)"
   ]
  },
  {
   "cell_type": "code",
   "execution_count": 212,
   "metadata": {},
   "outputs": [
    {
     "name": "stdout",
     "output_type": "stream",
     "text": [
      "62\n"
     ]
    }
   ],
   "source": [
    "# target1s = gal1s[ (gal1s['m'] >= 10**9.5) & (result1s['halo_id'] > 0) & (result1s['central'])]\n",
    "# print(len(target1s))\n",
    "target1s = gal1s[ (gal1s['nparts'] >= 10**6) & (result1s['halo_id'] > 0) & (result1s['central'])]\n",
    "print(len(target1s))"
   ]
  },
  {
   "cell_type": "code",
   "execution_count": 213,
   "metadata": {},
   "outputs": [
    {
     "name": "stdout",
     "output_type": "stream",
     "text": [
      "('nparts', 'id', 'timestep', 'level', 'host', 'hostsub', 'nbsub', 'nextsub', 'aexp', 'm', 'x', 'y', 'z', 'vx', 'vy', 'vz', 'Lx', 'Ly', 'Lz', 'r', 'a', 'b', 'c', 'ek', 'ep', 'et', 'spin', 'sigma', 'sigma_bulge', 'm_bulge', 'rvir', 'mvir', 'tvir', 'cvel', 'rho0', 'rc', 'halo_id', 'halo_nparts', 'halo_level', 'halo_host', 'halo_hostsub', 'halo_x', 'halo_y', 'halo_z', 'halo_vx', 'halo_vy', 'halo_vz', 'halo_mvir', 'halo_rvir', 'fcontam', 'dist', 'central', 'main', 'r200', 'm200', 'r200_code', 'm_star_200', 'm_gas_200', 'fcontam_200', 'rp', 'sfr', 'sfr_tot', 'galaxy_nh2', 'halo_nh2', 'matchrate')\n",
      "(6459716, 1, 1026, 1, 1, 0, 58, 1115, 0.85361391, 5.70733728e+10, 0.46676515, 0.47558907, 0.51981606, 38.10322621, 59.92555592, 42.18115311, 4.36736485e+09, 1.96773168e+10, -3.41279546e+10, 0.00059946, 0.00971647, 0.00790458, 0.00462674, 18406.16921386, -5712.74814868, 12693.42106518, 0.42191258, 193.48360624, 192.9882045, 0.23801002, 0.000533, 5.70733728e+10, 136357.35271673, 61.62998287, 168.25461411, 0.000533, 1278, 941453, 1, 1278, 0, 0.4667652, 0.47558909, 0.51981645, 46.91326255, 60.74175161, 45.83347496, 1.17616941e+12, 0.00203744, 8.49744015e-06, 3.99073296e-07, True, True, 0., 0., 0., 0., 0., 0., 0., 0., 0., 0, 0, 0.)\n"
     ]
    }
   ],
   "source": [
    "dt1 = target1s.dtype.descr\n",
    "dt2 = result1s.dtype.descr\n",
    "dt2 = [idt2 for idt2 in dt2 if(idt2 not in dt1)]\n",
    "dt3 = [\n",
    "       ('r200', 'f8'), ('m200', 'f8'), ('r200_code', 'f8'), \n",
    "       ('m_star_200', 'f8'), ('m_gas_200', 'f8'), ('fcontam_200', 'f8'),\n",
    "       ('rp','f8'), ('sfr', 'f8'), ('sfr_tot', 'f8'), \n",
    "       ('galaxy_nh2', 'i8'), ('halo_nh2', 'i8'), ('matchrate', 'f8')]\n",
    "set(dt1)|set(dt2)\n",
    "dtype = np.dtype(dt1 + dt2 + dt3)\n",
    "MWA1s = np.zeros(len(target1s), dtype=dtype)\n",
    "for iname in dtype.names:\n",
    "    if(iname in target1s.dtype.names):\n",
    "        MWA1s[iname] = target1s[iname]\n",
    "    elif(iname in result1s.dtype.names):\n",
    "        MWA1s[iname] = result1s[target1s['id']-1][iname]\n",
    "    else:\n",
    "        pass\n",
    "print(MWA1s.dtype.names)\n",
    "print(MWA1s[0])"
   ]
  },
  {
   "cell_type": "code",
   "execution_count": 214,
   "metadata": {},
   "outputs": [
    {
     "name": "stdout",
     "output_type": "stream",
     "text": [
      "3 3 [1252]\n",
      "7 7 [1545 1551]\n",
      "11 11 [21]\n",
      "13 13 [14]\n",
      "14 14 [  13  133  148 1920]\n",
      "21 21 [11]\n",
      "133 133 [14]\n",
      "148 148 [14]\n",
      "1252 3 [3]\n",
      "1545 7 [7]\n",
      "1551 7 [7]\n",
      "1920 14 [14]\n"
     ]
    },
    {
     "data": {
      "image/png": "[encoded data removed]",
      "text/plain": [
       "<Figure size 800x800 with 1 Axes>"
      ]
     },
     "metadata": {},
     "output_type": "display_data"
    }
   ],
   "source": [
    "fig, ax = plt.subplots(figsize=(8, 8))\n",
    "# ax.scatter(MWA1s['x'], MWA1s['y'], s=0.1, c='k')\n",
    "for MWA1 in MWA1s:\n",
    "    temp = MWA1s[MWA1s['id'] != MWA1['id']]\n",
    "    dists = distance(temp, MWA1)\n",
    "    ind = dists < (temp['r']+MWA1['r'])\n",
    "    if( np.any(ind) ):\n",
    "        print(MWA1['id'], MWA1['host'], temp['id'][ind])\n",
    "        ax.add_patch(plt.Circle((MWA1['x'], MWA1['y']), MWA1['r'], color='k', fill=False))\n",
    "        ax.scatter(temp['x'][ind], temp['y'][ind], s=0.1, c='r')\n",
    "ax.set_aspect('equal')\n",
    "plt.show()"
   ]
  },
  {
   "cell_type": "markdown",
   "metadata": {},
   "source": [
    "# Matching Halo"
   ]
  },
  {
   "cell_type": "code",
   "execution_count": 215,
   "metadata": {},
   "outputs": [
    {
     "name": "stdout",
     "output_type": "stream",
     "text": [
      "h01278: 0.00\th01417: 0.00\th01664: 0.02\th00573: 0.00\th24178: 0.03\n",
      "h01386: 0.00\th03321: 0.20\th05461: 0.22\th24674: 0.00\th27286: 0.01\n",
      "h10872: 0.13\th03997: 0.00\th20158: 0.00\th22161: 0.00\th24673: 0.00\n",
      "h00688: 0.13\th20406: 0.00\th05476: 0.00\th13354: 0.00\th23150: 0.34\n",
      "h09398: 0.00\th05540: 0.00\th04210: 0.00\th01340: 0.00\th11047: 0.16\n",
      "h27653: 0.00\th05459: 0.41\th04068: 0.00\th00589: 0.00\th25246: 0.00\n",
      "h03495: 0.27\th08188: 0.00\th23465: 0.04\th27180: 0.15\th19780: 0.00\n",
      "h00480: 0.52\th10868: 0.93\th06368: 0.00\th19583: 0.00\th19515: 0.00\n",
      "h24389: 0.00\th08284: 0.00\th01356: 0.00\th08291: 0.00\th13695: 0.00\n",
      "h27382: 0.02\th26689: 0.78\th27352: 0.02\th27706: 0.02\th01766: 0.87\n",
      "h13615: 0.00\th14945: 0.88\th02350: 0.99\th13169: 0.96\th00474: 0.98\n",
      "h00522: 1.00\th10163: 1.00\th22552: 1.00\th22517: 0.00\th24517: 0.00\n",
      "h24519: 0.00\th27379: 0.53\t\n",
      "62\n",
      "62\n"
     ]
    }
   ],
   "source": [
    "count = 0\n",
    "for a,b,c in zip(MWA1s['id'], MWA1s['halo_id'], MWA1s['fcontam']):\n",
    "    end = '\\t' if count%5 != 4 else '\\n'\n",
    "    count += 1\n",
    "    print(f\"h{b:05d}: {c:.2f}\", end=end)\n",
    "print()\n",
    "print(len(MWA1s))\n",
    "# ind = MWA1s['fcontam']<0.01\n",
    "# MWA1s = MWA1s[ind]\n",
    "print(len(MWA1s))"
   ]
  },
  {
   "cell_type": "markdown",
   "metadata": {},
   "source": [
    "# Matching NH2"
   ]
  },
  {
   "cell_type": "code",
   "execution_count": 216,
   "metadata": {},
   "outputs": [
    {
     "name": "stdout",
     "output_type": "stream",
     "text": [
      "('nparts', 'id', 'timestep', 'level', 'host', 'hostsub', 'nbsub', 'nextsub', 'aexp', 'm', 'x', 'y', 'z', 'vx', 'vy', 'vz', 'Lx', 'Ly', 'Lz', 'r', 'a', 'b', 'c', 'ek', 'ep', 'et', 'spin', 'sigma', 'sigma_bulge', 'm_bulge', 'rvir', 'mvir', 'tvir', 'cvel', 'rho0', 'rc', 'halo_id', 'halo_nparts', 'halo_level', 'halo_host', 'halo_hostsub', 'halo_x', 'halo_y', 'halo_z', 'halo_vx', 'halo_vy', 'halo_vz', 'halo_mvir', 'halo_rvir', 'fcontam', 'dist', 'central', 'main', 'r200', 'm200', 'r200_code', 'm_star_200', 'm_gas_200', 'fcontam_200', 'rp', 'sfr', 'sfr_tot', 'galaxy_nh', 'halo_nh', 'matchrate')\n",
      "(0, 0, 0, 0, 0, 0, 0, 0, 0., 0., 0., 0., 0., 0., 0., 0., 0., 0., 0., 0., 0., 0., 0., 0., 0., 0., 0., 0., 0., 0., 0., 0., 0., 0., 0., 0., 0, 0, 0, 0, 0, 0., 0., 0., 0., 0., 0., 0., 0., 0., 0., False, False, 0., 0., 0., 0., 0., 0., 0., 0., 0., 0, 0, 0.)\n"
     ]
    }
   ],
   "source": [
    "dt1 = target1s.dtype.descr\n",
    "dt2 = result2s.dtype.descr\n",
    "dt2 = [idt2 for idt2 in dt2 if(idt2 not in dt1)]\n",
    "dt3 = [\n",
    "       ('r200', 'f8'), ('m200', 'f8'), ('r200_code', 'f8'), \n",
    "       ('m_star_200', 'f8'), ('m_gas_200', 'f8'), ('fcontam_200', 'f8'),\n",
    "       ('rp','f8'), ('sfr', 'f8'), ('sfr_tot', 'f8'), \n",
    "       ('galaxy_nh', 'i8'), ('halo_nh', 'i8'), ('matchrate', 'f8')]\n",
    "\n",
    "dtype = np.dtype(dt1 + dt2 + dt3)\n",
    "MWA2s = np.zeros(len(target1s), dtype=dtype)\n",
    "\n",
    "\n",
    "print(MWA2s.dtype.names)\n",
    "print(MWA2s[0])"
   ]
  },
  {
   "cell_type": "code",
   "execution_count": 217,
   "metadata": {},
   "outputs": [
    {
     "name": "stdout",
     "output_type": "stream",
     "text": [
      "[NH] (G1, H1278) <- 0.38 -> (G2, H1257) [NH2]\n",
      "[NH] (G2, H1417) <- 0.30 -> (G1, H1420) [NH2]\n",
      "[NH] (G3, H1664) <- 0.42 -> (G12, H1600) [NH2]\n",
      "[NH] (G4, H573) <- 0.24 -> (G13, H524) [NH2]\n",
      "[NH] (G7, H24178) <- 0.30 -> (G45, H24311) [NH2]\n",
      "[NH] (G8, H1386) <- 0.46 -> (G14, H1368) [NH2]\n",
      "[NH] (G9, H3321) <- 0.42 -> (G11, H3255) [NH2]\n",
      "[NH] (G10, H5461) <- 0.32 -> (G3, H5656) [NH2]\n",
      "[NH] (G11, H24674) <- 0.00 -> (G10, H5704) [NH2]\n",
      "[NH] (G13, H27286) <- 0.01 -> (G20, H10658) [NH2]\n",
      "[NH] (G14, H10872) <- 0.36 -> (G20, H10658) [NH2]\n",
      "[NH] (G17, H3997) <- 0.22 -> (G23, H4183) [NH2]\n",
      "[NH] (G19, H20158) <- 0.32 -> (G4, H20679) [NH2]\n",
      "[NH] (G20, H22161) <- 0.26 -> (G31, H22326) [NH2]\n",
      "[NH] (G21, H24673) <- 0.22 -> (G35, H24841) [NH2]\n",
      "[NH] (G23, H688) <- 0.41 -> (G19, H627) [NH2]\n",
      "[NH] (G24, H20406) <- 0.29 -> (G68, H20848) [NH2]\n",
      "[NH] (G25, H5476) <- 0.42 -> (G18, H5706) [NH2]\n",
      "[NH] (G26, H13354) <- 0.37 -> (G25, H13766) [NH2]\n",
      "[NH] (G29, H23150) <- 0.13 -> (G32, H3310) [NH2]\n",
      "[NH] (G35, H9398) <- 0.46 -> (G123, H9307) [NH2]\n",
      "[NH] (G36, H5540) <- 0.35 -> (G37, H5752) [NH2]\n",
      "[NH] (G37, H4210) <- 0.42 -> (G73, H4396) [NH2]\n",
      "[NH] (G40, H1340) <- 0.41 -> (G52, H1302) [NH2]\n",
      "[NH] (G41, H11047) <- 0.08 -> (G33, H10950) [NH2]\n",
      "[NH] (G46, H27653) <- 0.41 -> (G47, H28028) [NH2]\n",
      "[NH] (G47, H5459) <- 0.24 -> (G686, H5680) [NH2]\n",
      "[NH] (G52, H4068) <- 0.34 -> (G39, H4234) [NH2]\n",
      "[NH] (G54, H589) <- 0.19 -> (G28, H545) [NH2]\n",
      "[NH] (G60, H25246) <- 0.30 -> (G54, H25351) [NH2]\n",
      "[NH] (G63, H3495) <- 0.36 -> (G17, H3559) [NH2]\n",
      "[NH] (G64, H8188) <- 0.35 -> (G131, H8383) [NH2]\n",
      "[NH] (G65, H23465) <- 0.34 -> (G59, H23350) [NH2]\n",
      "[NH] (G66, H27180) <- 0.30 -> (G36, H27007) [NH2]\n",
      "[NH] (G68, H19780) <- 0.37 -> (G34, H553) [NH2]\n",
      "[NH] (G75, H480) <- 0.04 -> (G150, H473) [NH2]\n",
      "[NH] (G82, H10868) <- 0.00 -> (G947, H27219) [NH2]\n",
      "[NH] (G84, H6368) <- 0.40 -> (G101, H8301) [NH2]\n",
      "[NH] (G91, H19583) <- 0.33 -> (G56, H20350) [NH2]\n",
      "[NH] (G92, H19515) <- 0.32 -> (G125, H565) [NH2]\n",
      "[NH] (G104, H24389) <- 0.00 -> (G121, H24441) [NH2]\n",
      "[NH] (G107, H8284) <- 0.32 -> (G163, H8365) [NH2]\n",
      "[NH] (G108, H1356) <- 0.31 -> (G90, H1334) [NH2]\n",
      "[NH] (G121, H8291) <- 0.52 -> (G143, H8372) [NH2]\n",
      "[NH] (G129, H13695) <- 0.27 -> (G89, H14100) [NH2]\n",
      "[NH] (G133, H27382) <- 0.23 -> (G152, H27532) [NH2]\n",
      "[NH] (G136, H26689) <- 0.02 -> (G947, H27219) [NH2]\n",
      "[NH] (G148, H27352) <- 0.26 -> (G97, H27653) [NH2]\n",
      "[NH] (G165, H27706) <- 0.27 -> (G9, H28079) [NH2]\n",
      "[NH] (G168, H1766) <- 0.00 -> (G230, H1778) [NH2]\n",
      "[NH] (G207, H13615) <- 0.31 -> (G221, H14050) [NH2]\n",
      "[NH] (G212, H14945) <- 0.00 -> (G331, H15370) [NH2]\n",
      "[NH] (G360, H2350) <- 0.00 -> (H22869) [NH2]\n",
      "[NH] (G458, H13169) <- 0.00 -> (H?) [NH2]\n",
      "No matched due to contamination (0.96)\n",
      "[NH] (G591, H474) <- 0.00 -> (H?) [NH2]\n",
      "No matched due to contamination (0.98)\n",
      "[NH] (G667, H522) <- 0.00 -> (H?) [NH2]\n",
      "No matched due to contamination (1.00)\n",
      "[NH] (G919, H10163) <- 0.00 -> (H?) [NH2]\n",
      "No matched due to contamination (1.00)\n",
      "[NH] (G937, H22552) <- 0.00 -> (G600, H1703) [NH2]\n",
      "[NH] (G1252, H22517) <- 0.21 -> (G38, H22631) [NH2]\n",
      "[NH] (G1545, H24517) <- 0.05 -> (G1142, H24693) [NH2]\n",
      "[NH] (G1551, H24519) <- 0.01 -> (G45, H24311) [NH2]\n",
      "[NH] (G1920, H27379) <- 0.07 -> (G187, H27661) [NH2]\n"
     ]
    }
   ],
   "source": [
    "for ith, MWA1 in enumerate(MWA1s):\n",
    "    if(MWA1['galaxy_nh2'] > 0): continue\n",
    "    dm1s = uhmi.HaloMaker.read_member_part(snap1, MWA1['halo_id'], galaxy=False, simple=False)\n",
    "    dm1s = cut_sphere(dm1s, MWA1['x'], MWA1['y'], MWA1['z'], MWA1['r'])\n",
    "    dmids1 = dm1s['id']\n",
    "\n",
    "    dmids2 = matchid[1][dmids1-1]\n",
    "\n",
    "    MWA2 = None\n",
    "    arg = large_isin(hmpid2s, dmids2)\n",
    "    if(True in arg):\n",
    "        cand_id2s, occurence = np.unique(halo_id2s[arg], return_counts=True)\n",
    "        matchrate = occurence**2 / len(dmids1) / hal2s[cand_id2s-1]['nparts'] # (A&B)^2 / A / B\n",
    "        argsort = np.argsort(-matchrate)\n",
    "        MWA1['halo_nh2'] = cand_id2s[argsort][0]\n",
    "        MWA2s[ith]['halo_id'] = cand_id2s[argsort][0]\n",
    "        MWA2s[ith]['halo_nh'] = MWA1['halo_id']\n",
    "        MWA2s[ith]['galaxy_nh'] = MWA1['id']\n",
    "        MWA1['matchrate'] = matchrate[argsort][0]\n",
    "        for hid2, score in zip(cand_id2s[argsort], matchrate[argsort]):\n",
    "            # argmax = np.argmax(matchrate)\n",
    "            # hid2 = cand_id2s[argmax]; score = matchrate[argmax]\n",
    "            if(hid2 in result2s['halo_id']):\n",
    "                cands = result2s[result2s['halo_id']==hid2]\n",
    "                if(len(cands) == 1):\n",
    "                    MWA2 = cands[0]\n",
    "                else:\n",
    "                    if(True in cands['central']):\n",
    "                        MWA2 = cands[cands['central']][0]\n",
    "                    else:\n",
    "                        MWA2 = cands[np.argmax(cands['r'])]\n",
    "                MWA1['halo_nh2'] = hid2\n",
    "                MWA1['matchrate'] = score\n",
    "                MWA2s[ith]['matchrate'] = score\n",
    "                MWA2s[ith]['halo_id'] = hid2\n",
    "                break\n",
    "        if(MWA2 is not None):\n",
    "            MWA1['galaxy_nh2'] = MWA2['id']\n",
    "            MWA2s[ith]['id'] = MWA2['id']\n",
    "            print(f\"[NH] (G{MWA1['id']}, H{MWA1['halo_id']}) <- {score:.2f} -> (G{MWA2['id']}, H{hid2}) [NH2]\")\n",
    "        else:\n",
    "            print(f\"[NH] (G{MWA1['id']}, H{MWA1['halo_id']}) <- {score:.2f} -> (H{hid2}) [NH2]\")\n",
    "    else:\n",
    "        print(f\"[NH] (G{MWA1['id']}, H{MWA1['halo_id']}) <- 0.00 -> (H?) [NH2]\")\n",
    "        print(f\"No matched due to contamination ({MWA1['fcontam']:.2f})\")    "
   ]
  },
  {
   "cell_type": "code",
   "execution_count": 218,
   "metadata": {},
   "outputs": [
    {
     "name": "stdout",
     "output_type": "stream",
     "text": [
      "('nparts', 'id', 'timestep', 'level', 'host', 'hostsub', 'nbsub', 'nextsub', 'aexp', 'm', 'x', 'y', 'z', 'vx', 'vy', 'vz', 'Lx', 'Ly', 'Lz', 'r', 'a', 'b', 'c', 'ek', 'ep', 'et', 'spin', 'sigma', 'sigma_bulge', 'm_bulge', 'rvir', 'mvir', 'tvir', 'cvel', 'rho0', 'rc', 'halo_id', 'halo_nparts', 'halo_level', 'halo_host', 'halo_hostsub', 'halo_x', 'halo_y', 'halo_z', 'halo_vx', 'halo_vy', 'halo_vz', 'halo_mvir', 'halo_rvir', 'fcontam', 'dist', 'central', 'main', 'r200', 'm200', 'r200_code', 'm_star_200', 'm_gas_200', 'fcontam_200', 'rp', 'sfr', 'sfr_tot', 'galaxy_nh2', 'halo_nh2', 'matchrate')\n"
     ]
    }
   ],
   "source": [
    "print( MWA1s.dtype.names )"
   ]
  },
  {
   "cell_type": "code",
   "execution_count": 219,
   "metadata": {},
   "outputs": [],
   "source": [
    "names1 = MWA2s.dtype.names\n",
    "names2 = result2s.dtype.names\n",
    "\n",
    "for MWA2 in MWA2s:\n",
    "    if(MWA2['id']==0): continue\n",
    "    gal = result2s[MWA2['id']-1]\n",
    "    for iname in names1:\n",
    "        if(iname in names2):\n",
    "            MWA2[iname] = gal[iname]"
   ]
  },
  {
   "cell_type": "markdown",
   "metadata": {},
   "source": [
    "# Remove weird"
   ]
  },
  {
   "cell_type": "code",
   "execution_count": 220,
   "metadata": {},
   "outputs": [
    {
     "name": "stdout",
     "output_type": "stream",
     "text": [
      "[ 0  1  2  3  4  5  6  7  8  9 10 11 12 13 14 15 16 17 18 19 20 21 22 23\n",
      " 24 25 26 27 28 29 30 31 32 33 34 35 36 37 38 39 40 41 42 43 44 45 46 47\n",
      " 48 49 50 51 57 58 59 60 61]\n"
     ]
    }
   ],
   "source": [
    "# Zero matched\n",
    "where = np.where(MWA2s['id']>0)[0]\n",
    "print(where)\n",
    "MWA1s = MWA1s[where]\n",
    "MWA2s = MWA2s[where]"
   ]
  },
  {
   "cell_type": "code",
   "execution_count": 273,
   "metadata": {},
   "outputs": [
    {
     "name": "stdout",
     "output_type": "stream",
     "text": [
      "[13 14]\n",
      "[0.00983485 0.36089627]\n",
      "[   7 1551]\n",
      "[0.30270247 0.01022506]\n",
      "[ 82 136]\n",
      "[5.27707978e-06 1.68820340e-02]\n"
     ]
    }
   ],
   "source": [
    "# Duplicated\n",
    "unique, counts = np.unique(MWA2s['id'], return_counts=True)\n",
    "unis = unique[counts>1]\n",
    "\n",
    "where = []\n",
    "for uni in unis:\n",
    "    samples = MWA2s[MWA2s['id']==uni]\n",
    "    argmax = np.argmax(samples['matchrate'])\n",
    "    winner = samples[argmax]\n",
    "    losers = samples[samples['galaxy_nh']!=winner['galaxy_nh']]\n",
    "    for loser in losers:\n",
    "        where.append(loser['galaxy_nh'])\n",
    "where = np.array(where)\n",
    "where = np.where(np.isin(MWA1s['id'], where))[0]\n",
    "where = np.isin(np.arange(len(MWA1s)), where, invert=True)\n",
    "MWA1s = MWA1s[where]\n",
    "MWA2s = MWA2s[where]\n",
    "\n",
    "check_unique(MWA2s['id'])"
   ]
  },
  {
   "cell_type": "code",
   "execution_count": 275,
   "metadata": {},
   "outputs": [],
   "source": [
    "check_unique(MWA2s['id'])"
   ]
  },
  {
   "cell_type": "code",
   "execution_count": 285,
   "metadata": {},
   "outputs": [
    {
     "name": "stdout",
     "output_type": "stream",
     "text": [
      "17 3997\n",
      "23 4183\n",
      "0.2171651559963261\n"
     ]
    },
    {
     "data": {
      "text/plain": [
       "<matplotlib.patches.Circle at 0x7f159606fd30>"
      ]
     },
     "execution_count": 285,
     "metadata": {},
     "output_type": "execute_result"
    },
    {
     "data": {
      "image/png": "[encoded data removed]",
      "text/plain": [
       "<Figure size 640x480 with 1 Axes>"
      ]
     },
     "metadata": {},
     "output_type": "display_data"
    }
   ],
   "source": [
    "fig, ax = plt.subplots()\n",
    "\n",
    "index = np.random.choice(np.arange(len(MWA1s)))\n",
    "gal1 = MWA1s[index]\n",
    "hal1 = hal1s[gal1['halo_id']-1]\n",
    "print(gal1['id'], hal1['id'])\n",
    "gal2 = MWA2s[index]\n",
    "hal2 = hal2s[gal2['halo_id']-1]\n",
    "print(gal2['id'], hal2['id'])\n",
    "print(gal1['matchrate'])\n",
    "\n",
    "ax.scatter(gal1['x'], gal1['y'], c='k', s=0.01)\n",
    "ax.scatter(gal2['x'], gal2['y'], c='r', s=0.01)\n",
    "cir = plt.Circle((gal1['x'], gal1['y']), gal1['r'], color='k', fill=False)\n",
    "ax.add_patch(cir)\n",
    "cir = plt.Circle((hal1['x'], hal1['y']), hal1['rvir'], color='k', fill=False, ls=':')\n",
    "ax.add_patch(cir)\n",
    "cir = plt.Circle((gal2['x'], gal2['y']), gal2['r'], color='r', fill=False)\n",
    "ax.add_patch(cir)\n",
    "cir = plt.Circle((hal2['x'], hal2['y']), hal2['rvir'], color='r', fill=False, ls=':')\n",
    "ax.add_patch(cir)\n",
    "\n",
    "\n"
   ]
  },
  {
   "cell_type": "code",
   "execution_count": 204,
   "metadata": {},
   "outputs": [
    {
     "data": {
      "text/plain": [
       "(array([52, 53, 54, 55, 56]),)"
      ]
     },
     "execution_count": 204,
     "metadata": {},
     "output_type": "execute_result"
    }
   ],
   "source": [
    "np.where(MWA1s['galaxy_nh2']==0)"
   ]
  },
  {
   "cell_type": "code",
   "execution_count": 199,
   "metadata": {},
   "outputs": [
    {
     "data": {
      "text/plain": [
       "(array([2373,    0,    0,    0,    0], dtype=int32),\n",
       " array([0., 0., 0., 0., 0.]))"
      ]
     },
     "execution_count": 199,
     "metadata": {},
     "output_type": "execute_result"
    }
   ],
   "source": [
    "samples = MWA2s[MWA2s['id']==0]\n",
    "samples['halo_id'], samples['matchrate']"
   ]
  },
  {
   "cell_type": "code",
   "execution_count": 193,
   "metadata": {},
   "outputs": [
    {
     "data": {
      "text/plain": [
       "<module 'drawing' from '/home/jeon/MissingSat/drawing.py'>"
      ]
     },
     "execution_count": 193,
     "metadata": {},
     "output_type": "execute_result"
    }
   ],
   "source": [
    "from importlib import reload\n",
    "import drawing\n",
    "reload(drawing)\n"
   ]
  },
  {
   "cell_type": "code",
   "execution_count": 201,
   "metadata": {},
   "outputs": [
    {
     "data": {
      "text/plain": [
       "(0, 0, 0, 0, 0, 0, 0, 0, 0., 0., 0., 0., 0., 0., 0., 0., 0., 0., 0., 0., 0., 0., 0., 0., 0., 0., 0., 0., 0., 0., 0., 0., 0., 0., 0., 0., 2373, 0, 0, 0, 0, 0., 0., 0., 0., 0., 0., 0., 0., 0., 0., False, False, 0., 0., 0., 0., 0., 0., 0., 0., 0., 360, 2350, 0.)"
      ]
     },
     "execution_count": 201,
     "metadata": {},
     "output_type": "execute_result"
    }
   ],
   "source": [
    "samples[0]"
   ]
  },
  {
   "cell_type": "code",
   "execution_count": 198,
   "metadata": {},
   "outputs": [
    {
     "name": "stdout",
     "output_type": "stream",
     "text": [
      "83 66\n"
     ]
    },
    {
     "data": {
      "image/png": "[encoded data removed]",
      "text/plain": [
       "<Figure size 600x600 with 1 Axes>"
      ]
     },
     "metadata": {},
     "output_type": "display_data"
    }
   ],
   "source": [
    "from drawing import nears\n",
    "\n",
    "fig, ax = plt.subplots(1, 1, figsize=(6, 6))\n",
    "nears(hal2s[2373-1], gal2s, hal2s, radii=3, ax=ax)"
   ]
  },
  {
   "cell_type": "code",
   "execution_count": 173,
   "metadata": {},
   "outputs": [
    {
     "data": {
      "text/plain": [
       "(array([   0,    1,    2,    3,    4,    9,   10,   11,   12,   13,   14,\n",
       "          17,   18,   19,   20,   23,   25,   28,   31,   32,   33,   34,\n",
       "          35,   36,   37,   38,   39,   45,   47,   52,   54,   56,   59,\n",
       "          68,   73,   89,   90,   97,  101,  121,  123,  125,  131,  143,\n",
       "         150,  152,  163,  187,  221,  230,  331,  600,  686,  947, 1142],\n",
       "       dtype=int32),\n",
       " array([5, 1, 1, 1, 1, 1, 1, 1, 1, 1, 1, 1, 1, 1, 2, 1, 1, 1, 1, 1, 1, 1,\n",
       "        1, 1, 1, 1, 1, 2, 1, 1, 1, 1, 1, 1, 1, 1, 1, 1, 1, 1, 1, 1, 1, 1,\n",
       "        1, 1, 1, 1, 1, 1, 1, 1, 1, 2, 1]))"
      ]
     },
     "execution_count": 173,
     "metadata": {},
     "output_type": "execute_result"
    }
   ],
   "source": [
    "np.unique(MWA2s['id'], return_counts=True)"
   ]
  },
  {
   "cell_type": "code",
   "execution_count": 174,
   "metadata": {},
   "outputs": [
    {
     "name": "stdout",
     "output_type": "stream",
     "text": [
      "20 [10658 10658]\n",
      "[0.00983485 0.36089627]\n",
      "45 [24311 24311]\n",
      "[0.30270247 0.01022506]\n",
      "947 [27219 27219]\n",
      "[5.27707978e-06 1.68820340e-02]\n"
     ]
    }
   ],
   "source": [
    "for uni, cou in zip( *np.unique(MWA2s['id'], return_counts=True) ):\n",
    "    if(uni==0): continue\n",
    "    if(cou>1):\n",
    "        gals = MWA2s[MWA2s['id']==uni]\n",
    "        print(uni, gals['halo_id'])\n",
    "        print(gals['matchrate'])"
   ]
  },
  {
   "cell_type": "code",
   "execution_count": 175,
   "metadata": {},
   "outputs": [
    {
     "data": {
      "text/plain": [
       "False"
      ]
     },
     "execution_count": 175,
     "metadata": {},
     "output_type": "execute_result"
    }
   ],
   "source": [
    "29716 in result2s['halo_id']"
   ]
  },
  {
   "cell_type": "code",
   "execution_count": 176,
   "metadata": {},
   "outputs": [
    {
     "data": {
      "text/plain": [
       "array([1420], dtype=int32)"
      ]
     },
     "execution_count": 176,
     "metadata": {},
     "output_type": "execute_result"
    }
   ],
   "source": [
    "MWA2s[MWA2s['id'] == 1]['halo_id']"
   ]
  },
  {
   "cell_type": "code",
   "execution_count": 177,
   "metadata": {},
   "outputs": [
    {
     "name": "stdout",
     "output_type": "stream",
     "text": [
      "[ 143 1306 1307 1308 1309 1310 1311 1312 1313 1314 1315 1316 1317 1318\n",
      " 1319 1320 1321 1322]\n"
     ]
    },
    {
     "data": {
      "text/plain": [
       "<matplotlib.patches.Circle at 0x7f159d2aeec0>"
      ]
     },
     "execution_count": 177,
     "metadata": {},
     "output_type": "execute_result"
    },
    {
     "data": {
      "image/png": "[encoded data removed]",
      "text/plain": [
       "<Figure size 800x800 with 1 Axes>"
      ]
     },
     "metadata": {},
     "output_type": "display_data"
    }
   ],
   "source": [
    "ihal = hal2s[8372-1]\n",
    "samples = cut_sphere(gal2s, ihal['x'], ihal['y'], ihal['z'], ihal['r'], both_sphere=True)\n",
    "print(samples['id'])\n",
    "fig, ax = plt.subplots(figsize=(8,8))\n",
    "ax.scatter(samples['x'], samples['y'], s=1, c='r')\n",
    "for sample in samples:\n",
    "    cir = plt.Circle((sample['x'], sample['y']), sample['r'], color='r', fill=False)\n",
    "    ax.add_patch(cir)\n",
    "cir = plt.Circle((ihal['x'], ihal['y']), ihal['rvir'], color='k', fill=False)\n",
    "ax.add_patch(cir)"
   ]
  },
  {
   "cell_type": "code",
   "execution_count": 178,
   "metadata": {},
   "outputs": [
    {
     "ename": "ValueError",
     "evalue": "stop!",
     "output_type": "error",
     "traceback": [
      "\u001b[0;31m---------------------------------------------------------------------------\u001b[0m",
      "\u001b[0;31mValueError\u001b[0m                                Traceback (most recent call last)",
      "\u001b[1;32m/home/jeon/MissingSat/02_NH_NH2_match.ipynb Cell 25\u001b[0m in \u001b[0;36m<cell line: 1>\u001b[0;34m()\u001b[0m\n\u001b[0;32m----> <a href='vscode-notebook-cell://ssh-remote%2B7b22686f73744e616d65223a22474336227d/home/jeon/MissingSat/02_NH_NH2_match.ipynb#Y150sdnNjb2RlLXJlbW90ZQ%3D%3D?line=0'>1</a>\u001b[0m stop()\n",
      "File \u001b[0;32m~/ICLwork/icl_tool.py:37\u001b[0m, in \u001b[0;36mstop\u001b[0;34m()\u001b[0m\n\u001b[1;32m     34\u001b[0m \u001b[39mdef\u001b[39;00m \u001b[39mcheck_unique\u001b[39m(arr):\n\u001b[1;32m     35\u001b[0m     \u001b[39massert\u001b[39;00m \u001b[39mlen\u001b[39m(arr)\u001b[39m==\u001b[39m\u001b[39mlen\u001b[39m(np\u001b[39m.\u001b[39munique(arr))\n\u001b[0;32m---> 37\u001b[0m \u001b[39mdef\u001b[39;00m \u001b[39mstop\u001b[39m(): \u001b[39mraise\u001b[39;00m \u001b[39mValueError\u001b[39;00m(\u001b[39m\"\u001b[39m\u001b[39mstop!\u001b[39m\u001b[39m\"\u001b[39m)\n\u001b[1;32m     38\u001b[0m \u001b[39mdef\u001b[39;00m \u001b[39mgethalo\u001b[39m(iid, ytree, complete\u001b[39m=\u001b[39m\u001b[39mTrue\u001b[39;00m):\n\u001b[1;32m     39\u001b[0m     temp \u001b[39m=\u001b[39m ytree[ytree[\u001b[39m'\u001b[39m\u001b[39mtimestep\u001b[39m\u001b[39m'\u001b[39m] \u001b[39m==\u001b[39m iid\u001b[39m/\u001b[39m\u001b[39m/\u001b[39m\u001b[39m100000\u001b[39m]\n",
      "\u001b[0;31mValueError\u001b[0m: stop!"
     ]
    }
   ],
   "source": [
    "stop()"
   ]
  },
  {
   "cell_type": "code",
   "execution_count": null,
   "metadata": {},
   "outputs": [
    {
     "data": {
      "text/plain": [
       "0.003248416147653608"
      ]
     },
     "execution_count": 118,
     "metadata": {},
     "output_type": "execute_result"
    }
   ],
   "source": [
    "ihal['r']"
   ]
  },
  {
   "cell_type": "code",
   "execution_count": null,
   "metadata": {},
   "outputs": [
    {
     "data": {
      "text/plain": [
       "(8372, 0.003248416147653608)"
      ]
     },
     "execution_count": 117,
     "metadata": {},
     "output_type": "execute_result"
    }
   ],
   "source": [
    "hal2['id'], hal2['r']"
   ]
  },
  {
   "cell_type": "code",
   "execution_count": null,
   "metadata": {},
   "outputs": [
    {
     "name": "stdout",
     "output_type": "stream",
     "text": [
      "1 1278\n",
      "2 1257\n",
      "0.382021943751821\n"
     ]
    },
    {
     "data": {
      "text/plain": [
       "<matplotlib.patches.Circle at 0x7f159d6f1e40>"
      ]
     },
     "execution_count": 141,
     "metadata": {},
     "output_type": "execute_result"
    },
    {
     "data": {
      "image/png": "[encoded data removed]",
      "text/plain": [
       "<Figure size 640x480 with 1 Axes>"
      ]
     },
     "metadata": {},
     "output_type": "display_data"
    }
   ],
   "source": [
    "fig, ax = plt.subplots()\n",
    "\n",
    "index = np.random.choice(np.arange(len(MWA1s)))\n",
    "gal1 = MWA1s[index]\n",
    "hal1 = hal1s[gal1['halo_id']-1]\n",
    "print(gal1['id'], hal1['id'])\n",
    "gal2 = MWA2s[index]\n",
    "hal2 = hal2s[gal2['halo_id']-1]\n",
    "print(gal2['id'], hal2['id'])\n",
    "print(gal1['matchrate'])\n",
    "\n",
    "ax.scatter(gal1['x'], gal1['y'], c='k', s=0.01)\n",
    "ax.scatter(gal2['x'], gal2['y'], c='r', s=0.01)\n",
    "cir = plt.Circle((gal1['x'], gal1['y']), gal1['r'], color='k', fill=False)\n",
    "ax.add_patch(cir)\n",
    "cir = plt.Circle((hal1['x'], hal1['y']), hal1['rvir'], color='k', fill=False, ls=':')\n",
    "ax.add_patch(cir)\n",
    "cir = plt.Circle((gal2['x'], gal2['y']), gal2['r'], color='r', fill=False)\n",
    "ax.add_patch(cir)\n",
    "cir = plt.Circle((hal2['x'], hal2['y']), hal2['rvir'], color='r', fill=False, ls=':')\n",
    "ax.add_patch(cir)\n",
    "\n",
    "\n"
   ]
  },
  {
   "cell_type": "code",
   "execution_count": 234,
   "metadata": {},
   "outputs": [
    {
     "data": {
      "text/plain": [
       "(array([   1,    2,    3,    4,    9,   10,   11,   12,   13,   14,   17,\n",
       "          18,   19,   20,   23,   25,   28,   31,   32,   33,   34,   35,\n",
       "          36,   37,   38,   39,   45,   47,   52,   54,   56,   59,   68,\n",
       "          73,   89,   90,   97,  101,  121,  123,  125,  131,  143,  150,\n",
       "         152,  163,  187,  221,  230,  331,  600,  686,  947, 1142],\n",
       "       dtype=int32),\n",
       " array([1, 1, 1, 1, 1, 1, 1, 1, 1, 1, 1, 1, 1, 2, 1, 1, 1, 1, 1, 1, 1, 1,\n",
       "        1, 1, 1, 1, 2, 1, 1, 1, 1, 1, 1, 1, 1, 1, 1, 1, 1, 1, 1, 1, 1, 1,\n",
       "        1, 1, 1, 1, 1, 1, 1, 1, 2, 1]))"
      ]
     },
     "execution_count": 234,
     "metadata": {},
     "output_type": "execute_result"
    }
   ],
   "source": [
    "np.unique(MWA2s['id'], return_counts=True)"
   ]
  },
  {
   "cell_type": "code",
   "execution_count": 233,
   "metadata": {},
   "outputs": [
    {
     "ename": "AssertionError",
     "evalue": "",
     "output_type": "error",
     "traceback": [
      "\u001b[0;31m---------------------------------------------------------------------------\u001b[0m",
      "\u001b[0;31mAssertionError\u001b[0m                            Traceback (most recent call last)",
      "\u001b[1;32m/home/jeon/MissingSat/02_NH_NH2_match.ipynb Cell 34\u001b[0m in \u001b[0;36m<cell line: 1>\u001b[0;34m()\u001b[0m\n\u001b[0;32m----> <a href='vscode-notebook-cell://ssh-remote%2B7b22686f73744e616d65223a22474336227d/home/jeon/MissingSat/02_NH_NH2_match.ipynb#Y123sdnNjb2RlLXJlbW90ZQ%3D%3D?line=0'>1</a>\u001b[0m check_unique(MWA1s[\u001b[39m'\u001b[39;49m\u001b[39mhalo_nh2\u001b[39;49m\u001b[39m'\u001b[39;49m])\n",
      "File \u001b[0;32m~/ICLwork/icl_tool.py:35\u001b[0m, in \u001b[0;36mcheck_unique\u001b[0;34m(arr)\u001b[0m\n\u001b[1;32m     34\u001b[0m \u001b[39mdef\u001b[39;00m \u001b[39mcheck_unique\u001b[39m(arr):\n\u001b[0;32m---> 35\u001b[0m     \u001b[39massert\u001b[39;00m \u001b[39mlen\u001b[39m(arr)\u001b[39m==\u001b[39m\u001b[39mlen\u001b[39m(np\u001b[39m.\u001b[39munique(arr))\n",
      "\u001b[0;31mAssertionError\u001b[0m: "
     ]
    }
   ],
   "source": [
    "check_unique(MWA1s['halo_nh2'])"
   ]
  },
  {
   "cell_type": "code",
   "execution_count": null,
   "metadata": {},
   "outputs": [
    {
     "name": "stdout",
     "output_type": "stream",
     "text": [
      "1257 0.382021943751821\n",
      "1420 0.29854657496399606\n",
      "1600 0.42226189481724047\n",
      "524 0.2401499357962959\n",
      "6516 0.37441501206508204\n",
      "24311 0.3027024723453145\n",
      "1368 0.45943404272579136\n",
      "3255 0.41981918351392844\n",
      "5656 0.3212715822750079\n",
      "5704 9.430108710794845e-05\n",
      "10658 0.009834853954282017\n",
      "10658 0.3608962739007988\n",
      "5853 0.4900043631427963\n",
      "4183 0.2171651559963261\n",
      "20851 0.42402978828944654\n",
      "20679 0.32387216137928515\n",
      "22326 0.26466997821164756\n",
      "24841 0.22461178403252924\n",
      "24944 0.3646436448325231\n",
      "627 0.4143493152676669\n",
      "20848 0.29055503148812584\n",
      "5706 0.4233054005554245\n",
      "13766 0.36503465119690026\n",
      "3310 0.12679089522749565\n",
      "9307 0.4640033639792423\n",
      "5752 0.34570212995304345\n",
      "4396 0.4213679122163646\n",
      "1280 0.3061650539772051\n",
      "1302 0.4143570614890481\n",
      "10950 0.08334489265918292\n",
      "28028 0.40854180243744276\n",
      "5680 0.244185726102587\n",
      "13752 0.31246870789324327\n",
      "1420 0.0003521068658652108\n",
      "4234 0.3435790550770261\n",
      "545 0.18782550270613718\n",
      "477 0.2294979343726274\n",
      "25351 0.3048421860787589\n",
      "1420 0.00040833215016524506\n",
      "3559 0.35949405661757644\n",
      "8383 0.34637560733452966\n",
      "23350 0.3394126561210017\n",
      "27007 0.3046891820238204\n",
      "10530 0.39586711723003765\n",
      "553 0.3681739177657655\n",
      "1941 0.05155954152737382\n",
      "3663 0.34434888083208665\n",
      "27620 0.3045029007463251\n",
      "473 0.042588449860196186\n",
      "1420 0.00032424525181896815\n",
      "27219 5.277079775504161e-06\n",
      "471 0.49379212111256515\n",
      "8301 0.4001269584923114\n",
      "23644 0.366089933827752\n",
      "27452 0.39936756865101825\n",
      "13767 0.3081865351194228\n",
      "20350 0.32709477267128495\n",
      "565 0.3153538713664532\n",
      "26781 0.18537804915268302\n",
      "15553 0.2391685025236547\n",
      "1672 0.21153960112246267\n",
      "24441 2.485052795723224e-05\n",
      "8365 0.31595994565506497\n",
      "1334 0.31044912351840803\n",
      "1581 0.3150223900451297\n",
      "26075 0.155854285606049\n",
      "22192 0.091982895947138\n",
      "25457 0.22352920681256414\n",
      "8372 0.5223888656366344\n",
      "14100 0.2683073610148018\n",
      "27532 0.22720984008964087\n",
      "27219 0.016882034030679383\n",
      "27613 0.3494323356102835\n",
      "4400 0.18403724214928302\n",
      "4307 0.28682873749271226\n",
      "27653 0.258803014447762\n",
      "11365 0.22796783877649598\n",
      "25262 0.2646439797458929\n",
      "16439 0.3605129492696647\n",
      "28079 0.27251688564793564\n",
      "1778 0.0029420215160572715\n",
      "588 0.2658327333606127\n",
      "21333 0.39569338224167566\n",
      "20443 0.40502370681092964\n",
      "28034 0.0671528844471475\n",
      "567 0.3698460927077926\n",
      "27626 0.38643471106986316\n",
      "26339 0.3028159486287372\n",
      "27557 0.12638695018907775\n",
      "14050 0.3056813707365685\n",
      "24840 0.2326309527782416\n",
      "15370 0.0007790098884191256\n",
      "10725 0.0017684043050746685\n",
      "25277 0.32890120596320693\n",
      "6026 0.4957735654076424\n",
      "22396 0.1868064505784087\n",
      "1578 0.4229828419695724\n",
      "2373 1.6479725901325162e-07\n",
      "3180 0.00038641877222678764\n",
      "13695 0.0058037135799836916\n",
      "1703 0.0007759422799268458\n",
      "1703 3.418209994176054e-08\n",
      "22445 0.0067441222028837115\n",
      "22631 0.2078385929626978\n",
      "24693 0.052415055496804794\n",
      "24311 0.010225060868531973\n",
      "27661 0.07403018224217281\n",
      "5706 0.002324017511011362\n",
      "8383 0.0015814710533655287\n"
     ]
    }
   ],
   "source": [
    "for a,b in zip(MWA1s['halo_nh2'], MWA1s['matchrate']):\n",
    "    print(a,b)"
   ]
  },
  {
   "cell_type": "code",
   "execution_count": null,
   "metadata": {},
   "outputs": [
    {
     "data": {
      "text/plain": [
       "array([   2,    1,   12,   13,    5,   45,   14,   11,    3,   10,   20,\n",
       "         20,    7,   23,   16,    4,   31,   35,  104,   19,   68,   18,\n",
       "         25,   32,  123,   37,   73,   26,   52,   33,   47,  686,  177,\n",
       "          1,   39,   28,  190,   54,    1,   17,  131,   59,   36,   64,\n",
       "         34,  227,   79,  130,  150,    1,  947,   88,  101,   86,   87,\n",
       "         75,   56,  125,   49,  105,  134,  121,  163,   90,  186,  132,\n",
       "         82,  127,  143,   89,  152,  947,  162,  114,  181,   97,   96,\n",
       "        120,  156,    9,  230,  153,  324,  141,  106,  144,  222,  103,\n",
       "        189,  221,  268,  331,   85,  241,  179,  277,  251,    0,   66,\n",
       "        191,  600,  600,  851,   38, 1142,   45,  187,   18,  131],\n",
       "      dtype=int32)"
      ]
     },
     "execution_count": 65,
     "metadata": {},
     "output_type": "execute_result"
    }
   ],
   "source": [
    "unique, counts = np.unique(MWA1s['galaxy_nh2'])"
   ]
  },
  {
   "cell_type": "code",
   "execution_count": null,
   "metadata": {},
   "outputs": [
    {
     "data": {
      "text/plain": [
       "array([  2,   1,  12,  13,   5,  45,  14,  11,   3,  10,  20,  20,   7,\n",
       "        23,  16,   4,  31,  35, 104,  19,  68,  18,  25,  32, 123,  37,\n",
       "        73,  26,  52,  33,  47, 686, 177,   1,  39,  28, 190,  54,   1,\n",
       "        17, 131,  59,  36,  64,  34, 227,  79, 130, 150,   1,  20,  88,\n",
       "       101,  86,  87,  75,  56, 125,  49, 105, 134, 121, 163,  90, 186,\n",
       "       132,   1,  54, 143,  89, 152,  20, 162, 114, 181,  97,  96, 120,\n",
       "       156,   9, 230, 153, 324, 141, 106, 144, 222, 103, 189, 221,  10,\n",
       "       331,  85, 241, 179, 277, 251,   0,  66, 191, 600, 600,   1,  38,\n",
       "        45,  45, 187,  18, 131])"
      ]
     },
     "execution_count": 47,
     "metadata": {},
     "output_type": "execute_result"
    }
   ],
   "source": [
    "MWA1s['galaxy_nh2']"
   ]
  },
  {
   "cell_type": "code",
   "execution_count": null,
   "metadata": {},
   "outputs": [
    {
     "data": {
      "text/plain": [
       "array([3.78237613e+01, 1.40765766e-02, 1.40765766e-02, 4.22297297e-02,\n",
       "       1.40765766e-02, 1.40765766e-02, 1.40765766e-02, 1.40765766e-02,\n",
       "       4.22297297e-02, 1.40765766e-02, 1.40765766e-02, 1.40765766e-02,\n",
       "       4.22297297e-02, 1.40765766e-02, 6.00506757e+01, 2.81531532e-02,\n",
       "       1.40765766e-02, 5.20833333e-01, 2.81531532e-02, 8.44594595e-02,\n",
       "       2.81531532e-02, 1.40765766e-02])"
      ]
     },
     "execution_count": 54,
     "metadata": {},
     "output_type": "execute_result"
    }
   ],
   "source": [
    "matchrate*100"
   ]
  },
  {
   "cell_type": "code",
   "execution_count": null,
   "metadata": {},
   "outputs": [
    {
     "data": {
      "text/plain": [
       "(array([ 1417, 22211, 22255, 22150, 22175, 22217], dtype=int32),\n",
       " array([0.91104946, 0.53456221, 0.62575423, 0.88772846, 0.7390328 ,\n",
       "        0.82696994]))"
      ]
     },
     "execution_count": 55,
     "metadata": {},
     "output_type": "execute_result"
    }
   ],
   "source": [
    "samples['halo_id'], samples['matchrate']"
   ]
  },
  {
   "cell_type": "code",
   "execution_count": null,
   "metadata": {},
   "outputs": [
    {
     "data": {
      "text/plain": [
       "(array([ 1417, 22211, 22255, 22150], dtype=int32),\n",
       " array([0.29854657, 0.00035211, 0.00040833, 0.00032425]))"
      ]
     },
     "execution_count": 64,
     "metadata": {},
     "output_type": "execute_result"
    }
   ],
   "source": [
    "samples['halo_id'], samples['matchrate']"
   ]
  },
  {
   "cell_type": "markdown",
   "metadata": {},
   "source": [
    "# Virial Properties"
   ]
  },
  {
   "cell_type": "code",
   "execution_count": null,
   "metadata": {},
   "outputs": [
    {
     "name": "stderr",
     "output_type": "stream",
     "text": [
      "  0%|          | 0/29 [00:00<?, ?it/s]"
     ]
    },
    {
     "name": "stdout",
     "output_type": "stream",
     "text": [
      "Reading 145 part files (797.2 MiB) in /storage6/NewHorizon/snapshots/output_01026... \n",
      "Done (3.794s).\n",
      "Masking particles... 9236539 / 10448348 (0.8840)\n",
      "Done (0.407s).\n",
      "Reading 145 AMR & hydro files (2.206 GiB) in /storage6/NewHorizon/snapshots/output_01026... \n",
      "Done (4.547s).\n",
      "Masking cells... 8749746 / 15410895 (0.5678)\n",
      "Done (0.343s).\n",
      "Computing particle map of 7810136 particles... \n",
      "Done (0.616s).\n",
      "MinLvl = 13, MaxLvl = 19, Initial Image Size:  [2432 2432]\n",
      "Drawing gas map... \n"
     ]
    },
    {
     "name": "stderr",
     "output_type": "stream",
     "text": [
      "/home/jeon/rur/rur/painter.py:277: FutureWarning: `multichannel` is a deprecated argument name for `rescale`. It will be removed in version 1.0. Please use `channel_axis` instead.\n",
      "  image = rescale(image, 2, mode='constant', order=interp_order, multichannel=False)\n",
      "/home/jeon/rur/rur/painter.py:278: FutureWarning: `multichannel` is a deprecated argument name for `rescale`. It will be removed in version 1.0. Please use `channel_axis` instead.\n",
      "  depth_map = rescale(depth_map, 2, mode='constant', order=interp_order, multichannel=False)\n"
     ]
    },
    {
     "name": "stdout",
     "output_type": "stream",
     "text": [
      "Done (3.580s).\n",
      "Computing particle map of 1196522 particles... \n",
      "Done (0.080s).\n"
     ]
    },
    {
     "name": "stderr",
     "output_type": "stream",
     "text": [
      "/tmp/ipykernel_18192/291344613.py:56: RuntimeWarning: divide by zero encountered in log10\n",
      "  dmmap = gaussian_filter(np.log10(dmmap1), 1.5)\n"
     ]
    },
    {
     "name": "stdout",
     "output_type": "stream",
     "text": [
      "[clear] Clearing memory\n",
      "\tUnlink `psm_f1c30887`\n",
      "\tUnlink `psm_d82fd330`\n",
      "Reading 10 part files (1.080 GiB) in /storage7/NH2/snapshots/output_00811... \n",
      "Done (1.846s).\n",
      "Masking particles... 3976083 / 6661507 (0.5969)\n",
      "Done (0.188s).\n",
      "Reading 10 AMR & hydro files (2.063 GiB) in /storage7/NH2/snapshots/output_00811... \n",
      "Done (4.481s).\n",
      "Masking cells... 3384582 / 11747748 (0.2881)\n",
      "Done (0.141s).\n",
      "Computing particle map of 2468200 particles... \n",
      "Done (0.253s).\n",
      "MinLvl = 13, MaxLvl = 19, Initial Image Size:  [2368 2368]\n",
      "Drawing gas map... \n",
      "Done (2.025s).\n",
      "Computing particle map of 1138010 particles... \n",
      "Done (0.072s).\n"
     ]
    },
    {
     "name": "stderr",
     "output_type": "stream",
     "text": [
      "/tmp/ipykernel_18192/291344613.py:179: RuntimeWarning: divide by zero encountered in log10\n",
      "  dmmap = gaussian_filter(np.log10(dmmap1), 1.5)\n",
      "  0%|          | 0/29 [00:55<?, ?it/s]"
     ]
    },
    {
     "name": "stdout",
     "output_type": "stream",
     "text": [
      "[clear] Clearing memory\n",
      "\tUnlink `psm_fffc60b5`\n",
      "\tUnlink `psm_06668a0e`\n"
     ]
    },
    {
     "name": "stderr",
     "output_type": "stream",
     "text": [
      "\n"
     ]
    },
    {
     "ename": "ValueError",
     "evalue": "stop!",
     "output_type": "error",
     "traceback": [
      "\u001b[0;31m---------------------------------------------------------------------------\u001b[0m",
      "\u001b[0;31mValueError\u001b[0m                                Traceback (most recent call last)",
      "\u001b[1;32m/home/jeon/MissingSat/routine01.ipynb Cell 15\u001b[0m in \u001b[0;36m<cell line: 2>\u001b[0;34m()\u001b[0m\n\u001b[1;32m    <a href='vscode-notebook-cell://ssh-remote%2B7b22686f73744e616d65223a22474336227d/home/jeon/MissingSat/routine01.ipynb#Y113sdnNjb2RlLXJlbW90ZQ%3D%3D?line=240'>241</a>\u001b[0m plt\u001b[39m.\u001b[39mclose()\n\u001b[1;32m    <a href='vscode-notebook-cell://ssh-remote%2B7b22686f73744e616d65223a22474336227d/home/jeon/MissingSat/routine01.ipynb#Y113sdnNjb2RlLXJlbW90ZQ%3D%3D?line=241'>242</a>\u001b[0m snap2\u001b[39m.\u001b[39mclear()\n\u001b[0;32m--> <a href='vscode-notebook-cell://ssh-remote%2B7b22686f73744e616d65223a22474336227d/home/jeon/MissingSat/routine01.ipynb#Y113sdnNjb2RlLXJlbW90ZQ%3D%3D?line=243'>244</a>\u001b[0m stop()\n",
      "File \u001b[0;32m~/ICLwork/icl_tool.py:28\u001b[0m, in \u001b[0;36mstop\u001b[0;34m()\u001b[0m\n\u001b[0;32m---> 28\u001b[0m \u001b[39mdef\u001b[39;00m \u001b[39mstop\u001b[39m(): \u001b[39mraise\u001b[39;00m \u001b[39mValueError\u001b[39;00m(\u001b[39m\"\u001b[39m\u001b[39mstop!\u001b[39m\u001b[39m\"\u001b[39m)\n",
      "\u001b[0;31mValueError\u001b[0m: stop!"
     ]
    }
   ],
   "source": [
    "count = 0\n",
    "for MWA1, MWA2 in tqdm(zip(MWA1s, MWA2s), total=len(MWA1s)):\n",
    "    count+=1\n",
    "    ######################################################################\n",
    "    #       NH I\n",
    "    ######################################################################\n",
    "    # Calculate Virial\n",
    "    hal1 = hal1s[MWA1['halo']-1]\n",
    "    r200_code = 1\n",
    "    factor = 0.7\n",
    "    while(r200_code > hal1['rvir']*factor):\n",
    "        factor += 0.4\n",
    "        snap1.set_box_halo(hal1, radius=factor, radius_name='rvir')\n",
    "        snap1.get_part(nthread=24, target_fields=['x','y','z','m','id','epoch'])\n",
    "        snap1.get_cell(nthread=24, target_fields=['x','y','z','rho','level','cpu'])\n",
    "\n",
    "        r200, m200, r200_code = calc_virial(MWA1['x'], MWA1['y'], MWA1['z'], snap1.part['star'], snap1.part['dm'], snap1.cell)\n",
    "    MWA1['r200'] = r200\n",
    "    MWA1['m200'] = m200\n",
    "    MWA1['r200_code'] = r200_code\n",
    "\n",
    "    # Calculate other properties\n",
    "    star = snap1.part['star']\n",
    "    gal_mem_ids = uhmi.HaloMaker.read_member_part(snap1, MWA1['id'], galaxy=True, simple=True)\n",
    "    isin = large_isin(np.abs(star['id']), gal_mem_ids)\n",
    "    gal_mem = star[isin]\n",
    "    young_ind = np.where(gal_mem['age', 'Gyr'] < 0.1)[0]\n",
    "    SFR = np.sum(gal_mem['m', 'Msol'][young_ind]) / 1e8 # Msol / yr\n",
    "    MWA1['sfr'] = SFR\n",
    "\n",
    "    instar = cut_sphere(star, MWA1['x'], MWA1['y'], MWA1['z'], r200_code)\n",
    "    young_ind = np.where(instar['age', 'Gyr'] < 0.1)[0]\n",
    "    SFR_tot = np.sum(instar['m', 'Msol'][young_ind]) / 1e8 # Msol / yr\n",
    "    MWA1['sfr_tot'] = SFR_tot\n",
    "    MWA1['m_star_200'] = np.sum(instar['m', 'Msol'])\n",
    "\n",
    "    ingas = cut_sphere(snap1.cell, MWA1['x'], MWA1['y'], MWA1['z'], r200_code)\n",
    "    MWA1['m_gas_200'] = np.sum(ingas['m', 'Msol']) # Msol\n",
    "\n",
    "    indm = cut_sphere(snap1.part['dm'], MWA1['x'], MWA1['y'], MWA1['z'], r200_code)\n",
    "    minmass = np.min(snap1.part['dm']['m'])\n",
    "    ind = indm['m'] > minmass*1.1\n",
    "    if(True in ind):\n",
    "        fcontam = np.sum(indm['m'][ind]) / np.sum(indm['m'])\n",
    "    else:\n",
    "        fcontam = 0\n",
    "    MWA1['fcontam'] = fcontam\n",
    "\n",
    "\n",
    "    # Drawing maps\n",
    "    dpi = 1440\n",
    "    starmap = painter.partmap(snap1.part['star'], box=snap1.box, shape=dpi, method='hist')\n",
    "    cellmap = painter.gasmap(snap1.cell, box=snap1.box, shape=dpi, minlvl=13, weights=snap1.cell['rho'])\n",
    "    dmmap1 = painter.partmap(snap1.part['dm'], box=snap1.box, shape=120, method='hist')\n",
    "    vmax = int(np.log10(np.nanmax(dmmap1)))\n",
    "    dmmap = gaussian_filter(np.log10(dmmap1), 1.5)\n",
    "\n",
    "    # Preparation\n",
    "    fig, ax = plt.subplots(1, 1, figsize=(8, 6), dpi=300)\n",
    "    ax.set_facecolor('k')\n",
    "    ax.axis('equal')\n",
    "    ax.xaxis.set_visible(False)\n",
    "    ax.yaxis.set_visible(False)\n",
    "\n",
    "\n",
    "    # Background map\n",
    "    vmin = vmax - 5\n",
    "\n",
    "    smap = plt.cm.afmhot\n",
    "    gmap = drawer.make_cmap([[0,0,0], [2/255,2/255,25/255], [25/255, 25/255, 112/255], [25/255, 191/255, 255/255], [255/255, 255/255, 255/255]], position=[0, 0.25, 0.5,0.8,1])\n",
    "    combine = painter.composite_image([cellmap, starmap], [gmap, smap], mode='screen', qscales=[4.5, 3.7])\n",
    "    ax.imshow(combine, origin='lower', extent=[snap1.box[0,0], snap1.box[0,1], snap1.box[1,0], snap1.box[1,1]])\n",
    "    ax.contour(\n",
    "        dmmap, levels=np.linspace(vmin,vmax,25), colors='grey', alpha=0.7, origin='lower', \n",
    "        extent=[snap1.box[0,0], snap1.box[0,1], snap1.box[1,0], snap1.box[1,1]], linewidths=0.25\n",
    "        )\n",
    "\n",
    "\n",
    "    # Circles\n",
    "    cir_gal = plt.Circle((MWA1['x'], MWA1['y']), MWA1['r'], color='yellow', fill=False, lw=0.3)\n",
    "    ax.add_patch(cir_gal)\n",
    "    ax.text(MWA1['x'], MWA1['y']+MWA1['r'], \"$R_{star, max}$\", ha='center', va='bottom', color='yellow', fontsize=10)\n",
    "    ax.text(MWA1['x'], MWA1['y']-MWA1['r'], f\"{MWA1['r']/snap1.unit['kpc']:.1f} kpc\", ha='center', va='top', color='yellow', fontsize=10)\n",
    "\n",
    "    cir_hal1 = plt.Circle((hal1['x'], hal1['y']), hal1['rvir'], color='magenta', fill=False, lw=0.3)\n",
    "    ax.add_patch(cir_hal1)\n",
    "    ax.text(hal1['x'], hal1['y']+hal1['rvir'], \"$R_{vir, HM}$\", ha='center', va='bottom', color='magenta', fontsize=10)\n",
    "    ax.text(hal1['x'], hal1['y']-hal1['rvir'], f\"{hal1['rvir']/snap1.unit['kpc']:.1f} kpc\", ha='center', va='top', color='magenta', fontsize=10)\n",
    "\n",
    "    cir_vir = plt.Circle((MWA1['x'], MWA1['y']), r200_code, color='w', fill=False, lw=0.3)\n",
    "    ax.add_patch(cir_vir)\n",
    "    ax.text(MWA1['x'], MWA1['y']+r200_code, \"$R_{200}$\", ha='center', va='bottom', color='w', fontsize=10)\n",
    "    ax.text(MWA1['x'], MWA1['y']-r200_code, f\"{r200:.1f} kpc\", ha='center', va='top', color='w', fontsize=10)\n",
    "\n",
    "\n",
    "    # Infomation\n",
    "    ax.text(0.05, 0.97, f\"NewHorizon (z={1/snap1.aexp-1:.2f})\", ha='left', va='top', color='w', fontsize=13, transform=ax.transAxes)\n",
    "\n",
    "    ax.text(0.05, 0.39+0.04, f\"Galaxy:\", ha='left', va='top', color='w', fontsize=11, transform=ax.transAxes)\n",
    "    ax.text(0.05, 0.34+0.04, f\"$\\mathtt{{\\ >\\ ID: {MWA1['id']} }}$\", ha='left', va='top', color='w', fontsize=9, transform=ax.transAxes)\n",
    "    a = MWA1['m'] / 10**int(np.log10(MWA1['m']))\n",
    "    b = int(np.log10(MWA1['m']))\n",
    "    ax.text(0.05, 0.30+0.04, fr\"$\\mathtt{{\\ >\\ M_{{*}}: {a:.2f}\\times 10^{{{b}}}\\ M_{{\\odot}} }}$\", ha='left', va='top', color='w', fontsize=9, transform=ax.transAxes)\n",
    "    ax.text(0.05, 0.26+0.04, fr\"$\\mathtt{{\\ >\\ SFR: {SFR:.2f}\\ M_{{\\odot}}\\ yr^{{-1}} }}$\", ha='left', va='top', color='w', fontsize=9, transform=ax.transAxes)\n",
    "    \n",
    "    ax.text(0.05, 0.18+0.04, f\"Halo:\", ha='left', va='top', color='w', fontsize=11, transform=ax.transAxes)\n",
    "    ax.text(0.05, 0.13+0.04, f\"$\\mathtt{{\\ >\\ ID: {hal1['id']} }}$\", ha='left', va='top', color='w', fontsize=9, transform=ax.transAxes)\n",
    "    a = m200 / 10**int(np.log10(m200))\n",
    "    b = int(np.log10(m200))\n",
    "    ax.text(0.05, 0.09+0.04, fr\"$\\mathtt{{\\ >\\ M_{{200}}: {a:.2f}\\times 10^{{{b}}}\\ M_{{\\odot}} }}$\", ha='left', va='top', color='w', fontsize=9, transform=ax.transAxes)\n",
    "    ax.text(0.05, 0.05+0.04, fr\"$\\mathtt{{\\ >\\ SFR_{{tot}}: {SFR_tot:.2f}\\ M_{{\\odot}}\\ yr^{{-1}} }}$\", ha='left', va='top', color='w', fontsize=9, transform=ax.transAxes)\n",
    "    ax.text(0.05, 0.05     , fr\"$\\mathtt{{\\ >\\ f_{{cont}}: {fcontam*100:.1f}\\ \\% }}$\", ha='left', va='top', color='w', fontsize=9, transform=ax.transAxes)\n",
    "\n",
    "    add_scalebar(ax, snap1.unit_l)\n",
    "\n",
    "    # stop()\n",
    "    plt.savefig(f\"./database/{count:02d}NH1_MWA_{MWA1['id']:05d}.png\", dpi=400, bbox_inches='tight', pad_inches=0.1, facecolor='none')\n",
    "    plt.close()\n",
    "    snap1.clear()\n",
    "\n",
    "\n",
    "\n",
    "\n",
    "\n",
    "\n",
    "\n",
    "    ######################################################################\n",
    "    #       NH II\n",
    "    ######################################################################\n",
    "    # Calculate Virial\n",
    "    hal2 = hal2s[MWA2['halo']-1]\n",
    "    r200_code = 1\n",
    "    factor = 0.7\n",
    "    while(r200_code > hal2['rvir']*factor):\n",
    "        factor += 0.4\n",
    "        snap2.set_box_halo(hal2, radius=factor, radius_name='rvir')\n",
    "        snap2.get_part(nthread=24, target_fields=['x','y','z','m','id','epoch','family'])\n",
    "        snap2.get_cell(nthread=24, target_fields=['x','y','z','rho','level','cpu'])\n",
    "\n",
    "        r200, m200, r200_code = calc_virial(MWA2['x'], MWA2['y'], MWA2['z'], snap2.part['star'], snap2.part['dm'], snap2.cell)\n",
    "    MWA2['r200'] = r200\n",
    "    MWA2['m200'] = m200\n",
    "    MWA2['r200_code'] = r200_code\n",
    "\n",
    "    # Calculate other properties\n",
    "    star = snap2.part['star']\n",
    "    gal_mem_ids = uhmi.HaloMaker.read_member_part(snap2, MWA2['id'], galaxy=True, simple=True)\n",
    "    isin = large_isin(np.abs(star['id']), gal_mem_ids)\n",
    "    gal_mem = star[isin]\n",
    "    young_ind = np.where(gal_mem['age', 'Gyr'] < 0.1)[0]\n",
    "    SFR = np.sum(gal_mem['m', 'Msol'][young_ind]) / 1e8 # Msol / yr\n",
    "    MWA2['sfr'] = SFR\n",
    "\n",
    "    instar = cut_sphere(star, MWA2['x'], MWA2['y'], MWA2['z'], r200_code)\n",
    "    young_ind = np.where(instar['age', 'Gyr'] < 0.1)[0]\n",
    "    SFR_tot = np.sum(instar['m', 'Msol'][young_ind]) / 1e8 # Msol / yr\n",
    "    MWA2['sfr_tot'] = SFR_tot\n",
    "    MWA2['m_star_200'] = np.sum(instar['m', 'Msol'])\n",
    "\n",
    "    ingas = cut_sphere(snap2.cell, MWA2['x'], MWA2['y'], MWA2['z'], r200_code)\n",
    "    MWA2['m_gas_200'] = np.sum(ingas['m', 'Msol']) # Msol\n",
    "\n",
    "    indm = cut_sphere(snap2.part['dm'], MWA2['x'], MWA2['y'], MWA2['z'], r200_code)\n",
    "    minmass = np.min(snap2.part['dm']['m'])\n",
    "    ind = indm['m'] > minmass*1.1\n",
    "    if(True in ind):\n",
    "        fcontam = np.sum(indm['m'][ind]) / np.sum(indm['m'])\n",
    "    else:\n",
    "        fcontam = 0\n",
    "    MWA2['fcontam'] = fcontam\n",
    "\n",
    "\n",
    "    # Drawing maps\n",
    "    dpi = 1440\n",
    "    starmap = painter.partmap(snap2.part['star'], box=snap2.box, shape=dpi, method='hist')\n",
    "    cellmap = painter.gasmap(snap2.cell, box=snap2.box, shape=dpi, minlvl=13, weights=snap2.cell['rho'])\n",
    "    dmmap1 = painter.partmap(snap2.part['dm'], box=snap2.box, shape=120, method='hist')\n",
    "    vmax = int(np.log10(np.nanmax(dmmap1)))\n",
    "    dmmap = gaussian_filter(np.log10(dmmap1), 1.5)\n",
    "\n",
    "    # Preparation\n",
    "    fig, ax = plt.subplots(1, 1, figsize=(8, 6), dpi=300)\n",
    "    ax.set_facecolor('k')\n",
    "    ax.axis('equal')\n",
    "    ax.xaxis.set_visible(False)\n",
    "    ax.yaxis.set_visible(False)\n",
    "\n",
    "\n",
    "    # Background map\n",
    "    vmin = vmax - 5\n",
    "\n",
    "    smap = plt.cm.afmhot\n",
    "    gmap = drawer.make_cmap([[0,0,0], [2/255,2/255,25/255], [25/255, 25/255, 112/255], [25/255, 191/255, 255/255], [255/255, 255/255, 255/255]], position=[0, 0.25, 0.5,0.8,1])\n",
    "    combine = painter.composite_image([cellmap, starmap], [gmap, smap], mode='screen', qscales=[4.5, 2.3])\n",
    "    ax.imshow(combine, origin='lower', extent=[snap2.box[0,0], snap2.box[0,1], snap2.box[1,0], snap2.box[1,1]])\n",
    "    ax.contour(\n",
    "        dmmap, levels=np.linspace(vmin,vmax,25), colors='grey', alpha=0.7, origin='lower', \n",
    "        extent=[snap2.box[0,0], snap2.box[0,1], snap2.box[1,0], snap2.box[1,1]], linewidths=0.25\n",
    "        )\n",
    "\n",
    "\n",
    "    # Circles\n",
    "    cir_gal = plt.Circle((MWA2['x'], MWA2['y']), MWA2['r'], color='yellow', fill=False, lw=0.3)\n",
    "    ax.add_patch(cir_gal)\n",
    "    ax.text(MWA2['x'], MWA2['y']+MWA2['r'], \"$R_{star, max}$\", ha='center', va='bottom', color='yellow', fontsize=10)\n",
    "    ax.text(MWA2['x'], MWA2['y']-MWA2['r'], f\"{MWA2['r']/snap2.unit['kpc']:.1f} kpc\", ha='center', va='top', color='yellow', fontsize=10)\n",
    "\n",
    "    cir_hal2 = plt.Circle((hal2['x'], hal2['y']), hal2['rvir'], color='magenta', fill=False, lw=0.3)\n",
    "    ax.add_patch(cir_hal2)\n",
    "    ax.text(hal2['x'], hal2['y']+hal2['rvir'], \"$R_{vir, HM}$\", ha='center', va='bottom', color='magenta', fontsize=10)\n",
    "    ax.text(hal2['x'], hal2['y']-hal2['rvir'], f\"{hal2['rvir']/snap2.unit['kpc']:.1f} kpc\", ha='center', va='top', color='magenta', fontsize=10)\n",
    "\n",
    "    cir_vir = plt.Circle((MWA2['x'], MWA2['y']), r200_code, color='w', fill=False, lw=0.3)\n",
    "    ax.add_patch(cir_vir)\n",
    "    ax.text(MWA2['x'], MWA2['y']+r200_code, \"$R_{200}$\", ha='center', va='bottom', color='w', fontsize=10)\n",
    "    ax.text(MWA2['x'], MWA2['y']-r200_code, f\"{r200:.1f} kpc\", ha='center', va='top', color='w', fontsize=10)\n",
    "\n",
    "\n",
    "    # Infomation\n",
    "    ax.text(0.05, 0.97, f\"NH2 (z={1/snap2.aexp-1:.2f})\", ha='left', va='top', color='w', fontsize=13, transform=ax.transAxes)\n",
    "\n",
    "    ax.text(0.05, 0.39+0.04, f\"Galaxy:\", ha='left', va='top', color='w', fontsize=11, transform=ax.transAxes)\n",
    "    ax.text(0.05, 0.34+0.04, f\"$\\mathtt{{\\ >\\ ID: {MWA2['id']} }}$\", ha='left', va='top', color='w', fontsize=9, transform=ax.transAxes)\n",
    "    a = MWA2['m'] / 10**int(np.log10(MWA2['m']))\n",
    "    b = int(np.log10(MWA2['m']))\n",
    "    ax.text(0.05, 0.30+0.04, fr\"$\\mathtt{{\\ >\\ M_{{*}}: {a:.2f}\\times 10^{{{b}}}\\ M_{{\\odot}} }}$\", ha='left', va='top', color='w', fontsize=9, transform=ax.transAxes)\n",
    "    ax.text(0.05, 0.26+0.04, fr\"$\\mathtt{{\\ >\\ SFR: {SFR:.2f}\\ M_{{\\odot}}\\ yr^{{-1}} }}$\", ha='left', va='top', color='w', fontsize=9, transform=ax.transAxes)\n",
    "    \n",
    "    ax.text(0.05, 0.18+0.04, f\"Halo:\", ha='left', va='top', color='w', fontsize=11, transform=ax.transAxes)\n",
    "    ax.text(0.05, 0.13+0.04, f\"$\\mathtt{{\\ >\\ ID: {hal2['id']} }}$\", ha='left', va='top', color='w', fontsize=9, transform=ax.transAxes)\n",
    "    a = m200 / 10**int(np.log10(m200))\n",
    "    b = int(np.log10(m200))\n",
    "    ax.text(0.05, 0.09+0.04, fr\"$\\mathtt{{\\ >\\ M_{{200}}: {a:.2f}\\times 10^{{{b}}}\\ M_{{\\odot}} }}$\", ha='left', va='top', color='w', fontsize=9, transform=ax.transAxes)\n",
    "    ax.text(0.05, 0.05+0.04, fr\"$\\mathtt{{\\ >\\ SFR_{{tot}}: {SFR_tot:.2f}\\ M_{{\\odot}}\\ yr^{{-1}} }}$\", ha='left', va='top', color='w', fontsize=9, transform=ax.transAxes)\n",
    "    ax.text(0.05, 0.05     , fr\"$\\mathtt{{\\ >\\ f_{{cont}}: {fcontam*100:.1f}\\ \\% }}$\", ha='left', va='top', color='w', fontsize=9, transform=ax.transAxes)\n",
    "\n",
    "    add_scalebar(ax, snap2.unit_l)\n",
    "\n",
    "    # stop()\n",
    "    plt.savefig(f\"./database/{count:02d}NH2_MWA_{MWA2['id']:05d}.png\", dpi=400, bbox_inches='tight', pad_inches=0.1, facecolor='none')\n",
    "    plt.close()\n",
    "    snap2.clear()\n",
    "\n",
    "    stop()\n",
    "pklsave(MWA1s, f\"./database/nh_MWAs.pickle\", overwrite=True)\n",
    "snap1.clear()\n",
    "pklsave(MWA2s, f\"./database/nh2_MWAs.pickle\", overwrite=True)\n",
    "snap1.clear()\n",
    "\n"
   ]
  },
  {
   "cell_type": "markdown",
   "metadata": {},
   "source": [
    "---"
   ]
  }
 ],
 "metadata": {
  "kernelspec": {
   "display_name": "jeonpy",
   "language": "python",
   "name": "python3"
  },
  "language_info": {
   "codemirror_mode": {
    "name": "ipython",
    "version": 3
   },
   "file_extension": ".py",
   "mimetype": "text/x-python",
   "name": "python",
   "nbconvert_exporter": "python",
   "pygments_lexer": "ipython3",
   "version": "3.10.4"
  },
  "orig_nbformat": 4
 },
 "nbformat": 4,
 "nbformat_minor": 2
}
