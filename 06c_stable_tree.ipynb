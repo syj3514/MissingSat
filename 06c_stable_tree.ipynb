{
 "cells": [
  {
   "cell_type": "code",
   "execution_count": 1,
   "metadata": {},
   "outputs": [],
   "source": [
    "from IPython import get_ipython\n",
    "\n",
    "\n",
    "def type_of_script():\n",
    "    \"\"\"\n",
    "    Detects and returns the type of python kernel\n",
    "    :return: string 'jupyter' or 'ipython' or 'terminal'\n",
    "    \"\"\"\n",
    "    try:\n",
    "        ipy_str = str(type(get_ipython()))\n",
    "        if 'zmqshell' in ipy_str:\n",
    "            return 'jupyter'\n",
    "        if 'terminal' in ipy_str:\n",
    "            return 'ipython'\n",
    "    except:\n",
    "        return 'terminal'\n",
    "\n",
    "\n",
    "if type_of_script() == 'jupyter':\n",
    "    from tqdm.notebook import tqdm\n",
    "else:\n",
    "    from tqdm import tqdm\n",
    "    \n",
    "import matplotlib.pyplot as plt # type: module\n",
    "import matplotlib.ticker as ticker\n",
    "from matplotlib import colormaps\n",
    "from matplotlib.colors import Normalize\n",
    "import matplotlib.gridspec as gridspec\n",
    "import cmasher as cmr\n",
    "\n",
    "import numpy as np\n",
    "import os, glob, atexit, signal\n",
    "import time\n",
    "import warnings\n",
    "\n",
    "from rur.fortranfile import FortranFile\n",
    "from rur import uri, uhmi, painter, drawer\n",
    "from rur.sci.photometry import measure_luminosity\n",
    "from rur.sci.geometry import get_angles, euler_angle\n",
    "from rur.utool import rotate_data\n",
    "from scipy.ndimage import gaussian_filter\n",
    "uri.timer.verbose=0\n",
    "# from rur.sci.kinematics import f_getpot\n",
    "\n",
    "from icl_IO import mode2repo, pklsave, pklload\n",
    "from icl_tool import *\n",
    "from icl_numba import large_isin, large_isind, isin\n",
    "from icl_draw import drawsnap, add_scalebar, addtext, MakeSub_nolabel, label_to_in, fancy_axis, circle, ax_change_color\n",
    "from importlib import reload\n",
    "from copy import deepcopy\n",
    "from multiprocessing import Pool, shared_memory, Value\n",
    "from common_func import *"
   ]
  },
  {
   "cell_type": "code",
   "execution_count": 2,
   "metadata": {},
   "outputs": [
    {
     "name": "stdout",
     "output_type": "stream",
     "text": [
      "1336 (array(['dink', 'pair', 'upair'], dtype='<U7'), array([1145,  130,   61]))\n"
     ]
    }
   ],
   "source": [
    "mode1 = 'nh'\n",
    "database1 = f\"/home/jeon/MissingSat/database/{mode1}\"\n",
    "iout1 = 1026\n",
    "repo1, rurmode1, dp1 = mode2repo(mode1)\n",
    "snap1 = uri.RamsesSnapshot(repo1, iout1, mode=rurmode1)\n",
    "snap1s = uri.TimeSeries(snap1)\n",
    "snap1s.read_iout_avail()\n",
    "nout1 = snap1s.iout_avail['iout']; nout=nout1[nout1 <= iout1]\n",
    "gals1 = uhmi.HaloMaker.load(snap1, galaxy=True, double_precision=dp1)\n",
    "hals1 = uhmi.HaloMaker.load(snap1, galaxy=False, double_precision=dp1)\n",
    "\n",
    "LG1 = pklload(f\"{database1}/LocalGroup.pickle\")\n",
    "allsats1 = None; allsubs1 = None; states1 = None\n",
    "keys1 = list(LG1.keys())\n",
    "for key in keys1:\n",
    "    sats = LG1[key]['sats']; subs = LG1[key]['subs']; real = LG1[key]['real']\n",
    "    dink = real[real['state']=='dink']['hid']\n",
    "    ind = isin(subs['id'], dink)\n",
    "    subs['dink'][ind] = True; subs['dink'][~ind] = False\n",
    "    state = np.zeros(len(subs), dtype='<U7')\n",
    "    state[ind] = 'dink'; state[~ind] = 'pair'\n",
    "    \n",
    "    upair = real[real['state']=='upair']['hid']\n",
    "    ind = isin(subs['id'], upair)\n",
    "    state[ind] = 'upair'\n",
    "\n",
    "    allsats1 = sats if allsats1 is None else np.hstack((allsats1, sats))\n",
    "    allsubs1 = subs if allsubs1 is None else np.hstack((allsubs1, subs))\n",
    "    states1 = state if states1 is None else np.hstack((states1, state))\n",
    "argsort = np.argsort(allsubs1['id'])\n",
    "allsubs1 = allsubs1[argsort]; states1 = states1[argsort]\n",
    "dinks1 = allsubs1[states1 == 'dink']\n",
    "pairs1 = allsubs1[states1 == 'pair']\n",
    "upairs1 = allsubs1[states1 == 'upair']\n",
    "\n",
    "print(len(allsubs1), np.unique(states1, return_counts=True))  "
   ]
  },
  {
   "cell_type": "code",
   "execution_count": 3,
   "metadata": {},
   "outputs": [
    {
     "name": "stdout",
     "output_type": "stream",
     "text": [
      "1242 (array(['dink', 'pair', 'upair'], dtype='<U7'), array([1120,   79,   43]))\n"
     ]
    }
   ],
   "source": [
    "mode2 = 'nh2'\n",
    "database2 = f\"/home/jeon/MissingSat/database/{mode2}\"\n",
    "iout2 = 797\n",
    "repo2, rurmode2, dp2 = mode2repo(mode2)\n",
    "snap2 = uri.RamsesSnapshot(repo2, iout2, mode=rurmode2)\n",
    "snap2s = uri.TimeSeries(snap2)\n",
    "snap2s.read_iout_avail()\n",
    "nout2 = snap2s.iout_avail['iout']; nout=nout2[nout2 <= iout2]\n",
    "gals2 = uhmi.HaloMaker.load(snap2, galaxy=True, double_precision=dp2)\n",
    "hals2 = uhmi.HaloMaker.load(snap2, galaxy=False, double_precision=dp2)\n",
    "\n",
    "LG2 = pklload(f\"{database2}/LocalGroup.pickle\")\n",
    "allsats2 = None; allsubs2 = None; states2 = None\n",
    "keys2 = list(LG2.keys())\n",
    "for key in keys2:\n",
    "    sats = LG2[key]['sats']; subs = LG2[key]['subs']; real = LG2[key]['real']\n",
    "    dink = real[real['state']=='dink']['hid']\n",
    "    ind = isin(subs['id'], dink)\n",
    "    subs['dink'][ind] = True; subs['dink'][~ind] = False\n",
    "    state = np.zeros(len(subs), dtype='<U7')\n",
    "    state[ind] = 'dink'; state[~ind] = 'pair'\n",
    "    \n",
    "    upair = real[real['state']=='upair']['hid']\n",
    "    ind = isin(subs['id'], upair)\n",
    "    state[ind] = 'upair'\n",
    "\n",
    "    allsats2 = sats if allsats2 is None else np.hstack((allsats2, sats))\n",
    "    allsubs2 = subs if allsubs2 is None else np.hstack((allsubs2, subs))\n",
    "    states2 = state if states2 is None else np.hstack((states2, state))\n",
    "argsort = np.argsort(allsubs2['id'])\n",
    "allsubs2 = allsubs2[argsort]; states2 = states2[argsort]\n",
    "dinks2 = allsubs2[states2 == 'dink']\n",
    "pairs2 = allsubs2[states2 == 'pair']\n",
    "upairs2 = allsubs2[states2 == 'upair']\n",
    "\n",
    "print(len(allsubs2), np.unique(states2, return_counts=True))"
   ]
  },
  {
   "cell_type": "code",
   "execution_count": null,
   "metadata": {},
   "outputs": [],
   "source": [
    "# Issue 2\n",
    "'''\n",
    "multiprocessing.pool.RemoteTraceback: \n",
    "\"\"\"\n",
    "Traceback (most recent call last):\n",
    "  File \"/home/jeon/.conda/envs/jeonpy/lib/python3.9/multiprocessing/pool.py\", line 125, in worker\n",
    "    result = (True, func(*args, **kwds))\n",
    "  File \"/home/jeon/rur/rur/uri.py\", line 366, in _read_part\n",
    "    if ('epoch' in target_fields): pointer['epoch'] = epoch[mask]\n",
    "TypeError: 'NoneType' object is not subscriptable\n",
    "\"\"\"\n",
    "\n",
    "The above exception was the direct cause of the following exception:\n",
    "\n",
    "Traceback (most recent call last):\n",
    "  File \"/home/jeon/MissingSat/06c_stable_tree.py\", line 365, in <module>\n",
    "    isnap.get_part(nthread=ncpu, target_fields=['x','y','z','m','epoch','id'], exact_box=False, domain_slicing=True, cpulist=cpulist)\n",
    "  File \"/home/jeon/rur/rur/uri.py\", line 1969, in get_part\n",
    "    self.read_part(target_fields=target_fields, cpulist=cpulist, pname=pname, nthread=nthread, python=python)\n",
    "  File \"/home/jeon/rur/rur/uri.py\", line 1206, in read_part\n",
    "    part = self.read_part_py(pname, cpulist, target_fields=target_fields, nthread=nthread)\n",
    "  File \"/home/jeon/rur/rur/uri.py\", line 1169, in read_part_py\n",
    "    r.get()\n",
    "  File \"/home/jeon/.conda/envs/jeonpy/lib/python3.9/multiprocessing/pool.py\", line 771, in get\n",
    "    raise self._value\n",
    "TypeError: 'NoneType' object is not subscriptable\n",
    "'''\n",
    "\n",
    "# NH:\n",
    "# 13"
   ]
  },
  {
   "cell_type": "code",
   "execution_count": null,
   "metadata": {},
   "outputs": [],
   "source": []
  },
  {
   "cell_type": "code",
   "execution_count": null,
   "metadata": {},
   "outputs": [],
   "source": []
  },
  {
   "cell_type": "code",
   "execution_count": null,
   "metadata": {},
   "outputs": [],
   "source": []
  },
  {
   "cell_type": "code",
   "execution_count": null,
   "metadata": {},
   "outputs": [],
   "source": []
  },
  {
   "cell_type": "code",
   "execution_count": 4,
   "metadata": {},
   "outputs": [],
   "source": [
    "stree1 = pklload(f\"{database1}/stable_progenitors.pickle\")\n",
    "stree2 = pklload(f\"{database2}/stable_progenitors.pickle\")\n",
    "rtree1 = pklload(f\"{database1}/reduced_tree.pickle\")\n",
    "rtree2 = pklload(f\"{database2}/reduced_tree.pickle\")"
   ]
  },
  {
   "cell_type": "code",
   "execution_count": 5,
   "metadata": {},
   "outputs": [
    {
     "data": {
      "text/plain": [
       "<matplotlib.collections.PathCollection at 0x7f73b839f790>"
      ]
     },
     "execution_count": 5,
     "metadata": {},
     "output_type": "execute_result"
    },
    {
     "data": {
      "image/png": "[encoded data removed]",
      "text/plain": [
       "<Figure size 640x480 with 1 Axes>"
      ]
     },
     "metadata": {},
     "output_type": "display_data"
    }
   ],
   "source": [
    "sid = np.random.choice(np.unique(stree1['lastid']))\n",
    "stmp = stree1[stree1['lastid'] == sid]\n",
    "rtmp = rtree1[sid]\n",
    "\n",
    "plt.scatter(stmp['timestep'], stmp['give_score'])\n",
    "plt.scatter(rtmp['timestep'], rtmp['give_score'], s=1)"
   ]
  },
  {
   "cell_type": "code",
   "execution_count": 10,
   "metadata": {},
   "outputs": [
    {
     "data": {
      "text/plain": [
       "dtype([('lastid', '<i2'), ('timestep', '<i2'), ('id', '<i2'), ('give_score', '<f8'), ('take_score', '<f8')])"
      ]
     },
     "execution_count": 10,
     "metadata": {},
     "output_type": "execute_result"
    }
   ],
   "source": [
    "stmp.dtype"
   ]
  },
  {
   "cell_type": "code",
   "execution_count": 30,
   "metadata": {},
   "outputs": [],
   "source": [
    "main_prog = pklload(f\"{database1}/main_prog/subhalos_{iout1:05d}.pickle\")[0]"
   ]
  },
  {
   "cell_type": "code",
   "execution_count": 24,
   "metadata": {},
   "outputs": [],
   "source": [
    "cpulist = pklload(f\"{database1}/main_prog/cpulist/cpulist_01026.pickle\")"
   ]
  },
  {
   "cell_type": "code",
   "execution_count": 27,
   "metadata": {},
   "outputs": [],
   "source": [
    "test =  pklload(f\"{database1}/stable_prog/subhalos_01020.pickle\")[0]"
   ]
  },
  {
   "cell_type": "code",
   "execution_count": 28,
   "metadata": {},
   "outputs": [
    {
     "data": {
      "text/plain": [
       "array([(172,   701, 1020, 1,   701,     0, 0,    -1, 0.85097384, 2.33632650e+08, 0.48353455, 0.46795981, 0.47496789,  115.77989692,  34.99073397,  78.78522688,   5456978.0414196 , -31517689.77714361,  1.30029191e+08, 3.90272174e-04, 0.00465653, 0.01881642, 0.00645743, 10.04457198, -0.09402488,  9.95054709, 3.72236734e+01, 41.72253097, 8.52453980e-05, 8.61438820e+07, 1290.84429251,  5.99638758,  62.65721332, 8.52453980e-05, 10441682.66101253, 1.79795317e-05, 1.12304103e-04, 2.96017270e-04, 9.54859014e-06, 2.88515917e-05, 7.13953788e-05, 5.08359338e-05, 2.61907434e-04, 3.74806178e-04, 0, False, 6.44218945e+08,     0.        , 0., 4.12546640e+07, 0, 0., 0., 0., 8.48671664e+07,    0.       ,  439661.74044309, 0.,   693, 0.79581152, 0.88372093),\n",
       "       (584,  1313, 1020, 1,  1313,     0, 0,    -1, 0.85097384, 7.62242834e+08, 0.4688914 , 0.47782523, 0.51868874,   33.77057039, 112.71088671, -26.87242995, -64905844.71767075,  88762097.8454949 ,  9.53997718e+06, 5.58530798e-04, 0.01681657, 0.00792739, 0.00698093, 11.58350994, -1.09677313, 10.48673682, 1.63826966e+00, 20.47150155, 1.53017491e-04, 4.97285137e+08, 4151.30616115, 10.75338385,  62.53767209, 1.53017491e-04,        0.        , 1.25967814e-05, 1.09700112e-04, 2.74224988e-04, 9.01711523e-06, 4.36937342e-05, 1.37423865e-04, 4.38302764e-05, 3.56511968e-04, 5.27704413e-04, 0, False, 2.40456971e+09,     0.        , 0., 3.03731329e+08, 0, 0., 0., 0., 4.79628077e+08,    0.       , 4605251.25723501, 0.,  1309, 0.93287435, 0.92808219),\n",
       "       (202, 22027, 1020, 2,  1311,  1311, 0, 22028, 0.85097384, 2.63652487e+08, 0.46866886, 0.47588366, 0.52175988,   22.21588789, -27.40703635,  87.35579803,   8341397.26812062, -10539796.10705853, -8.50658712e+06, 3.51112231e-04, 0.0043558 , 0.00327687, 0.01186696,  2.91752198, -0.26124519,  2.65627679, 1.68877591e+00, 17.73395783, 1.17570201e-04, 2.25801388e+08, 2453.29462488,  8.26661326,  62.60287608, 1.17570201e-04,        0.        , 8.24130908e-06, 4.09620471e-05, 1.92854081e-04, 6.70844478e-06, 3.23092106e-05, 9.16484060e-05, 2.65349412e-05, 2.43913761e-04, 3.32955083e-04, 0, False, 9.50255090e+08, 50791.48734183, 0., 5.51112821e+07, 0, 0., 0., 0., 2.25026578e+08, 8465.2478903, 1920694.43388847, 0.,  1310, 0.36988848, 0.98514851),\n",
       "       ...,\n",
       "       (278, 28589, 1020, 3, 13395, 28564, 0, 28565, 0.85097384, 3.62848472e+08, 0.51340333, 0.52822843, 0.54530861,   68.31189526, 108.99951023,  63.26683641,  -1037472.96501136,  -1041361.61051419, -5.19826037e+05, 7.04009992e-05, 0.001472  , 0.00165011, 0.00230506,  0.76802544, -1.08014925, -0.31212381, 2.55372144e-02, 11.47746462, 5.83626134e-05, 3.62848472e+08, 7941.65344588, 14.87333063, 822.39521204, 5.83626134e-05,        0.        , 5.40823471e-06, 1.79494445e-05, 4.32026763e-05, 5.40693195e-06, 1.85636879e-05, 4.58503809e-05, 5.81061151e-06, 2.22244523e-05, 5.79064828e-05, 0, False, 4.06333706e+08,     0.        , 0., 7.27996600e+05, 0, 0., 0., 0., 3.65185989e+08,    0.       ,  406799.19795   , 0., 28532, 0.95804196, 0.98561151),\n",
       "       (161, 28699, 1020, 2, 14407, 14407, 0,    -1, 0.85097384, 2.10138864e+08, 0.50885666, 0.54500294, 0.55635691, -156.6583545 , 168.9359697 ,  64.03840128,   -400166.87507644,   -576819.80181425, -7.13005812e+04, 9.02289656e-05, 0.00236091, 0.00266249, 0.00311031,  0.15779117, -0.2433105 , -0.08551933, 2.37019755e-02,  5.87615505, 8.67913510e-05, 2.10138864e+08, 3092.78900933,  9.28170825, 144.82265274, 8.67913510e-05,        0.        , 7.18752368e-06, 3.09294357e-05, 6.42929528e-05, 7.33919729e-06, 3.11827689e-05, 7.18367629e-05, 7.33919729e-06, 3.21688280e-05, 7.55209747e-05, 0, False, 2.22454845e+08,     0.        , 0., 1.51966327e+06, 0, 0., 0., 0., 2.16025514e+08,    0.       , 1373009.34996202, 0., 28581, 1.        , 0.96273292),\n",
       "       (128, 28700, 1020, 2, 14414, 14414, 0,    -1, 0.85097384, 1.67066923e+08, 0.49947267, 0.54474431, 0.54980003,  -37.08529246,  67.59616289, 237.46682779,    -73247.23073081,   1393221.47322757, -4.34464308e+04, 2.52599404e-04, 0.00736118, 0.00266201, 0.00232606,  0.25866537, -0.1406424 ,  0.11802298, 9.77276970e-02,  5.26587947, 1.05063961e-04, 1.60540871e+08, 1951.87592905,  7.37358805,  62.37115295, 1.05063961e-04,        0.        , 6.10428758e-06, 3.04256796e-05, 9.98279871e-05, 6.10247872e-06, 2.90209042e-05, 8.63232333e-05, 1.43381447e-05, 1.38315437e-04, 2.29127980e-04, 0, False, 4.17906501e+08,     0.        , 0., 3.24757517e+07, 0, 0., 0., 0., 1.62019136e+08,    0.       , 2460307.98055393, 0., 28582, 0.95419847, 0.9765625 )],\n",
       "      dtype=[('nparts', '<i4'), ('id', '<i4'), ('timestep', '<i4'), ('level', '<i4'), ('host', '<i4'), ('hostsub', '<i4'), ('nbsub', '<i4'), ('nextsub', '<i4'), ('aexp', '<f8'), ('m', '<f8'), ('x', '<f8'), ('y', '<f8'), ('z', '<f8'), ('vx', '<f8'), ('vy', '<f8'), ('vz', '<f8'), ('Lx', '<f8'), ('Ly', '<f8'), ('Lz', '<f8'), ('r', '<f8'), ('a', '<f8'), ('b', '<f8'), ('c', '<f8'), ('ek', '<f8'), ('ep', '<f8'), ('et', '<f8'), ('spin', '<f8'), ('sigma', '<f8'), ('rvir', '<f8'), ('mvir', '<f8'), ('tvir', '<f8'), ('cvel', '<f8'), ('rho0', '<f8'), ('rc', '<f8'), ('mcontam', '<f8'), ('r10_mem', '<f8'), ('r50_mem', '<f8'), ('r90_mem', '<f8'), ('r10_vir', '<f8'), ('r50_vir', '<f8'), ('r90_vir', '<f8'), ('r10_max', '<f8'), ('r50_max', '<f8'), ('r90_max', '<f8'), ('sub', '<i8'), ('dink', '?'), ('mdm', '<f8'), ('mstar', '<f8'), ('mcold', '<f8'), ('mcell', '<f8'), ('Host', '<i4'), ('r200kpc', '<f8'), ('m200', '<f8'), ('r200', '<f8'), ('mdm_vir', '<f8'), ('mstar_vir', '<f8'), ('mcell_vir', '<f8'), ('mcold_vir', '<f8'), ('lastid', '<i4'), ('give_score', '<f8'), ('take_score', '<f8')])"
      ]
     },
     "execution_count": 28,
     "metadata": {},
     "output_type": "execute_result"
    }
   ],
   "source": [
    "test"
   ]
  },
  {
   "cell_type": "code",
   "execution_count": 22,
   "metadata": {},
   "outputs": [
    {
     "name": "stdout",
     "output_type": "stream",
     "text": [
      "1026 0\n",
      "1025 63\n",
      "1024 67\n",
      "1023 66\n",
      "1022 72\n",
      "1021 71\n",
      "1020 74\n",
      "1019 76\n",
      "1018 81\n",
      "1017 85\n",
      "1016 84\n",
      "1015 86\n",
      "1014 81\n",
      "1013 86\n",
      "1012 86\n",
      "1011 87\n",
      "1010 93\n",
      "1009 99\n",
      "1008 94\n",
      "1007 93\n",
      "1006 89\n",
      "1005 86\n",
      "1004 87\n",
      "1003 88\n",
      "1002 86\n",
      "1001 95\n",
      "1000 93\n",
      "999 86\n",
      "998 88\n",
      "997 88\n"
     ]
    }
   ],
   "source": [
    "for iout in np.unique(stree1['timestep'])[::-1][:30]:\n",
    "    main_prog = pklload(f\"{database1}/main_prog/subhalos_{iout:05d}.pickle\")[0]\n",
    "    stmp = stree1[stree1['timestep'] == iout]\n",
    "    argsort = np.argsort(stmp['lastid'])\n",
    "    stmp = stmp[argsort]\n",
    "    ind = isin(main_prog['lastid'], stmp['lastid'])\n",
    "    mtmp = main_prog[ind]\n",
    "    argsort = np.argsort(mtmp['lastid'])\n",
    "    mtmp = mtmp[argsort]\n",
    "    print(iout, np.sum( stmp['id'] != mtmp['id'] ))\n",
    "    # print(stmp[0]['lastid'], stmp[0]['id'])\n",
    "    # print(mtmp[0]['lastid'], mtmp[0]['id'])\n"
   ]
  },
  {
   "cell_type": "code",
   "execution_count": null,
   "metadata": {},
   "outputs": [
    {
     "data": {
      "text/plain": [
       "array([ 0,  0,  0, ..., 18, 31, 60], dtype=int16)"
      ]
     },
     "execution_count": 43,
     "metadata": {},
     "output_type": "execute_result"
    }
   ],
   "source": [
    "stree1"
   ]
  },
  {
   "cell_type": "code",
   "execution_count": 44,
   "metadata": {},
   "outputs": [
    {
     "data": {
      "text/plain": [
       "array([12, 18, 19, ..., 81, 81, 81], dtype=int32)"
      ]
     },
     "execution_count": 44,
     "metadata": {},
     "output_type": "execute_result"
    }
   ],
   "source": [
    "mtmp['id']"
   ]
  },
  {
   "cell_type": "code",
   "execution_count": 38,
   "metadata": {},
   "outputs": [
    {
     "data": {
      "text/plain": [
       "(array([973728, 973729, 973730, ..., 991113, 991114, 991115]),)"
      ]
     },
     "execution_count": 38,
     "metadata": {},
     "output_type": "execute_result"
    }
   ],
   "source": [
    "np.where(stree2['timestep'] == 0)"
   ]
  },
  {
   "cell_type": "code",
   "execution_count": 40,
   "metadata": {},
   "outputs": [
    {
     "data": {
      "text/plain": [
       "array([0], dtype=int16)"
      ]
     },
     "execution_count": 40,
     "metadata": {},
     "output_type": "execute_result"
    }
   ],
   "source": [
    "np.unique(stree2[stree2['lastid']==0]['timestep'])"
   ]
  },
  {
   "cell_type": "code",
   "execution_count": 35,
   "metadata": {},
   "outputs": [
    {
     "name": "stdout",
     "output_type": "stream",
     "text": [
      "[ 14  15  16  17  18  19  20  21  22  23  24  25  26  27  28  29  30  31\n",
      "  32  33  34  35  36  37  38  39  40  41  42  43  44  45  46  47  48  49\n",
      "  50  51  52  53  54  55  56  57  58  59  60  61  62  63  64  65  66  67\n",
      "  68  69  70  71  72  73  74  75  76  77  78  79  80  81  82  83  84  85\n",
      "  86  87  88  89  90  91  92  93  94  95  96  97  98  99 100 101 102 103\n",
      " 104 105 106 107 108 109 110 111 112 113 114 115 116 117 118 119 120 121\n",
      " 122 123 124 125 126 127 128 129 130 131 132 133 134 135 136 137 138 139\n",
      " 140 141 142 143 144 145 146 147 148 149 150 151 152 153 154 155 156 157\n",
      " 158 159 160 161 162 163 164 165 166 167 168 169 170 171 172 173 174 175\n",
      " 176 177 178 179 180 181 182 183 184 185 186 187 188 189 190 191 192 193\n",
      " 194 195 196 197 198 199 200 201 202 203 204 205 206 207 208 209 210 211\n",
      " 212 213 214 215 216 217 218 219 220 221 222 223 224 225 226 227 228 229\n",
      " 230 231 232 233 234 235 236 237 238 239 240 241 242 243 244 245 246 247\n",
      " 248 249 250 251 252 253 254 255 256 257 258 259 260 261 262 263 264 265\n",
      " 266 267 268 269 270 271 272 273 274 275 276 277 278 279 280 281 282 283\n",
      " 284 285 286 287 288 289 290 291 292 293 294 295 296 297 298 299 300 301\n",
      " 302 303 304 305 306 307 308 309 310 311 312 313 314 315 316 317 318 319\n",
      " 320 321 322 323 324 325 326 327 328 329 330 331 332 333 334 335 336 337\n",
      " 338 339 340 341 342 343 344 345 346 347 348 349 350 351 352 353 354 355\n",
      " 356 357 358 359 360 361 362 363 364 365 366 367 368 369 370 371 372 373\n",
      " 374 375 376 377 378 379 380 381 382 383 384 385 386 387 388 389 390 391\n",
      " 392 393 394 395 396 397 398 399 400 401 402 403 404 405 406 407 408 409\n",
      " 410 411 412 413 414 415 416 417 418 419 420 421 422 423 424 425 426 427\n",
      " 428 429 430 431 432 433 434 435 436 437 438 439 440 441 442 443 444 445\n",
      " 446 447 448 449 450 451 452 453 454 455 456 457 458 459 460 461 462 463\n",
      " 464 465 466 467 468 469 470 471 472 473 474 475 476 477 478 479 480 481\n",
      " 482 483 484 485 486 487 488 489 490 491 492 493 494 495 496 497 498 499\n",
      " 500 501 502 503 504 505 506 507 508 509 510 511 512 513 514 515 516 517\n",
      " 518 519 520 521 522 523 524 525 526 527 528 529 530 531 532 533 534 535\n",
      " 536 537 538 539 540 541 542 543 544 545 546 547 548 549 550 551 552 553\n",
      " 554 555 556 557 558 559 560 561 562 563 564 565 566 567 568 569 570 571\n",
      " 572 573 574 575 576 577 578 579 580 581 582 583 584 585 586 587 588 589\n",
      " 590 591 592 593 594 595 596 597 598 599 600 601 602 603 604 605 606 607\n",
      " 608 609 610 611 612 613 614 615 616 617 618 619 620 621 622 623 624 625\n",
      " 626 627 628 629 630 631 632 633 634 635 636 637 638 639 640 641 642 643\n",
      " 644 645 646 647 648 649 650 651 652 653 654 655 656 657 658 659 660 661\n",
      " 662 663 664 665 666 667 668 669 670 671 672 673 674 675 676 677 678 679\n",
      " 680 681 682 683 684 685 686 687 688 689 690 691 692 693 694 695 696 697\n",
      " 698 699 700 701 702 703 704 705 706 707 708 709 710 711 712 713 714 715\n",
      " 716 717 718 719 720 721 722 723 724 725 726 727 728 729 730 731 732 733\n",
      " 734 735 736 737 738 739 740 741 742 743 744 745 746 747 748 749 750 751\n",
      " 752 753 754 755 756 757 758 759 760 761 762 763 764 765 766 767 768 769\n",
      " 770 771 772 773 774 775 776 777 778 779 780 781 782 783 784 785 786 787\n",
      " 788 789 790 791 792 793 794 795 796 797]\n"
     ]
    }
   ],
   "source": [
    "fnames = os.listdir(f\"/storage7/NH2/halo/\")\n",
    "bout = [int(fname[-5:]) for fname in fnames if(fname.startswith(\"tree_bricks\"))]; bout.sort()\n",
    "bout = np.array(bout); bout = bout[bout <= iout2]\n",
    "print(bout)"
   ]
  },
  {
   "cell_type": "code",
   "execution_count": 31,
   "metadata": {},
   "outputs": [
    {
     "data": {
      "text/plain": [
       "dtype([('nparts', '<i4'), ('id', '<i4'), ('timestep', '<i4'), ('level', '<i4'), ('host', '<i4'), ('hostsub', '<i4'), ('nbsub', '<i4'), ('nextsub', '<i4'), ('aexp', '<f8'), ('m', '<f8'), ('x', '<f8'), ('y', '<f8'), ('z', '<f8'), ('vx', '<f8'), ('vy', '<f8'), ('vz', '<f8'), ('Lx', '<f8'), ('Ly', '<f8'), ('Lz', '<f8'), ('r', '<f8'), ('a', '<f8'), ('b', '<f8'), ('c', '<f8'), ('ek', '<f8'), ('ep', '<f8'), ('et', '<f8'), ('spin', '<f8'), ('sigma', '<f8'), ('rvir', '<f8'), ('mvir', '<f8'), ('tvir', '<f8'), ('cvel', '<f8'), ('rho0', '<f8'), ('rc', '<f8'), ('mcontam', '<f8'), ('r10_mem', '<f8'), ('r50_mem', '<f8'), ('r90_mem', '<f8'), ('r10_vir', '<f8'), ('r50_vir', '<f8'), ('r90_vir', '<f8'), ('r10_max', '<f8'), ('r50_max', '<f8'), ('r90_max', '<f8'), ('sub', '<i8'), ('dink', '?'), ('mdm', '<f8'), ('mstar', '<f8'), ('mcold', '<f8'), ('mcell', '<f8'), ('Host', '<i4'), ('r200kpc', '<f8'), ('m200', '<f8'), ('r200', '<f8'), ('mdm_vir', '<f8'), ('mstar_vir', '<f8'), ('mcell_vir', '<f8'), ('mcold_vir', '<f8'), ('lastid', '<i4'), ('give_score', '<f8'), ('take_score', '<f8')])"
      ]
     },
     "execution_count": 31,
     "metadata": {},
     "output_type": "execute_result"
    }
   ],
   "source": [
    "main_prog.dtype"
   ]
  },
  {
   "cell_type": "code",
   "execution_count": 24,
   "metadata": {},
   "outputs": [
    {
     "data": {
      "text/plain": [
       "(351975, 589, 1026, 1, 589, 0, 44, 20368, 0.85361391, 4.61073381e+11, 0.4943338, 0.48610198, 0.47451222, 74.60708546, 83.22969253, 134.24561044, -3.10956856e+11, -5.48242552e+11, 8.00433393e+11, 0.00379802, 0.11050536, 0.04873055, 0.07103276, 42347.39133686, -36155.21504387, 6192.17629299, 0.04083353, 78.60153589, 0.00138576, 3.70174618e+11, 340168.74457477, 97.34193388, 62.09667186, 0.00138576, 1.91082793e+09, 0.00011664, 0.00081584, 0.00191928, 0.0001226, 0.00085415, 0.00131332, 0.00024381, 0.00136748, 0.00312044, 0, False, 9.38242529e+11, 3.57534272e+10, 2.1476229e+10, 1.15791011e+11, 0, 0., 0., 0., 4.79026291e+11, 3.39296077e+10, 4.0578179e+10, 1.99350198e+10, 589, 1., 1.)"
      ]
     },
     "execution_count": 24,
     "metadata": {},
     "output_type": "execute_result"
    }
   ],
   "source": [
    "main_prog[0][0]"
   ]
  },
  {
   "cell_type": "code",
   "execution_count": 28,
   "metadata": {},
   "outputs": [
    {
     "data": {
      "text/plain": [
       "array([1026, 1026, 1026, ...,   13,   13,   13], dtype=int16)"
      ]
     },
     "execution_count": 28,
     "metadata": {},
     "output_type": "execute_result"
    }
   ],
   "source": [
    "stree1['timestep']"
   ]
  },
  {
   "cell_type": "code",
   "execution_count": 26,
   "metadata": {},
   "outputs": [
    {
     "data": {
      "text/plain": [
       "array([  693,  1309,  1310, ..., 28532, 28581, 28582], dtype=int16)"
      ]
     },
     "execution_count": 26,
     "metadata": {},
     "output_type": "execute_result"
    }
   ],
   "source": [
    "leng = len(allsubs1)\n",
    "stree1['id'][:leng]"
   ]
  },
  {
   "cell_type": "code",
   "execution_count": 29,
   "metadata": {},
   "outputs": [
    {
     "data": {
      "text/plain": [
       "(3851,)"
      ]
     },
     "execution_count": 29,
     "metadata": {},
     "output_type": "execute_result"
    }
   ],
   "source": [
    "main_prog[0]['id'].shape"
   ]
  },
  {
   "cell_type": "code",
   "execution_count": 16,
   "metadata": {},
   "outputs": [
    {
     "data": {
      "application/json": {
       "ascii": false,
       "bar_format": null,
       "colour": null,
       "elapsed": 0.01883244514465332,
       "initial": 0,
       "n": 0,
       "ncols": null,
       "nrows": null,
       "postfix": null,
       "prefix": "",
       "rate": null,
       "total": 852,
       "unit": "it",
       "unit_divisor": 1000,
       "unit_scale": false
      },
      "application/vnd.jupyter.widget-view+json": {
       "model_id": "a82d574f138c4ab191afecd6438b13e0",
       "version_major": 2,
       "version_minor": 0
      },
      "text/plain": [
       "  0%|          | 0/852 [00:00<?, ?it/s]"
      ]
     },
     "metadata": {},
     "output_type": "display_data"
    },
    {
     "ename": "KeyboardInterrupt",
     "evalue": "",
     "output_type": "error",
     "traceback": [
      "\u001b[0;31m---------------------------------------------------------------------------\u001b[0m",
      "\u001b[0;31mKeyboardInterrupt\u001b[0m                         Traceback (most recent call last)",
      "Input \u001b[0;32mIn [16]\u001b[0m, in \u001b[0;36m<cell line: 1>\u001b[0;34m()\u001b[0m\n\u001b[1;32m      6\u001b[0m \u001b[38;5;28;01mfor\u001b[39;00m iout \u001b[38;5;129;01min\u001b[39;00m tqdm(np\u001b[38;5;241m.\u001b[39munique(stree1[\u001b[38;5;124m'\u001b[39m\u001b[38;5;124mtimestep\u001b[39m\u001b[38;5;124m'\u001b[39m])):\n\u001b[1;32m      7\u001b[0m     isnap \u001b[38;5;241m=\u001b[39m snap1s\u001b[38;5;241m.\u001b[39mget_snap(iout)\n\u001b[0;32m----> 8\u001b[0m     ihals \u001b[38;5;241m=\u001b[39m \u001b[43muhmi\u001b[49m\u001b[38;5;241;43m.\u001b[39;49m\u001b[43mHaloMaker\u001b[49m\u001b[38;5;241;43m.\u001b[39;49m\u001b[43mload\u001b[49m\u001b[43m(\u001b[49m\u001b[43misnap\u001b[49m\u001b[43m,\u001b[49m\u001b[43m \u001b[49m\u001b[43mgalaxy\u001b[49m\u001b[38;5;241;43m=\u001b[39;49m\u001b[38;5;28;43;01mFalse\u001b[39;49;00m\u001b[43m,\u001b[49m\u001b[43m \u001b[49m\u001b[43mdouble_precision\u001b[49m\u001b[38;5;241;43m=\u001b[39;49m\u001b[43mdp1\u001b[49m\u001b[43m)\u001b[49m\n\u001b[1;32m      9\u001b[0m     indicies \u001b[38;5;241m=\u001b[39m np\u001b[38;5;241m.\u001b[39mzeros(\u001b[38;5;28mlen\u001b[39m(ihals), dtype\u001b[38;5;241m=\u001b[39m\u001b[38;5;28mint\u001b[39m)\n\u001b[1;32m     10\u001b[0m     iids \u001b[38;5;241m=\u001b[39m stree1[stree1[\u001b[38;5;124m'\u001b[39m\u001b[38;5;124mtimestep\u001b[39m\u001b[38;5;124m'\u001b[39m] \u001b[38;5;241m==\u001b[39m iout][\u001b[38;5;124m'\u001b[39m\u001b[38;5;124mid\u001b[39m\u001b[38;5;124m'\u001b[39m]\n",
      "File \u001b[0;32m~/rur/rur/uhmi.py:236\u001b[0m, in \u001b[0;36mHaloMaker.load\u001b[0;34m(snap, path_in_repo, galaxy, full_path, load_parts, double_precision, copy_part_id)\u001b[0m\n\u001b[1;32m    234\u001b[0m     \u001b[38;5;28;01melse\u001b[39;00m:\n\u001b[1;32m    235\u001b[0m         array \u001b[38;5;241m=\u001b[39m fromarrays([\u001b[38;5;241m*\u001b[39mreadh\u001b[38;5;241m.\u001b[39minteger_table\u001b[38;5;241m.\u001b[39mT, \u001b[38;5;241m*\u001b[39mreadh\u001b[38;5;241m.\u001b[39mreal_table_dp\u001b[38;5;241m.\u001b[39mT], dtype\u001b[38;5;241m=\u001b[39mdtype)\n\u001b[0;32m--> 236\u001b[0m array \u001b[38;5;241m=\u001b[39m \u001b[43mHaloMaker\u001b[49m\u001b[38;5;241;43m.\u001b[39;49m\u001b[43munit_conversion\u001b[49m\u001b[43m(\u001b[49m\u001b[43marray\u001b[49m\u001b[43m,\u001b[49m\u001b[43m \u001b[49m\u001b[43msnap\u001b[49m\u001b[43m)\u001b[49m\n\u001b[1;32m    238\u001b[0m \u001b[38;5;28;01mif\u001b[39;00m(array\u001b[38;5;241m.\u001b[39msize\u001b[38;5;241m==\u001b[39m\u001b[38;5;241m0\u001b[39m):\n\u001b[1;32m    239\u001b[0m     \u001b[38;5;28mprint\u001b[39m(\u001b[38;5;124m\"\u001b[39m\u001b[38;5;124mNo tree_brick file found, or no halo found in \u001b[39m\u001b[38;5;132;01m%s\u001b[39;00m\u001b[38;5;124m\"\u001b[39m \u001b[38;5;241m%\u001b[39m path)\n",
      "File \u001b[0;32m~/rur/rur/uhmi.py:125\u001b[0m, in \u001b[0;36mHaloMaker.unit_conversion\u001b[0;34m(array, snap)\u001b[0m\n\u001b[1;32m    123\u001b[0m boxsize_physical \u001b[38;5;241m=\u001b[39m snap[\u001b[38;5;124m'\u001b[39m\u001b[38;5;124mboxsize_physical\u001b[39m\u001b[38;5;124m'\u001b[39m]\n\u001b[1;32m    124\u001b[0m pos \u001b[38;5;241m=\u001b[39m get_vector(array)\n\u001b[0;32m--> 125\u001b[0m \u001b[43mappend_fields\u001b[49m\u001b[43m(\u001b[49m\u001b[43marray\u001b[49m\u001b[43m,\u001b[49m\u001b[43m \u001b[49m\u001b[43mnames\u001b[49m\u001b[38;5;241;43m=\u001b[39;49m\u001b[43m[\u001b[49m\u001b[38;5;124;43m'\u001b[39;49m\u001b[38;5;124;43mxp\u001b[39;49m\u001b[38;5;124;43m'\u001b[39;49m\u001b[43m,\u001b[49m\u001b[43m \u001b[49m\u001b[38;5;124;43m'\u001b[39;49m\u001b[38;5;124;43myp\u001b[39;49m\u001b[38;5;124;43m'\u001b[39;49m\u001b[43m,\u001b[49m\u001b[43m \u001b[49m\u001b[38;5;124;43m'\u001b[39;49m\u001b[38;5;124;43mzp\u001b[39;49m\u001b[38;5;124;43m'\u001b[39;49m\u001b[43m]\u001b[49m\u001b[43m,\u001b[49m\u001b[43m \u001b[49m\u001b[43mdata\u001b[49m\u001b[38;5;241;43m=\u001b[39;49m\u001b[43mpos\u001b[49m\u001b[38;5;241;43m.\u001b[39;49m\u001b[43mT\u001b[49m\u001b[43m,\u001b[49m\u001b[43m \u001b[49m\u001b[43musemask\u001b[49m\u001b[38;5;241;43m=\u001b[39;49m\u001b[38;5;28;43;01mFalse\u001b[39;49;00m\u001b[43m)\u001b[49m\n\u001b[1;32m    126\u001b[0m array[\u001b[38;5;124m'\u001b[39m\u001b[38;5;124mx\u001b[39m\u001b[38;5;124m'\u001b[39m] \u001b[38;5;241m=\u001b[39m array[\u001b[38;5;124m'\u001b[39m\u001b[38;5;124mx\u001b[39m\u001b[38;5;124m'\u001b[39m] \u001b[38;5;241m/\u001b[39m boxsize_physical \u001b[38;5;241m+\u001b[39m \u001b[38;5;241m0.5\u001b[39m\n\u001b[1;32m    127\u001b[0m array[\u001b[38;5;124m'\u001b[39m\u001b[38;5;124my\u001b[39m\u001b[38;5;124m'\u001b[39m] \u001b[38;5;241m=\u001b[39m array[\u001b[38;5;124m'\u001b[39m\u001b[38;5;124my\u001b[39m\u001b[38;5;124m'\u001b[39m] \u001b[38;5;241m/\u001b[39m boxsize_physical \u001b[38;5;241m+\u001b[39m \u001b[38;5;241m0.5\u001b[39m\n",
      "File \u001b[0;32m<__array_function__ internals>:180\u001b[0m, in \u001b[0;36mappend_fields\u001b[0;34m(*args, **kwargs)\u001b[0m\n",
      "File \u001b[0;32m~/.conda/envs/jeonpy/lib/python3.10/site-packages/numpy/lib/recfunctions.py:711\u001b[0m, in \u001b[0;36mappend_fields\u001b[0;34m(base, names, data, dtypes, fill_value, usemask, asrecarray)\u001b[0m\n\u001b[1;32m    709\u001b[0m base \u001b[38;5;241m=\u001b[39m merge_arrays(base, usemask\u001b[38;5;241m=\u001b[39musemask, fill_value\u001b[38;5;241m=\u001b[39mfill_value)\n\u001b[1;32m    710\u001b[0m \u001b[38;5;28;01mif\u001b[39;00m \u001b[38;5;28mlen\u001b[39m(data) \u001b[38;5;241m>\u001b[39m \u001b[38;5;241m1\u001b[39m:\n\u001b[0;32m--> 711\u001b[0m     data \u001b[38;5;241m=\u001b[39m \u001b[43mmerge_arrays\u001b[49m\u001b[43m(\u001b[49m\u001b[43mdata\u001b[49m\u001b[43m,\u001b[49m\u001b[43m \u001b[49m\u001b[43mflatten\u001b[49m\u001b[38;5;241;43m=\u001b[39;49m\u001b[38;5;28;43;01mTrue\u001b[39;49;00m\u001b[43m,\u001b[49m\u001b[43m \u001b[49m\u001b[43musemask\u001b[49m\u001b[38;5;241;43m=\u001b[39;49m\u001b[43musemask\u001b[49m\u001b[43m,\u001b[49m\n\u001b[1;32m    712\u001b[0m \u001b[43m                        \u001b[49m\u001b[43mfill_value\u001b[49m\u001b[38;5;241;43m=\u001b[39;49m\u001b[43mfill_value\u001b[49m\u001b[43m)\u001b[49m\n\u001b[1;32m    713\u001b[0m \u001b[38;5;28;01melse\u001b[39;00m:\n\u001b[1;32m    714\u001b[0m     data \u001b[38;5;241m=\u001b[39m data\u001b[38;5;241m.\u001b[39mpop()\n",
      "File \u001b[0;32m<__array_function__ internals>:180\u001b[0m, in \u001b[0;36mmerge_arrays\u001b[0;34m(*args, **kwargs)\u001b[0m\n",
      "File \u001b[0;32m~/.conda/envs/jeonpy/lib/python3.10/site-packages/numpy/lib/recfunctions.py:490\u001b[0m, in \u001b[0;36mmerge_arrays\u001b[0;34m(seqarrays, fill_value, flatten, usemask, asrecarray)\u001b[0m\n\u001b[1;32m    488\u001b[0m         fval \u001b[38;5;241m=\u001b[39m \u001b[38;5;28;01mNone\u001b[39;00m\n\u001b[1;32m    489\u001b[0m     seqdata\u001b[38;5;241m.\u001b[39mappend(itertools\u001b[38;5;241m.\u001b[39mchain(data, [fval] \u001b[38;5;241m*\u001b[39m nbmissing))\n\u001b[0;32m--> 490\u001b[0m output \u001b[38;5;241m=\u001b[39m np\u001b[38;5;241m.\u001b[39mfromiter(\u001b[38;5;28;43mtuple\u001b[39;49m\u001b[43m(\u001b[49m\u001b[43m_izip_records\u001b[49m\u001b[43m(\u001b[49m\u001b[43mseqdata\u001b[49m\u001b[43m,\u001b[49m\u001b[43m \u001b[49m\u001b[43mflatten\u001b[49m\u001b[38;5;241;43m=\u001b[39;49m\u001b[43mflatten\u001b[49m\u001b[43m)\u001b[49m\u001b[43m)\u001b[49m,\n\u001b[1;32m    491\u001b[0m                      dtype\u001b[38;5;241m=\u001b[39mnewdtype, count\u001b[38;5;241m=\u001b[39mmaxlength)\n\u001b[1;32m    492\u001b[0m \u001b[38;5;28;01mif\u001b[39;00m asrecarray:\n\u001b[1;32m    493\u001b[0m     output \u001b[38;5;241m=\u001b[39m output\u001b[38;5;241m.\u001b[39mview(recarray)\n",
      "File \u001b[0;32m~/.conda/envs/jeonpy/lib/python3.10/site-packages/numpy/lib/recfunctions.py:323\u001b[0m, in \u001b[0;36m_izip_records\u001b[0;34m(seqarrays, fill_value, flatten)\u001b[0m\n\u001b[1;32m    320\u001b[0m     zipfunc \u001b[38;5;241m=\u001b[39m _izip_fields\n\u001b[1;32m    322\u001b[0m \u001b[38;5;28;01mfor\u001b[39;00m tup \u001b[38;5;129;01min\u001b[39;00m itertools\u001b[38;5;241m.\u001b[39mzip_longest(\u001b[38;5;241m*\u001b[39mseqarrays, fillvalue\u001b[38;5;241m=\u001b[39mfill_value):\n\u001b[0;32m--> 323\u001b[0m     \u001b[38;5;28;01myield\u001b[39;00m \u001b[38;5;28;43mtuple\u001b[39;49m\u001b[43m(\u001b[49m\u001b[43mzipfunc\u001b[49m\u001b[43m(\u001b[49m\u001b[43mtup\u001b[49m\u001b[43m)\u001b[49m\u001b[43m)\u001b[49m\n",
      "File \u001b[0;32m~/.conda/envs/jeonpy/lib/python3.10/site-packages/numpy/lib/recfunctions.py:281\u001b[0m, in \u001b[0;36m_izip_fields_flat\u001b[0;34m(iterable)\u001b[0m\n\u001b[1;32m    279\u001b[0m \u001b[38;5;28;01mfor\u001b[39;00m element \u001b[38;5;129;01min\u001b[39;00m iterable:\n\u001b[1;32m    280\u001b[0m     \u001b[38;5;28;01mif\u001b[39;00m \u001b[38;5;28misinstance\u001b[39m(element, np\u001b[38;5;241m.\u001b[39mvoid):\n\u001b[0;32m--> 281\u001b[0m         \u001b[38;5;28;01myield from\u001b[39;00m _izip_fields_flat(\u001b[38;5;28;43mtuple\u001b[39;49m\u001b[43m(\u001b[49m\u001b[43melement\u001b[49m\u001b[43m)\u001b[49m)\n\u001b[1;32m    282\u001b[0m     \u001b[38;5;28;01melse\u001b[39;00m:\n\u001b[1;32m    283\u001b[0m         \u001b[38;5;28;01myield\u001b[39;00m element\n",
      "\u001b[0;31mKeyboardInterrupt\u001b[0m: "
     ]
    }
   ],
   "source": [
    "if(os.path.exists(f\"{database1}/shalo_dict.pickle\")):\n",
    "    halos = pklload(f\"{database1}/shalo_dict.pickle\")\n",
    "else:\n",
    "    halos = {'catalog':{}, 'index':{}}\n",
    "    uri.timer.verbose=0\n",
    "    for iout in tqdm(np.unique(stree1['timestep'])):\n",
    "        isnap = snap1s.get_snap(iout)\n",
    "        ihals = uhmi.HaloMaker.load(isnap, galaxy=False, double_precision=dp1)\n",
    "        indicies = np.zeros(len(ihals), dtype=int)\n",
    "        iids = stree1[stree1['timestep'] == iout]['id']\n",
    "        ihals = ihals[iids-1]\n",
    "        indicies[iids-1] = np.arange(len(iids))\n",
    "        halos['catalog'][iout] = ihals\n",
    "        halos['index'][iout] = indicies   \n",
    "    pklsave(halos, f\"{database1}/shalo_dict.pickle\")"
   ]
  },
  {
   "cell_type": "code",
   "execution_count": 13,
   "metadata": {},
   "outputs": [
    {
     "name": "stdout",
     "output_type": "stream",
     "text": [
      "693\n",
      "[]\n",
      "[81521286 78021416 77921385 77321439 75821513 10200495]\n",
      "1309\n",
      "[65701309 16004180 15404146 15304133 15204138 15004145 11503922]\n",
      "[65722150 16004181 15404147 15304136 15204135 15004146 11503919]\n",
      "1310\n",
      "[]\n",
      "[102220737 102122154  91420960  91320970  91220999  90421026  89421056\n",
      "  89221123  89021119  88921110  87321196  87221144  87121185  87021185\n",
      "  86721135  86321131  86221185  86121151  85821194  85621181  85521211\n",
      "  85421224  85321245  85221256  85121274  85021259  84821252  84721239\n",
      "  84621302  84521297  84421304  84321305  84221328  84121319  84021310\n",
      "  83921353  83821324  83721339  83621370  83521413  83421419  83321408\n",
      "  83221387  83121343  83021376  82921398  82821350  82721407  82621426\n",
      "  82521410  82421446  82321428  82221519  82121420  82021451  81921539\n",
      "  81821548  81721523  81621575  81521591  81421536  81321545  81221501\n",
      "  81121477  81021560  80921542  80821520  80721559  80621595  80521588\n",
      "  80421585  80321550  80221512  80121554  80021538  79921612  79821619\n",
      "  79721569  79621551  79521541  79421657  79321644  79221650  79121657\n",
      "  79021696  78921596  78821616  78721633  78621650  78521659  78421649\n",
      "  78321633  78221678  78121655  78021650  77921611  77821693  77621717\n",
      "  77521651  77321678  77221725  77021711  76921723  76721708  76621737\n",
      "  76421725  76321728  76121690  76021738  75921739  75821781  75521726\n",
      "  75421800  75221844  75121799  74921728  74821774  74621765  74521788\n",
      "  74421814  74321798  74221806  74021842  73921904  73721893  73621910\n",
      "  73521921  73321928  73221881  73021893  72921898  72721948  72621964\n",
      "  72421952  72321892  72221931  72021904  71921904  71721945  71621895\n",
      "  71521915  71321922  71221909  71021883  70921878  70721939  70621888\n",
      "  70521891  70321900  70221904  70121907  69921913  69821918  69621949\n",
      "  69521981  69422029  69221988  69122000  69022050  68822046  68722046\n",
      "  68622083  68522035  68422029  68222027  68122078  67922106  67822114\n",
      "  67622074  67522082  67422082  67222078  67122097  66922064  66822107\n",
      "  66722159  66522128  66422181  66222163  66122146  66022088  65822134\n",
      "  65722079  65522126  65422203  65322087  65222132  65122160  65022189\n",
      "  64622148  64022174]\n",
      "1324\n",
      "[]\n",
      "[]\n",
      "1359\n",
      "[40603821]\n",
      "[100601330 100301314  96001314  95901296  95801293  85723819  84201315\n",
      "  84101324  84001319  83901316  83801307  83701314  83601310  83401316\n",
      "  83301324  82901314  82821292  82721351  82621380  82521364  82421394\n",
      "  82321376  82201317  82101315  82001317  81801305  81601323  81501313\n",
      "  81301308  77201320  77001312  76901314  76701316  76601319  76401325\n",
      "  76001315  75401333  75201327  75101328  74901323  74801322  74601320\n",
      "  74501306  74401308  74301301  74201300  74001298  73901312  73701315\n",
      "  73601314  73501310  73301300  73201297  73001297  72901297  72701298\n",
      "  72601307  72401305  72301310  72201305  72001309  71901308  71701317\n",
      "  71601310  71501303  71301307  71201300  71001311  70901294  70701298\n",
      "  70601298  70501306  70301302  70201304  70101304  69901297  69801299\n",
      "  69601317  69501318  69401312  69201309  69101319  69001319  68801323\n",
      "  68701333  68601329  68501331  68401340  68201328  68101338  67901339\n",
      "  67801330  67601328  67501318  67401330  67201325  67101326  66901309\n",
      "  66801302  66701313  66501304  66401316  66201314  66101317  66001297\n",
      "  65801325  65701300  65501297  65401308  65301304  65201310  65101302\n",
      "  65001319  64901327  64801329  64701321  64601325  64501310  64301316\n",
      "  64201317  64001315  63701314  63601337  63401315  63301315  63201316\n",
      "  63101317  62901329  62801325  62601321  62401325  62301320  62101319\n",
      "  62001322  61801314  61701316  61501317  61401330  61301308  61101333\n",
      "  61001342  60801335  60701315  60501321  60401338  60201323  60001321\n",
      "  59901309  59701308  59601311  59401316  59301327  59122362  59001314\n",
      "  58801312  58601322  58501316  58301304  58201312  58001302  57922384\n",
      "  57701294  57501310  57401308  57201304  57101315  56901312  56701299\n",
      "  56601307  56401311  56301323  56201324  56101310  55901305  55801312\n",
      "  55601314  55501301  55301308  55101298  54801318  54622490  54501314\n",
      "  54301325  54201319  54101321  53901322  53701325  53601328  53401306\n",
      "  53301323  53101330  52901321  52801316  52601294  51901296  40603810\n",
      "  36603687  36503749  36403761  36303803  36203789  36103794  36003793\n",
      "  35903779  35803766  35703784  35603768  35503721  35403718  35303708\n",
      "  35203714  35103801  35003790  34903783  34803695  34703769  34603771\n",
      "  34525027  34425127  34325090  34225147  33425204  32903771  32703754\n",
      "  32603759  32525309  32403772  32303783  32203778  32103757  32003764\n",
      "  31803742  31703745  31603751  31503774  31403787  31303800  31103759\n",
      "  31003756  30903740  30803757  30703758  30603754  30403765  30303777\n",
      "  30203767  30003742  29903770  29803755  29625032  29525100  28403753\n",
      "  28203742  28103764  27903775  27803760]\n"
     ]
    }
   ],
   "source": [
    "for sub in allsubs1[:5]:\n",
    "    print(sub['id'])\n",
    "    rbranch = rtree1[sub['id']]\n",
    "    rb = rbranch['timestep']*100000 + rbranch['id']\n",
    "    sbranch = stree1[stree1['lastid'] == sub['id']]\n",
    "    sbranch = sbranch[sbranch['id']>0]\n",
    "    sb = sbranch['timestep']*100000 + sbranch['id']\n",
    "    print( rb[~isin(rb, sb)] )\n",
    "    print( sb[~isin(sb, rb)] )\n",
    "    # break"
   ]
  },
  {
   "cell_type": "code",
   "execution_count": 6,
   "metadata": {},
   "outputs": [
    {
     "data": {
      "text/plain": [
       "array([(  693, 1026,  693, 1., 1.), ( 1309, 1026, 1309, 1., 1.),\n",
       "       ( 1310, 1026, 1310, 1., 1.), ..., (28532,   13,    0, 0., 0.),\n",
       "       (28581,   13,    0, 0., 0.), (28582,   13,    0, 0., 0.)],\n",
       "      dtype=[('lastid', '<i2'), ('timestep', '<i2'), ('id', '<i2'), ('give_score', '<f8'), ('take_score', '<f8')])"
      ]
     },
     "execution_count": 6,
     "metadata": {},
     "output_type": "execute_result"
    }
   ],
   "source": [
    "stree1"
   ]
  },
  {
   "cell_type": "code",
   "execution_count": null,
   "metadata": {},
   "outputs": [],
   "source": []
  },
  {
   "cell_type": "code",
   "execution_count": null,
   "metadata": {},
   "outputs": [],
   "source": []
  },
  {
   "cell_type": "code",
   "execution_count": null,
   "metadata": {},
   "outputs": [],
   "source": []
  },
  {
   "cell_type": "code",
   "execution_count": null,
   "metadata": {},
   "outputs": [],
   "source": []
  }
 ],
 "metadata": {
  "kernelspec": {
   "display_name": "jeonpy",
   "language": "python",
   "name": "python3"
  },
  "language_info": {
   "codemirror_mode": {
    "name": "ipython",
    "version": 3
   },
   "file_extension": ".py",
   "mimetype": "text/x-python",
   "name": "python",
   "nbconvert_exporter": "python",
   "pygments_lexer": "ipython3",
   "version": "3.10.4"
  }
 },
 "nbformat": 4,
 "nbformat_minor": 2
}
