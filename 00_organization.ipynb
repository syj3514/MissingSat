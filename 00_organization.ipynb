{
 "cells": [
  {
   "cell_type": "code",
   "execution_count": 1,
   "metadata": {},
   "outputs": [],
   "source": [
    "from common_func import *\n",
    "if type_of_script() == 'jupyter': from tqdm.notebook import tqdm\n",
    "else: from tqdm import tqdm\n",
    "    \n",
    "import matplotlib.pyplot as plt\n",
    "import matplotlib.ticker as ticker\n",
    "from matplotlib import colormaps\n",
    "from matplotlib.colors import Normalize\n",
    "import matplotlib.gridspec as gridspec\n",
    "from mpl_toolkits.mplot3d import Axes3D, proj3d\n",
    "#import cmasher as cmr\n",
    "\n",
    "import numpy as np\n",
    "import os, glob, atexit, signal, time, warnings, argparse, subprocess\n",
    "\n",
    "from rur.fortranfile import FortranFile\n",
    "from rur import uri, uhmi, painter, drawer\n",
    "from rur.sci.photometry import measure_luminosity\n",
    "from rur.sci.geometry import get_angles, euler_angle\n",
    "from rur.utool import rotate_data\n",
    "from scipy.ndimage import gaussian_filter\n",
    "uri.timer.verbose=1\n",
    "\n",
    "from icl_IO import mode2repo, pklsave, pklload\n",
    "from icl_tool import *\n",
    "from icl_numba import large_isin, large_isind, isin\n",
    "from icl_draw import drawsnap, add_scalebar, addtext, MakeSub_nolabel, label_to_in, fancy_axis, circle\n",
    "\n",
    "from importlib import reload\n",
    "from copy import deepcopy\n",
    "from multiprocessing import Pool, shared_memory, Value"
   ]
  },
  {
   "cell_type": "code",
   "execution_count": 2,
   "metadata": {},
   "outputs": [
    {
     "name": "stdout",
     "output_type": "stream",
     "text": [
      "[Output 01026] Age (Gyr) : 11.624 / 13.741, z = 0.17149 (a = 0.8536)\n",
      "[Output 00797] Age (Gyr) : 11.623 / 13.741, z = 0.17158 (a = 0.8536)\n"
     ]
    }
   ],
   "source": [
    "mode1 = 'nh'\n",
    "iout1 = 1026\n",
    "repo, rurmode, dp = mode2repo(mode1)\n",
    "nh1 = uri.RamsesSnapshot(repo, iout1, mode=rurmode)\n",
    "nhs1 = uri.TimeSeries(nh1)\n",
    "nhs1.read_iout_avail()\n",
    "nout1 = nhs1.iout_avail['iout']\n",
    "gals1 = uhmi.HaloMaker.load(nh1, galaxy=True, double_precision=dp)\n",
    "hals1 = uhmi.HaloMaker.load(nh1, galaxy=False, double_precision=dp)\n",
    "database1 = f\"/home/jeon/MissingSat/database\"\n",
    "LG1 = pklload(f\"{database1}/LG\")\n",
    "keys1 = []\n",
    "for key in LG1.keys():\n",
    "    if(LG1[key]['isLG']): keys1.append(key)\n",
    "keys1 = np.array(keys1)\n",
    "\n",
    "mode2 = 'nh2'\n",
    "iout2 = 797\n",
    "repo, rurmode, dp = mode2repo(mode2)\n",
    "nh2 = uri.RamsesSnapshot(repo, iout2, mode=rurmode)\n",
    "nhs2 = uri.TimeSeries(nh2)\n",
    "nhs2.read_iout_avail()\n",
    "nout2 = nhs2.iout_avail['iout']\n",
    "gals2 = uhmi.HaloMaker.load(nh2, galaxy=True, double_precision=dp)\n",
    "hals2 = uhmi.HaloMaker.load(nh2, galaxy=False, double_precision=dp)\n",
    "database2 = f\"/home/jeon/MissingSat/database/nh2\"\n",
    "LG2 = pklload(f\"{database2}/LG\")\n",
    "keys2 = []\n",
    "for key in LG2.keys():\n",
    "    if(LG2[key]['isLG']): keys2.append(key)\n",
    "keys2 = np.array(keys2)"
   ]
  },
  {
   "cell_type": "markdown",
   "metadata": {},
   "source": [
    "# Eye Check"
   ]
  },
  {
   "cell_type": "code",
   "execution_count": 3,
   "metadata": {},
   "outputs": [
    {
     "data": {
      "text/plain": [
       "(dict_keys([1, 2, 3, 4, 7, 8, 9, 10, 14, 17, 23, 24, 25, 26, 29, 35, 36, 37, 40, 46, 47, 52, 63, 64, 75, 84, 107, 108, 121, 129, 207, 11]),\n",
       " dict_keys([2, 12, 45, 14, 3, 19, 18, 25, 37, 131, 143, 89, 10]))"
      ]
     },
     "execution_count": 3,
     "metadata": {},
     "output_type": "execute_result"
    }
   ],
   "source": [
    "LG1.keys(), LG2.keys()"
   ]
  },
  {
   "cell_type": "code",
   "execution_count": 4,
   "metadata": {},
   "outputs": [
    {
     "data": {
      "text/plain": [
       "(dict_keys(['BGG', 'neighbor', 'sats', 'subs', 'real', 'box', 'UDG', 'isLG']),\n",
       " dict_keys(['BGG', 'subs', 'sats', 'real', 'Final_sats', 'Final_subs', 'Final_real', 'box', 'UDG', 'isLG']))"
      ]
     },
     "execution_count": 4,
     "metadata": {},
     "output_type": "execute_result"
    }
   ],
   "source": [
    "LG1[1].keys(), LG2[2].keys()"
   ]
  },
  {
   "cell_type": "code",
   "execution_count": 5,
   "metadata": {},
   "outputs": [],
   "source": [
    "t1 = LG1[1]; t2 = LG2[2]"
   ]
  },
  {
   "cell_type": "code",
   "execution_count": 6,
   "metadata": {},
   "outputs": [
    {
     "name": "stdout",
     "output_type": "stream",
     "text": [
      "('nparts', 'id', 'timestep', 'level', 'host', 'hostsub', 'nbsub', 'nextsub', 'aexp', 'm', 'x', 'y', 'z', 'vx', 'vy', 'vz', 'Lx', 'Ly', 'Lz', 'r', 'a', 'b', 'c', 'ek', 'ep', 'et', 'spin', 'sigma', 'sigma_bulge', 'm_bulge', 'rvir', 'mvir', 'tvir', 'cvel', 'rho0', 'rc', 'halo_id', 'halo_nparts', 'halo_level', 'halo_host', 'halo_hostsub', 'halo_x', 'halo_y', 'halo_z', 'halo_vx', 'halo_vy', 'halo_vz', 'halo_mvir', 'halo_rvir', 'fcontam', 'dist', 'central', 'main', 'r200', 'm200', 'r200_code', 'm_star_200', 'm_gas_200', 'fcontam_200', 'rp', 'sfr', 'sfr_tot', 'galaxy_nh2', 'halo_nh2', 'matchrate')\n",
      "('nparts', 'id', 'timestep', 'level', 'host', 'hostsub', 'nbsub', 'nextsub', 'aexp', 'm', 'x', 'y', 'z', 'vx', 'vy', 'vz', 'Lx', 'Ly', 'Lz', 'r', 'a', 'b', 'c', 'ek', 'ep', 'et', 'spin', 'sigma', 'sigma_bulge', 'm_bulge', 'rvir', 'mvir', 'tvir', 'cvel', 'rho0', 'rc', 'halo_id', 'halo_nparts', 'halo_level', 'halo_host', 'halo_hostsub', 'halo_x', 'halo_y', 'halo_z', 'halo_vx', 'halo_vy', 'halo_vz', 'halo_mvir', 'halo_rvir', 'fcontam', 'dist', 'central', 'main', 'r200', 'm200', 'r200_code', 'm_star_200', 'm_gas_200', 'fcontam_200', 'rp', 'sfr', 'sfr_tot', 'galaxy_nh', 'halo_nh', 'matchrate')\n"
     ]
    }
   ],
   "source": [
    "# Check BGG dtype\n",
    "print(t1['BGG'].dtype.names)\n",
    "print(t2['BGG'].dtype.names)"
   ]
  },
  {
   "cell_type": "code",
   "execution_count": 7,
   "metadata": {},
   "outputs": [
    {
     "name": "stdout",
     "output_type": "stream",
     "text": [
      "('nparts', 'id', 'timestep', 'level', 'host', 'hostsub', 'nbsub', 'nextsub', 'aexp', 'm', 'x', 'y', 'z', 'vx', 'vy', 'vz', 'Lx', 'Ly', 'Lz', 'r', 'a', 'b', 'c', 'ek', 'ep', 'et', 'spin', 'sigma', 'rvir', 'mvir', 'tvir', 'cvel', 'rho0', 'rc', 'mcontam', 'r10_mem', 'r50_mem', 'r90_mem', 'r10_vir', 'r50_vir', 'r90_vir', 'r10_max', 'r50_max', 'r90_max', 'sub', 'dink', 'mdm', 'mstar', 'mcold', 'mcell', 'Host', 'r200kpc', 'm200', 'r200', 'mdm_vir', 'mstar_vir', 'mcell_vir', 'mcold_vir')\n",
      "\n",
      " True\n"
     ]
    }
   ],
   "source": [
    "# Check subs dtype\n",
    "print(t1['subs'].dtype.names)\n",
    "print('\\n',t1['subs'].dtype.names==t2['subs'].dtype.names)"
   ]
  },
  {
   "cell_type": "code",
   "execution_count": 8,
   "metadata": {},
   "outputs": [
    {
     "name": "stdout",
     "output_type": "stream",
     "text": [
      "('nparts', 'id', 'timestep', 'level', 'host', 'hostsub', 'nbsub', 'nextsub', 'aexp', 'm', 'x', 'y', 'z', 'vx', 'vy', 'vz', 'Lx', 'Ly', 'Lz', 'r', 'a', 'b', 'c', 'ek', 'ep', 'et', 'spin', 'sigma', 'sigma_bulge', 'm_bulge', 'rvir', 'mvir', 'tvir', 'cvel', 'rho0', 'rc', 'halo_id', 'halo_nparts', 'halo_level', 'halo_host', 'halo_hostsub', 'halo_x', 'halo_y', 'halo_z', 'halo_vx', 'halo_vy', 'halo_vz', 'halo_mvir', 'halo_rvir', 'fcontam', 'dist', 'central', 'main', 'Host', 'r50m', 'r90m', 'r50r', 'r90r', 'SFR_mem', 'u_mem', 'g_mem', 'r_mem', 'i_mem', 'z_mem', 'metal_mem', 'ager_mem', 't50_mem', 't90_mem', 'SFR_r50m', 'u_r50m', 'g_r50m', 'r_r50m', 'i_r50m', 'z_r50m', 'metal_r50m', 'ager_r50m', 't50_r50m', 't90_r50m', 'mgas_r50m', 'mcold_r50m', 'mdm_r50m', 'SFR_r90m', 'u_r90m', 'g_r90m', 'r_r90m', 'i_r90m', 'z_r90m', 'metal_r90m', 'ager_r90m', 't50_r90m', 't90_r90m', 'mgas_r90m', 'mcold_r90m', 'mdm_r90m', 'SFR_r50r', 'u_r50r', 'g_r50r', 'r_r50r', 'i_r50r', 'z_r50r', 'metal_r50r', 'ager_r50r', 't50_r50r', 't90_r50r', 'mgas_r50r', 'mcold_r50r', 'mdm_r50r', 'SFR_r90r', 'u_r90r', 'g_r90r', 'r_r90r', 'i_r90r', 'z_r90r', 'metal_r90r', 'ager_r90r', 't50_r90r', 't90_r90r', 'mgas_r90r', 'mcold_r90r', 'mdm_r90r', 'SFR_rmax', 'u_rmax', 'g_rmax', 'r_rmax', 'i_rmax', 'z_rmax', 'metal_rmax', 'ager_rmax', 't50_rmax', 't90_rmax', 'mgas_rmax', 'mcold_rmax', 'mdm_rmax')\n",
      "\n",
      " True\n"
     ]
    }
   ],
   "source": [
    "# Check sats dtype\n",
    "print(t1['sats'].dtype.names)\n",
    "print('\\n',t1['sats'].dtype.names==t2['sats'].dtype.names)"
   ]
  },
  {
   "cell_type": "code",
   "execution_count": 9,
   "metadata": {},
   "outputs": [
    {
     "name": "stdout",
     "output_type": "stream",
     "text": [
      "('hid', 'gid', 'state')\n",
      "\n",
      " True\n"
     ]
    }
   ],
   "source": [
    "# Check real dtype\n",
    "print(t1['real'].dtype.names)\n",
    "print('\\n',t1['real'].dtype.names==t2['real'].dtype.names)"
   ]
  },
  {
   "cell_type": "code",
   "execution_count": 10,
   "metadata": {},
   "outputs": [
    {
     "data": {
      "text/plain": [
       "(array([[0.46326325, 0.47044213],\n",
       "        [0.47227537, 0.4795758 ],\n",
       "        [0.51605117, 0.52295538]]),\n",
       " array([[0.46339653, 0.46953495],\n",
       "        [0.47168159, 0.47852275],\n",
       "        [0.51618915, 0.52290185]]))"
      ]
     },
     "execution_count": 10,
     "metadata": {},
     "output_type": "execute_result"
    }
   ],
   "source": [
    "t1['box'], t2['box']"
   ]
  },
  {
   "cell_type": "code",
   "execution_count": 11,
   "metadata": {},
   "outputs": [
    {
     "data": {
      "text/plain": [
       "array([(21222,     -1, 'dink'), (21224,     -1, 'dink'),\n",
       "       (21236,     -1, 'dink'), (21240,     -1, 'dink'),\n",
       "       (21242,     -1, 'dink'), (21243,     -1, 'dink'),\n",
       "       (21245,     -1, 'dink'), (21248,     -1, 'dink'),\n",
       "       (21250,     -1, 'dink'), (21252,     -1, 'dink'),\n",
       "       (21261,     -1, 'dink'), (21264,     -1, 'dink'),\n",
       "       (21265,     -1, 'dink'), (21267,     -1, 'dink'),\n",
       "       (21268,     -1, 'dink'), (21269,     -1, 'dink'),\n",
       "       (21271,     -1, 'dink'), (21272,     -1, 'dink'),\n",
       "       (21276,     -1, 'dink'), (21277,     -1, 'dink'),\n",
       "       (21279,     -1, 'dink'), (21280,     -1, 'dink'),\n",
       "       (21282,     -1, 'dink'), (21285,     -1, 'dink'),\n",
       "       (21286,     -1, 'dink'), (21287,     -1, 'dink'),\n",
       "       (21288,     -1, 'dink'), (21289,     -1, 'dink'),\n",
       "       (21290,     -1, 'dink'), (21294,     -1, 'dink'),\n",
       "       (21295,     -1, 'dink'), (21296,     -1, 'dink'),\n",
       "       (21298,     -1, 'dink'), (21299,     -1, 'dink'),\n",
       "       (21302,     -1, 'dink'), (21306,     -1, 'dink'),\n",
       "       (21307,     -1, 'dink'), (21308,     -1, 'dink'),\n",
       "       (21309,     -1, 'dink'), (21311, -21311, 'upair'),\n",
       "       (21313,     -1, 'dink'), (21314,     -1, 'dink'),\n",
       "       (21318,     -1, 'dink'), (21319,     -1, 'dink'),\n",
       "       (21320,     -1, 'dink'), (21228,     -1, 'dink'),\n",
       "       (21230,     -1, 'dink'), (21321,     -1, 'dink'),\n",
       "       (21322,     -1, 'dink'), (21323,     -1, 'dink'),\n",
       "       (21281,    260, 'pair'), (21325,     -1, 'dink'),\n",
       "       (21327,     -1, 'dink'), (21259,     -1, 'dink'),\n",
       "       (21328,     -1, 'dink'), ( 3402,     -1, 'dink'),\n",
       "       ( 3518,     -1, 'dink'), (21330,     -1, 'dink'),\n",
       "       ( 3366,     -1, 'dink'), ( 4051,     -1, 'dink'),\n",
       "       (21226,     -1, 'dink'), (21227,     -1, 'dink'),\n",
       "       (21229, -21229, 'upair'), (21331,     -1, 'dink'),\n",
       "       (21332,     -1, 'dink'), (21221,     -1, 'dink'),\n",
       "       (21237,     -1, 'dink'), (21253,     -1, 'dink'),\n",
       "       (21255,     -1, 'dink'), (21260,     -1, 'dink'),\n",
       "       (21333,    324, 'pair'), (21334,     -1, 'dink'),\n",
       "       ( 5207,     -1, 'dink'), (21217,     -1, 'dink'),\n",
       "       (21223,     -1, 'dink'), (21335,     -1, 'dink'),\n",
       "       (21336,     -1, 'dink'), (21337, -21337, 'upair'),\n",
       "       (21338,     -1, 'dink'), ( 3372,     -1, 'dink'),\n",
       "       (21231,     -1, 'dink'), (21233,     -1, 'dink'),\n",
       "       (21339,     -1, 'dink'), (21340,     -1, 'dink'),\n",
       "       ( 4041,     -1, 'dink'), (21341, -21341, 'upair'),\n",
       "       ( 3462,     -1, 'dink'), (21239,     -1, 'dink'),\n",
       "       (21246,     -1, 'dink'), (21342,    530, 'pair'),\n",
       "       (21232,     -1, 'dink'), (21343,     -1, 'dink'),\n",
       "       (21344, -21344, 'upair'), (21345, -21345, 'upair'),\n",
       "       (21346, -21346, 'upair'), (21347,     -1, 'dink'),\n",
       "       (21349,    658, 'pair'), (21350,     -1, 'dink'),\n",
       "       (21351,     -1, 'dink'), (21352,     -1, 'dink'),\n",
       "       (21353,     -1, 'dink'), (21354,     -1, 'dink'),\n",
       "       (21355,     -1, 'dink'), (21357,     -1, 'dink'),\n",
       "       (21358,     -1, 'dink'), (   -1,    883, 'orphan'),\n",
       "       (   -1,    889, 'orphan')],\n",
       "      dtype=[('hid', '<i4'), ('gid', '<i4'), ('state', '<U7')])"
      ]
     },
     "execution_count": 11,
     "metadata": {},
     "output_type": "execute_result"
    }
   ],
   "source": [
    "t2['real']"
   ]
  },
  {
   "cell_type": "code",
   "execution_count": 12,
   "metadata": {},
   "outputs": [
    {
     "data": {
      "text/plain": [
       "array([(21222,   -1, 'dink'), (21224,   -1, 'dink'), (21234,   -1, 'ban'),\n",
       "       (21235,   -1, 'ban'), (21236,   -1, 'dink'), (21238,   -1, 'ban'),\n",
       "       (21240,   -1, 'dink'), (21242,   -1, 'dink'),\n",
       "       (21243,   -1, 'dink'), (21244,   -1, 'ban'), (21245,   -1, 'dink'),\n",
       "       (21248,   -1, 'dink'), (21249,   -1, 'ban'), (21250,   -1, 'dink'),\n",
       "       (21252,   -1, 'dink'), (21256,   -1, 'ban'), (21257,   -1, 'ban'),\n",
       "       (21261,   -1, 'dink'), (21263,   -1, 'ban'), (21264,   -1, 'dink'),\n",
       "       (21265,   -1, 'dink'), (21267,   -1, 'dink'),\n",
       "       (21268,   -1, 'dink'), (21269,   -1, 'dink'), (21270,   -1, 'ban'),\n",
       "       (21271,   -1, 'dink'), (21272,   -1, 'dink'), (21273,   -1, 'ban'),\n",
       "       (21274,   -1, 'ban'), (21275,   -1, 'ban'), (21276,   -1, 'dink'),\n",
       "       (21277,   -1, 'dink'), (21278,   -1, 'ban'), (21279,   -1, 'dink'),\n",
       "       (21280,   -1, 'dink'), (21282,   -1, 'dink'), (21283,   -1, 'ban'),\n",
       "       (21284,   -1, 'ban'), (21285,   -1, 'dink'), (21286,   -1, 'dink'),\n",
       "       (21287,   -1, 'dink'), (21288,   -1, 'dink'),\n",
       "       (21289,   -1, 'dink'), (21290,   -1, 'dink'), (21291,   -1, 'ban'),\n",
       "       (21292,   -1, 'ban'), (21293,   -1, 'ban'), (21294,   -1, 'dink'),\n",
       "       (21295,   -1, 'dink'), (21296,   -1, 'dink'), (21297,   -1, 'ban'),\n",
       "       (21298,   -1, 'dink'), (21299,   -1, 'dink'), (21300,   -1, 'ban'),\n",
       "       (21301,   -1, 'ban'), (21302,   -1, 'dink'), (21303,   -1, 'ban'),\n",
       "       (21304,   -1, 'ban'), (21305,   -1, 'ban'), (21306,   -1, 'dink'),\n",
       "       (21307,   -1, 'dink'), (21308,   -1, 'dink'),\n",
       "       (21309,   -1, 'dink'), (21310,   -1, 'ban'), (21311,   -1, 'dink'),\n",
       "       (21312,   -1, 'ban'), (21313,   -1, 'dink'), (21314,   -1, 'dink'),\n",
       "       (21315,   -1, 'ban'), (21316,   -1, 'ban'), (21317,   -1, 'ban'),\n",
       "       (21318,   -1, 'dink'), (21319,   -1, 'dink'),\n",
       "       (21320,   -1, 'dink'), (21228,   -1, 'dink'),\n",
       "       (21230,   -1, 'dink'), (21321,   -1, 'dink'),\n",
       "       (21322,   -1, 'dink'), (21323,   -1, 'dink'), (21254,   -1, 'ban'),\n",
       "       (21281,  260, 'pair'), (21324,   -1, 'ban'), (21325,   -1, 'dink'),\n",
       "       (21326,   -1, 'ban'), (21327,   -1, 'dink'), (21259,   -1, 'dink'),\n",
       "       (21328,   -1, 'dink'), ( 3402,   -1, 'dink'),\n",
       "       ( 3518,   -1, 'dink'), (21247,   -1, 'ban'), (21329,   -1, 'ban'),\n",
       "       (21330,   -1, 'dink'), ( 3366,   -1, 'dink'), ( 3991,   -1, 'ban'),\n",
       "       ( 4051,   -1, 'dink'), (21226,   -1, 'dink'),\n",
       "       (21227,   -1, 'dink'), (21229,   -1, 'dink'),\n",
       "       (21331,   -1, 'dink'), (21332,   -1, 'dink'),\n",
       "       (21221,   -1, 'dink'), (21237,   -1, 'dink'), (21241,   -1, 'ban'),\n",
       "       (21253,   -1, 'dink'), (21255,   -1, 'dink'),\n",
       "       (21260,   -1, 'dink'), (21333,  324, 'pair'),\n",
       "       (21334,   -1, 'dink'), ( 5207,   -1, 'dink'), (21216,   -1, 'ban'),\n",
       "       (21217,   -1, 'dink'), (21223,   -1, 'dink'),\n",
       "       (21335,   -1, 'dink'), (21336,   -1, 'dink'),\n",
       "       (21337,   -1, 'dink'), (21338,   -1, 'dink'),\n",
       "       ( 3372,   -1, 'dink'), (21231,   -1, 'dink'),\n",
       "       (21233,   -1, 'dink'), (21339,   -1, 'dink'), (21258,   -1, 'ban'),\n",
       "       (21340,   -1, 'dink'), ( 4041,   -1, 'dink'),\n",
       "       (21341,   -1, 'dink'), ( 3462,   -1, 'dink'),\n",
       "       (21239,   -1, 'dink'), (21246,   -1, 'dink'),\n",
       "       (21342,  530, 'pair'), (21232,   -1, 'dink'),\n",
       "       (21343,   -1, 'dink'), (21344,   -1, 'dink'),\n",
       "       (21345,   -1, 'dink'), (21346,   -1, 'dink'),\n",
       "       (21347,   -1, 'dink'), (21348,   -1, 'ban'), (21349,  658, 'pair'),\n",
       "       (21350,   -1, 'dink'), (21351,   -1, 'dink'),\n",
       "       (21352,   -1, 'dink'), (21353,   -1, 'dink'),\n",
       "       (21354,   -1, 'dink'), (21355,   -1, 'dink'),\n",
       "       (21357,   -1, 'dink'), (21358,   -1, 'dink'), (   -1,  627, 'ban'),\n",
       "       (   -1,  881, 'ban'), (   -1,  882, 'ban'),\n",
       "       (   -1,  883, 'orphan'), (   -1,  884, 'ban'),\n",
       "       (   -1,  885, 'ban'), (   -1,  886, 'ban'), (   -1,  887, 'ban'),\n",
       "       (   -1,  888, 'ban'), (   -1,  889, 'orphan'),\n",
       "       (   -1,  890, 'ban'), (   -1,  891, 'ban'), (   -1,  892, 'ban'),\n",
       "       (   -1,  893, 'ban'), (   -1,  894, 'ban'), (   -1,  895, 'ban'),\n",
       "       (   -1,  896, 'ban'), (   -1,  897, 'ban'), (   -1,  898, 'ban'),\n",
       "       (   -1,  899, 'ban'), (   -1,  900, 'ban'), (   -1,  901, 'ban'),\n",
       "       (   -1,  902, 'ban'), (   -1, 1449, 'ban'), (   -1, 1450, 'ban'),\n",
       "       (   -1, 1451, 'ban'), (   -1, 1452, 'ban')],\n",
       "      dtype=[('hid', '<i4'), ('gid', '<i4'), ('state', '<U7')])"
      ]
     },
     "execution_count": 12,
     "metadata": {},
     "output_type": "execute_result"
    }
   ],
   "source": [
    "t2['Final_real']"
   ]
  },
  {
   "cell_type": "markdown",
   "metadata": {},
   "source": [
    "# Merge LG"
   ]
  },
  {
   "cell_type": "code",
   "execution_count": 13,
   "metadata": {},
   "outputs": [],
   "source": [
    "LG = {}\n",
    "LG['nh'] = {}\n",
    "LG['nh2']= {}\n",
    "jkeys = ['BGG', 'sats', 'subs', 'real', 'box', 'UDG', 'isLG']\n",
    "for key in LG1.keys():\n",
    "    LG['nh'][key] = {}\n",
    "    for jkey in jkeys:\n",
    "        LG['nh'][key][jkey] = LG1[key][jkey]\n",
    "for key in LG2.keys():\n",
    "    LG['nh2'][key] = {}\n",
    "    for jkey in jkeys:\n",
    "        LG['nh2'][key][jkey] = LG2[key][jkey]"
   ]
  },
  {
   "cell_type": "code",
   "execution_count": 14,
   "metadata": {},
   "outputs": [
    {
     "data": {
      "text/plain": [
       "dict_keys(['nh', 'nh2'])"
      ]
     },
     "execution_count": 14,
     "metadata": {},
     "output_type": "execute_result"
    }
   ],
   "source": [
    "LG.keys()"
   ]
  },
  {
   "cell_type": "markdown",
   "metadata": {},
   "source": [
    "# Main progenitor"
   ]
  },
  {
   "cell_type": "code",
   "execution_count": 26,
   "metadata": {},
   "outputs": [],
   "source": [
    "tree = pklload(f\"{database2}/02_main_progenitors.pickle\")"
   ]
  },
  {
   "cell_type": "code",
   "execution_count": 55,
   "metadata": {},
   "outputs": [],
   "source": [
    "# tmp = tree[tree['timestep'] == 797]\n",
    "# nsub = len( np.unique(tmp['lastid']) )\n",
    "# nsub"
   ]
  },
  {
   "cell_type": "code",
   "execution_count": 58,
   "metadata": {},
   "outputs": [],
   "source": [
    "# newtree = np.hstack( (tree[:nsub], tree[15*nsub:]) )\n",
    "# pklsave(newtree, f\"{database2}/02_main_progenitors.pickle\", overwrite=True)"
   ]
  }
 ],
 "metadata": {
  "kernelspec": {
   "display_name": "jeonpy",
   "language": "python",
   "name": "python3"
  },
  "language_info": {
   "codemirror_mode": {
    "name": "ipython",
    "version": 3
   },
   "file_extension": ".py",
   "mimetype": "text/x-python",
   "name": "python",
   "nbconvert_exporter": "python",
   "pygments_lexer": "ipython3",
   "version": "3.10.4"
  }
 },
 "nbformat": 4,
 "nbformat_minor": 2
}
