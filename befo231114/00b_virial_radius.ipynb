{
 "cells": [
  {
   "cell_type": "code",
   "execution_count": 1,
   "metadata": {},
   "outputs": [],
   "source": [
    "from tqdm import tqdm\n",
    "import matplotlib.pyplot as plt # type: module\n",
    "import matplotlib.ticker as ticker\n",
    "from matplotlib import colormaps\n",
    "from matplotlib.colors import Normalize\n",
    "\n",
    "import numpy as np\n",
    "import os, glob\n",
    "import time\n",
    "import warnings\n",
    "\n",
    "from rur.fortranfile import FortranFile\n",
    "from rur import uri, uhmi, painter, drawer\n",
    "from rur.sci.photometry import measure_luminosity\n",
    "from rur.sci.geometry import get_angles, euler_angle\n",
    "from rur.utool import rotate_data\n",
    "from scipy.ndimage import gaussian_filter\n",
    "uri.timer.verbose=1\n",
    "# from rur.sci.kinematics import f_getpot\n",
    "\n",
    "from icl_IO import mode2repo, pklsave, pklload\n",
    "from icl_tool import *\n",
    "from icl_numba import large_isin, large_isind, isin\n",
    "from icl_draw import drawsnap, add_scalebar, addtext, MakeSub_nolabel, label_to_in, fancy_axis, circle\n",
    "import argparse, subprocess\n",
    "from importlib import reload\n",
    "import cmasher as cmr\n",
    "from copy import deepcopy\n",
    "from multiprocessing import Pool, shared_memory\n"
   ]
  },
  {
   "cell_type": "code",
   "execution_count": 2,
   "metadata": {},
   "outputs": [
    {
     "name": "stdout",
     "output_type": "stream",
     "text": [
      "[Output 01026] Age (Gyr) : 11.624 / 13.741, z = 0.17149 (a = 0.8536)\n"
     ]
    }
   ],
   "source": [
    "mode = 'nh'\n",
    "iout = 1026\n",
    "repo, rurmode, dp = mode2repo(mode)\n",
    "snap = uri.RamsesSnapshot(repo, iout, mode=rurmode)\n",
    "snaps = uri.TimeSeries(snap)\n",
    "snaps.read_iout_avail()\n",
    "nout = snaps.iout_avail['iout']\n",
    "gals = uhmi.HaloMaker.load(snap, galaxy=True, double_precision=dp)\n",
    "hals = uhmi.HaloMaker.load(snap, galaxy=False, double_precision=dp)\n",
    "database = f\"/home/jeon/MissingSat/database\""
   ]
  },
  {
   "cell_type": "code",
   "execution_count": 3,
   "metadata": {},
   "outputs": [
    {
     "data": {
      "text/plain": [
       "13706"
      ]
     },
     "execution_count": 3,
     "metadata": {},
     "output_type": "execute_result"
    }
   ],
   "source": [
    "lvl1s = hals[ (hals['level']==1) & (hals['mcontam'] < hals['m'])]\n",
    "len(lvl1s)"
   ]
  },
  {
   "cell_type": "code",
   "execution_count": 4,
   "metadata": {},
   "outputs": [],
   "source": [
    "def calc_virial(cx,cy,cz, rmax_pkpc, pos_code, m_msol):\n",
    "    '''\n",
    "    input:\n",
    "        cx,cy,cz : center of halo\n",
    "        star, dm, cell : data\n",
    "    output:\n",
    "        rvir : virial radius\n",
    "        mvir : virial mass\n",
    "        rvir_code : virial radius in code unit\n",
    "    '''\n",
    "    global snap\n",
    "    # critical density\n",
    "    H02 = (snap.H0 * 3.24078e-20)**2 # s-2\n",
    "    G = 6.6743e-11 # N m2 kg-2 = kg m s-2 m2 kg-2 = m3 s-2 kg-1\n",
    "    rhoc = 3 * H02 /8 /np.pi /G # kg m-3\n",
    "    rhoc *= 5.02785e-31  * (3.086e+19)**3 # Msol ckpc-3\n",
    "    rhoc /= (snap.aexp**3) # Msol pkpc-3\n",
    "\n",
    "    # Sorting\n",
    "    dis = distance3d(pos_code[:,0], pos_code[:,1], pos_code[:,2], cx, cy, cz)/snap.unit['kpc'] # pkpc\n",
    "    mask = dis<rmax_pkpc\n",
    "    argsort = np.argsort(dis[mask])\n",
    "    dis = dis[mask][argsort] # pkpc\n",
    "    mas = m_msol[mask][argsort] # Msol\n",
    "\n",
    "    # Inside density\n",
    "    cmas = np.cumsum(mas) # Msol\n",
    "    vols = 4/3*np.pi * dis**3 # pkpc^3\n",
    "    rhos = cmas / vols # Msol pkpc-3\n",
    "\n",
    "    arg = np.argmin(np.abs(rhos - 200*rhoc))\n",
    "    rvir = dis[arg] # pkpc\n",
    "    if(rvir>=np.max(dis)):\n",
    "        warnings.warn(\"rvir is larger than maximum distance!\\nEnlarge the box size!\")\n",
    "    elif(rvir<=np.min(dis)):\n",
    "        warnings.warn(\"rvir is smaller than minimum distance!\\nNot enough particles!\")\n",
    "    else:\n",
    "        pass\n",
    "    rvir_code = rvir * snap.unit['kpc'] # code unit\n",
    "    mvir = cmas[arg] # Msol\n",
    "    return rvir, mvir, rvir_code"
   ]
  },
  {
   "cell_type": "code",
   "execution_count": 5,
   "metadata": {},
   "outputs": [],
   "source": [
    "def calc_virial_mp(hal, kwargs):\n",
    "    cx,cy,cz = hal['x'], hal['y'], hal['z']\n",
    "    rmax_pkpc = kwargs['rmax_pkpc']\n",
    "    pos_code = kwargs['pos_code']\n",
    "    m_msol = kwargs['m_msol']\n",
    "    return hal['id'], calc_virial(cx,cy,cz, rmax_pkpc, pos_code, m_msol)"
   ]
  },
  {
   "cell_type": "code",
   "execution_count": 6,
   "metadata": {},
   "outputs": [
    {
     "data": {
      "text/plain": [
       "array([], dtype=int32)"
      ]
     },
     "execution_count": 6,
     "metadata": {},
     "output_type": "execute_result"
    }
   ],
   "source": [
    "snap.cpulist_part"
   ]
  },
  {
   "cell_type": "code",
   "execution_count": 8,
   "metadata": {},
   "outputs": [
    {
     "name": "stderr",
     "output_type": "stream",
     "text": [
      "  0%|          | 0/13706 [00:00<?, ?it/s]"
     ]
    },
    {
     "name": "stdout",
     "output_type": "stream",
     "text": [
      "[469] load done\n"
     ]
    },
    {
     "name": "stderr",
     "output_type": "stream",
     "text": [
      "  0%|          | 1/13706 [00:10<41:49:46, 10.99s/it]"
     ]
    },
    {
     "name": "stdout",
     "output_type": "stream",
     "text": [
      "[474] load done\n",
      "    Nbsub: 29\n"
     ]
    },
    {
     "name": "stderr",
     "output_type": "stream",
     "text": [
      "  0%|          | 1/13706 [01:02<236:47:20, 62.20s/it]\n"
     ]
    },
    {
     "ename": "AttributeError",
     "evalue": "Can't pickle local object 'custom_extra_fields.<locals>.<lambda>'",
     "output_type": "error",
     "traceback": [
      "\u001b[0;31m---------------------------------------------------------------------------\u001b[0m",
      "\u001b[0;31mAttributeError\u001b[0m                            Traceback (most recent call last)",
      "\u001b[1;32m/home/jeon/MissingSat/00b_virial_radius.ipynb Cell 7\u001b[0m line \u001b[0;36m<cell line: 7>\u001b[0;34m()\u001b[0m\n\u001b[1;32m     <a href='vscode-notebook-cell://ssh-remote%2B7b22686f73744e616d65223a22474336227d/home/jeon/MissingSat/00b_virial_radius.ipynb#X10sdnNjb2RlLXJlbW90ZQ%3D%3D?line=36'>37</a>\u001b[0m kwargs \u001b[39m=\u001b[39m {\u001b[39m'\u001b[39m\u001b[39mrmax_pkpc\u001b[39m\u001b[39m'\u001b[39m:\u001b[39m2\u001b[39m\u001b[39m*\u001b[39mlvl1[\u001b[39m'\u001b[39m\u001b[39mr\u001b[39m\u001b[39m'\u001b[39m]\u001b[39m/\u001b[39msnap\u001b[39m.\u001b[39munit[\u001b[39m'\u001b[39m\u001b[39mkpc\u001b[39m\u001b[39m'\u001b[39m], \u001b[39m'\u001b[39m\u001b[39msnap\u001b[39m\u001b[39m'\u001b[39m:snap_star, \u001b[39m'\u001b[39m\u001b[39mpos_code\u001b[39m\u001b[39m'\u001b[39m:pos_code, \u001b[39m'\u001b[39m\u001b[39mm_msol\u001b[39m\u001b[39m'\u001b[39m:mass_msol}\n\u001b[1;32m     <a href='vscode-notebook-cell://ssh-remote%2B7b22686f73744e616d65223a22474336227d/home/jeon/MissingSat/00b_virial_radius.ipynb#X10sdnNjb2RlLXJlbW90ZQ%3D%3D?line=37'>38</a>\u001b[0m \u001b[39mwith\u001b[39;00m Pool(processes\u001b[39m=\u001b[39m\u001b[39mmin\u001b[39m(\u001b[39m32\u001b[39m, \u001b[39mlen\u001b[39m(subs))) \u001b[39mas\u001b[39;00m pool:\n\u001b[0;32m---> <a href='vscode-notebook-cell://ssh-remote%2B7b22686f73744e616d65223a22474336227d/home/jeon/MissingSat/00b_virial_radius.ipynb#X10sdnNjb2RlLXJlbW90ZQ%3D%3D?line=38'>39</a>\u001b[0m     results \u001b[39m=\u001b[39m pool\u001b[39m.\u001b[39;49mstarmap(calc_virial_mp, [(sub,kwargs) \u001b[39mfor\u001b[39;49;00m sub \u001b[39min\u001b[39;49;00m subs])\n\u001b[1;32m     <a href='vscode-notebook-cell://ssh-remote%2B7b22686f73744e616d65223a22474336227d/home/jeon/MissingSat/00b_virial_radius.ipynb#X10sdnNjb2RlLXJlbW90ZQ%3D%3D?line=39'>40</a>\u001b[0m \u001b[39mprint\u001b[39m(results)\n\u001b[1;32m     <a href='vscode-notebook-cell://ssh-remote%2B7b22686f73744e616d65223a22474336227d/home/jeon/MissingSat/00b_virial_radius.ipynb#X10sdnNjb2RlLXJlbW90ZQ%3D%3D?line=40'>41</a>\u001b[0m \u001b[39mbreak\u001b[39;00m\n",
      "File \u001b[0;32m~/.conda/envs/jeonpy/lib/python3.10/multiprocessing/pool.py:372\u001b[0m, in \u001b[0;36mPool.starmap\u001b[0;34m(self, func, iterable, chunksize)\u001b[0m\n\u001b[1;32m    366\u001b[0m \u001b[39mdef\u001b[39;00m \u001b[39mstarmap\u001b[39m(\u001b[39mself\u001b[39m, func, iterable, chunksize\u001b[39m=\u001b[39m\u001b[39mNone\u001b[39;00m):\n\u001b[1;32m    367\u001b[0m     \u001b[39m'''\u001b[39;00m\n\u001b[1;32m    368\u001b[0m \u001b[39m    Like `map()` method but the elements of the `iterable` are expected to\u001b[39;00m\n\u001b[1;32m    369\u001b[0m \u001b[39m    be iterables as well and will be unpacked as arguments. Hence\u001b[39;00m\n\u001b[1;32m    370\u001b[0m \u001b[39m    `func` and (a, b) becomes func(a, b).\u001b[39;00m\n\u001b[1;32m    371\u001b[0m \u001b[39m    '''\u001b[39;00m\n\u001b[0;32m--> 372\u001b[0m     \u001b[39mreturn\u001b[39;00m \u001b[39mself\u001b[39;49m\u001b[39m.\u001b[39;49m_map_async(func, iterable, starmapstar, chunksize)\u001b[39m.\u001b[39;49mget()\n",
      "File \u001b[0;32m~/.conda/envs/jeonpy/lib/python3.10/multiprocessing/pool.py:771\u001b[0m, in \u001b[0;36mApplyResult.get\u001b[0;34m(self, timeout)\u001b[0m\n\u001b[1;32m    769\u001b[0m     \u001b[39mreturn\u001b[39;00m \u001b[39mself\u001b[39m\u001b[39m.\u001b[39m_value\n\u001b[1;32m    770\u001b[0m \u001b[39melse\u001b[39;00m:\n\u001b[0;32m--> 771\u001b[0m     \u001b[39mraise\u001b[39;00m \u001b[39mself\u001b[39m\u001b[39m.\u001b[39m_value\n",
      "File \u001b[0;32m~/.conda/envs/jeonpy/lib/python3.10/multiprocessing/pool.py:537\u001b[0m, in \u001b[0;36mPool._handle_tasks\u001b[0;34m(taskqueue, put, outqueue, pool, cache)\u001b[0m\n\u001b[1;32m    535\u001b[0m     \u001b[39mbreak\u001b[39;00m\n\u001b[1;32m    536\u001b[0m \u001b[39mtry\u001b[39;00m:\n\u001b[0;32m--> 537\u001b[0m     put(task)\n\u001b[1;32m    538\u001b[0m \u001b[39mexcept\u001b[39;00m \u001b[39mException\u001b[39;00m \u001b[39mas\u001b[39;00m e:\n\u001b[1;32m    539\u001b[0m     job, idx \u001b[39m=\u001b[39m task[:\u001b[39m2\u001b[39m]\n",
      "File \u001b[0;32m~/.conda/envs/jeonpy/lib/python3.10/multiprocessing/connection.py:211\u001b[0m, in \u001b[0;36m_ConnectionBase.send\u001b[0;34m(self, obj)\u001b[0m\n\u001b[1;32m    209\u001b[0m \u001b[39mself\u001b[39m\u001b[39m.\u001b[39m_check_closed()\n\u001b[1;32m    210\u001b[0m \u001b[39mself\u001b[39m\u001b[39m.\u001b[39m_check_writable()\n\u001b[0;32m--> 211\u001b[0m \u001b[39mself\u001b[39m\u001b[39m.\u001b[39m_send_bytes(_ForkingPickler\u001b[39m.\u001b[39;49mdumps(obj))\n",
      "File \u001b[0;32m~/.conda/envs/jeonpy/lib/python3.10/multiprocessing/reduction.py:51\u001b[0m, in \u001b[0;36mForkingPickler.dumps\u001b[0;34m(cls, obj, protocol)\u001b[0m\n\u001b[1;32m     48\u001b[0m \u001b[39m@classmethod\u001b[39m\n\u001b[1;32m     49\u001b[0m \u001b[39mdef\u001b[39;00m \u001b[39mdumps\u001b[39m(\u001b[39mcls\u001b[39m, obj, protocol\u001b[39m=\u001b[39m\u001b[39mNone\u001b[39;00m):\n\u001b[1;32m     50\u001b[0m     buf \u001b[39m=\u001b[39m io\u001b[39m.\u001b[39mBytesIO()\n\u001b[0;32m---> 51\u001b[0m     \u001b[39mcls\u001b[39;49m(buf, protocol)\u001b[39m.\u001b[39;49mdump(obj)\n\u001b[1;32m     52\u001b[0m     \u001b[39mreturn\u001b[39;00m buf\u001b[39m.\u001b[39mgetbuffer()\n",
      "\u001b[0;31mAttributeError\u001b[0m: Can't pickle local object 'custom_extra_fields.<locals>.<lambda>'"
     ]
    }
   ],
   "source": [
    "snap_star = uri.RamsesSnapshot(repo, iout, mode=rurmode)\n",
    "snap_dm = uri.RamsesSnapshot(repo, iout, mode=rurmode)\n",
    "snap_cell = uri.RamsesSnapshot(repo, iout, mode=rurmode)\n",
    "\n",
    "virials = np.zeros( len(hals), dtype=[(\"r200kpc\",\"<f8\"), (\"m200\",\"<f8\"), (\"r200\",\"<f8\")])\n",
    "uri.timer.verbose=0\n",
    "for lvl1 in tqdm( lvl1s ):\n",
    "    if(len(snap_star.cpulist_part)>400)or(len(snap_dm.cpulist_part)>400)or(len(snap_cell.cpulist_part)>400):\n",
    "        print(f\"Clearing cpulist {len(snap_star.cpulist_part)} {len(snap_dm.cpulist_part)} {len(snap_cell.cpulist_part)}\")\n",
    "        snap_star.clear()\n",
    "        snap_dm.clear()\n",
    "        snap_cell.clear()\n",
    "    snap_star.set_box_halo(lvl1, 2, radius_name='r')\n",
    "    snap_dm.set_box_halo(lvl1, 2, radius_name='r')\n",
    "    snap_cell.set_box_halo(lvl1, 2, radius_name='r')\n",
    "    snap_star.get_part(pname='star', target_fields=['x','y','z','m'], nthread=32)\n",
    "    snap_dm.get_part(pname='dm', target_fields=['x','y','z','m'], nthread=32)\n",
    "    snap_cell.get_cell(target_fields=['x','y','z','rho','level'], nthread=32)\n",
    "\n",
    "    pos_star = snap_star.part['pos']; mass_star = snap_star.part['m','Msol']\n",
    "    pos_dm = snap_dm.part['pos']; mass_dm = snap_dm.part['m','Msol']\n",
    "    pos_cell = snap_cell.cell['pos']; mass_cell = snap_cell.cell['m','Msol']\n",
    "    pos_code = np.vstack( (pos_star, pos_dm, pos_cell) )\n",
    "    mass_msol = np.hstack( (mass_star, mass_dm, mass_cell) )\n",
    "\n",
    "    r200kpc, m200, r200 = calc_virial(lvl1['x'], lvl1['y'], lvl1['z'], 2*lvl1['r']/snap.unit['kpc'], pos_code, mass_msol)\n",
    "    virials[lvl1['id']-1]['r200kpc'] = r200kpc\n",
    "    virials[lvl1['id']-1]['m200'] = m200\n",
    "    virials[lvl1['id']-1]['r200'] = r200\n",
    "    if(lvl1['nbsub']>0):\n",
    "        if(lvl1['nbsub']>1):\n",
    "            subs = None\n",
    "            now = lvl1\n",
    "            while(now['nextsub']>0):\n",
    "                tmp = hals[now['nextsub']-1]\n",
    "                subs = tmp if(subs is None) else np.hstack( (subs, tmp) )\n",
    "                now = tmp\n",
    "            nproc = min(32, len(subs))\n",
    "            kwargs = {'rmax_pkpc':2*lvl1['r']/snap.unit['kpc'], 'pos_code':pos_code, 'm_msol':mass_msol}\n",
    "            with Pool(processes=nproc) as pool:\n",
    "                results = pool.starmap(calc_virial_mp, [(sub,kwargs) for sub in subs])\n",
    "        else:\n",
    "            tmp = hals[lvl1['nextsub']-1]\n",
    "            r200kpc, m200, r200 = calc_virial(tmp['x'], tmp['y'], tmp['z'], 2*lvl1['r']/snap.unit['kpc'], pos_code, mass_msol)\n",
    "            virials[tmp['id']-1]['r200kpc'] = r200kpc\n",
    "            virials[tmp['id']-1]['m200'] = m200\n",
    "            virials[tmp['id']-1]['r200'] = r200\n",
    "\n",
    "        for result in results:\n",
    "            virials[result[0]-1]['r200kpc'] = result[1]\n",
    "            virials[result[0]-1]['m200'] = result[2]\n",
    "            virials[result[0]-1]['r200'] = result[3]\n",
    "pklsave(virials, f\"{database}/virial_radius_{mode}_{iout}.pickle\")\n",
    "uri.timer.verbose=1\n"
   ]
  },
  {
   "cell_type": "code",
   "execution_count": 10,
   "metadata": {},
   "outputs": [
    {
     "data": {
      "text/plain": [
       "numpy.ndarray"
      ]
     },
     "execution_count": 10,
     "metadata": {},
     "output_type": "execute_result"
    }
   ],
   "source": [
    "type(pos_code)"
   ]
  },
  {
   "cell_type": "code",
   "execution_count": null,
   "metadata": {},
   "outputs": [
    {
     "ename": "ValueError",
     "evalue": "could not broadcast input array from shape (0,79020) into shape (0,)",
     "output_type": "error",
     "traceback": [
      "\u001b[0;31m---------------------------------------------------------------------------\u001b[0m",
      "\u001b[0;31mValueError\u001b[0m                                Traceback (most recent call last)",
      "\u001b[1;32m/home/jeon/MissingSat/00b_virial_radius.ipynb Cell 7\u001b[0m line \u001b[0;36m<cell line: 1>\u001b[0;34m()\u001b[0m\n\u001b[0;32m----> <a href='vscode-notebook-cell://ssh-remote%2B7b22686f73744e616d65223a22474336227d/home/jeon/MissingSat/00b_virial_radius.ipynb#X20sdnNjb2RlLXJlbW90ZQ%3D%3D?line=0'>1</a>\u001b[0m snap_star\u001b[39m.\u001b[39;49mget_part(pname\u001b[39m=\u001b[39;49m\u001b[39m'\u001b[39;49m\u001b[39mstar\u001b[39;49m\u001b[39m'\u001b[39;49m, target_fields\u001b[39m=\u001b[39;49m[\u001b[39m'\u001b[39;49m\u001b[39mx\u001b[39;49m\u001b[39m'\u001b[39;49m,\u001b[39m'\u001b[39;49m\u001b[39my\u001b[39;49m\u001b[39m'\u001b[39;49m,\u001b[39m'\u001b[39;49m\u001b[39mz\u001b[39;49m\u001b[39m'\u001b[39;49m,\u001b[39m'\u001b[39;49m\u001b[39mm\u001b[39;49m\u001b[39m'\u001b[39;49m], nthread\u001b[39m=\u001b[39;49m\u001b[39m32\u001b[39;49m)\n",
      "File \u001b[0;32m~/rur/rur/uri.py:1771\u001b[0m, in \u001b[0;36mRamsesSnapshot.get_part\u001b[0;34m(self, box, target_fields, domain_slicing, exact_box, cpulist, pname, python, nthread, legacy)\u001b[0m\n\u001b[1;32m   1769\u001b[0m     domain_slicing \u001b[39m=\u001b[39m \u001b[39mTrue\u001b[39;00m\n\u001b[1;32m   1770\u001b[0m     exact_box \u001b[39m=\u001b[39m \u001b[39mFalse\u001b[39;00m\n\u001b[0;32m-> 1771\u001b[0m \u001b[39mself\u001b[39;49m\u001b[39m.\u001b[39;49mread_part(target_fields\u001b[39m=\u001b[39;49mtarget_fields, cpulist\u001b[39m=\u001b[39;49mcpulist, pname\u001b[39m=\u001b[39;49mpname, nthread\u001b[39m=\u001b[39;49mnthread, python\u001b[39m=\u001b[39;49mpython, legacy\u001b[39m=\u001b[39;49mlegacy)\n\u001b[1;32m   1772\u001b[0m \u001b[39mif\u001b[39;00m(domain_slicing):\n\u001b[1;32m   1773\u001b[0m     part \u001b[39m=\u001b[39m domain_slice(\u001b[39mself\u001b[39m\u001b[39m.\u001b[39mpart_data, cpulist, \u001b[39mself\u001b[39m\u001b[39m.\u001b[39mcpulist_part, \u001b[39mself\u001b[39m\u001b[39m.\u001b[39mbound_part)\n",
      "File \u001b[0;32m~/rur/rur/uri.py:1102\u001b[0m, in \u001b[0;36mRamsesSnapshot.read_part\u001b[0;34m(self, target_fields, cpulist, pname, nthread, python, legacy)\u001b[0m\n\u001b[1;32m   1100\u001b[0m timer\u001b[39m.\u001b[39mstart(\u001b[39m'\u001b[39m\u001b[39mReading \u001b[39m\u001b[39m%d\u001b[39;00m\u001b[39m part files (\u001b[39m\u001b[39m%s\u001b[39;00m\u001b[39m) in \u001b[39m\u001b[39m%s\u001b[39;00m\u001b[39m... \u001b[39m\u001b[39m'\u001b[39m \u001b[39m%\u001b[39m (cpulist\u001b[39m.\u001b[39msize, utool\u001b[39m.\u001b[39mformat_bytes(filesize), \u001b[39mself\u001b[39m\u001b[39m.\u001b[39mpath), \u001b[39m1\u001b[39m)\n\u001b[1;32m   1101\u001b[0m \u001b[39mif\u001b[39;00m(python):\n\u001b[0;32m-> 1102\u001b[0m     part \u001b[39m=\u001b[39m \u001b[39mself\u001b[39;49m\u001b[39m.\u001b[39;49mread_part_py(pname, cpulist, target_fields\u001b[39m=\u001b[39;49mtarget_fields, nthread\u001b[39m=\u001b[39;49m\u001b[39mmin\u001b[39;49m(nthread, cpulist\u001b[39m.\u001b[39;49msize), legacy\u001b[39m=\u001b[39;49mlegacy)\n\u001b[1;32m   1103\u001b[0m \u001b[39melse\u001b[39;00m:\n\u001b[1;32m   1104\u001b[0m     progress_bar \u001b[39m=\u001b[39m cpulist\u001b[39m.\u001b[39msize \u001b[39m>\u001b[39m progress_bar_limit \u001b[39mand\u001b[39;00m timer\u001b[39m.\u001b[39mverbose \u001b[39m>\u001b[39m\u001b[39m=\u001b[39m \u001b[39m1\u001b[39m\n",
      "File \u001b[0;32m~/rur/rur/uri.py:1060\u001b[0m, in \u001b[0;36mRamsesSnapshot.read_part_py\u001b[0;34m(self, pname, cpulist, target_fields, nthread, legacy)\u001b[0m\n\u001b[1;32m   1058\u001b[0m     cursor \u001b[39m=\u001b[39m \u001b[39m0\u001b[39m\n\u001b[1;32m   1059\u001b[0m     \u001b[39mfor\u001b[39;00m fname \u001b[39min\u001b[39;00m files:\n\u001b[0;32m-> 1060\u001b[0m         cursor \u001b[39m=\u001b[39m _read_part(fname, kwargs, legacy, part\u001b[39m=\u001b[39;49mpart, mask\u001b[39m=\u001b[39;49m\u001b[39mNone\u001b[39;49;00m, nsize\u001b[39m=\u001b[39;49m\u001b[39mNone\u001b[39;49;00m, cursor\u001b[39m=\u001b[39;49mcursor, address\u001b[39m=\u001b[39;49m\u001b[39mNone\u001b[39;49;00m, shape\u001b[39m=\u001b[39;49m\u001b[39mNone\u001b[39;49;00m)\n\u001b[1;32m   1061\u001b[0m     part \u001b[39m=\u001b[39m part[:cursor]\n\u001b[1;32m   1062\u001b[0m \u001b[39melse\u001b[39;00m:\n",
      "File \u001b[0;32m~/rur/rur/uri.py:340\u001b[0m, in \u001b[0;36m_read_part\u001b[0;34m(fname, kwargs, legacy, part, mask, nsize, cursor, address, shape)\u001b[0m\n\u001b[1;32m    338\u001b[0m     part \u001b[39m=\u001b[39m np\u001b[39m.\u001b[39mndarray(shape\u001b[39m=\u001b[39mshape, dtype\u001b[39m=\u001b[39mdtype, buffer\u001b[39m=\u001b[39mexist\u001b[39m.\u001b[39mbuf)\n\u001b[1;32m    339\u001b[0m     pointer \u001b[39m=\u001b[39m part[cursor:cursor\u001b[39m+\u001b[39mnsize]\u001b[39m.\u001b[39mview() \n\u001b[0;32m--> 340\u001b[0m \u001b[39mif\u001b[39;00m(\u001b[39m'\u001b[39m\u001b[39mx\u001b[39m\u001b[39m'\u001b[39m \u001b[39min\u001b[39;00m target_fields):pointer[\u001b[39m'\u001b[39;49m\u001b[39mx\u001b[39;49m\u001b[39m'\u001b[39;49m] \u001b[39m=\u001b[39m x[mask]\n\u001b[1;32m    341\u001b[0m \u001b[39mif\u001b[39;00m(\u001b[39m'\u001b[39m\u001b[39my\u001b[39m\u001b[39m'\u001b[39m \u001b[39min\u001b[39;00m target_fields):pointer[\u001b[39m'\u001b[39m\u001b[39my\u001b[39m\u001b[39m'\u001b[39m] \u001b[39m=\u001b[39m y[mask]\n\u001b[1;32m    342\u001b[0m \u001b[39mif\u001b[39;00m(\u001b[39m'\u001b[39m\u001b[39mz\u001b[39m\u001b[39m'\u001b[39m \u001b[39min\u001b[39;00m target_fields):pointer[\u001b[39m'\u001b[39m\u001b[39mz\u001b[39m\u001b[39m'\u001b[39m] \u001b[39m=\u001b[39m z[mask]\n",
      "\u001b[0;31mValueError\u001b[0m: could not broadcast input array from shape (0,79020) into shape (0,)"
     ]
    }
   ],
   "source": [
    "snap_star.get_part(pname='star', target_fields=['x','y','z','m'], nthread=32)\n"
   ]
  },
  {
   "cell_type": "code",
   "execution_count": null,
   "metadata": {},
   "outputs": [
    {
     "data": {
      "text/plain": [
       "array([  469,   474,   475, ..., 18772, 18773, 18774], dtype=int32)"
      ]
     },
     "execution_count": 8,
     "metadata": {},
     "output_type": "execute_result"
    }
   ],
   "source": [
    "lvl1s['id']"
   ]
  },
  {
   "cell_type": "code",
   "execution_count": null,
   "metadata": {},
   "outputs": [
    {
     "data": {
      "text/plain": [
       "474"
      ]
     },
     "execution_count": 7,
     "metadata": {},
     "output_type": "execute_result"
    }
   ],
   "source": [
    "lvl1['id']"
   ]
  },
  {
   "cell_type": "code",
   "execution_count": null,
   "metadata": {},
   "outputs": [],
   "source": []
  }
 ],
 "metadata": {
  "kernelspec": {
   "display_name": "jeonpy",
   "language": "python",
   "name": "python3"
  },
  "language_info": {
   "codemirror_mode": {
    "name": "ipython",
    "version": 3
   },
   "file_extension": ".py",
   "mimetype": "text/x-python",
   "name": "python",
   "nbconvert_exporter": "python",
   "pygments_lexer": "ipython3",
   "version": "3.10.4"
  }
 },
 "nbformat": 4,
 "nbformat_minor": 2
}
