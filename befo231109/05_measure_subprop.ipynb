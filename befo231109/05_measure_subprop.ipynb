{
 "cells": [
  {
   "cell_type": "code",
   "execution_count": 1,
   "metadata": {},
   "outputs": [],
   "source": [
    "from tqdm import tqdm\n",
    "import matplotlib.pyplot as plt # type: module\n",
    "import matplotlib.ticker as ticker\n",
    "from matplotlib import colormaps\n",
    "from matplotlib.colors import Normalize\n",
    "\n",
    "import numpy as np\n",
    "import os, glob\n",
    "import time\n",
    "import warnings\n",
    "\n",
    "from rur.fortranfile import FortranFile\n",
    "from rur import uri, uhmi, painter, drawer\n",
    "from rur.sci.photometry import measure_luminosity\n",
    "from rur.sci.geometry import get_angles, euler_angle\n",
    "from rur.utool import rotate_data\n",
    "from scipy.ndimage import gaussian_filter\n",
    "uri.timer.verbose=1\n",
    "# from rur.sci.kinematics import f_getpot\n",
    "\n",
    "from icl_IO import mode2repo, pklsave, pklload\n",
    "from icl_tool import *\n",
    "from icl_numba import large_isin, large_isind, isin\n",
    "from icl_draw import drawsnap, add_scalebar, addtext, MakeSub_nolabel, label_to_in, fancy_axis, circle\n",
    "import argparse, subprocess\n",
    "from importlib import reload\n",
    "import cmasher as cmr\n",
    "from copy import deepcopy"
   ]
  },
  {
   "cell_type": "code",
   "execution_count": 2,
   "metadata": {},
   "outputs": [
    {
     "name": "stdout",
     "output_type": "stream",
     "text": [
      "[Output 01026] Age (Gyr) : 11.624 / 13.741, z = 0.17149 (a = 0.8536)\n",
      "dict_keys([1, 2, 3, 4, 7, 8, 9, 10, 14, 17, 23, 24, 25, 26, 29, 35, 36, 37, 40, 46, 47, 52, 63, 64, 75, 84, 92, 107, 108, 121, 129, 207, 11])\n",
      "dict_keys(['BGG', 'neighbor', 'sats', 'subs', 'real'])\n"
     ]
    }
   ],
   "source": [
    "mode = 'nh'\n",
    "iout = 1026\n",
    "repo, rurmode, dp = mode2repo(mode)\n",
    "snap = uri.RamsesSnapshot(repo, iout, mode=rurmode)\n",
    "snaps = uri.TimeSeries(snap)\n",
    "snaps.read_iout_avail()\n",
    "nout = snaps.iout_avail['iout']\n",
    "gals = uhmi.HaloMaker.load(snap, galaxy=True, double_precision=dp)\n",
    "hals = uhmi.HaloMaker.load(snap, galaxy=False, double_precision=dp)\n",
    "\n",
    "LG = pklload(\"./database/00_LocalGroup_fix.pickle\")\n",
    "print(LG.keys())\n",
    "print(LG[2].keys())"
   ]
  },
  {
   "cell_type": "markdown",
   "metadata": {},
   "source": [
    "See `05a_measure_subprop.py`  \n",
    "Output:\n",
    "- `./database/parts/insub/nh_star_{key:04d}_{sub['id']:07d}.pickle`\n",
    "- `./database/parts/insub/nh_cell_{key:04d}_{sub['id']:07d}.pickle`\n",
    "- `./database/parts/insub/nh_dm_{key:04d}_{sub['id']:07d}.pickle`"
   ]
  },
  {
   "cell_type": "code",
   "execution_count": 3,
   "metadata": {},
   "outputs": [
    {
     "data": {
      "text/plain": [
       "array([ 1310,  1324,  1940,  1941,  3484,  3797,  3802,  3885,  5008,\n",
       "       20689, 20699, 20700, 20705, 20706, 20708, 20709, 20710, 20713,\n",
       "       20714, 20716, 20717, 20718, 20720, 20721, 20722, 20723, 20724,\n",
       "       20726, 20727, 20730, 20731, 20732, 20733, 20734, 20735, 20736,\n",
       "       20737, 20738, 20739, 20742, 20743, 20744, 20746, 20747, 20748,\n",
       "       20749, 20750, 20751, 20753, 20754, 20756, 20757, 20758, 20760,\n",
       "       20762, 20763, 20764, 20766, 20767, 20771, 20774, 20776, 20778,\n",
       "       20779, 20780, 20781, 20783, 20784, 20785, 20787, 20790, 20792,\n",
       "       20794, 20795, 20798, 20799, 20800, 20803, 20804, 20805, 20806,\n",
       "       20809, 20810, 20813, 20814, 20815, 20817, 20820, 20823, 20824,\n",
       "       20826, 20827, 20829, 20830, 20831, 20833, 20836, 20840, 20842,\n",
       "       20844], dtype=int32)"
      ]
     },
     "execution_count": 3,
     "metadata": {},
     "output_type": "execute_result"
    }
   ],
   "source": [
    "key = 1\n",
    "LG[1]['subs']['id']"
   ]
  },
  {
   "cell_type": "code",
   "execution_count": null,
   "metadata": {},
   "outputs": [],
   "source": []
  }
 ],
 "metadata": {
  "kernelspec": {
   "display_name": "jeonpy",
   "language": "python",
   "name": "python3"
  },
  "language_info": {
   "codemirror_mode": {
    "name": "ipython",
    "version": 3
   },
   "file_extension": ".py",
   "mimetype": "text/x-python",
   "name": "python",
   "nbconvert_exporter": "python",
   "pygments_lexer": "ipython3",
   "version": "3.10.4"
  }
 },
 "nbformat": 4,
 "nbformat_minor": 2
}
