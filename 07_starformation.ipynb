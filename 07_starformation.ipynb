{
 "cells": [
  {
   "cell_type": "code",
   "execution_count": 1,
   "metadata": {},
   "outputs": [],
   "source": [
    "from IPython import get_ipython\n",
    "\n",
    "\n",
    "def type_of_script():\n",
    "    \"\"\"\n",
    "    Detects and returns the type of python kernel\n",
    "    :return: string 'jupyter' or 'ipython' or 'terminal'\n",
    "    \"\"\"\n",
    "    try:\n",
    "        ipy_str = str(type(get_ipython()))\n",
    "        if 'zmqshell' in ipy_str:\n",
    "            return 'jupyter'\n",
    "        if 'terminal' in ipy_str:\n",
    "            return 'ipython'\n",
    "    except:\n",
    "        return 'terminal'\n",
    "\n",
    "\n",
    "if type_of_script() == 'jupyter':\n",
    "    from tqdm.notebook import tqdm\n",
    "else:\n",
    "    from tqdm import tqdm\n",
    "    \n",
    "import matplotlib.pyplot as plt # type: module\n",
    "import matplotlib.ticker as ticker\n",
    "from matplotlib import colormaps\n",
    "from matplotlib.colors import Normalize\n",
    "import matplotlib.gridspec as gridspec\n",
    "import cmasher as cmr\n",
    "\n",
    "import numpy as np\n",
    "import os, glob, atexit, signal\n",
    "import time\n",
    "import warnings\n",
    "\n",
    "from rur.fortranfile import FortranFile\n",
    "from rur import uri, uhmi, painter, drawer\n",
    "from rur.sci.photometry import measure_luminosity\n",
    "from rur.sci.geometry import get_angles, euler_angle\n",
    "from rur.utool import rotate_data\n",
    "from scipy.ndimage import gaussian_filter\n",
    "uri.timer.verbose=0\n",
    "# from rur.sci.kinematics import f_getpot\n",
    "\n",
    "from icl_IO import mode2repo, pklsave, pklload\n",
    "from icl_tool import *\n",
    "from icl_numba import large_isin, large_isind, isin\n",
    "from icl_draw import drawsnap, add_scalebar, addtext, MakeSub_nolabel, label_to_in, fancy_axis, circle, ax_change_color\n",
    "from importlib import reload\n",
    "from copy import deepcopy\n",
    "from multiprocessing import Pool, shared_memory, Value\n",
    "from common_func import *"
   ]
  },
  {
   "cell_type": "code",
   "execution_count": 2,
   "metadata": {},
   "outputs": [
    {
     "name": "stdout",
     "output_type": "stream",
     "text": [
      "1336 (array(['dink', 'pair', 'upair'], dtype='<U7'), array([1145,  130,   61]))\n"
     ]
    }
   ],
   "source": [
    "mode1 = 'nh'\n",
    "database1 = f\"/home/jeon/MissingSat/database/{mode1}\"\n",
    "iout1 = 1026\n",
    "repo1, rurmode1, dp1 = mode2repo(mode1)\n",
    "snap1 = uri.RamsesSnapshot(repo1, iout1, mode=rurmode1)\n",
    "snap1s = uri.TimeSeries(snap1)\n",
    "snap1s.read_iout_avail()\n",
    "nout1 = snap1s.iout_avail['iout']; nout=nout1[nout1 <= iout1]\n",
    "gals1 = uhmi.HaloMaker.load(snap1, galaxy=True, double_precision=dp1)\n",
    "hals1 = uhmi.HaloMaker.load(snap1, galaxy=False, double_precision=dp1)\n",
    "\n",
    "LG1 = pklload(f\"{database1}/LocalGroup.pickle\")\n",
    "allsats1 = None; allsubs1 = None; states1 = None\n",
    "keys1 = list(LG1.keys())\n",
    "for key in keys1:\n",
    "    sats = LG1[key]['sats']; subs = LG1[key]['subs']; real = LG1[key]['real']\n",
    "    dink = real[real['state']=='dink']['hid']\n",
    "    ind = isin(subs['id'], dink)\n",
    "    subs['dink'][ind] = True; subs['dink'][~ind] = False\n",
    "    state = np.zeros(len(subs), dtype='<U7')\n",
    "    state[ind] = 'dink'; state[~ind] = 'pair'\n",
    "    \n",
    "    upair = real[real['state']=='upair']['hid']\n",
    "    ind = isin(subs['id'], upair)\n",
    "    state[ind] = 'upair'\n",
    "\n",
    "    allsats1 = sats if allsats1 is None else np.hstack((allsats1, sats))\n",
    "    allsubs1 = subs if allsubs1 is None else np.hstack((allsubs1, subs))\n",
    "    states1 = state if states1 is None else np.hstack((states1, state))\n",
    "argsort = np.argsort(allsubs1['id'])\n",
    "allsubs1 = allsubs1[argsort]; states1 = states1[argsort]\n",
    "dinks1 = allsubs1[states1 == 'dink']\n",
    "pairs1 = allsubs1[states1 == 'pair']\n",
    "upairs1 = allsubs1[states1 == 'upair']\n",
    "\n",
    "print(len(allsubs1), np.unique(states1, return_counts=True))  "
   ]
  },
  {
   "cell_type": "code",
   "execution_count": 3,
   "metadata": {},
   "outputs": [
    {
     "name": "stdout",
     "output_type": "stream",
     "text": [
      "1242 (array(['dink', 'pair', 'upair'], dtype='<U7'), array([1120,   79,   43]))\n"
     ]
    }
   ],
   "source": [
    "mode2 = 'nh2'\n",
    "database2 = f\"/home/jeon/MissingSat/database/{mode2}\"\n",
    "iout2 = 797\n",
    "repo2, rurmode2, dp2 = mode2repo(mode2)\n",
    "snap2 = uri.RamsesSnapshot(repo2, iout2, mode=rurmode2)\n",
    "snap2s = uri.TimeSeries(snap2)\n",
    "snap2s.read_iout_avail()\n",
    "nout2 = snap2s.iout_avail['iout']; nout=nout2[nout2 <= iout2]\n",
    "gals2 = uhmi.HaloMaker.load(snap2, galaxy=True, double_precision=dp2)\n",
    "hals2 = uhmi.HaloMaker.load(snap2, galaxy=False, double_precision=dp2)\n",
    "\n",
    "LG2 = pklload(f\"{database2}/LocalGroup.pickle\")\n",
    "allsats2 = None; allsubs2 = None; states2 = None\n",
    "keys2 = list(LG2.keys())\n",
    "for key in keys2:\n",
    "    sats = LG2[key]['sats']; subs = LG2[key]['subs']; real = LG2[key]['real']\n",
    "    dink = real[real['state']=='dink']['hid']\n",
    "    ind = isin(subs['id'], dink)\n",
    "    subs['dink'][ind] = True; subs['dink'][~ind] = False\n",
    "    state = np.zeros(len(subs), dtype='<U7')\n",
    "    state[ind] = 'dink'; state[~ind] = 'pair'\n",
    "    \n",
    "    upair = real[real['state']=='upair']['hid']\n",
    "    ind = isin(subs['id'], upair)\n",
    "    state[ind] = 'upair'\n",
    "\n",
    "    allsats2 = sats if allsats2 is None else np.hstack((allsats2, sats))\n",
    "    allsubs2 = subs if allsubs2 is None else np.hstack((allsubs2, subs))\n",
    "    states2 = state if states2 is None else np.hstack((states2, state))\n",
    "argsort = np.argsort(allsubs2['id'])\n",
    "allsubs2 = allsubs2[argsort]; states2 = states2[argsort]\n",
    "dinks2 = allsubs2[states2 == 'dink']\n",
    "pairs2 = allsubs2[states2 == 'pair']\n",
    "upairs2 = allsubs2[states2 == 'upair']\n",
    "\n",
    "print(len(allsubs2), np.unique(states2, return_counts=True))"
   ]
  },
  {
   "cell_type": "code",
   "execution_count": 4,
   "metadata": {},
   "outputs": [],
   "source": [
    "rtree1 = pklload(f\"{database1}/reduced_tree.pickle\")\n",
    "rtree2 = pklload(f\"{database2}/reduced_tree.pickle\")"
   ]
  },
  {
   "cell_type": "code",
   "execution_count": 5,
   "metadata": {},
   "outputs": [],
   "source": [
    "target = rtree1[1389][-1]"
   ]
  },
  {
   "cell_type": "code",
   "execution_count": 6,
   "metadata": {},
   "outputs": [],
   "source": [
    "snap = snap1s.get_snap(target['timestep'])\n",
    "snap.set_box_halo(target, 1, radius_name='r')\n",
    "snap.get_cell(nthread=16)\n",
    "cell = snap.cell"
   ]
  },
  {
   "cell_type": "code",
   "execution_count": 7,
   "metadata": {},
   "outputs": [
    {
     "name": "stdout",
     "output_type": "stream",
     "text": [
      "13.050007338820997\n",
      "43860 36195 43728\n"
     ]
    },
    {
     "data": {
      "text/plain": [
       "<matplotlib.image.AxesImage at 0x7f3ea914a9b0>"
      ]
     },
     "execution_count": 7,
     "metadata": {},
     "output_type": "execute_result"
    },
    {
     "data": {
      "image/png": "[encoded data removed]",
      "text/plain": [
       "<Figure size 640x480 with 3 Axes>"
      ]
     },
     "metadata": {},
     "output_type": "display_data"
    }
   ],
   "source": [
    "scale_nH = snap.unit_d / 1.66e-24 * 0.76\n",
    "\n",
    "n_gmc = 10\n",
    "del_star=2.e2\n",
    "omega_b = 0.0455\n",
    "rhoc = 1.8800000e-29\n",
    "h0 = snap.H0\n",
    "aexp = snap.aexp\n",
    "XH = 0.76\n",
    "mH = 1.6600000e-24\n",
    "nCOM = del_star*omega_b*rhoc*(h0/100.)**2/aexp**3*XH/mH\n",
    "d_gmc = max(nCOM, n_gmc) / scale_nH\n",
    "\n",
    "print(d_gmc/snap.unit['H/cc'])\n",
    "cold = cell[cell['T','K'] < 1e4]\n",
    "deng = cell[cell['rho','H/cc'] < d_gmc/snap.unit['H/cc']]\n",
    "print(len(cell), len(cold), len(deng))\n",
    "\n",
    "\n",
    "fig, axes = plt.subplots(1,3)\n",
    "painter.draw_gasmap(snap.cell, ax=axes[0])\n",
    "painter.draw_gasmap(cold, ax=axes[1])\n",
    "painter.draw_gasmap(deng, ax=axes[2])"
   ]
  },
  {
   "cell_type": "markdown",
   "metadata": {},
   "source": [
    "# Parameters"
   ]
  },
  {
   "cell_type": "code",
   "execution_count": 8,
   "metadata": {},
   "outputs": [],
   "source": [
    "smallr = 1e-10\n",
    "gamma=1.6666667"
   ]
  },
  {
   "cell_type": "code",
   "execution_count": 9,
   "metadata": {},
   "outputs": [],
   "source": [
    "# DENSITY: uold(ind_grid(i)+iskip,1)\n",
    "# VELOCITY: xdp(i)=uold(ind_grid(i)+iskip,ivar)/max(uold(ind_grid(i)+iskip,1),smallr)\n",
    "# PRESSURE: \n",
    "#   xdp(i)=uold(ind_grid(i)+iskip,ndim+2)\n",
    "#   xdp(i)=xdp(i)-0.5d0*uold(ind_grid(i)+iskip,2)**2/max(uold(ind_grid(i)+iskip,1),smallr)\n",
    "#   xdp(i)=xdp(i)-0.5d0*uold(ind_grid(i)+iskip,3)**2/max(uold(ind_grid(i)+iskip,1),smallr)\n",
    "#   xdp(i)=xdp(i)-0.5d0*uold(ind_grid(i)+iskip,4)**2/max(uold(ind_grid(i)+iskip,1),smallr)\n",
    "#   xdp(i)=(gamma-1d0)*xdp(i)\n",
    "#\n",
    "#   So, (p - [(vx**2) / 2d] - [(vy**2) / 2d]- [(vz**2) / 2d])*(gamma-1)\n",
    "def cell2uold(cell, gamma=1.6666667, smallr=1e-10):\n",
    "    uold1 = cell['rho']\n",
    "    d = np.where(uold1>smallr, uold1, smallr)\n",
    "    uold2 = cell['vx']*d\n",
    "    uold3 = cell['vy']*d\n",
    "    uold4 = cell['vz']*d\n",
    "    uold5 = cell['P']/(gamma-1) + uold4**2/2/d + uold3**2/2/d + uold2**2/2/d\n",
    "    uold = np.vstack((uold1, uold2, uold3, uold4, uold5)).T\n",
    "    return uold\n",
    "\n",
    "def uc(cell, key, gamma=1.6666667, smallr=1e-10):\n",
    "    uold1 = cell['rho']\n",
    "    if(key=='rho'):\n",
    "        return uold1\n",
    "    d = np.where(uold1>smallr, uold1, smallr)\n",
    "    if(key[0]=='v'):\n",
    "        return cell[key]*d\n",
    "    uold2 = cell['vx']*d\n",
    "    uold3 = cell['vy']*d\n",
    "    uold4 = cell['vz']*d\n",
    "    if(key=='P'):\n",
    "        return cell[key]/(gamma-1) + uold4**2/2/d + uold3**2/2/d + uold2**2/2/d\n",
    "    else:\n",
    "        return None\n",
    "uold = cell2uold(cell)"
   ]
  },
  {
   "cell_type": "code",
   "execution_count": 13,
   "metadata": {},
   "outputs": [
    {
     "name": "stdout",
     "output_type": "stream",
     "text": [
      "3.32106698059896e-09\n"
     ]
    },
    {
     "data": {
      "image/png": "[encoded data removed]",
      "text/plain": [
       "<Figure size 640x480 with 1 Axes>"
      ]
     },
     "metadata": {},
     "output_type": "display_data"
    }
   ],
   "source": [
    "for icell in cell:\n",
    "    dx = icell['dx']\n",
    "    distx = np.abs(cell['x'] - icell['x'])\n",
    "    disty = np.abs(cell['y'] - icell['y'])\n",
    "    distz = np.abs(cell['z'] - icell['z'])\n",
    "    indx = distx <= (dx/2 + cell['dx']/2)\n",
    "    indy = disty <= (dx/2 + cell['dx']/2)\n",
    "    indz = distz <= (dx/2 + cell['dx']/2)\n",
    "    neighs = cell[indx&indy&indz]\n",
    "    neighs = neighs[neighs['rho'] != icell['rho']]\n",
    "\n",
    "    samez = (neighs['z'] <= (icell['z'] + icell['dx']/2))&(neighs['z'] >= (icell['z'] - icell['dx']/2))\n",
    "    samey = (neighs['y'] <= (icell['y'] + icell['dx']/2))&(neighs['y'] >= (icell['y'] - icell['dx']/2))\n",
    "    samex = (neighs['x'] <= (icell['x'] + icell['dx']/2))&(neighs['x'] >= (icell['x'] - icell['dx']/2))\n",
    "\n",
    "    # left right\n",
    "    sameyz = samey & samez\n",
    "    lrs = neighs[sameyz]\n",
    "    ls = lrs[lrs['x'] < icell['x']]\n",
    "    if(len(ls) == 0): continue\n",
    "    rs = lrs[lrs['x'] > icell['x']]\n",
    "    if(len(rs) == 0): continue\n",
    "    # front back\n",
    "    samezx = samez & samex\n",
    "    fbs = neighs[samezx]\n",
    "    fs = fbs[fbs['y'] < icell['y']]\n",
    "    if(len(fs) == 0): continue\n",
    "    bs = fbs[fbs['y'] > icell['y']]\n",
    "    if(len(bs) == 0): continue\n",
    "    # up down\n",
    "    samexy = samex & samey\n",
    "    uds = neighs[samexy]\n",
    "    us = uds[uds['z'] < icell['z']]\n",
    "    if(len(us) == 0): continue\n",
    "    ds = uds[uds['z'] > icell['z']]\n",
    "    if(len(ds) == 0): continue\n",
    "    break\n",
    "\n",
    "trgv = 0\n",
    "for val in ['vx','vy','vz']:\n",
    "    vl = (np.average(uc(ls,val)*uc(ls, 'rho'), weights=ls['m']) + uc(icell,val)*uc(icell,'rho'))/(np.average(uc(ls,'rho'), weights=ls['vol']) + uc(icell,'rho'))\n",
    "    vr = (np.average(uc(rs,val)*uc(rs, 'rho'), weights=rs['m']) + uc(icell,val)*uc(icell,'rho'))/(np.average(uc(rs,'rho'), weights=rs['vol']) + uc(icell,'rho'))\n",
    "    vf = (np.average(uc(fs,val)*uc(fs, 'rho'), weights=fs['m']) + uc(icell,val)*uc(icell,'rho'))/(np.average(uc(fs,'rho'), weights=fs['vol']) + uc(icell,'rho'))\n",
    "    vb = (np.average(uc(bs,val)*uc(bs, 'rho'), weights=bs['m']) + uc(icell,val)*uc(icell,'rho'))/(np.average(uc(bs,'rho'), weights=bs['vol']) + uc(icell,'rho'))\n",
    "    vu = (np.average(uc(us,val)*uc(us, 'rho'), weights=us['m']) + uc(icell,val)*uc(icell,'rho'))/(np.average(uc(us,'rho'), weights=us['vol']) + uc(icell,'rho'))\n",
    "    vd = (np.average(uc(ds,val)*uc(ds, 'rho'), weights=ds['m']) + uc(icell,val)*uc(icell,'rho'))/(np.average(uc(ds,'rho'), weights=ds['vol']) + uc(icell,'rho'))\n",
    "    trgv += (vl-vr)**2 + (vf-vb)**2 + (vu-vd)**2\n",
    "print(trgv)\n",
    "    \n",
    "gamma=1.6666667\n",
    "smallc=1.e-10\n",
    "omega_m = 0.272\n",
    "c_s2 = max(smallc**2, uc(icell,'P')*(gamma - 1))\n",
    "factG = 3/8/np.pi*omega_m*aexp\n",
    "\n",
    "# star_formation.f90: 85\n",
    "#   ! Mesh spacing in that level\n",
    "ilevel = icell['level']\n",
    "dx = 0.5**ilevel\n",
    "boxlen = 1\n",
    "scale    = boxlen\n",
    "dx_loc   = dx*scale\n",
    "alpha0 = 5/(np.pi*factG*uc(icell,'rho'))*(trgv + c_s2)/dx_loc**2\n",
    "e_cts = 0.5\n",
    "phi_t = 0.57 ; theta = 0.33\n",
    "sigs  = np.log(1.0+0.16*trgv/c_s2)\n",
    "scrit = np.log(0.067/theta**2*alpha0*trgv/c_s2)\n",
    "sfr_ff(i) = e_cts/2.0*phi_t*exp(3.0/8.0*sigs)*(2.0-erfc((sigs-scrit)/sqrt(2.0*sigs)))\n",
    "\n",
    "fig, ax = plt.subplots()\n",
    "ax.scatter(neighs['x'], neighs['y'], s=5, c='k')\n",
    "# for neigh in neighs:\n",
    "    # if(neigh['level'] == icell['level']):\n",
    "    # rectangle = plt.Rectangle((neigh['x']-neigh['dx']/2, neigh['y']-neigh['dx']/2), neigh['dx'], neigh['dx'], fill=False, color='k')\n",
    "    # ax.add_patch(rectangle)   \n",
    "for lr in lrs:\n",
    "    rectangle = plt.Rectangle((lr['x']-lr['dx']/2, lr['y']-lr['dx']/2), lr['dx'], lr['dx'], fill=False, color='r')\n",
    "    ax.add_patch(rectangle)   \n",
    "for fb in fbs:\n",
    "    rectangle = plt.Rectangle((fb['x']-fb['dx']/2, fb['y']-fb['dx']/2), fb['dx'], fb['dx'], fill=False, color='g')\n",
    "    ax.add_patch(rectangle)   \n",
    "for ud in uds:\n",
    "    rectangle = plt.Rectangle((ud['x']-ud['dx']/2, ud['y']-ud['dx']/2), ud['dx'], ud['dx'], fill=False, color='c')\n",
    "    ax.add_patch(rectangle)   \n",
    "ax.scatter(icell['x'], icell['y'], s=5, c='b')\n",
    "# rectangle = plt.Rectangle((icell['x']-dx/2, icell['y']-dx/2), dx, dx, fill=False, color='b')\n",
    "# ax.add_patch(rectangle)\n",
    "# rectangle = plt.Rectangle((icell['x']-dx, icell['y']-dx), dx*2, dx*2, fill=False, color='b')\n",
    "# ax.add_patch(rectangle)\n",
    "ax.set_aspect('equal')"
   ]
  },
  {
   "cell_type": "code",
   "execution_count": null,
   "metadata": {},
   "outputs": [
    {
     "data": {
      "text/plain": [
       "13.050007338820997"
      ]
     },
     "execution_count": 21,
     "metadata": {},
     "output_type": "execute_result"
    }
   ],
   "source": [
    "scale_nH = snap1.unit_d / 1.66e-24 * 0.76\n",
    "\n",
    "n_gmc = 10\n",
    "del_star=2.e2\n",
    "omega_b = 0.0455\n",
    "rhoc = 1.8800000e-29\n",
    "h0 = snap1.H0\n",
    "aexp = snap1.aexp\n",
    "XH = 0.76\n",
    "mH = 1.6600000e-24\n",
    "nCOM = del_star*omega_b*rhoc*(h0/100.)**2/aexp**3*XH/mH\n",
    "d_gmc = max(nCOM, n_gmc) / scale_nH\n",
    "\n",
    "d_gmc/snap1.unit['H/cc']"
   ]
  },
  {
   "cell_type": "code",
   "execution_count": null,
   "metadata": {},
   "outputs": [],
   "source": []
  }
 ],
 "metadata": {
  "kernelspec": {
   "display_name": "jeonpy",
   "language": "python",
   "name": "python3"
  },
  "language_info": {
   "codemirror_mode": {
    "name": "ipython",
    "version": 3
   },
   "file_extension": ".py",
   "mimetype": "text/x-python",
   "name": "python",
   "nbconvert_exporter": "python",
   "pygments_lexer": "ipython3",
   "version": "3.10.4"
  }
 },
 "nbformat": 4,
 "nbformat_minor": 2
}
