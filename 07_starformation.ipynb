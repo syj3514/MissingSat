{
 "cells": [
  {
   "cell_type": "code",
   "execution_count": 1,
   "metadata": {},
   "outputs": [],
   "source": [
    "from IPython import get_ipython\n",
    "\n",
    "\n",
    "def type_of_script():\n",
    "    \"\"\"\n",
    "    Detects and returns the type of python kernel\n",
    "    :return: string 'jupyter' or 'ipython' or 'terminal'\n",
    "    \"\"\"\n",
    "    try:\n",
    "        ipy_str = str(type(get_ipython()))\n",
    "        if 'zmqshell' in ipy_str:\n",
    "            return 'jupyter'\n",
    "        if 'terminal' in ipy_str:\n",
    "            return 'ipython'\n",
    "    except:\n",
    "        return 'terminal'\n",
    "\n",
    "\n",
    "if type_of_script() == 'jupyter':\n",
    "    from tqdm.notebook import tqdm\n",
    "else:\n",
    "    from tqdm import tqdm\n",
    "    \n",
    "import matplotlib.pyplot as plt # type: module\n",
    "import matplotlib.ticker as ticker\n",
    "from matplotlib import colormaps\n",
    "from matplotlib.colors import Normalize\n",
    "import matplotlib.gridspec as gridspec\n",
    "import cmasher as cmr\n",
    "\n",
    "import numpy as np\n",
    "import os, glob, atexit, signal\n",
    "import time\n",
    "import warnings\n",
    "\n",
    "from rur.fortranfile import FortranFile\n",
    "from rur import uri, uhmi, painter, drawer\n",
    "from rur.sci.photometry import measure_luminosity\n",
    "from rur.sci.geometry import get_angles, euler_angle\n",
    "from rur.utool import rotate_data\n",
    "from scipy.ndimage import gaussian_filter\n",
    "uri.timer.verbose=0\n",
    "# from rur.sci.kinematics import f_getpot\n",
    "\n",
    "from icl_IO import mode2repo, pklsave, pklload\n",
    "from icl_tool import *\n",
    "from icl_numba import large_isin, large_isind, isin\n",
    "from icl_draw import drawsnap, add_scalebar, addtext, MakeSub_nolabel, label_to_in, fancy_axis, circle, ax_change_color\n",
    "from importlib import reload\n",
    "from copy import deepcopy\n",
    "from multiprocessing import Pool, shared_memory, Value\n",
    "from common_func import *"
   ]
  },
  {
   "cell_type": "code",
   "execution_count": 2,
   "metadata": {},
   "outputs": [
    {
     "name": "stdout",
     "output_type": "stream",
     "text": [
      "1336 (array(['dink', 'pair', 'upair'], dtype='<U7'), array([1145,  130,   61]))\n"
     ]
    }
   ],
   "source": [
    "mode1 = 'nh'\n",
    "database1 = f\"/home/jeon/MissingSat/database/{mode1}\"\n",
    "iout1 = 1026\n",
    "repo1, rurmode1, dp1 = mode2repo(mode1)\n",
    "snap1 = uri.RamsesSnapshot(repo1, iout1, mode=rurmode1)\n",
    "snap1s = uri.TimeSeries(snap1)\n",
    "snap1s.read_iout_avail()\n",
    "nout1 = snap1s.iout_avail['iout']; nout=nout1[nout1 <= iout1]\n",
    "gals1 = uhmi.HaloMaker.load(snap1, galaxy=True, double_precision=dp1)\n",
    "hals1 = uhmi.HaloMaker.load(snap1, galaxy=False, double_precision=dp1)\n",
    "\n",
    "LG1 = pklload(f\"{database1}/LocalGroup.pickle\")\n",
    "allsats1 = None; allsubs1 = None; states1 = None\n",
    "keys1 = list(LG1.keys())\n",
    "for key in keys1:\n",
    "    sats = LG1[key]['sats']; subs = LG1[key]['subs']; real = LG1[key]['real']\n",
    "    dink = real[real['state']=='dink']['hid']\n",
    "    ind = isin(subs['id'], dink)\n",
    "    subs['dink'][ind] = True; subs['dink'][~ind] = False\n",
    "    state = np.zeros(len(subs), dtype='<U7')\n",
    "    state[ind] = 'dink'; state[~ind] = 'pair'\n",
    "    \n",
    "    upair = real[real['state']=='upair']['hid']\n",
    "    ind = isin(subs['id'], upair)\n",
    "    state[ind] = 'upair'\n",
    "\n",
    "    allsats1 = sats if allsats1 is None else np.hstack((allsats1, sats))\n",
    "    allsubs1 = subs if allsubs1 is None else np.hstack((allsubs1, subs))\n",
    "    states1 = state if states1 is None else np.hstack((states1, state))\n",
    "argsort = np.argsort(allsubs1['id'])\n",
    "allsubs1 = allsubs1[argsort]; states1 = states1[argsort]\n",
    "dinks1 = allsubs1[states1 == 'dink']\n",
    "pairs1 = allsubs1[states1 == 'pair']\n",
    "upairs1 = allsubs1[states1 == 'upair']\n",
    "\n",
    "print(len(allsubs1), np.unique(states1, return_counts=True))  "
   ]
  },
  {
   "cell_type": "code",
   "execution_count": 9,
   "metadata": {},
   "outputs": [
    {
     "name": "stdout",
     "output_type": "stream",
     "text": [
      "('nparts', 'id', 'timestep', 'level', 'host', 'hostsub', 'nbsub', 'nextsub', 'aexp', 'm', 'x', 'y', 'z', 'vx', 'vy', 'vz', 'Lx', 'Ly', 'Lz', 'r', 'a', 'b', 'c', 'ek', 'ep', 'et', 'spin', 'sigma', 'rvir', 'mvir', 'tvir', 'cvel', 'rho0', 'rc', 'mcontam', 'r10_mem', 'r50_mem', 'r90_mem', 'r10_vir', 'r50_vir', 'r90_vir', 'r10_max', 'r50_max', 'r90_max', 'sub', 'dink', 'mdm', 'mstar', 'mcold', 'mcell', 'Host', 'r200kpc', 'm200', 'r200', 'mdm_vir', 'mstar_vir', 'mcell_vir', 'mcold_vir', 'lastid', 'give_score', 'take_score', 'insitu', 'insitu_vir')\n"
     ]
    }
   ],
   "source": [
    "stree1 = pklload(f\"{database1}/stable_tree_new.pickle\")\n",
    "print(stree1[list(stree1.keys())[0]].dtype.names)"
   ]
  },
  {
   "cell_type": "code",
   "execution_count": 4,
   "metadata": {},
   "outputs": [],
   "source": [
    "pair = np.random.choice(pairs1)\n",
    "# pair = pairs1[pairs1['id'] == 21103][0]\n",
    "branch = stree1[pair['id']]"
   ]
  },
  {
   "cell_type": "code",
   "execution_count": 5,
   "metadata": {},
   "outputs": [
    {
     "data": {
      "text/plain": [
       "dtype([('nparts', '<i4'), ('id', '<i4'), ('timestep', '<i4'), ('level', '<i4'), ('host', '<i4'), ('hostsub', '<i4'), ('nbsub', '<i4'), ('nextsub', '<i4'), ('aexp', '<f8'), ('m', '<f8'), ('x', '<f8'), ('y', '<f8'), ('z', '<f8'), ('vx', '<f8'), ('vy', '<f8'), ('vz', '<f8'), ('Lx', '<f8'), ('Ly', '<f8'), ('Lz', '<f8'), ('r', '<f8'), ('a', '<f8'), ('b', '<f8'), ('c', '<f8'), ('ek', '<f8'), ('ep', '<f8'), ('et', '<f8'), ('spin', '<f8'), ('sigma', '<f8'), ('rvir', '<f8'), ('mvir', '<f8'), ('tvir', '<f8'), ('cvel', '<f8'), ('rho0', '<f8'), ('rc', '<f8'), ('mcontam', '<f8'), ('r10_mem', '<f8'), ('r50_mem', '<f8'), ('r90_mem', '<f8'), ('r10_vir', '<f8'), ('r50_vir', '<f8'), ('r90_vir', '<f8'), ('r10_max', '<f8'), ('r50_max', '<f8'), ('r90_max', '<f8'), ('sub', '<i8'), ('dink', '?'), ('mdm', '<f8'), ('mstar', '<f8'), ('mcold', '<f8'), ('mcell', '<f8'), ('Host', '<i4'), ('r200kpc', '<f8'), ('m200', '<f8'), ('r200', '<f8'), ('mdm_vir', '<f8'), ('mstar_vir', '<f8'), ('mcell_vir', '<f8'), ('mcold_vir', '<f8'), ('lastid', '<i4'), ('give_score', '<f8'), ('take_score', '<f8')])"
      ]
     },
     "execution_count": 5,
     "metadata": {},
     "output_type": "execute_result"
    }
   ],
   "source": [
    "branch.dtype"
   ]
  },
  {
   "cell_type": "code",
   "execution_count": 10,
   "metadata": {},
   "outputs": [
    {
     "name": "stdout",
     "output_type": "stream",
     "text": [
      "7.106616627495372 9.870371579452943\n",
      "7.222747428082868 7.106616627495372 243\n"
     ]
    },
    {
     "data": {
      "image/png": "[encoded data removed]",
      "text/plain": [
       "<Figure size 640x480 with 1 Axes>"
      ]
     },
     "metadata": {},
     "output_type": "display_data"
    }
   ],
   "source": [
    "for pair in pairs1:\n",
    "    branch = stree1[pair['id']]\n",
    "    tmp = branch['insitu_vir']>0\n",
    "    if(np.sum(tmp)<5):\n",
    "        print(np.log10(pair['mstar_vir']), np.log10(pair['mdm_vir']))\n",
    "        plt.scatter(branch['timestep'], branch['mdm_vir'], fc='k')\n",
    "        plt.scatter(branch['timestep'], branch['insitu_vir'], fc='dodgerblue')\n",
    "        plt.scatter(branch['timestep'], branch['mstar_vir'], fc='orange', s=2)\n",
    "        plt.yscale('log')\n",
    "        where = np.where(tmp)[0][-1] # first SF epoch\n",
    "        print(np.log10(np.sum(branch['insitu_vir'])), np.log10(branch[0]['mstar_vir']), branch[where]['timestep'])\n",
    "        break"
   ]
  },
  {
   "cell_type": "code",
   "execution_count": 5,
   "metadata": {},
   "outputs": [],
   "source": [
    "target = stree1[pairs1[0]['id']][-1]"
   ]
  },
  {
   "cell_type": "code",
   "execution_count": 6,
   "metadata": {},
   "outputs": [],
   "source": [
    "snap = snap1s.get_snap(target['timestep'])\n",
    "snap.set_box_halo(target, 1.5, radius_name='r')\n",
    "snap.get_cell(nthread=16)\n",
    "allcells = snap.cell\n",
    "cells = cut_sphere(allcells, target['x'], target['y'], target['z'], target['r'])"
   ]
  },
  {
   "cell_type": "code",
   "execution_count": 7,
   "metadata": {},
   "outputs": [],
   "source": [
    "import ramses_function\n",
    "reload(ramses_function)\n",
    "from ramses_function import *"
   ]
  },
  {
   "cell_type": "code",
   "execution_count": 8,
   "metadata": {},
   "outputs": [],
   "source": [
    "# Variable in this snapshot\n",
    "h0 = params('h0', snap)\n",
    "aexp = params('aexp', snap)\n",
    "omega_m = params('omega_m', snap)\n",
    "scale_nH = params('scale_nH', snap)\n",
    "nCOM = params('nCOM', snap)\n",
    "d_gmc = params('d_gmc', snap)\n",
    "factG = params('factG', snap)\n",
    "dt_old = params('dt_old', snap)\n",
    "dt_new = params('dt_new', snap)\n",
    "mass_sph = params('mass_sph', snap)\n",
    "localseed = params('localseed', snap)"
   ]
  },
  {
   "cell_type": "code",
   "execution_count": 9,
   "metadata": {},
   "outputs": [
    {
     "data": {
      "text/plain": [
       "3707.3446244493675"
      ]
     },
     "execution_count": 9,
     "metadata": {},
     "output_type": "execute_result"
    }
   ],
   "source": [
    "d_gmc"
   ]
  },
  {
   "cell_type": "code",
   "execution_count": 10,
   "metadata": {},
   "outputs": [
    {
     "name": "stdout",
     "output_type": "stream",
     "text": [
      "10.0\n"
     ]
    },
    {
     "data": {
      "text/plain": [
       "<matplotlib.patches.Circle at 0x7f01ee47ab90>"
      ]
     },
     "execution_count": 10,
     "metadata": {},
     "output_type": "execute_result"
    },
    {
     "data": {
      "image/png": "[encoded data removed]",
      "text/plain": [
       "<Figure size 640x480 with 3 Axes>"
      ]
     },
     "metadata": {},
     "output_type": "display_data"
    }
   ],
   "source": [
    "print(d_gmc/snap.unit['H/cc'])\n",
    "cold = cells[cells['T','K'] < 1e4]\n",
    "deng = cells[cells['rho','H/cc'] < d_gmc/snap.unit['H/cc']]\n",
    "\n",
    "fig, axes = plt.subplots(1,3)\n",
    "painter.draw_gasmap(snap.cell, ax=axes[0])\n",
    "painter.draw_gasmap(cold, ax=axes[1])\n",
    "painter.draw_gasmap(deng, ax=axes[2])\n",
    "cir = plt.Circle((target['x'],target['y']), target['r'], fill=False, color='r')\n",
    "axes[0].add_artist(cir)"
   ]
  },
  {
   "cell_type": "code",
   "execution_count": 11,
   "metadata": {},
   "outputs": [
    {
     "data": {
      "text/plain": [
       "<matplotlib.collections.PathCollection at 0x7f027ae28340>"
      ]
     },
     "execution_count": 11,
     "metadata": {},
     "output_type": "execute_result"
    },
    {
     "data": {
      "image/png": "[encoded data removed]",
      "text/plain": [
       "<Figure size 640x480 with 1 Axes>"
      ]
     },
     "metadata": {},
     "output_type": "display_data"
    }
   ],
   "source": [
    "plt.scatter(np.linspace(-3, 3, 100), 1-erfcs(np.linspace(-3, 3, 100)))"
   ]
  },
  {
   "cell_type": "code",
   "execution_count": 12,
   "metadata": {},
   "outputs": [
    {
     "data": {
      "text/plain": [
       "0.1955601350000009"
      ]
     },
     "execution_count": 12,
     "metadata": {},
     "output_type": "execute_result"
    }
   ],
   "source": [
    "def get_dt(snap, snaps):\n",
    "    istep = np.where(snaps.iout_avail['iout'] == snap.iout)[0][0]\n",
    "    table = snaps.iout_avail['time']\n",
    "    return np.abs(table[istep-1] - table[istep])\n",
    "get_dt(snap, snap1s)"
   ]
  },
  {
   "cell_type": "code",
   "execution_count": 219,
   "metadata": {},
   "outputs": [],
   "source": [
    "def get_nbor(icell, cells, return_nbor=False, buffer=0.01):\n",
    "    dx = icell['dx']\n",
    "    distx = np.abs(cells['x'] - icell['x'])\n",
    "    disty = np.abs(cells['y'] - icell['y'])\n",
    "    distz = np.abs(cells['z'] - icell['z'])\n",
    "    indx = distx <= (dx/2 + cells['dx']/2)\n",
    "    indy = disty <= (dx/2 + cells['dx']/2)\n",
    "    indz = distz <= (dx/2 + cells['dx']/2)\n",
    "    neighs = cells[indx&indy&indz]\n",
    "    neighs = neighs[neighs['rho'] != icell['rho']]\n",
    "\n",
    "    samez = (neighs['z'] <= ((icell['z'] + icell['dx']/2)*(1+buffer)))&(neighs['z'] >= ((icell['z'] - icell['dx']/2)*(1+buffer)))\n",
    "    samey = (neighs['y'] <= ((icell['y'] + icell['dx']/2)*(1+buffer)))&(neighs['y'] >= ((icell['y'] - icell['dx']/2)*(1+buffer)))\n",
    "    samex = (neighs['x'] <= ((icell['x'] + icell['dx']/2)*(1+buffer)))&(neighs['x'] >= ((icell['x'] - icell['dx']/2)*(1+buffer)))\n",
    "\n",
    "    # left right\n",
    "    sameyz = samey & samez\n",
    "    lrs = neighs[sameyz]\n",
    "    print(lrs['x'])\n",
    "    ls = lrs[lrs['x'] < icell['x']]\n",
    "    rs = lrs[lrs['x'] > icell['x']]\n",
    "    # front back\n",
    "    samezx = samez & samex\n",
    "    fbs = neighs[samezx]\n",
    "    fs = fbs[fbs['y'] < icell['y']]\n",
    "    bs = fbs[fbs['y'] > icell['y']]\n",
    "    # up down\n",
    "    samexy = samex & samey\n",
    "    uds = neighs[samexy]\n",
    "    us = uds[uds['z'] < icell['z']]\n",
    "    ds = uds[uds['z'] > icell['z']]\n",
    "    if(return_nbor): return ls, rs, fs, bs, us, ds, neighs\n",
    "    return ls, rs, fs, bs, us, ds"
   ]
  },
  {
   "cell_type": "code",
   "execution_count": 220,
   "metadata": {},
   "outputs": [
    {
     "data": {
      "text/plain": [
       "0.0016327003933974359"
      ]
     },
     "execution_count": 220,
     "metadata": {},
     "output_type": "execute_result"
    }
   ],
   "source": [
    "scale_nH"
   ]
  },
  {
   "cell_type": "code",
   "execution_count": 221,
   "metadata": {},
   "outputs": [
    {
     "name": "stdout",
     "output_type": "stream",
     "text": [
      "[3401 3435 3241 1827]\n",
      "[3429 3833 3484 3977]\n",
      "[3281 4041  595 2376]\n"
     ]
    }
   ],
   "source": [
    "localseed = from_raw('localseed', snap, 2)\n",
    "print(localseed)\n",
    "localseed = from_raw('localseed', snap1, 1)\n",
    "print(localseed)\n",
    "localseed = from_raw('localseed', snap, 1)\n",
    "print(localseed)\n",
    "Seed = localseed"
   ]
  },
  {
   "cell_type": "code",
   "execution_count": 222,
   "metadata": {},
   "outputs": [],
   "source": [
    "import ramses_function\n",
    "reload(ramses_function)\n",
    "from ramses_function import *"
   ]
  },
  {
   "cell_type": "code",
   "execution_count": 235,
   "metadata": {},
   "outputs": [
    {
     "data": {
      "application/json": {
       "ascii": false,
       "bar_format": null,
       "colour": null,
       "elapsed": 0.019417524337768555,
       "initial": 0,
       "n": 0,
       "ncols": null,
       "nrows": null,
       "postfix": null,
       "prefix": "",
       "rate": null,
       "total": 36202,
       "unit": "it",
       "unit_divisor": 1000,
       "unit_scale": false
      },
      "application/vnd.jupyter.widget-view+json": {
       "model_id": "578bceca84ad4d8299b78067679b8d99",
       "version_major": 2,
       "version_minor": 0
      },
      "text/plain": [
       "  0%|          | 0/36202 [00:00<?, ?it/s]"
      ]
     },
     "metadata": {},
     "output_type": "display_data"
    },
    {
     "name": "stdout",
     "output_type": "stream",
     "text": [
      "[0.4950161  0.49500847]\n",
      "260.74454015129487\n",
      "trgv=2.023144853888543e-08\n",
      "trgv/(snap.unit['km/s'])**2=254.04633000416308\n",
      "2.602139937473244\n",
      "c_s2=5.392316186911786e-10\n",
      "c_s2/(snap.unit['km/s'])**2=6.771132254193257\n",
      "mach2=37.519032337145106\n",
      "numerator: 1.0385340078788304e-07\n",
      "denominator: 1.620971435143146e-08\n",
      "alpha0=6.4068618691428\n",
      "sigs=1.946345079308468\n",
      "scrit=4.996480505728272\n",
      "sfr_ff=0.00851329077101038\n",
      "mstar=1.16799952975498e-13\n",
      "mcell=6.793259489906006e-12\n",
      "0.0038378197398584485\n",
      "15.240936287431166\n",
      "sfr_ff/tstar*mcell/mstar=17.18010635636458\n",
      "PoissMean=2.370320410230855\n",
      "PoissMean=2.370320410230855\n",
      "nstar=3\n",
      "nstar=3\n"
     ]
    }
   ],
   "source": [
    "for icell in tqdm(cells):\n",
    "    if(icell['rho'] < d_gmc*19): continue\n",
    "    ls,rs,fs,bs,us,ds, neighs = get_nbor(icell, cells, return_nbor=True, buffer=0)\n",
    "    break\n",
    "    # print(len(ls), len(rs), len(fs), len(bs), len(us), len(ds))\n",
    "    # if((len(ls)==0 or len(rs)==0 or len(fs)==0 or len(bs)==0 or len(us)==0 or len(ds)==0)):\n",
    "    #     print(len(ls), len(rs), len(fs), len(bs), len(us), len(ds), icell['rho'])\n",
    "        # break\n",
    "print(icell['rho', 'H/cc'])\n",
    "ndtype = [\n",
    "    ('trgv', 'f8'), ('c_s2', 'f8'), ('mach2', 'f8'), \n",
    "    ('alpha0', 'f8'), ('sigs', 'f8'), ('scrit', 'f8'), \n",
    "    ('sfr_ff', 'f8'), ('tstar', 'f8'), ('mstar', 'f8'), \n",
    "    ('nstar', 'i8'), ('dt_fine', 'f8'), ('dt_iout', 'f8'), \n",
    "    ('PoissMean', 'f8'), ('nstar_corrected', 'f8')\n",
    "    ]\n",
    "\n",
    "# The local 3D instantaneous velocity dispersion sig_g\n",
    "# trgv = (sig_g)^2\n",
    "#   trgv = sum( Del (curl) udx )^2\n",
    "#   `star_formation.f90: federrath3`\n",
    "trgv = 0\n",
    "def wmean(vals,ws):\n",
    "    if(len(vals)==1): return vals[0]\n",
    "    return np.average(vals, weights=ws)\n",
    "for val in ['vx','vy','vz']:\n",
    "    d = icell['rho']\n",
    "    dl = wmean( ls['rho'], ls['vol'])\n",
    "    dr = wmean( rs['rho'], rs['vol'])\n",
    "    df = wmean( fs['rho'], fs['vol'])\n",
    "    db = wmean( bs['rho'], bs['vol'])\n",
    "    du = wmean( us['rho'], us['vol'])\n",
    "    dd = wmean( ds['rho'], ds['vol'])\n",
    "    vl = ( dl*wmean( ls[val], ls['vol']) + icell[val]*d ) / ( dl + d )\n",
    "    vr = ( dr*wmean( rs[val], rs['vol']) + icell[val]*d ) / ( dr + d )\n",
    "    vf = ( df*wmean( fs[val], fs['vol']) + icell[val]*d ) / ( df + d )\n",
    "    vb = ( db*wmean( bs[val], bs['vol']) + icell[val]*d ) / ( db + d )\n",
    "    vu = ( du*wmean( us[val], us['vol']) + icell[val]*d ) / ( du + d )\n",
    "    vd = ( dd*wmean( ds[val], ds['vol']) + icell[val]*d ) / ( dd + d )\n",
    "    trgv += (vl-vr)**2 + (vf-vb)**2 + (vu-vd)**2\n",
    "print(f\"{trgv=:}\")\n",
    "print(f\"{trgv/(snap.unit['km/s'])**2=:}\")\n",
    "\n",
    "\n",
    "# The sound speed squared c_s2\n",
    "#   `star_formation.f90: federrath3`\n",
    "# c_s2 = max(smallc**2, icell['P']*(gamma - 1))\n",
    "\n",
    "# 'cs': lambda table: np.sqrt(gamma * table['P'] / table['rho'])\n",
    "P = icell['P']\n",
    "c_s = np.sqrt((gamma-1) * P / d)\n",
    "print(c_s/snap.unit['km/s'])\n",
    "c_s2 = c_s**2\n",
    "print(f\"{c_s2=:}\")\n",
    "print(f\"{c_s2/(snap.unit['km/s'])**2=:}\")\n",
    "\n",
    "# Mach number\n",
    "#   mach > 1: highly turbulent regions\n",
    "mach2 = trgv/c_s2\n",
    "print(f\"{mach2=:}\")\n",
    "\n",
    "# star_formation.f90: 85\n",
    "#   ! Mesh spacing in that level\n",
    "ilevel = icell['level']\n",
    "dx = icell['dx']\n",
    "dx_loc   = dx\n",
    "vol_loc = dx_loc**3\n",
    "mcell = icell['rho'] * vol_loc\n",
    "\n",
    "# The virial parameter\n",
    "#   The virial parameter of a spherical gas cloud with the same mass, radius, and thermo-turbulent velocity dispersion of the gas cell\n",
    "#   alpha0 = 5(trgv + c_s2) / (pi*G*rho*dx_loc**2)\n",
    "#   alpha < 1 : gravitationally bound\n",
    "#   `star_formation.f90: federrath3`\n",
    "alpha0 = 5*(trgv + c_s2)/(np.pi * factG * icell['rho'] * dx_loc**2)\n",
    "print(f\"numerator: {5*(trgv + c_s2)}\")\n",
    "print(f\"denominator: {np.pi * factG * icell['rho'] * dx_loc**2}\")\n",
    "print(f\"{alpha0=:}\")\n",
    "\n",
    "# Variance of the logarithmic PDF\n",
    "#   sigs = (sig_s)^2 = ln(1 + b^2 * M^2)\n",
    "#   b=0.4: fractional amount of solenoidal to compressional modes of the turbulence\n",
    "#   `star_formation.f90: federrath3`\n",
    "sigs  = np.log(1.0 + 0.16*mach2)\n",
    "print(f\"{sigs=:}\")\n",
    "\n",
    "# The criitical densisity contrast by Padoan & Nordlund (2011)\n",
    "#   `star_formation.f90: federrath3`\n",
    "scrit = np.log(0.067 / theta**2 * alpha0 * mach2)\n",
    "print(f\"{scrit=:}\")\n",
    "\n",
    "# sigs > scrit -> star formation\n",
    "# Hennebelle & Chabrier (2011)\n",
    "#   `star_formation.f90: federrath3`\n",
    "sfr_ff = e_cts/2*phi_t * np.exp(3/8*sigs) * (2 - erfc( (sigs-scrit)/np.sqrt(2*sigs) ))\n",
    "print(f\"{sfr_ff=:}\")\n",
    "\n",
    "# The local free-fall time of the gas\n",
    "#   `star_formation.f90: federrath3`\n",
    "tstar     = 0.5427 * np.sqrt(1/( factG*icell['rho'] )) # 0.5427 = sqrt(3pi / 32)\n",
    "\n",
    "\n",
    "# Initial star particle mass\n",
    "nlevelmax = snap.params['levelmax']\n",
    "dx_min   = 0.5**nlevelmax\n",
    "vol_min  = dx_min**snap.params['ndim']\n",
    "if(m_star < 0e0): mstar = n_star/(scale_nH*aexp**3)*vol_min*fstar_min\n",
    "else:\n",
    "    mass_sph = from_raw('mass_sph', snap)\n",
    "    mstar=m_star*mass_sph\n",
    "print(f\"{mstar=:}\")\n",
    "print(f\"{mcell=:}\")\n",
    "\n",
    "nstar = 0\n",
    "dt_new = from_raw('dt_new', snap)\n",
    "dt = dt_new[ilevel-1]\n",
    "print(dt / snap.unit['Myr'])\n",
    "dt = get_dt(snap, snap1s)\n",
    "print(dt / snap.unit['Myr'])\n",
    "PoissMean = dt*sfr_ff/tstar*mcell/mstar\n",
    "print(f\"{sfr_ff/tstar*mcell/mstar=:}\")\n",
    "print(f\"{PoissMean=:}\")\n",
    "# If catastrophic star formation (massive star cluster) wants to occur, we need to limit the \n",
    "# maximal mass of the star particle we want to create in a cell.\n",
    "PoissMean = min(PoissMean,10.0)\n",
    "print(f\"{PoissMean=:}\")\n",
    "# Compute Poisson realisation\n",
    "localseed = from_raw('localseed', snap)\n",
    "nstar = poissdev(localseed,PoissMean,nstar)\n",
    "print(f\"{nstar=:}\")\n",
    "# Compute depleted gas mass\n",
    "mgas      = nstar*mstar\n",
    "\n",
    "# Security to prevent more than 90% of gas depletion\n",
    "if (mgas > 0.9*mcell) :\n",
    "    nstar_corrected = int(0.9*mcell/mstar)\n",
    "    nstar        = nstar_corrected\n",
    "print(f\"{nstar=:}\")\n",
    "\n",
    "\n",
    "\n",
    "\n",
    "\n",
    "# fig, ax = plt.subplots()\n",
    "# ax.scatter(neighs['x'], neighs['y'], s=5, c='k')\n",
    "# for neigh in neighs:\n",
    "#     rectangle = plt.Rectangle((neigh['x']-neigh['dx']/2, neigh['y']-neigh['dx']/2), neigh['dx'], neigh['dx'], fill=False, color='k', lw=0.2, ls=':')\n",
    "#     ax.add_patch(rectangle)   \n",
    "# for tmp in [ls, rs, fs, bs, us, ds]:\n",
    "#     ax.scatter(tmp['x'], tmp['y'], s=5, c='r')\n",
    "#     for neigh in tmp:\n",
    "#         rectangle = plt.Rectangle((neigh['x']-neigh['dx']/2, neigh['y']-neigh['dx']/2), neigh['dx'], neigh['dx'], fill=False, color='r')\n",
    "#         ax.add_patch(rectangle)\n",
    "# # rectangle = plt.Rectangle((ls['x']-ls['dx']/2, ls['y']-ls['dx']/2), ls['dx'], ls['dx'], fill=False, color='r')\n",
    "# # ax.add_patch(rectangle)\n",
    "\n",
    "\n",
    "\n",
    "\n",
    "# ax.scatter(icell['x'], icell['y'], s=5, c='b')\n",
    "\n",
    "# ax.set_aspect('equal')"
   ]
  },
  {
   "cell_type": "code",
   "execution_count": null,
   "metadata": {},
   "outputs": [
    {
     "data": {
      "text/plain": [
       "1.620971435143146e-08"
      ]
     },
     "execution_count": 182,
     "metadata": {},
     "output_type": "execute_result"
    }
   ],
   "source": [
    "np.pi * factG * icell['rho'] * dx_loc**2"
   ]
  },
  {
   "cell_type": "code",
   "execution_count": null,
   "metadata": {},
   "outputs": [],
   "source": []
  }
 ],
 "metadata": {
  "kernelspec": {
   "display_name": "jeonpy",
   "language": "python",
   "name": "python3"
  },
  "language_info": {
   "codemirror_mode": {
    "name": "ipython",
    "version": 3
   },
   "file_extension": ".py",
   "mimetype": "text/x-python",
   "name": "python",
   "nbconvert_exporter": "python",
   "pygments_lexer": "ipython3",
   "version": "3.10.4"
  }
 },
 "nbformat": 4,
 "nbformat_minor": 2
}
