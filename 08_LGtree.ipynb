{
 "cells": [
  {
   "cell_type": "code",
   "execution_count": 1,
   "metadata": {},
   "outputs": [
    {
     "name": "stdout",
     "output_type": "stream",
     "text": [
      "0\n"
     ]
    }
   ],
   "source": [
    "import sys\n",
    "argv = sys.argv\n",
    "if('ipykernel' in argv[0]):\n",
    "    mod=0\n",
    "else:\n",
    "    if(len(argv)==1):\n",
    "        mod = 0\n",
    "    else:\n",
    "        mod = int(argv[1])\n",
    "print(mod)\n",
    "\n",
    "database = f\"/home/jeon/MissingSat/database\"\n",
    "# database = f\"/gem_home/jeon/MissingSat/database\"\n",
    "\n",
    "ncpu=32\n",
    "memory=None"
   ]
  },
  {
   "cell_type": "code",
   "execution_count": 2,
   "metadata": {},
   "outputs": [
    {
     "name": "stdout",
     "output_type": "stream",
     "text": [
      "[Output 01026] Age (Gyr) : 11.624 / 13.741, z = 0.17149 (a = 0.8536)\n"
     ]
    }
   ],
   "source": [
    "from IPython import get_ipython\n",
    "\n",
    "\n",
    "def type_of_script():\n",
    "    \"\"\"\n",
    "    Detects and returns the type of python kernel\n",
    "    :return: string 'jupyter' or 'ipython' or 'terminal'\n",
    "    \"\"\"\n",
    "    try:\n",
    "        ipy_str = str(type(get_ipython()))\n",
    "        if 'zmqshell' in ipy_str:\n",
    "            return 'jupyter'\n",
    "        if 'terminal' in ipy_str:\n",
    "            return 'ipython'\n",
    "    except:\n",
    "        return 'terminal'\n",
    "\n",
    "\n",
    "if type_of_script() == 'jupyter':\n",
    "    from tqdm.notebook import tqdm\n",
    "else:\n",
    "    from tqdm import tqdm\n",
    "    \n",
    "import matplotlib.pyplot as plt # type: module\n",
    "import matplotlib.ticker as ticker\n",
    "from matplotlib import colormaps\n",
    "from matplotlib.colors import Normalize\n",
    "import matplotlib.gridspec as gridspec\n",
    "\n",
    "import numpy as np\n",
    "import os, glob, atexit, signal\n",
    "os.nice(19)\n",
    "import time\n",
    "import warnings\n",
    "\n",
    "from rur.fortranfile import FortranFile\n",
    "from rur import uri, uhmi, painter, drawer\n",
    "from rur.sci.photometry import measure_luminosity\n",
    "from rur.sci.geometry import get_angles, euler_angle\n",
    "from rur.utool import rotate_data\n",
    "from scipy.ndimage import gaussian_filter\n",
    "uri.timer.verbose=1\n",
    "# from rur.sci.kinematics import f_getpot\n",
    "\n",
    "from icl_IO import mode2repo, pklsave, pklload\n",
    "from icl_tool import *\n",
    "from icl_numba import large_isin, large_isind, isin\n",
    "from icl_draw import drawsnap, add_scalebar, addtext, MakeSub_nolabel, label_to_in, fancy_axis, circle\n",
    "import argparse, subprocess\n",
    "from importlib import reload\n",
    "import cmasher as cmr\n",
    "from copy import deepcopy\n",
    "from multiprocessing import Pool, shared_memory, Value\n",
    "\n",
    "mode = 'nh'\n",
    "iout = 1026\n",
    "repo, rurmode, dp = mode2repo(mode)\n",
    "snap = uri.RamsesSnapshot(repo, iout, mode=rurmode)\n",
    "snaps = uri.TimeSeries(snap)\n",
    "snaps.read_iout_avail()\n",
    "nout = snaps.iout_avail['iout']\n",
    "gals = uhmi.HaloMaker.load(snap, galaxy=True, double_precision=dp)\n",
    "hals = uhmi.HaloMaker.load(snap, galaxy=False, double_precision=dp)\n",
    "database = f\"/home/jeon/MissingSat/database\"\n",
    "\n",
    "from common_func import *"
   ]
  },
  {
   "cell_type": "code",
   "execution_count": 3,
   "metadata": {},
   "outputs": [],
   "source": [
    "def flush(msg=False, parent=''):\n",
    "    global memory\n",
    "    if(msg): print(f\"{parent} Clearing memory\")\n",
    "    print(f\"\\tUnlink `{memory.name}`\")\n",
    "    memory.close()\n",
    "    memory.unlink()\n",
    "\n",
    "    signal.signal(signal.SIGINT, signal.SIG_DFL)\n",
    "    signal.signal(signal.SIGPIPE, signal.SIG_DFL)\n",
    "\n",
    "def terminate(self, signum):\n",
    "    flush(msg=True, parent=f'[Signal{signum}]')\n",
    "    atexit.unregister(flush)\n",
    "    exit(0)"
   ]
  },
  {
   "cell_type": "code",
   "execution_count": 4,
   "metadata": {},
   "outputs": [
    {
     "name": "stdout",
     "output_type": "stream",
     "text": [
      "[Output 01026] Age (Gyr) : 11.624 / 13.741, z = 0.17149 (a = 0.8536)\n",
      "[Output 01026] Age (Gyr) : 11.624 / 13.741, z = 0.17149 (a = 0.8536)\n",
      "[Output 01026] Age (Gyr) : 11.624 / 13.741, z = 0.17149 (a = 0.8536)\n"
     ]
    }
   ],
   "source": [
    "snap_star = uri.RamsesSnapshot(repo, iout, mode=rurmode)\n",
    "snap_stars = uri.TimeSeries(snap)\n",
    "snap_dm = uri.RamsesSnapshot(repo, iout, mode=rurmode)\n",
    "snap_dms = uri.TimeSeries(snap)\n",
    "snap_cell = uri.RamsesSnapshot(repo, iout, mode=rurmode)\n",
    "snap_cells = uri.TimeSeries(snap)"
   ]
  },
  {
   "cell_type": "code",
   "execution_count": 5,
   "metadata": {},
   "outputs": [
    {
     "data": {
      "text/plain": [
       "(13, array([  1,   3,   7,   8,  10,  23,  25,  26,  36,  64, 121, 129,  11]))"
      ]
     },
     "execution_count": 5,
     "metadata": {},
     "output_type": "execute_result"
    }
   ],
   "source": [
    "LG = pklload(f\"{database}/LG\")\n",
    "keys = []\n",
    "for key in LG.keys():\n",
    "    if(LG[key]['isLG']): keys.append(key)\n",
    "keys = np.asarray(keys)\n",
    "len(keys), keys"
   ]
  },
  {
   "cell_type": "code",
   "execution_count": 6,
   "metadata": {},
   "outputs": [],
   "source": [
    "gtree = pklload(\"/storage6/NewHorizon/ptree/ptree_stable.pkl\")"
   ]
  },
  {
   "cell_type": "code",
   "execution_count": 7,
   "metadata": {},
   "outputs": [
    {
     "data": {
      "application/json": {
       "ascii": false,
       "bar_format": null,
       "colour": null,
       "elapsed": 0.020890235900878906,
       "initial": 0,
       "n": 0,
       "ncols": null,
       "nrows": null,
       "postfix": null,
       "prefix": "",
       "rate": null,
       "total": 13,
       "unit": "it",
       "unit_divisor": 1000,
       "unit_scale": false
      },
      "application/vnd.jupyter.widget-view+json": {
       "model_id": "54d175daae974c979a3aac3349ab3336",
       "version_major": 2,
       "version_minor": 0
      },
      "text/plain": [
       "  0%|          | 0/13 [00:00<?, ?it/s]"
      ]
     },
     "metadata": {},
     "output_type": "display_data"
    }
   ],
   "source": [
    "rgtree = {}\n",
    "for key in tqdm( keys ):\n",
    "    if(LG[key]['isLG']):\n",
    "        BGG = LG[key]['BGG']\n",
    "        target = gtree[ (gtree['hmid']==BGG['id'])&(gtree['timestep']==BGG['timestep']) ]\n",
    "        tmp = gtree[gtree['last'] == target['last']]\n",
    "        argsort = np.argsort(-tmp['timestep'])\n",
    "        rgtree[key] = tmp[argsort]\n",
    "        ind = isin(nout, rgtree[key]['timestep'])"
   ]
  },
  {
   "cell_type": "code",
   "execution_count": 8,
   "metadata": {},
   "outputs": [
    {
     "data": {
      "text/plain": [
       "False"
      ]
     },
     "execution_count": 8,
     "metadata": {},
     "output_type": "execute_result"
    }
   ],
   "source": [
    "dtype1 = gals.dtype\n",
    "dtype2 = [('halo_id', '<i4'), ('halo_nparts', '<i4'), ('halo_level', '<i4'), ('halo_host', '<i4'), ('halo_hostsub', '<i4'), ('halo_x', '<f8'), ('halo_y', '<f8'), ('halo_z', '<f8'), ('halo_vx', '<f8'), ('halo_vy', '<f8'), ('halo_vz', '<f8'), ('halo_mvir', '<f8'), ('halo_rvir', '<f8')]\n",
    "dtype3 = [('fcontam', '<f8'), ('dist', '<f8'), ('central', '?'), ('main', '?'), ('r200', '<f8'), ('m200', '<f8'), ('r200_code', '<f8'), ('m_star_200', '<f8'), ('m_gas_200', '<f8'), ('fcontam_200', '<f8'), ('rp', '<f8'), ('sfr', '<f8'), ('sfr_tot', '<f8'), ('galaxy_nh2', '<i8'), ('halo_nh2', '<i8'), ('matchrate', '<f8')]\n",
    "dtype4 = [('fat', '<i8'), ('son', '<i8'), ('score_fat', '<f8'), ('score_son', '<f8')]\n",
    "dtype = np.dtype(dtype1.descr + dtype2 + dtype3 + dtype4)\n",
    "dtype == LG[1]['BGG'].dtype"
   ]
  },
  {
   "cell_type": "code",
   "execution_count": 9,
   "metadata": {},
   "outputs": [],
   "source": [
    "def id2hmid(pid):\n",
    "    global gtree\n",
    "    tmp = gtree[gtree['id']==pid][0]\n",
    "    return tmp['timestep'], tmp['hmid']"
   ]
  },
  {
   "cell_type": "code",
   "execution_count": 10,
   "metadata": {},
   "outputs": [
    {
     "data": {
      "text/plain": [
       "1.229997418786791e-11"
      ]
     },
     "execution_count": 10,
     "metadata": {},
     "output_type": "execute_result"
    }
   ],
   "source": [
    "pure = hals[hals['mcontam']==0]\n",
    "mindm = np.min(pure['m']/pure['nparts'])*snap.unit['Msol']\n",
    "mindm"
   ]
  },
  {
   "cell_type": "code",
   "execution_count": 11,
   "metadata": {},
   "outputs": [],
   "source": [
    "uri.timer.verbose=0"
   ]
  },
  {
   "cell_type": "code",
   "execution_count": 12,
   "metadata": {},
   "outputs": [],
   "source": [
    "def _ibox(h, factor=1):\n",
    "    return np.array([[h['x']-factor*h['r'], h['x']+factor*h['r']],\n",
    "                        [h['y']-factor*h['r'], h['y']+factor*h['r']],\n",
    "                        [h['z']-factor*h['r'], h['z']+factor*h['r']]])"
   ]
  },
  {
   "cell_type": "code",
   "execution_count": 13,
   "metadata": {},
   "outputs": [],
   "source": [
    "def calc_virial(cx,cy,cz, rmax_pkpc, pos_code, m_msol, ns, params):\n",
    "    '''\n",
    "    input:\n",
    "        cx,cy,cz : center of halo\n",
    "        star, dm, cell : data\n",
    "    output:\n",
    "        rvir : virial radius\n",
    "        mvir : virial mass\n",
    "        rvir_code : virial radius in code unit\n",
    "    '''\n",
    "    global mindm\n",
    "    nstar=ns[0]; ndm=ns[1]; ncell=ns[2]\n",
    "    H0 = params['H0']; aexp=params['aexp']; kpc=params['kpc']\n",
    "    # critical density\n",
    "    H02 = (H0 * 3.24078e-20)**2 # s-2\n",
    "    G = 6.6743e-11 # N m2 kg-2 = kg m s-2 m2 kg-2 = m3 s-2 kg-1\n",
    "    rhoc = 3 * H02 /8 /np.pi /G # kg m-3\n",
    "    rhoc *= 5.02785e-31  * (3.086e+19)**3 # Msol ckpc-3\n",
    "    rhoc /= (aexp**3) # Msol pkpc-3\n",
    "\n",
    "    # Sorting\n",
    "    dis = distance3d(pos_code[:,0], pos_code[:,1], pos_code[:,2], cx, cy, cz)/kpc # pkpc\n",
    "    stardis = dis[:nstar]; dmdis = dis[nstar:nstar+ndm]; celldis = dis[nstar+ndm:]\n",
    "    starmas = m_msol[:nstar]; dmmas = m_msol[nstar:nstar+ndm]; cellmas = m_msol[nstar+ndm:]\n",
    "\n",
    "    mask = dis<rmax_pkpc\n",
    "    argsort = np.argsort(dis[mask])\n",
    "    dis = dis[mask][argsort] # pkpc\n",
    "    mas = m_msol[mask][argsort] # Msol\n",
    "\n",
    "    # Inside density\n",
    "    cmas = np.cumsum(mas) # Msol\n",
    "    vols = 4/3*np.pi * dis**3 # pkpc^3\n",
    "    rhos = cmas / vols # Msol pkpc-3\n",
    "\n",
    "    arg = np.argmin(np.abs(rhos - 200*rhoc))\n",
    "    rvir = dis[arg] # pkpc\n",
    "    # if(rvir>=np.max(dis)):\n",
    "    #     warnings.warn(\"rvir is larger than maximum distance!\\nEnlarge the box size!\")\n",
    "    # elif(rvir<=np.min(dis)):\n",
    "    #     warnings.warn(\"rvir is smaller than minimum distance!\\nNot enough particles!\")\n",
    "    # else:\n",
    "    #     pass\n",
    "    rvir_code = rvir * kpc # code unit\n",
    "    mvir = cmas[arg] # Msol\n",
    "\n",
    "    mstar200 = np.sum(starmas[stardis<rvir])\n",
    "    mgas200 = np.sum(cellmas[celldis<rvir])\n",
    "    indm = dmdis<rvir\n",
    "    dmdis = dmdis[indm]; dmmas = dmmas[indm]\n",
    "    fcontam200 = np.sum(dmmas[dmmas > 1.5*mindm]) / np.sum(dmmas)\n",
    "\n",
    "    return rvir, mvir, rvir_code, mstar200, mgas200, fcontam200"
   ]
  },
  {
   "cell_type": "code",
   "execution_count": 14,
   "metadata": {},
   "outputs": [],
   "source": [
    "def _calc_virial(key, address, shape, dtype):\n",
    "    global TREE, snap_star, snap_dm, snap_cell, reft, refn, params, keys\n",
    "\n",
    "    exist = shared_memory.SharedMemory(name=address)\n",
    "    virials = np.ndarray(shape=shape, dtype=dtype, buffer=exist.buf)\n",
    "\n",
    "    branch = TREE[key]\n",
    "    ihal = branch[-1]\n",
    "    ith = np.where(keys == key)[0][0]\n",
    "    r200 = 1000\n",
    "    factor = 0.75\n",
    "\n",
    "    while(ihal['halo_rvir']*factor < r200):\n",
    "        if(factor>1): print(f'Enlarge the box size! {factor}->{factor*2}')\n",
    "        factor *= 2\n",
    "        ibox = _ibox(ihal, factor=factor)\n",
    "        star = snap_star.get_part_instant(box=ibox, pname='star', target_fields=['x','y','z','m'], nthread=1)\n",
    "        dm = snap_dm.get_part_instant(box=ibox, pname='dm', target_fields=['x','y','z','m'], nthread=1)\n",
    "        cell = snap_cell.get_cell_instant(box=ibox, target_fields=['x','y','z','rho', 'level'], nthread=1)\n",
    "\n",
    "        pos_star = star['pos']; mass_star = star['m','Msol']\n",
    "        pos_dm = dm['pos']; mass_dm = dm['m','Msol']\n",
    "        pos_cell = cell['pos']; mass_cell = cell['m','Msol']\n",
    "        pos_code = np.vstack( (pos_star, pos_dm, pos_cell) )\n",
    "        mass_msol = np.hstack( (mass_star, mass_dm, mass_cell) )\n",
    "        ns = [len(pos_star), len(pos_dm), len(pos_cell)]\n",
    "\n",
    "        \n",
    "        r200kpc, m200, r200, mstar200, mgas200, fcontam200 = calc_virial(ihal['x'], ihal['y'], ihal['z'], factor*ihal['halo_rvir']/snap_star.unit['kpc'], pos_code, mass_msol,ns, params)\n",
    "\n",
    "    virials['r200'][ith] = r200kpc\n",
    "    virials['m200'][ith] = m200\n",
    "    virials['r200_code'][ith] = r200\n",
    "    virials['m_star_200'][ith] = mstar200\n",
    "    virials['m_gas_200'][ith] = mgas200\n",
    "    virials['fcontam_200'][ith] = fcontam200\n",
    "\n",
    "    refn.value += 1\n",
    "    if(refn.value%100==0)&(refn.value>0):\n",
    "        print(f\" > {refn.value}/{len(virials)} {time.time()-reft.value:.2f} sec (ETA: {(len(virials)-refn.value)*(time.time()-reft.value)/refn.value/60:.2f} min)\")"
   ]
  },
  {
   "cell_type": "code",
   "execution_count": 15,
   "metadata": {},
   "outputs": [
    {
     "name": "stdout",
     "output_type": "stream",
     "text": [
      "[1010]\n"
     ]
    },
    {
     "data": {
      "application/json": {
       "ascii": false,
       "bar_format": null,
       "colour": null,
       "elapsed": 0.019964933395385742,
       "initial": 0,
       "n": 0,
       "ncols": null,
       "nrows": null,
       "postfix": null,
       "prefix": "[1010] From Catalogs",
       "rate": null,
       "total": 13,
       "unit": "it",
       "unit_divisor": 1000,
       "unit_scale": false
      },
      "application/vnd.jupyter.widget-view+json": {
       "model_id": "45ec64300c114c7a8b28d5f0bfef8712",
       "version_major": 2,
       "version_minor": 0
      },
      "text/plain": [
       "[1010] From Catalogs:   0%|          | 0/13 [00:00<?, ?it/s]"
      ]
     },
     "metadata": {},
     "output_type": "display_data"
    },
    {
     "name": "stdout",
     "output_type": "stream",
     "text": [
      "[[0 1]\n",
      " [0 1]\n",
      " [0 1]]\n",
      "Reading 4800 part files (35.79 GiB) in /storage6/NewHorizon/snapshots/output_01010... \n",
      "Allocating Memory...\n",
      "Done (39.686 sec)\n"
     ]
    },
    {
     "data": {
      "application/json": {
       "ascii": false,
       "bar_format": null,
       "colour": null,
       "elapsed": 0.024434566497802734,
       "initial": 0,
       "n": 0,
       "ncols": null,
       "nrows": null,
       "postfix": null,
       "prefix": "Reading parts",
       "rate": null,
       "total": 4800,
       "unit": "it",
       "unit_divisor": 1000,
       "unit_scale": false
      },
      "application/vnd.jupyter.widget-view+json": {
       "model_id": "1b7d013fceec4fd48eeb666c64a37790",
       "version_major": 2,
       "version_minor": 0
      },
      "text/plain": [
       "Reading parts:   0%|          | 0/4800 [00:00<?, ?it/s]"
      ]
     },
     "metadata": {},
     "output_type": "display_data"
    },
    {
     "name": "stdout",
     "output_type": "stream",
     "text": [
      "Done (52.374s).\n",
      "[[0.36312541 0.59802312]\n",
      " [0.4104426  0.62700969]\n",
      " [0.38182481 0.62973991]]\n"
     ]
    },
    {
     "ename": "ValueError",
     "evalue": "stop!",
     "output_type": "error",
     "traceback": [
      "\u001b[0;31m---------------------------------------------------------------------------\u001b[0m",
      "\u001b[0;31mValueError\u001b[0m                                Traceback (most recent call last)",
      "\u001b[1;32m/home/jeon/MissingSat/08_LGtree.ipynb Cell 15\u001b[0m line \u001b[0;36m<cell line: 7>\u001b[0;34m()\u001b[0m\n\u001b[1;32m    <a href='vscode-notebook-cell://ssh-remote%2B7b22686f73744e616d65223a22474336227d/home/jeon/MissingSat/08_LGtree.ipynb#X11sdnNjb2RlLXJlbW90ZQ%3D%3D?line=112'>113</a>\u001b[0m snap_star\u001b[39m.\u001b[39mget_part(pname\u001b[39m=\u001b[39m\u001b[39m'\u001b[39m\u001b[39mstar\u001b[39m\u001b[39m'\u001b[39m, target_fields\u001b[39m=\u001b[39m[\u001b[39m'\u001b[39m\u001b[39mx\u001b[39m\u001b[39m'\u001b[39m,\u001b[39m'\u001b[39m\u001b[39my\u001b[39m\u001b[39m'\u001b[39m,\u001b[39m'\u001b[39m\u001b[39mz\u001b[39m\u001b[39m'\u001b[39m,\u001b[39m'\u001b[39m\u001b[39mm\u001b[39m\u001b[39m'\u001b[39m], nthread\u001b[39m=\u001b[39m\u001b[39m48\u001b[39m, box\u001b[39m=\u001b[39mibox, exact_box\u001b[39m=\u001b[39m\u001b[39mFalse\u001b[39;00m, domain_slicing\u001b[39m=\u001b[39m\u001b[39mFalse\u001b[39;00m)\n\u001b[1;32m    <a href='vscode-notebook-cell://ssh-remote%2B7b22686f73744e616d65223a22474336227d/home/jeon/MissingSat/08_LGtree.ipynb#X11sdnNjb2RlLXJlbW90ZQ%3D%3D?line=113'>114</a>\u001b[0m \u001b[39mprint\u001b[39m(snap_star\u001b[39m.\u001b[39mbox)\n\u001b[0;32m--> <a href='vscode-notebook-cell://ssh-remote%2B7b22686f73744e616d65223a22474336227d/home/jeon/MissingSat/08_LGtree.ipynb#X11sdnNjb2RlLXJlbW90ZQ%3D%3D?line=114'>115</a>\u001b[0m stop()\n\u001b[1;32m    <a href='vscode-notebook-cell://ssh-remote%2B7b22686f73744e616d65223a22474336227d/home/jeon/MissingSat/08_LGtree.ipynb#X11sdnNjb2RlLXJlbW90ZQ%3D%3D?line=115'>116</a>\u001b[0m snap_dm\u001b[39m.\u001b[39mget_part(pname\u001b[39m=\u001b[39m\u001b[39m'\u001b[39m\u001b[39mdm\u001b[39m\u001b[39m'\u001b[39m, target_fields\u001b[39m=\u001b[39m[\u001b[39m'\u001b[39m\u001b[39mx\u001b[39m\u001b[39m'\u001b[39m,\u001b[39m'\u001b[39m\u001b[39my\u001b[39m\u001b[39m'\u001b[39m,\u001b[39m'\u001b[39m\u001b[39mz\u001b[39m\u001b[39m'\u001b[39m,\u001b[39m'\u001b[39m\u001b[39mm\u001b[39m\u001b[39m'\u001b[39m], nthread\u001b[39m=\u001b[39m\u001b[39m48\u001b[39m, box\u001b[39m=\u001b[39mibox, exact_box\u001b[39m=\u001b[39m\u001b[39mFalse\u001b[39;00m, domain_slicing\u001b[39m=\u001b[39m\u001b[39mFalse\u001b[39;00m)\n\u001b[1;32m    <a href='vscode-notebook-cell://ssh-remote%2B7b22686f73744e616d65223a22474336227d/home/jeon/MissingSat/08_LGtree.ipynb#X11sdnNjb2RlLXJlbW90ZQ%3D%3D?line=116'>117</a>\u001b[0m snap_cell\u001b[39m.\u001b[39mget_cell(target_fields\u001b[39m=\u001b[39m[\u001b[39m'\u001b[39m\u001b[39mx\u001b[39m\u001b[39m'\u001b[39m,\u001b[39m'\u001b[39m\u001b[39my\u001b[39m\u001b[39m'\u001b[39m,\u001b[39m'\u001b[39m\u001b[39mz\u001b[39m\u001b[39m'\u001b[39m,\u001b[39m'\u001b[39m\u001b[39mrho\u001b[39m\u001b[39m'\u001b[39m, \u001b[39m'\u001b[39m\u001b[39mlevel\u001b[39m\u001b[39m'\u001b[39m], nthread\u001b[39m=\u001b[39m\u001b[39m48\u001b[39m, box\u001b[39m=\u001b[39mibox, exact_box\u001b[39m=\u001b[39m\u001b[39mFalse\u001b[39;00m, domain_slicing\u001b[39m=\u001b[39m\u001b[39mFalse\u001b[39;00m)\n",
      "File \u001b[0;32m~/ICLwork/icl_tool.py:38\u001b[0m, in \u001b[0;36mstop\u001b[0;34m()\u001b[0m\n\u001b[1;32m     35\u001b[0m \u001b[39mdef\u001b[39;00m \u001b[39mcheck_unique\u001b[39m(arr):\n\u001b[1;32m     36\u001b[0m     \u001b[39massert\u001b[39;00m \u001b[39mlen\u001b[39m(arr)\u001b[39m==\u001b[39m\u001b[39mlen\u001b[39m(np\u001b[39m.\u001b[39munique(arr))\n\u001b[0;32m---> 38\u001b[0m \u001b[39mdef\u001b[39;00m \u001b[39mstop\u001b[39m(): \u001b[39mraise\u001b[39;00m \u001b[39mValueError\u001b[39;00m(\u001b[39m\"\u001b[39m\u001b[39mstop!\u001b[39m\u001b[39m\"\u001b[39m)\n\u001b[1;32m     39\u001b[0m \u001b[39mdef\u001b[39;00m \u001b[39mgethalo\u001b[39m(iid, ytree, complete\u001b[39m=\u001b[39m\u001b[39mTrue\u001b[39;00m):\n\u001b[1;32m     40\u001b[0m     temp \u001b[39m=\u001b[39m ytree[ytree[\u001b[39m'\u001b[39m\u001b[39mtimestep\u001b[39m\u001b[39m'\u001b[39m] \u001b[39m==\u001b[39m iid\u001b[39m/\u001b[39m\u001b[39m/\u001b[39m\u001b[39m100000\u001b[39m]\n",
      "\u001b[0;31mValueError\u001b[0m: stop!"
     ]
    }
   ],
   "source": [
    "fname = f\"{database}/mainhalos_{mode}.pickle\"\n",
    "TREE = {}\n",
    "for key in keys:\n",
    "    TREE[key] = None\n",
    "if(os.path.exists(fname)):\n",
    "    TREE = pklload(fname)\n",
    "for i, iout in enumerate(nout[::-1]):\n",
    "    if(iout%10 != mod): continue\n",
    "    if(TREE[keys[-1]] is not None):\n",
    "        if(iout in TREE[keys[-1]]['timestep']): continue\n",
    "    print(f\"[{iout:04d}]\")\n",
    "    if(iout==1026):\n",
    "        for key in tqdm( keys ):\n",
    "            if(not LG[key]['isLG']): continue\n",
    "            BGG = LG[key]['BGG']\n",
    "            table = np.zeros(1, dtype=dtype)\n",
    "            itree = rgtree[key]\n",
    "            itree = itree[itree['timestep'] == iout]\n",
    "            for iname in dtype.names:\n",
    "                if(iname in BGG.dtype.names):\n",
    "                    # dtype1, dtype2, dtype3\n",
    "                    table[iname] = BGG[iname]\n",
    "                else:\n",
    "                    # dtype4\n",
    "                    table['fat'] = id2hmid(itree['fat'])[1] if(itree['fat']>0) else itree['fat']\n",
    "                    table['son'] = id2hmid(itree['son'])[1] if(itree['son']>0) else itree['son']\n",
    "                    table['score_fat'] = itree['score_fat']\n",
    "                    table['score_son'] = itree['score_son']\n",
    "            TREE[key] = table\n",
    "    else:\n",
    "        snap_star = snap_stars.get_snap(iout)\n",
    "        snap_dm = snap_dms.get_snap(iout)\n",
    "        snap_cell = snap_cells.get_snap(iout)\n",
    "        igals = uhmi.HaloMaker.load(snap_star, galaxy=True)\n",
    "        ihals = uhmi.HaloMaker.load(snap_star, galaxy=False)\n",
    "        params = {'H0':snap_star.H0,\n",
    "                'aexp':snap_star.aexp,\n",
    "                'kpc':snap_star.unit['kpc']}\n",
    "        ihals = ihals[ihals['mcontam'] < ihals['m']]\n",
    "        for key in tqdm( keys, desc=f\"[{iout:04d}] From Catalogs\" ):\n",
    "            if(not LG[key]['isLG']): continue\n",
    "            #------------------------------------------\n",
    "            # From TreeMaker\n",
    "            #------------------------------------------\n",
    "            ref = time.time(); tcount=0\n",
    "            '''\n",
    "            'fat', 'son', 'score_fat', 'score_son'\n",
    "            '''\n",
    "            itree = rgtree[key]\n",
    "            if(not iout in itree['timestep']): continue\n",
    "            itree = itree[itree['timestep'] == iout] \n",
    "                \n",
    "            table = np.zeros(1, dtype=dtype)[0]\n",
    "            table['fat'] = id2hmid(itree['fat'])[1] if(itree['fat']>0) else itree['fat']\n",
    "            table['son'] = id2hmid(itree['son'])[1] if(itree['son']>0) else itree['son']\n",
    "            table['score_fat'] = itree['score_fat']\n",
    "            table['score_son'] = itree['score_son']\n",
    "            #------------------------------------------\n",
    "            # From GalaxyMaker\n",
    "            #------------------------------------------\n",
    "            '''\n",
    "            'id', 'timestep', 'level', 'host', 'hostsub', 'nbsub', 'nextsub', \n",
    "            'aexp', 'age_univ', 'm', 'macc', 'x', 'y', 'z', 'vx', 'vy', 'vz', 'Lx', 'Ly', 'Lz', \n",
    "            'r', 'a', 'b', 'c', 'ek', 'ep', 'et', 'spin', \n",
    "            'rvir', 'mvir', 'tvir', 'cvel', 'rho0', 'rc'\n",
    "            '''\n",
    "            igal = igals[itree['hmid']-1]\n",
    "            for iname in table.dtype.names:\n",
    "                if(iname in igal.dtype.names):\n",
    "                    table[iname] = igal[iname]\n",
    "            #------------------------------------------\n",
    "            # From Matched Halo\n",
    "            #------------------------------------------\n",
    "            '''\n",
    "            'halo_id', 'halo_nparts', 'halo_level', 'halo_host', 'halo_hostsub', \n",
    "            'halo_x', 'halo_y', 'halo_z', 'halo_vx', 'halo_vy', 'halo_vz', 'halo_mvir', 'halo_rvir'\n",
    "            'fcontam', 'dist'\n",
    "            '''\n",
    "            cands = ihals[ihals['rvir'] > table['r']]\n",
    "            cands = cut_sphere(cands, table['x'], table['y'], table['z'], table['r'])\n",
    "            if(len(cands)>0):\n",
    "                dists = distance(cands, table)\n",
    "                mask = dists < cands['rvir']\n",
    "                if(True in mask):\n",
    "                    cands = cands[mask]\n",
    "                    dists = distance(cands, table)\n",
    "                    mask = dists < (cands['rvir']-table['r'])\n",
    "                    if(True in mask):\n",
    "                        cands = cands[mask]\n",
    "            ihal = cands[np.argmax(cands['mvir'])]\n",
    "            for iname in table.dtype.names:\n",
    "                if(iname[:5]=='halo_'):\n",
    "                    if(iname[5:] in ihal.dtype.names):\n",
    "                        table[iname] = ihal[iname[5:]]\n",
    "            table['fcontam'] = ihal['mcontam']/ihal['m']\n",
    "            table['dist'] = distance(ihal, table)\n",
    "            TREE[key] = np.array([table]) if(TREE[key] is None) else np.hstack((TREE[key], table))\n",
    "\n",
    "        #------------------------------------------\n",
    "        # From Raw data\n",
    "        #------------------------------------------\n",
    "        '''\n",
    "        'r200', 'm200', 'r200_code', 'm_star_200', 'm_gas_200', 'fcontam_200'\n",
    "        '''       \n",
    "        ibox = np.array([[np.min(ihals['x'] - 3*ihals['r']), np.max(ihals['x'] + 3*ihals['r'])],\n",
    "                        [np.min(ihals['y'] - 3*ihals['r']), np.max(ihals['y'] + 3*ihals['r'])],\n",
    "                        [np.min(ihals['z'] - 3*ihals['r']), np.max(ihals['z'] + 3*ihals['r'])]])\n",
    "        virials = np.zeros( len(keys), dtype=[('key','<i4'),\n",
    "            (\"r200\",\"<f8\"), (\"m200\",\"<f8\"), (\"r200_code\",\"<f8\"), (\"m_star_200\",\"<f8\"), (\"m_gas_200\",\"<f8\"), (\"fcontam_200\",\"<f8\")\n",
    "            ])\n",
    "        uri.timer.verbose=1\n",
    "        snap_star.get_part(pname='star', target_fields=['x','y','z','m'], nthread=ncpu, box=ibox, exact_box=False, domain_slicing=False)\n",
    "        snap_dm.get_part(pname='dm', target_fields=['x','y','z','m'], nthread=ncpu, box=ibox, exact_box=False, domain_slicing=False)\n",
    "        snap_cell.get_cell(target_fields=['x','y','z','rho', 'level'], nthread=ncpu, box=ibox, exact_box=False, domain_slicing=False)\n",
    "        uri.timer.verbose=0\n",
    "\n",
    "        atexit.register(flush)\n",
    "        signal.signal(signal.SIGINT, terminate)\n",
    "        signal.signal(signal.SIGPIPE, terminate)\n",
    "        memory = shared_memory.SharedMemory(create=True, size=virials.nbytes)\n",
    "        virials = np.ndarray(virials.shape, dtype=virials.dtype, buffer=memory.buf)\n",
    "        virials['key'] = keys\n",
    "\n",
    "\n",
    "        reft = Value('f', 0); reft.value = time.time()\n",
    "        refn = Value('i', 0)\n",
    "        uri.timer.verbose=0\n",
    "        print(f\"[IOUT {iout:05d}]\")\n",
    "        with Pool(processes=len(keys)) as pool:\n",
    "            async_result = [pool.apply_async(_calc_virial, (key, memory.name, virials.shape, virials.dtype)) for key in keys]\n",
    "            iterobj = tqdm(async_result, total=len(async_result), desc=f\"[{iout:04d}] From Raw data\")# if(uri.timer.verbose>=1) else async_result\n",
    "            # iterobj = async_result\n",
    "            for r in iterobj:\n",
    "                r.get()\n",
    "        snap_star.clear()\n",
    "        snap_dm.clear()\n",
    "        snap_cell.clear()\n",
    "\n",
    "        for key in keys:\n",
    "            TREE[key][-1]['r200'] = virials['r200'][virials['key']==key][0]\n",
    "            TREE[key][-1]['m200'] = virials['m200'][virials['key']==key][0]\n",
    "            TREE[key][-1]['r200_code'] = virials['r200_code'][virials['key']==key][0]\n",
    "            TREE[key][-1]['m_star_200'] = virials['m_star_200'][virials['key']==key][0]\n",
    "            TREE[key][-1]['m_gas_200'] = virials['m_gas_200'][virials['key']==key][0]\n",
    "            TREE[key][-1]['fcontam_200'] = virials['fcontam_200'][virials['key']==key][0]\n",
    "        flush(msg=False)\n",
    "    pklsave(TREE, fname, overwrite=True)"
   ]
  },
  {
   "cell_type": "code",
   "execution_count": 20,
   "metadata": {},
   "outputs": [
    {
     "data": {
      "text/plain": [
       "array([[0.36312541, 0.59802312],\n",
       "       [0.4104426 , 0.62700969],\n",
       "       [0.38182481, 0.62973991]])"
      ]
     },
     "execution_count": 20,
     "metadata": {},
     "output_type": "execute_result"
    }
   ],
   "source": [
    "ibox"
   ]
  },
  {
   "cell_type": "code",
   "execution_count": 23,
   "metadata": {},
   "outputs": [],
   "source": [
    "snap_star.box = np.array([[0,0.46312541],\n",
    "       [0, 0.5104426 ],\n",
    "       [0, 0.48182481]])"
   ]
  },
  {
   "cell_type": "code",
   "execution_count": 25,
   "metadata": {},
   "outputs": [],
   "source": [
    "snap_star.box = ibox"
   ]
  },
  {
   "cell_type": "code",
   "execution_count": 26,
   "metadata": {},
   "outputs": [
    {
     "name": "stdout",
     "output_type": "stream",
     "text": [
      "Setting bin level as 7...\n",
      "Input box: [[0.36312541 0.59802312]\n",
      " [0.4104426  0.62700969]\n",
      " [0.38182481 0.62973991]]\n",
      "Bounding box: [[46 77]\n",
      " [52 81]\n",
      " [48 81]]\n",
      "Volume ratio: 1.1216813348210148\n",
      "N. of Blocks: 29667\n",
      "List of involved CPUs:  [   1    2    3 ... 4798 4799 4800]\n"
     ]
    },
    {
     "data": {
      "text/plain": [
       "array([   1,    2,    3, ..., 4798, 4799, 4800])"
      ]
     },
     "execution_count": 26,
     "metadata": {},
     "output_type": "execute_result"
    }
   ],
   "source": [
    "uri.timer.verbose=2\n",
    "snap_star.get_involved_cpu()"
   ]
  },
  {
   "cell_type": "code",
   "execution_count": 18,
   "metadata": {},
   "outputs": [
    {
     "data": {
      "text/plain": [
       "True"
      ]
     },
     "execution_count": 18,
     "metadata": {},
     "output_type": "execute_result"
    }
   ],
   "source": [
    "snap_star.classic_format"
   ]
  },
  {
   "cell_type": "code",
   "execution_count": null,
   "metadata": {},
   "outputs": [],
   "source": []
  }
 ],
 "metadata": {
  "kernelspec": {
   "display_name": "jeonpy",
   "language": "python",
   "name": "python3"
  },
  "language_info": {
   "codemirror_mode": {
    "name": "ipython",
    "version": 3
   },
   "file_extension": ".py",
   "mimetype": "text/x-python",
   "name": "python",
   "nbconvert_exporter": "python",
   "pygments_lexer": "ipython3",
   "version": "3.10.4"
  }
 },
 "nbformat": 4,
 "nbformat_minor": 2
}
