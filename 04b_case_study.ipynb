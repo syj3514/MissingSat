{
 "cells": [
  {
   "cell_type": "code",
   "execution_count": 1,
   "metadata": {},
   "outputs": [],
   "source": [
    "from IPython import get_ipython\n",
    "\n",
    "\n",
    "def type_of_script():\n",
    "    \"\"\"\n",
    "    Detects and returns the type of python kernel\n",
    "    :return: string 'jupyter' or 'ipython' or 'terminal'\n",
    "    \"\"\"\n",
    "    try:\n",
    "        ipy_str = str(type(get_ipython()))\n",
    "        if 'zmqshell' in ipy_str:\n",
    "            return 'jupyter'\n",
    "        if 'terminal' in ipy_str:\n",
    "            return 'ipython'\n",
    "    except:\n",
    "        return 'terminal'\n",
    "\n",
    "\n",
    "if type_of_script() == 'jupyter':\n",
    "    from tqdm.notebook import tqdm\n",
    "else:\n",
    "    from tqdm import tqdm\n",
    "    \n",
    "import matplotlib.pyplot as plt # type: module\n",
    "import matplotlib.ticker as ticker\n",
    "from matplotlib import colormaps\n",
    "from matplotlib.colors import Normalize\n",
    "import matplotlib.gridspec as gridspec\n",
    "import cmasher as cmr\n",
    "\n",
    "import numpy as np\n",
    "import os, glob, atexit, signal\n",
    "import time\n",
    "import warnings\n",
    "\n",
    "from rur.fortranfile import FortranFile\n",
    "from rur import uri, uhmi, painter, drawer\n",
    "from rur.sci.photometry import measure_luminosity\n",
    "from rur.sci.geometry import get_angles, euler_angle\n",
    "from rur.utool import rotate_data\n",
    "from scipy.ndimage import gaussian_filter\n",
    "uri.timer.verbose=0\n",
    "# from rur.sci.kinematics import f_getpot\n",
    "\n",
    "from icl_IO import mode2repo, pklsave, pklload\n",
    "from icl_tool import *\n",
    "from icl_numba import large_isin, large_isind, isin\n",
    "from icl_draw import drawsnap, add_scalebar, addtext, MakeSub_nolabel, label_to_in, fancy_axis, circle, ax_change_color\n",
    "from importlib import reload\n",
    "from copy import deepcopy\n",
    "from multiprocessing import Pool, shared_memory, Value\n",
    "from common_func import *"
   ]
  },
  {
   "cell_type": "code",
   "execution_count": 2,
   "metadata": {},
   "outputs": [
    {
     "name": "stdout",
     "output_type": "stream",
     "text": [
      "1336 (array(['dink', 'pair', 'upair'], dtype='<U7'), array([1145,  130,   61]))\n"
     ]
    }
   ],
   "source": [
    "mode1 = 'nh'\n",
    "database1 = f\"/home/jeon/MissingSat/database/{mode1}\"\n",
    "iout1 = 1026\n",
    "repo1, rurmode1, dp1 = mode2repo(mode1)\n",
    "snap1 = uri.RamsesSnapshot(repo1, iout1, mode=rurmode1)\n",
    "snap1s = uri.TimeSeries(snap1)\n",
    "snap1s.read_iout_avail()\n",
    "nout1 = snap1s.iout_avail['iout']; nout=nout1[nout1 <= iout1]\n",
    "gals1 = uhmi.HaloMaker.load(snap1, galaxy=True, double_precision=dp1)\n",
    "hals1 = uhmi.HaloMaker.load(snap1, galaxy=False, double_precision=dp1)\n",
    "\n",
    "LG1 = pklload(f\"{database1}/LocalGroup.pickle\")\n",
    "allsats1 = None; allsubs1 = None; states1 = None\n",
    "keys1 = list(LG1.keys())\n",
    "for key in keys1:\n",
    "    sats = LG1[key]['sats']; subs = LG1[key]['subs']; real = LG1[key]['real']\n",
    "    dink = real[real['state']=='dink']['hid']\n",
    "    ind = isin(subs['id'], dink)\n",
    "    subs['dink'][ind] = True; subs['dink'][~ind] = False\n",
    "    state = np.zeros(len(subs), dtype='<U7')\n",
    "    state[ind] = 'dink'; state[~ind] = 'pair'\n",
    "    \n",
    "    upair = real[real['state']=='upair']['hid']\n",
    "    ind = isin(subs['id'], upair)\n",
    "    state[ind] = 'upair'\n",
    "\n",
    "    allsats1 = sats if allsats1 is None else np.hstack((allsats1, sats))\n",
    "    allsubs1 = subs if allsubs1 is None else np.hstack((allsubs1, subs))\n",
    "    states1 = state if states1 is None else np.hstack((states1, state))\n",
    "argsort = np.argsort(allsubs1['id'])\n",
    "allsubs1 = allsubs1[argsort]; states1 = states1[argsort]\n",
    "dinks1 = allsubs1[states1 == 'dink']\n",
    "pairs1 = allsubs1[states1 == 'pair']\n",
    "upairs1 = allsubs1[states1 == 'upair']\n",
    "\n",
    "rtree1 = pklload(f\"{database1}/reduced_tree.pickle\")\n",
    "\n",
    "print(len(allsubs1), np.unique(states1, return_counts=True))  "
   ]
  },
  {
   "cell_type": "code",
   "execution_count": 3,
   "metadata": {},
   "outputs": [
    {
     "name": "stdout",
     "output_type": "stream",
     "text": [
      "1242 (array(['dink', 'pair', 'upair'], dtype='<U7'), array([1120,   79,   43]))\n"
     ]
    }
   ],
   "source": [
    "mode2 = 'nh2'\n",
    "database2 = f\"/home/jeon/MissingSat/database/{mode2}\"\n",
    "iout2 = 797\n",
    "repo2, rurmode2, dp2 = mode2repo(mode2)\n",
    "snap2 = uri.RamsesSnapshot(repo2, iout2, mode=rurmode2)\n",
    "snap2s = uri.TimeSeries(snap2)\n",
    "snap2s.read_iout_avail()\n",
    "nout2 = snap2s.iout_avail['iout']; nout=nout2[nout2 <= iout2]\n",
    "gals2 = uhmi.HaloMaker.load(snap2, galaxy=True, double_precision=dp2)\n",
    "hals2 = uhmi.HaloMaker.load(snap2, galaxy=False, double_precision=dp2)\n",
    "\n",
    "LG2 = pklload(f\"{database2}/LocalGroup.pickle\")\n",
    "allsats2 = None; allsubs2 = None; states2 = None\n",
    "keys2 = list(LG2.keys())\n",
    "for key in keys2:\n",
    "    sats = LG2[key]['sats']; subs = LG2[key]['subs']; real = LG2[key]['real']\n",
    "    dink = real[real['state']=='dink']['hid']\n",
    "    ind = isin(subs['id'], dink)\n",
    "    subs['dink'][ind] = True; subs['dink'][~ind] = False\n",
    "    state = np.zeros(len(subs), dtype='<U7')\n",
    "    state[ind] = 'dink'; state[~ind] = 'pair'\n",
    "    \n",
    "    upair = real[real['state']=='upair']['hid']\n",
    "    ind = isin(subs['id'], upair)\n",
    "    state[ind] = 'upair'\n",
    "\n",
    "    allsats2 = sats if allsats2 is None else np.hstack((allsats2, sats))\n",
    "    allsubs2 = subs if allsubs2 is None else np.hstack((allsubs2, subs))\n",
    "    states2 = state if states2 is None else np.hstack((states2, state))\n",
    "argsort = np.argsort(allsubs2['id'])\n",
    "allsubs2 = allsubs2[argsort]; states2 = states2[argsort]\n",
    "dinks2 = allsubs2[states2 == 'dink']\n",
    "pairs2 = allsubs2[states2 == 'pair']\n",
    "upairs2 = allsubs2[states2 == 'upair']\n",
    "\n",
    "rtree2 = pklload(f\"{database2}/reduced_tree.pickle\")\n",
    "\n",
    "print(len(allsubs2), np.unique(states2, return_counts=True))"
   ]
  },
  {
   "cell_type": "markdown",
   "metadata": {},
   "source": [
    "Let's find these cases:  \n",
    "- A) No star forever\n",
    "- B) Initially no, but SF via merger(or other events)\n",
    "- C) Initially no, but ex-situ star came in\n",
    "- D) Initial SF"
   ]
  },
  {
   "cell_type": "markdown",
   "metadata": {},
   "source": [
    "# Case A  \n",
    "No star forever"
   ]
  },
  {
   "cell_type": "code",
   "execution_count": 4,
   "metadata": {},
   "outputs": [
    {
     "data": {
      "application/json": {
       "ascii": false,
       "bar_format": null,
       "colour": null,
       "elapsed": 0.025162220001220703,
       "initial": 0,
       "n": 0,
       "ncols": null,
       "nrows": null,
       "postfix": null,
       "prefix": "",
       "rate": null,
       "total": 1336,
       "unit": "it",
       "unit_divisor": 1000,
       "unit_scale": false
      },
      "application/vnd.jupyter.widget-view+json": {
       "model_id": "2895a033cfef499aba3a26c5b4654ec1",
       "version_major": 2,
       "version_minor": 0
      },
      "text/plain": [
       "  0%|          | 0/1336 [00:00<?, ?it/s]"
      ]
     },
     "metadata": {},
     "output_type": "display_data"
    },
    {
     "name": "stdout",
     "output_type": "stream",
     "text": [
      "43\n",
      "5613 8.130581979667463\n",
      "5936 8.426168365277922\n",
      "20744 8.684488602034499\n",
      "24319 8.701314060412125\n",
      "25089 8.977625422872748\n",
      "[935 934 933 932 931 930 929 928 927 926 925 924 923 922 921 920 919 918\n",
      " 917 916 915 914 913 912 911 910 909 908 907 906 905 904 903 902 901 900\n",
      " 899 898 897 896 895 894 893 892]\n",
      "25089\n"
     ]
    },
    {
     "data": {
      "image/png": "[encoded data removed]",
      "text/plain": [
       "<Figure size 640x480 with 1 Axes>"
      ]
     },
     "metadata": {},
     "output_type": "display_data"
    }
   ],
   "source": [
    "ids = []\n",
    "for target in tqdm(allsubs1):\n",
    "    branch = rtree1[target['id']]\n",
    "    if(np.min(branch['timestep']) > 60): continue\n",
    "    if(np.sum(branch['mstar_vir']>0) > 100): continue\n",
    "    ids.append(target['id'])\n",
    "print(len(ids))\n",
    "tid=0; mean_mass=0\n",
    "for iid in ids:\n",
    "    branch = rtree1[iid]; tmp = branch[branch['timestep'] < 100]\n",
    "    tmp = np.mean(tmp['mdm_vir'])\n",
    "    if(tmp > mean_mass):\n",
    "        tid = iid; mean_mass = tmp\n",
    "        print(iid, np.log10(mean_mass))\n",
    "\n",
    "target = allsubs1[allsubs1['id'] == tid][0]\n",
    "branch = rtree1[tid]\n",
    "fig, ax = plt.subplots(dpi=100)\n",
    "ax.plot(branch['timestep'], branch['mdm_vir'], color='k')\n",
    "ax.plot(branch['timestep'], branch['mstar_vir'], color='orange')\n",
    "ax.plot(branch['timestep'], branch['mcell_vir'], color='grey')\n",
    "ax.plot(branch['timestep'], branch['mcold_vir'], color='dodgerblue')\n",
    "ax.set_yscale('log')\n",
    "print(branch[branch['mstar_vir']>0]['timestep'])\n",
    "print(target['id'])"
   ]
  },
  {
   "cell_type": "markdown",
   "metadata": {},
   "source": [
    "**-> 25089 Running!**"
   ]
  },
  {
   "cell_type": "markdown",
   "metadata": {},
   "source": [
    "# Case B  \n",
    "Initially no, but SF via merger(or other events)"
   ]
  },
  {
   "cell_type": "code",
   "execution_count": 26,
   "metadata": {},
   "outputs": [
    {
     "data": {
      "application/json": {
       "ascii": false,
       "bar_format": null,
       "colour": null,
       "elapsed": 0.02356410026550293,
       "initial": 0,
       "n": 0,
       "ncols": null,
       "nrows": null,
       "postfix": null,
       "prefix": "",
       "rate": null,
       "total": 1336,
       "unit": "it",
       "unit_divisor": 1000,
       "unit_scale": false
      },
      "application/vnd.jupyter.widget-view+json": {
       "model_id": "007eeea8cdab4c4bbd58e3e7b1031165",
       "version_major": 2,
       "version_minor": 0
      },
      "text/plain": [
       "  0%|          | 0/1336 [00:00<?, ?it/s]"
      ]
     },
     "metadata": {},
     "output_type": "display_data"
    },
    {
     "name": "stdout",
     "output_type": "stream",
     "text": [
      "20\n",
      "20821 8.59491719277879\n",
      "24590 8.648169388807798\n",
      "[73 72 71 70 69]\n",
      "24590\n"
     ]
    },
    {
     "data": {
      "image/png": "[encoded data removed]",
      "text/plain": [
       "<Figure size 640x480 with 1 Axes>"
      ]
     },
     "metadata": {},
     "output_type": "display_data"
    }
   ],
   "source": [
    "ids = []\n",
    "for target in tqdm(allsubs1):\n",
    "    branch = rtree1[target['id']]\n",
    "    if(np.min(branch['timestep']) > 60): continue\n",
    "    \n",
    "    # Initial merging\n",
    "    tmp = branch['mdm_vir']\n",
    "    ddm = tmp[:-1]/tmp[1:]\n",
    "    if(np.max(ddm[-50:]) < 1.5): continue\n",
    "\n",
    "    # Initially no star\n",
    "    if( np.sum(branch['mstar_vir'][-20:])>0 ): continue\n",
    "    if( np.sum(branch['mstar_vir'][-120:-20])==0 ): continue\n",
    "    # print(target['id'], np.max(ddm[-50:]))\n",
    "\n",
    "    ids.append(target['id'])\n",
    "print(len(ids))\n",
    "banlist = [\n",
    "           24508, 24264, 22467, 24831, 24299,26102, 24272, 24512, 24652, 24308, 21085, 20541, 20561, 24858, \n",
    "           26099, 20716, 24518, 26196, 24387, 26181, 24616, 25133, 24840, 22512\n",
    "           ]\n",
    "tid=0; mean_mass=0\n",
    "for iid in ids:\n",
    "    if(iid in banlist): continue\n",
    "    branch = rtree1[iid]; tmp = branch[branch['timestep'] < 100]\n",
    "    tmp = np.mean(tmp['mdm_vir'])\n",
    "    if(tmp > mean_mass):\n",
    "        tid = iid; mean_mass = tmp\n",
    "        print(iid, np.log10(mean_mass))\n",
    "\n",
    "# tid = 24518\n",
    "target = allsubs1[allsubs1['id'] == tid][0]\n",
    "branch = rtree1[tid]\n",
    "print(branch[branch['mstar_vir']>0]['timestep'][-5:])\n",
    "fig, ax = plt.subplots(dpi=100)\n",
    "ax.plot(branch['timestep'], branch['mdm_vir'], color='k')\n",
    "ax.plot(branch['timestep'], branch['mstar_vir'], color='orange')\n",
    "ax.plot(branch['timestep'], branch['mcell_vir'], color='grey')\n",
    "ax.plot(branch['timestep'], branch['mcold_vir'], color='dodgerblue')\n",
    "ax.set_yscale('log')\n",
    "print(target['id'])"
   ]
  },
  {
   "cell_type": "markdown",
   "metadata": {},
   "source": [
    "**-> 26196 Running!**"
   ]
  },
  {
   "cell_type": "markdown",
   "metadata": {},
   "source": [
    "# Case C)\n",
    "Initially no, but ex-situ star came in\n"
   ]
  },
  {
   "cell_type": "markdown",
   "metadata": {},
   "source": [
    "**-> 24590 Running!**"
   ]
  },
  {
   "cell_type": "markdown",
   "metadata": {},
   "source": [
    "# Case D)\n",
    "Initial SF"
   ]
  },
  {
   "cell_type": "code",
   "execution_count": null,
   "metadata": {},
   "outputs": [],
   "source": []
  },
  {
   "cell_type": "code",
   "execution_count": null,
   "metadata": {},
   "outputs": [],
   "source": []
  },
  {
   "cell_type": "code",
   "execution_count": null,
   "metadata": {},
   "outputs": [],
   "source": []
  },
  {
   "cell_type": "code",
   "execution_count": null,
   "metadata": {},
   "outputs": [],
   "source": []
  },
  {
   "cell_type": "markdown",
   "metadata": {},
   "source": []
  }
 ],
 "metadata": {
  "kernelspec": {
   "display_name": "jeonpy",
   "language": "python",
   "name": "python3"
  },
  "language_info": {
   "codemirror_mode": {
    "name": "ipython",
    "version": 3
   },
   "file_extension": ".py",
   "mimetype": "text/x-python",
   "name": "python",
   "nbconvert_exporter": "python",
   "pygments_lexer": "ipython3",
   "version": "3.10.4"
  }
 },
 "nbformat": 4,
 "nbformat_minor": 2
}
