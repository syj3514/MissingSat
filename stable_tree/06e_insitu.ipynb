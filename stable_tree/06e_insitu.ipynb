{
 "cells": [
  {
   "cell_type": "code",
   "execution_count": 1,
   "metadata": {},
   "outputs": [],
   "source": [
    "from IPython import get_ipython\n",
    "\n",
    "\n",
    "def type_of_script():\n",
    "    \"\"\"\n",
    "    Detects and returns the type of python kernel\n",
    "    :return: string 'jupyter' or 'ipython' or 'terminal'\n",
    "    \"\"\"\n",
    "    try:\n",
    "        ipy_str = str(type(get_ipython()))\n",
    "        if 'zmqshell' in ipy_str:\n",
    "            return 'jupyter'\n",
    "        if 'terminal' in ipy_str:\n",
    "            return 'ipython'\n",
    "    except:\n",
    "        return 'terminal'\n",
    "\n",
    "\n",
    "if type_of_script() == 'jupyter':\n",
    "    from tqdm.notebook import tqdm\n",
    "else:\n",
    "    from tqdm import tqdm\n",
    "    os.nice(19)\n",
    "    \n",
    "import matplotlib.pyplot as plt # type: module\n",
    "import matplotlib.ticker as ticker\n",
    "from matplotlib import colormaps\n",
    "from matplotlib.colors import Normalize\n",
    "import matplotlib.gridspec as gridspec\n",
    "\n",
    "import numpy as np\n",
    "import os, glob, atexit, signal\n",
    "import time\n",
    "import warnings\n",
    "\n",
    "from rur.fortranfile import FortranFile\n",
    "from rur import uri, uhmi, painter, drawer\n",
    "from rur.sci.photometry import measure_luminosity\n",
    "from rur.sci.geometry import get_angles, euler_angle\n",
    "from rur.utool import rotate_data\n",
    "from scipy.ndimage import gaussian_filter\n",
    "uri.timer.verbose=0\n",
    "# from rur.sci.kinematics import f_getpot\n",
    "\n",
    "from icl_IO import mode2repo, pklsave, pklload\n",
    "from icl_tool import *\n",
    "from icl_numba import large_isin, large_isind, isin\n",
    "from icl_draw import drawsnap, add_scalebar, addtext, MakeSub_nolabel, label_to_in, fancy_axis, circle\n",
    "from importlib import reload\n",
    "from copy import deepcopy\n",
    "from multiprocessing import Pool, shared_memory, Value\n",
    "\n",
    "from common_func import *"
   ]
  },
  {
   "cell_type": "code",
   "execution_count": 2,
   "metadata": {},
   "outputs": [],
   "source": [
    "mode1 = 'nh'\n",
    "database1 = f\"/home/jeon/MissingSat/database/{mode1}\"\n",
    "iout1 = 1026\n",
    "repo1, rurmode1, dp1 = mode2repo(mode1)\n",
    "snap1 = uri.RamsesSnapshot(repo1, iout1, mode=rurmode1)\n",
    "snap1s = uri.TimeSeries(snap1)\n",
    "snap1s.read_iout_avail()\n",
    "nout1 = snap1s.iout_avail['iout']; nout=nout1[nout1 <= iout1]\n",
    "gal1s = uhmi.HaloMaker.load(snap1, galaxy=True, double_precision=dp1)\n",
    "hal1s = uhmi.HaloMaker.load(snap1, galaxy=False, double_precision=dp1)\n",
    "\n",
    "mode2 = 'nh2'\n",
    "database2 = f\"/home/jeon/MissingSat/database/{mode2}\"\n",
    "iout2 = 797\n",
    "repo2, rurmode2, dp2 = mode2repo(mode2)\n",
    "snap2 = uri.RamsesSnapshot(repo2, iout2, mode=rurmode2)\n",
    "snap2s = uri.TimeSeries(snap2)\n",
    "snap2s.read_iout_avail()\n",
    "nout2 = snap2s.iout_avail['iout']; nout=nout2[nout2 <= iout2]\n",
    "gal2s = uhmi.HaloMaker.load(snap2, galaxy=True, double_precision=dp2)\n",
    "hal2s = uhmi.HaloMaker.load(snap2, galaxy=False, double_precision=dp2)\n",
    "\n",
    "\n",
    "\n",
    "LG1 = pklload(f\"{database1}/LocalGroup.pickle\")\n",
    "allsubs1 = None\n",
    "states1 = None\n",
    "for key in LG1.keys():\n",
    "    subs = LG1[key]['subs']\n",
    "    real = LG1[key]['real']\n",
    "    dink = real[real['state']=='dink']['hid']\n",
    "    ind = isin(subs['id'], dink)\n",
    "    subs['dink'][ind] = True\n",
    "    subs['dink'][~ind] = False\n",
    "    state = np.zeros(len(subs), dtype='<U7')\n",
    "    state[ind] = 'dink'\n",
    "    state[~ind] = 'pair'\n",
    "    upair = real[real['state']=='upair']['hid']\n",
    "    ind = isin(subs['id'], upair)\n",
    "    state[ind] = 'upair'\n",
    "\n",
    "    allsubs1 = subs if allsubs1 is None else np.hstack((allsubs1, subs))\n",
    "    states1 = state if states1 is None else np.hstack((states1, state))\n",
    "argsort = np.argsort(allsubs1['id'])\n",
    "allsubs1 = allsubs1[argsort]\n",
    "states1 = states1[argsort]\n",
    "\n",
    "LG2 = pklload(f\"{database2}/LocalGroup.pickle\")\n",
    "allsubs2 = None\n",
    "states2 = None\n",
    "for key in LG2.keys():\n",
    "    subs = LG2[key]['subs']\n",
    "    real = LG2[key]['real']\n",
    "    dink = real[real['state']=='dink']['hid']\n",
    "    ind = isin(subs['id'], dink)\n",
    "    subs['dink'][ind] = True\n",
    "    subs['dink'][~ind] = False\n",
    "    state = np.zeros(len(subs), dtype='<U7')\n",
    "    state[ind] = 'dink'\n",
    "    state[~ind] = 'pair'\n",
    "    upair = real[real['state']=='upair']['hid']\n",
    "    ind = isin(subs['id'], upair)\n",
    "    state[ind] = 'upair'\n",
    "\n",
    "    allsubs2 = subs if allsubs2 is None else np.hstack((allsubs2, subs))\n",
    "    states2 = state if states2 is None else np.hstack((states2, state))\n",
    "argsort = np.argsort(allsubs2['id'])\n",
    "allsubs2 = allsubs2[argsort]\n",
    "states2 = states2[argsort]"
   ]
  },
  {
   "cell_type": "code",
   "execution_count": 3,
   "metadata": {},
   "outputs": [],
   "source": [
    "stree1 = pklload(f\"{database1}/stable_tree.pickle\")\n",
    "stree2 = pklload(f\"{database2}/stable_tree.pickle\")"
   ]
  },
  {
   "cell_type": "code",
   "execution_count": 18,
   "metadata": {},
   "outputs": [],
   "source": [
    "fnames = os.listdir(f\"{database1}/stable_prog/\")\n",
    "fnames = [fname for fname in fnames if(fname.startswith(\"subhalos\"))]\n",
    "fnames.sort()"
   ]
  },
  {
   "cell_type": "code",
   "execution_count": 26,
   "metadata": {},
   "outputs": [],
   "source": [
    "nstar = pklload(f\"{database1}/nstar.pickle\")"
   ]
  },
  {
   "cell_type": "code",
   "execution_count": 28,
   "metadata": {},
   "outputs": [
    {
     "data": {
      "text/plain": [
       "(865,)"
      ]
     },
     "execution_count": 28,
     "metadata": {},
     "output_type": "execute_result"
    }
   ],
   "source": [
    "nstar.shape"
   ]
  },
  {
   "cell_type": "code",
   "execution_count": 29,
   "metadata": {},
   "outputs": [
    {
     "data": {
      "text/plain": [
       "865"
      ]
     },
     "execution_count": 29,
     "metadata": {},
     "output_type": "execute_result"
    }
   ],
   "source": [
    "len(nout1)"
   ]
  },
  {
   "cell_type": "code",
   "execution_count": null,
   "metadata": {},
   "outputs": [],
   "source": [
    "def _insitu_SF(ith, maxbstar, maxnstar, address, shape, dtype):\n",
    "    global ihals, isnap, reft, refn\n",
    "\n",
    "    exist = shared_memory.SharedMemory(name=address)\n",
    "    results = np.ndarray(shape=shape, dtype=dtype, buffer=exist.buf)\n",
    "\n",
    "    ihal = ihals[ith]\n",
    "    ibox = np.array([[ihal['x']-ihal['r'], ihal['x']+ihal['r']],\n",
    "                        [ihal['y']-ihal['r'], ihal['y']+ihal['r']],\n",
    "                        [ihal['z']-ihal['r'], ihal['z']+ihal['r']]])\n",
    "\n",
    "    if(isnap.mode == 'nh'):\n",
    "        star = isnap.get_part_instant(box=ibox, nthread=1, target_fields=['x','y','z','m','epoch','id'], pname='star')\n",
    "    else:\n",
    "        star = isnap.get_part_instant(box=ibox, nthread=1, target_fields=['x','y','z','m','family','id'], pname='star')\n",
    "    newstar = star[(np.abs(star['id']) > maxbstar)&(np.abs(star['id']) <= maxnstar)]\n",
    "    if(len(newstar)>0):\n",
    "        newstar = cut_sphere(newstar, ihal['x'], ihal['y'], ihal['z'], ihal['r'])\n",
    "        if(len(newstar)>0):\n",
    "            results['insitu'][ith] = np.sum(newstar['m','Msol'])\n",
    "            newstar = cut_sphere(newstar, ihal['x'], ihal['y'], ihal['z'], ihal['rvir'])\n",
    "            if(len(newstar)>0):\n",
    "                results['insitu_vir'][ith] = np.sum(newstar['m','Msol'])\n",
    "    del newstar, star\n",
    "\n",
    "    refn.value += 1\n",
    "    if(refn.value%500==0)&(refn.value>0):\n",
    "        print(f\" > {refn.value}/{len(results)} {time.time()-reft.value:.2f} sec (ETA: {(len(results)-refn.value)*(time.time()-reft.value)/refn.value/60:.2f} min)\")"
   ]
  },
  {
   "cell_type": "code",
   "execution_count": 32,
   "metadata": {},
   "outputs": [
    {
     "data": {
      "text/plain": [
       "array([ True])"
      ]
     },
     "execution_count": 32,
     "metadata": {},
     "output_type": "execute_result"
    }
   ],
   "source": [
    "snap1.star"
   ]
  },
  {
   "cell_type": "code",
   "execution_count": 20,
   "metadata": {},
   "outputs": [
    {
     "name": "stdout",
     "output_type": "stream",
     "text": [
      "01026\n"
     ]
    }
   ],
   "source": [
    "ncpu = 48\n",
    "nstar = pklload(f\"{database1}/nstar.pickle\")\n",
    "if(not os.path.isdir(f\"{database1}/stable_prog/props\")):\n",
    "    os.mkdir(f\"{database1}/stable_prog/props\")\n",
    "for fname in fnames:\n",
    "    iout = int(fname[-12:-7])\n",
    "    isnap = snap1s.get_snap(iout)\n",
    "    if(not isnap.star[0]): continue\n",
    "    istep = np.where(nout1==iout)[0][0]\n",
    "    maxbstar = nstar[istep-1]\n",
    "    maxnstar = nstar[istep]\n",
    "    ihals = pklload(f\"{database1}/stable_prog/{fname}\")[0]\n",
    "    cpulist = isnap.get_halos_cpulist(ihals, 1, radius_name='r', nthread=ncpu)\n",
    "    uri.timer.verbose=1\n",
    "    if(isnap.mode=='nh'):\n",
    "        isnap.get_part(pname='star', nthread=ncpu, target_fields=['x','y','z','m','epoch','id'], exact_box=False, domain_slicing=True, cpulist=cpulist)\n",
    "    else:\n",
    "        isnap.get_part(pname='star', nthread=ncpu, target_fields=['x','y','z','m','family','id'], exact_box=False, domain_slicing=True, cpulist=cpulist)\n",
    "    reft = Value('f', 0); reft.value = time.time()\n",
    "    refn = Value('i', 0)\n",
    "    uri.timer.verbose=0\n",
    "    print(f\"[IOUT {iout:05d}]\")\n",
    "    newdtype = np.dtype( [('lastid', '<i4'),('insitu', '<f8'), ('insitu_vir', '<f8')] )\n",
    "    results = np.zeros(len(ihals), dtype=newdtype)\n",
    "    memory = shared_memory.SharedMemory(create=True, size=results.nbytes)\n",
    "    results = np.ndarray(results.shape, dtype=newdtype, buffer=memory.buf)\n",
    "    results['lastid'] = ihals['lastid']\n",
    "    with Pool(processes=ncpu) as pool:\n",
    "        async_result = [pool.apply_async(_insitu_SF, (ith, maxbstar, maxnstar, memory.name, results.shape, newdtype)) for ith in range(nsub)]\n",
    "        # iterobj = tqdm(async_result, total=len(async_result), desc=f\"IOUT{iout:05d} \")# if(uri.timer.verbose>=1) else async_result\n",
    "        iterobj = async_result\n",
    "        for r in iterobj:\n",
    "            r.get()\n",
    "    pklsave(results, f\"{database1}/stable_prog/props/insitu_{iout:05d}.pickle\")\n",
    "    try:\n",
    "        memory.close()\n",
    "        memory.unlink()\n",
    "    except: pass\n"
   ]
  },
  {
   "cell_type": "code",
   "execution_count": 21,
   "metadata": {},
   "outputs": [],
   "source": [
    "tmp = pklload(f\"{database1}/stable_prog/{fname}\")"
   ]
  },
  {
   "cell_type": "code",
   "execution_count": 25,
   "metadata": {},
   "outputs": [
    {
     "data": {
      "text/plain": [
       "dtype([('nparts', '<i4'), ('id', '<i4'), ('timestep', '<i4'), ('level', '<i4'), ('host', '<i4'), ('hostsub', '<i4'), ('nbsub', '<i4'), ('nextsub', '<i4'), ('aexp', '<f8'), ('m', '<f8'), ('x', '<f8'), ('y', '<f8'), ('z', '<f8'), ('vx', '<f8'), ('vy', '<f8'), ('vz', '<f8'), ('Lx', '<f8'), ('Ly', '<f8'), ('Lz', '<f8'), ('r', '<f8'), ('a', '<f8'), ('b', '<f8'), ('c', '<f8'), ('ek', '<f8'), ('ep', '<f8'), ('et', '<f8'), ('spin', '<f8'), ('sigma', '<f8'), ('rvir', '<f8'), ('mvir', '<f8'), ('tvir', '<f8'), ('cvel', '<f8'), ('rho0', '<f8'), ('rc', '<f8'), ('mcontam', '<f8'), ('r10_mem', '<f8'), ('r50_mem', '<f8'), ('r90_mem', '<f8'), ('r10_vir', '<f8'), ('r50_vir', '<f8'), ('r90_vir', '<f8'), ('r10_max', '<f8'), ('r50_max', '<f8'), ('r90_max', '<f8'), ('sub', '<i8'), ('dink', '?'), ('mdm', '<f8'), ('mstar', '<f8'), ('mcold', '<f8'), ('mcell', '<f8'), ('Host', '<i4'), ('r200kpc', '<f8'), ('m200', '<f8'), ('r200', '<f8'), ('mdm_vir', '<f8'), ('mstar_vir', '<f8'), ('mcell_vir', '<f8'), ('mcold_vir', '<f8'), ('lastid', '<i4'), ('give_score', '<f8'), ('take_score', '<f8')])"
      ]
     },
     "execution_count": 25,
     "metadata": {},
     "output_type": "execute_result"
    }
   ],
   "source": [
    "tmp[0].dtype"
   ]
  },
  {
   "cell_type": "code",
   "execution_count": 7,
   "metadata": {},
   "outputs": [
    {
     "data": {
      "text/plain": [
       "dict_keys([693, 1309, 1310, 1324, 1359, 1389, 1604, 1659, 1676, 1738, 1754, 1755, 1756, 1771, 1773, 1775, 1800, 1906, 1939, 1940, 1941, 2078, 2082, 2099, 2119, 3428, 3430, 3467, 3472, 3484, 3486, 3787, 3797, 3800, 3802, 3831, 3885, 4128, 4797, 4979, 5008, 5010, 5063, 5066, 5069, 5466, 5483, 5488, 5489, 5490, 5493, 5514, 5515, 5522, 5537, 5600, 5607, 5613, 5618, 5630, 5661, 5662, 5665, 5673, 5712, 5737, 5740, 5752, 5754, 5807, 5823, 5825, 5929, 5932, 5936, 5942, 6016, 6370, 6594, 6598, 6610, 8041, 8053, 8054, 8055, 8062, 8157, 8251, 8263, 8274, 8307, 8342, 8343, 8351, 8353, 9434, 9498, 9513, 9515, 9516, 9878, 9885, 11192, 11938, 12016, 13433, 13479, 14049, 14055, 14117, 14221, 14239, 14253, 14259, 14319, 14322, 14376, 14385, 14389, 14393, 14399, 14406, 14408, 14422, 14521, 14525, 14526, 14540, 14542, 14567, 14595, 14618, 18157, 18162, 18170, 18301, 18304, 20513, 20516, 20520, 20521, 20522, 20523, 20524, 20527, 20528, 20532, 20533, 20536, 20538, 20541, 20543, 20546, 20547, 20548, 20549, 20550, 20552, 20554, 20556, 20558, 20559, 20560, 20561, 20563, 20564, 20565, 20566, 20568, 20688, 20689, 20691, 20694, 20696, 20698, 20699, 20700, 20701, 20704, 20705, 20706, 20707, 20708, 20709, 20710, 20711, 20712, 20713, 20714, 20716, 20717, 20718, 20720, 20721, 20722, 20723, 20724, 20726, 20727, 20730, 20731, 20732, 20733, 20734, 20735, 20736, 20737, 20738, 20739, 20742, 20743, 20744, 20746, 20747, 20748, 20749, 20750, 20751, 20753, 20754, 20756, 20757, 20758, 20760, 20762, 20763, 20764, 20766, 20767, 20771, 20774, 20776, 20778, 20779, 20780, 20781, 20783, 20784, 20785, 20786, 20787, 20790, 20792, 20794, 20795, 20798, 20799, 20800, 20803, 20804, 20805, 20806, 20809, 20810, 20811, 20813, 20814, 20815, 20816, 20817, 20820, 20821, 20823, 20824, 20825, 20826, 20827, 20828, 20829, 20830, 20831, 20833, 20835, 20836, 20837, 20838, 20839, 20840, 20841, 20842, 20844, 20846, 20847, 20947, 20948, 20952, 20953, 20957, 20959, 20960, 20962, 20964, 20966, 20967, 20969, 20972, 20976, 20978, 20981, 20982, 20983, 20984, 20985, 20986, 20987, 20989, 20990, 20992, 20994, 20995, 20996, 21001, 21003, 21005, 21006, 21008, 21009, 21010, 21011, 21013, 21016, 21019, 21022, 21025, 21028, 21029, 21031, 21032, 21034, 21036, 21037, 21040, 21043, 21046, 21047, 21048, 21049, 21050, 21051, 21052, 21054, 21055, 21058, 21059, 21062, 21064, 21066, 21068, 21069, 21070, 21071, 21074, 21075, 21076, 21077, 21078, 21080, 21081, 21082, 21084, 21085, 21086, 21087, 21089, 21090, 21091, 21092, 21093, 21095, 21098, 21099, 21100, 21101, 21102, 21103, 21104, 21105, 21106, 21107, 21108, 21109, 21111, 21112, 21113, 21116, 21118, 21119, 21121, 21126, 21127, 21128, 21129, 22451, 22452, 22457, 22458, 22459, 22460, 22462, 22463, 22464, 22467, 22468, 22470, 22472, 22475, 22476, 22477, 22478, 22480, 22481, 22483, 22485, 22486, 22487, 22488, 22489, 22490, 22491, 22494, 22495, 22496, 22497, 22498, 22499, 22500, 22501, 22502, 22503, 22504, 22505, 22506, 22507, 22508, 22510, 22511, 22512, 22513, 22514, 22515, 22516, 22517, 22518, 22519, 22520, 22521, 22522, 22523, 22524, 22525, 22534, 22535, 22536, 23581, 24162, 24165, 24167, 24168, 24169, 24170, 24171, 24173, 24176, 24181, 24183, 24188, 24191, 24193, 24196, 24202, 24204, 24206, 24213, 24219, 24221, 24222, 24223, 24226, 24227, 24228, 24232, 24233, 24234, 24236, 24237, 24239, 24242, 24247, 24248, 24250, 24251, 24253, 24256, 24257, 24260, 24264, 24265, 24266, 24267, 24268, 24269, 24272, 24275, 24276, 24282, 24283, 24285, 24288, 24289, 24294, 24295, 24296, 24299, 24300, 24301, 24304, 24305, 24306, 24307, 24308, 24311, 24312, 24315, 24317, 24319, 24320, 24321, 24325, 24326, 24327, 24330, 24333, 24336, 24338, 24340, 24341, 24343, 24344, 24345, 24347, 24352, 24354, 24357, 24361, 24366, 24367, 24368, 24369, 24370, 24371, 24372, 24373, 24374, 24375, 24377, 24378, 24379, 24381, 24382, 24383, 24384, 24385, 24386, 24387, 24388, 24389, 24390, 24391, 24392, 24393, 24394, 24395, 24396, 24397, 24400, 24407, 24413, 24414, 24415, 24417, 24419, 24422, 24424, 24426, 24427, 24429, 24430, 24431, 24432, 24433, 24436, 24437, 24438, 24439, 24440, 24441, 24443, 24444, 24445, 24446, 24447, 24448, 24449, 24450, 24451, 24452, 24453, 24454, 24455, 24456, 24457, 24458, 24459, 24463, 24464, 24465, 24466, 24467, 24468, 24469, 24470, 24471, 24472, 24473, 24474, 24476, 24477, 24479, 24480, 24482, 24483, 24485, 24486, 24487, 24489, 24491, 24492, 24493, 24498, 24499, 24506, 24508, 24509, 24510, 24512, 24513, 24514, 24515, 24516, 24517, 24518, 24519, 24520, 24521, 24522, 24523, 24527, 24550, 24552, 24558, 24562, 24564, 24571, 24574, 24575, 24578, 24579, 24581, 24582, 24585, 24586, 24589, 24590, 24591, 24592, 24593, 24598, 24599, 24601, 24604, 24608, 24610, 24611, 24613, 24615, 24616, 24617, 24625, 24626, 24628, 24630, 24632, 24633, 24635, 24636, 24639, 24642, 24644, 24646, 24649, 24650, 24651, 24652, 24653, 24656, 24657, 24658, 24659, 24661, 24662, 24664, 24665, 24666, 24667, 24668, 24669, 24670, 24671, 24672, 24673, 24674, 24676, 24679, 24682, 24683, 24686, 24687, 24688, 24690, 24694, 24695, 24697, 24699, 24700, 24701, 24702, 24704, 24705, 24708, 24712, 24713, 24714, 24717, 24718, 24719, 24720, 24721, 24722, 24723, 24726, 24728, 24729, 24730, 24732, 24733, 24734, 24735, 24736, 24737, 24738, 24739, 24740, 24741, 24742, 24743, 24744, 24745, 24746, 24747, 24748, 24749, 24750, 24751, 24754, 24755, 24756, 24758, 24759, 24760, 24761, 24762, 24764, 24765, 24766, 24768, 24770, 24771, 24772, 24773, 24775, 24777, 24778, 24781, 24782, 24783, 24784, 24785, 24786, 24787, 24788, 24790, 24791, 24792, 24793, 24794, 24795, 24796, 24797, 24798, 24799, 24801, 24803, 24804, 24806, 24807, 24808, 24809, 24810, 24811, 24812, 24815, 24816, 24817, 24818, 24819, 24821, 24823, 24824, 24825, 24827, 24828, 24829, 24830, 24831, 24836, 24837, 24838, 24839, 24840, 24841, 24842, 24843, 24844, 24845, 24847, 24849, 24850, 24852, 24855, 24856, 24857, 24858, 24860, 24861, 24862, 24863, 24865, 24866, 24867, 24868, 24869, 24870, 24871, 24872, 24873, 24874, 24875, 24876, 24877, 24878, 24879, 24880, 24881, 24882, 24883, 24884, 24885, 24886, 24887, 24888, 24889, 24890, 24891, 24892, 24893, 24894, 24895, 24896, 24897, 24898, 24899, 24900, 24901, 24902, 24903, 24904, 24906, 24907, 24908, 24909, 24910, 24911, 24913, 24914, 24915, 24917, 24918, 24919, 24920, 24923, 24928, 24929, 24930, 24933, 24935, 24937, 24939, 24948, 24963, 24968, 24970, 25024, 25027, 25028, 25029, 25030, 25034, 25035, 25036, 25037, 25039, 25040, 25043, 25046, 25052, 25055, 25060, 25063, 25068, 25070, 25072, 25073, 25074, 25076, 25080, 25082, 25083, 25085, 25086, 25087, 25089, 25094, 25096, 25098, 25099, 25101, 25102, 25105, 25106, 25107, 25108, 25109, 25112, 25113, 25114, 25116, 25117, 25118, 25119, 25120, 25121, 25122, 25123, 25126, 25127, 25128, 25130, 25132, 25133, 25134, 25135, 25136, 25137, 25138, 25139, 25141, 25142, 25143, 25144, 25145, 25146, 25147, 25149, 25151, 25152, 25153, 25154, 25155, 25157, 25158, 25160, 25162, 25164, 25166, 25169, 25170, 25172, 25173, 25174, 25176, 25178, 25179, 25180, 25181, 25182, 25183, 25184, 25188, 25189, 25190, 25191, 25192, 25193, 25194, 25196, 25197, 25199, 25200, 25201, 25202, 25203, 25205, 25206, 25207, 25209, 25210, 25211, 25212, 25214, 25215, 25217, 25218, 25219, 25221, 25222, 25223, 25224, 25225, 25226, 25227, 25228, 25229, 25230, 25232, 25233, 25234, 25235, 25236, 25237, 25239, 25240, 25241, 25242, 25244, 25246, 25248, 25249, 25250, 25252, 25253, 25254, 25255, 25256, 25257, 25258, 25259, 25260, 25261, 25262, 25263, 25264, 25265, 25266, 25267, 25268, 25269, 25270, 25271, 25272, 25273, 25274, 25275, 25276, 25278, 25279, 25281, 25282, 25284, 25285, 25286, 25287, 25288, 25289, 25290, 25291, 25292, 25293, 25294, 25296, 25297, 25298, 25299, 25300, 25301, 25302, 25303, 25304, 25305, 25306, 25307, 25308, 25309, 25315, 25316, 25317, 25323, 25324, 25325, 25359, 25540, 25967, 25969, 25971, 25972, 25973, 25974, 25975, 25976, 25978, 25979, 25980, 25981, 25987, 25992, 25993, 25994, 25996, 25997, 25998, 25999, 26000, 26001, 26003, 26005, 26006, 26008, 26009, 26011, 26012, 26014, 26015, 26017, 26019, 26020, 26021, 26022, 26023, 26024, 26025, 26028, 26029, 26030, 26032, 26033, 26034, 26036, 26037, 26038, 26039, 26040, 26041, 26042, 26043, 26044, 26045, 26047, 26048, 26049, 26050, 26052, 26053, 26054, 26056, 26057, 26058, 26059, 26060, 26061, 26062, 26063, 26064, 26065, 26066, 26067, 26068, 26069, 26071, 26072, 26074, 26075, 26077, 26078, 26079, 26081, 26082, 26083, 26084, 26085, 26086, 26087, 26088, 26090, 26091, 26092, 26093, 26094, 26095, 26096, 26097, 26098, 26099, 26100, 26101, 26102, 26103, 26104, 26105, 26107, 26109, 26110, 26111, 26112, 26175, 26177, 26178, 26179, 26180, 26181, 26182, 26183, 26184, 26185, 26186, 26188, 26189, 26191, 26192, 26193, 26196, 26197, 26199, 26200, 26202, 26203, 26204, 26207, 27820, 28363, 28365, 28366, 28368, 28369, 28370, 28371, 28372, 28374, 28375, 28376, 28378, 28379, 28380, 28381, 28382, 28383, 28387, 28388, 28389, 28391, 28392, 28393, 28395, 28396, 28397, 28398, 28399, 28400, 28401, 28403, 28404, 28406, 28407, 28483, 28484, 28488, 28489, 28493, 28496, 28498, 28499, 28501, 28502, 28503, 28505, 28506, 28509, 28510, 28513, 28514, 28516, 28517, 28518, 28519, 28521, 28522, 28523, 28524, 28525, 28526, 28527, 28528, 28529, 28530, 28531, 28532, 28581, 28582])"
      ]
     },
     "execution_count": 7,
     "metadata": {},
     "output_type": "execute_result"
    }
   ],
   "source": [
    "stree1.keys()"
   ]
  },
  {
   "cell_type": "code",
   "execution_count": null,
   "metadata": {},
   "outputs": [],
   "source": []
  }
 ],
 "metadata": {
  "kernelspec": {
   "display_name": "jeonpy",
   "language": "python",
   "name": "python3"
  },
  "language_info": {
   "codemirror_mode": {
    "name": "ipython",
    "version": 3
   },
   "file_extension": ".py",
   "mimetype": "text/x-python",
   "name": "python",
   "nbconvert_exporter": "python",
   "pygments_lexer": "ipython3",
   "version": "3.10.4"
  }
 },
 "nbformat": 4,
 "nbformat_minor": 2
}
