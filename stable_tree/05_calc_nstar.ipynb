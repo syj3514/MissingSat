{
 "cells": [
  {
   "cell_type": "code",
   "execution_count": 1,
   "metadata": {},
   "outputs": [],
   "source": [
    "from IPython import get_ipython\n",
    "\n",
    "\n",
    "def type_of_script():\n",
    "    \"\"\"\n",
    "    Detects and returns the type of python kernel\n",
    "    :return: string 'jupyter' or 'ipython' or 'terminal'\n",
    "    \"\"\"\n",
    "    try:\n",
    "        ipy_str = str(type(get_ipython()))\n",
    "        if 'zmqshell' in ipy_str:\n",
    "            return 'jupyter'\n",
    "        if 'terminal' in ipy_str:\n",
    "            return 'ipython'\n",
    "    except:\n",
    "        return 'terminal'\n",
    "\n",
    "\n",
    "if type_of_script() == 'jupyter':\n",
    "    from tqdm.notebook import tqdm\n",
    "else:\n",
    "    from tqdm import tqdm\n",
    "    \n",
    "import matplotlib.pyplot as plt # type: module\n",
    "import matplotlib.ticker as ticker\n",
    "from matplotlib import colormaps\n",
    "from matplotlib.colors import Normalize\n",
    "import matplotlib.gridspec as gridspec\n",
    "import cmasher as cmr\n",
    "\n",
    "import numpy as np\n",
    "import os, glob, atexit, signal\n",
    "import time\n",
    "import warnings\n",
    "\n",
    "from rur.fortranfile import FortranFile\n",
    "from rur import uri, uhmi, painter, drawer\n",
    "from rur.sci.photometry import measure_luminosity\n",
    "from rur.sci.geometry import get_angles, euler_angle\n",
    "from rur.utool import rotate_data\n",
    "from scipy.ndimage import gaussian_filter\n",
    "uri.timer.verbose=0\n",
    "# from rur.sci.kinematics import f_getpot\n",
    "\n",
    "from icl_IO import mode2repo, pklsave, pklload\n",
    "from icl_tool import *\n",
    "from icl_numba import large_isin, large_isind, isin\n",
    "from icl_draw import drawsnap, add_scalebar, addtext, MakeSub_nolabel, label_to_in, fancy_axis, circle, ax_change_color\n",
    "from importlib import reload\n",
    "from copy import deepcopy\n",
    "from multiprocessing import Pool, shared_memory, Value\n",
    "from common_func import *"
   ]
  },
  {
   "cell_type": "code",
   "execution_count": 8,
   "metadata": {},
   "outputs": [
    {
     "data": {
      "application/json": {
       "ascii": false,
       "bar_format": null,
       "colour": null,
       "elapsed": 0.02012920379638672,
       "initial": 0,
       "n": 0,
       "ncols": null,
       "nrows": null,
       "postfix": null,
       "prefix": "",
       "rate": null,
       "total": 865,
       "unit": "it",
       "unit_divisor": 1000,
       "unit_scale": false
      },
      "application/vnd.jupyter.widget-view+json": {
       "model_id": "f64a04341ffb483e9e82e5f377f6b7f3",
       "version_major": 2,
       "version_minor": 0
      },
      "text/plain": [
       "  0%|          | 0/865 [00:00<?, ?it/s]"
      ]
     },
     "metadata": {},
     "output_type": "display_data"
    }
   ],
   "source": [
    "mode1 = 'nh'\n",
    "database1 = f\"/home/jeon/MissingSat/database/{mode1}\"\n",
    "iout1 = 1026\n",
    "repo1, rurmode1, dp1 = mode2repo(mode1)\n",
    "snap1 = uri.RamsesSnapshot(repo1, iout1, mode=rurmode1)\n",
    "snap1s = uri.TimeSeries(snap1)\n",
    "snap1s.read_iout_avail()\n",
    "nout1 = snap1s.iout_avail['iout']\n",
    "\n",
    "nstar = np.zeros(len(nout1))\n",
    "for i,iout in tqdm(enumerate(nout1), total=len(nout1)):\n",
    "    nstar[i] = snap1s.get_snap(iout).nstar[0]\n",
    "pklsave(nstar, f\"{database1}/nstar.pickle\")"
   ]
  },
  {
   "cell_type": "code",
   "execution_count": 9,
   "metadata": {},
   "outputs": [
    {
     "data": {
      "application/json": {
       "ascii": false,
       "bar_format": null,
       "colour": null,
       "elapsed": 0.02607417106628418,
       "initial": 0,
       "n": 0,
       "ncols": null,
       "nrows": null,
       "postfix": null,
       "prefix": "",
       "rate": null,
       "total": 811,
       "unit": "it",
       "unit_divisor": 1000,
       "unit_scale": false
      },
      "application/vnd.jupyter.widget-view+json": {
       "model_id": "8d7bb84045484692a4853e67b7331944",
       "version_major": 2,
       "version_minor": 0
      },
      "text/plain": [
       "  0%|          | 0/811 [00:00<?, ?it/s]"
      ]
     },
     "metadata": {},
     "output_type": "display_data"
    }
   ],
   "source": [
    "mode2 = 'nh2'\n",
    "database2 = f\"/home/jeon/MissingSat/database/{mode2}\"\n",
    "iout2 = 797\n",
    "repo2, rurmode2, dp2 = mode2repo(mode2)\n",
    "snap2 = uri.RamsesSnapshot(repo2, iout2, mode=rurmode2)\n",
    "snap2s = uri.TimeSeries(snap2)\n",
    "snap2s.read_iout_avail()\n",
    "nout2 = snap2s.iout_avail['iout']\n",
    "\n",
    "nstar = np.zeros(len(nout2))\n",
    "for i,iout in tqdm(enumerate(nout2), total=len(nout2)):\n",
    "    nstar[i] = snap2s.get_snap(iout).nstar[0]\n",
    "pklsave(nstar, f\"{database2}/nstar.pickle\")"
   ]
  }
 ],
 "metadata": {
  "kernelspec": {
   "display_name": "jeonpy",
   "language": "python",
   "name": "python3"
  },
  "language_info": {
   "codemirror_mode": {
    "name": "ipython",
    "version": 3
   },
   "file_extension": ".py",
   "mimetype": "text/x-python",
   "name": "python",
   "nbconvert_exporter": "python",
   "pygments_lexer": "ipython3",
   "version": "3.10.4"
  }
 },
 "nbformat": 4,
 "nbformat_minor": 2
}
