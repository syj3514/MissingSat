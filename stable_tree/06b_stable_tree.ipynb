{
 "cells": [
  {
   "cell_type": "code",
   "execution_count": 1,
   "metadata": {},
   "outputs": [],
   "source": [
    "from IPython import get_ipython\n",
    "\n",
    "\n",
    "def type_of_script():\n",
    "    \"\"\"\n",
    "    Detects and returns the type of python kernel\n",
    "    :return: string 'jupyter' or 'ipython' or 'terminal'\n",
    "    \"\"\"\n",
    "    try:\n",
    "        ipy_str = str(type(get_ipython()))\n",
    "        if 'zmqshell' in ipy_str:\n",
    "            return 'jupyter'\n",
    "        if 'terminal' in ipy_str:\n",
    "            return 'ipython'\n",
    "    except:\n",
    "        return 'terminal'\n",
    "\n",
    "\n",
    "if type_of_script() == 'jupyter':\n",
    "    from tqdm.notebook import tqdm\n",
    "else:\n",
    "    from tqdm import tqdm\n",
    "    \n",
    "import matplotlib.pyplot as plt # type: module\n",
    "import matplotlib.ticker as ticker\n",
    "from matplotlib import colormaps\n",
    "from matplotlib.colors import Normalize\n",
    "import matplotlib.gridspec as gridspec\n",
    "import cmasher as cmr\n",
    "\n",
    "import numpy as np\n",
    "import os, glob, atexit, signal\n",
    "import time\n",
    "import warnings\n",
    "\n",
    "from rur.fortranfile import FortranFile\n",
    "from rur import uri, uhmi, painter, drawer\n",
    "from rur.sci.photometry import measure_luminosity\n",
    "from rur.sci.geometry import get_angles, euler_angle\n",
    "from rur.utool import rotate_data\n",
    "from scipy.ndimage import gaussian_filter\n",
    "uri.timer.verbose=0\n",
    "# from rur.sci.kinematics import f_getpot\n",
    "\n",
    "from icl_IO import mode2repo, pklsave, pklload\n",
    "from icl_tool import *\n",
    "from icl_numba import large_isin, large_isind, isin\n",
    "from icl_draw import drawsnap, add_scalebar, addtext, MakeSub_nolabel, label_to_in, fancy_axis, circle, ax_change_color\n",
    "from importlib import reload\n",
    "from copy import deepcopy\n",
    "from multiprocessing import Pool, shared_memory, Value\n",
    "from common_func import *"
   ]
  },
  {
   "cell_type": "code",
   "execution_count": 2,
   "metadata": {},
   "outputs": [
    {
     "name": "stdout",
     "output_type": "stream",
     "text": [
      "1336 (array(['dink', 'pair', 'upair'], dtype='<U7'), array([1145,  130,   61]))\n"
     ]
    }
   ],
   "source": [
    "mode1 = 'nh'\n",
    "database1 = f\"/home/jeon/MissingSat/database/{mode1}\"\n",
    "iout1 = 1026\n",
    "repo1, rurmode1, dp1 = mode2repo(mode1)\n",
    "snap1 = uri.RamsesSnapshot(repo1, iout1, mode=rurmode1)\n",
    "snap1s = uri.TimeSeries(snap1)\n",
    "snap1s.read_iout_avail()\n",
    "nout1 = snap1s.iout_avail['iout']; nout=nout1[nout1 <= iout1]\n",
    "gals1 = uhmi.HaloMaker.load(snap1, galaxy=True, double_precision=dp1)\n",
    "hals1 = uhmi.HaloMaker.load(snap1, galaxy=False, double_precision=dp1)\n",
    "\n",
    "LG1 = pklload(f\"{database1}/LocalGroup.pickle\")\n",
    "allsats1 = None; allsubs1 = None; states1 = None\n",
    "keys1 = list(LG1.keys())\n",
    "for key in keys1:\n",
    "    sats = LG1[key]['sats']; subs = LG1[key]['subs']; real = LG1[key]['real']\n",
    "    dink = real[real['state']=='dink']['hid']\n",
    "    ind = isin(subs['id'], dink)\n",
    "    subs['dink'][ind] = True; subs['dink'][~ind] = False\n",
    "    state = np.zeros(len(subs), dtype='<U7')\n",
    "    state[ind] = 'dink'; state[~ind] = 'pair'\n",
    "    \n",
    "    upair = real[real['state']=='upair']['hid']\n",
    "    ind = isin(subs['id'], upair)\n",
    "    state[ind] = 'upair'\n",
    "\n",
    "    allsats1 = sats if allsats1 is None else np.hstack((allsats1, sats))\n",
    "    allsubs1 = subs if allsubs1 is None else np.hstack((allsubs1, subs))\n",
    "    states1 = state if states1 is None else np.hstack((states1, state))\n",
    "argsort = np.argsort(allsubs1['id'])\n",
    "allsubs1 = allsubs1[argsort]; states1 = states1[argsort]\n",
    "dinks1 = allsubs1[states1 == 'dink']\n",
    "pairs1 = allsubs1[states1 == 'pair']\n",
    "upairs1 = allsubs1[states1 == 'upair']\n",
    "\n",
    "print(len(allsubs1), np.unique(states1, return_counts=True))  "
   ]
  },
  {
   "cell_type": "code",
   "execution_count": 3,
   "metadata": {},
   "outputs": [
    {
     "name": "stdout",
     "output_type": "stream",
     "text": [
      "1242 (array(['dink', 'pair', 'upair'], dtype='<U7'), array([1120,   79,   43]))\n"
     ]
    }
   ],
   "source": [
    "mode2 = 'nh2'\n",
    "database2 = f\"/home/jeon/MissingSat/database/{mode2}\"\n",
    "iout2 = 797\n",
    "repo2, rurmode2, dp2 = mode2repo(mode2)\n",
    "snap2 = uri.RamsesSnapshot(repo2, iout2, mode=rurmode2)\n",
    "snap2s = uri.TimeSeries(snap2)\n",
    "snap2s.read_iout_avail()\n",
    "nout2 = snap2s.iout_avail['iout']; nout=nout2[nout2 <= iout2]\n",
    "gals2 = uhmi.HaloMaker.load(snap2, galaxy=True, double_precision=dp2)\n",
    "hals2 = uhmi.HaloMaker.load(snap2, galaxy=False, double_precision=dp2)\n",
    "\n",
    "LG2 = pklload(f\"{database2}/LocalGroup.pickle\")\n",
    "allsats2 = None; allsubs2 = None; states2 = None\n",
    "keys2 = list(LG2.keys())\n",
    "for key in keys2:\n",
    "    sats = LG2[key]['sats']; subs = LG2[key]['subs']; real = LG2[key]['real']\n",
    "    dink = real[real['state']=='dink']['hid']\n",
    "    ind = isin(subs['id'], dink)\n",
    "    subs['dink'][ind] = True; subs['dink'][~ind] = False\n",
    "    state = np.zeros(len(subs), dtype='<U7')\n",
    "    state[ind] = 'dink'; state[~ind] = 'pair'\n",
    "    \n",
    "    upair = real[real['state']=='upair']['hid']\n",
    "    ind = isin(subs['id'], upair)\n",
    "    state[ind] = 'upair'\n",
    "\n",
    "    allsats2 = sats if allsats2 is None else np.hstack((allsats2, sats))\n",
    "    allsubs2 = subs if allsubs2 is None else np.hstack((allsubs2, subs))\n",
    "    states2 = state if states2 is None else np.hstack((states2, state))\n",
    "argsort = np.argsort(allsubs2['id'])\n",
    "allsubs2 = allsubs2[argsort]; states2 = states2[argsort]\n",
    "dinks2 = allsubs2[states2 == 'dink']\n",
    "pairs2 = allsubs2[states2 == 'pair']\n",
    "upairs2 = allsubs2[states2 == 'upair']\n",
    "\n",
    "print(len(allsubs2), np.unique(states2, return_counts=True))"
   ]
  },
  {
   "cell_type": "code",
   "execution_count": 8,
   "metadata": {},
   "outputs": [],
   "source": [
    "shared_particles1 = pklload(f\"{database1}/06b_shared_particles.pickle\")\n",
    "# leng = len(allsubs1)\n",
    "# for i in range(leng):\n",
    "#     sub = allsubs1[i]\n",
    "#     shared_particles = shared_particles1[sub['id']]\n",
    "#     if(len(shared_particles)<30):\n",
    "#         print(sub['id'], len(shared_particles))\n",
    "shared_particles2 = pklload(f\"{database2}/06b_shared_particles.pickle\")\n",
    "# leng = len(allsubs2)\n",
    "# for i in range(leng):\n",
    "#     sub = allsubs2[i]\n",
    "#     shared_particles = shared_particles2[sub['id']]\n",
    "#     if(len(shared_particles)<30):\n",
    "#         print(sub['id'], len(shared_particles))"
   ]
  },
  {
   "cell_type": "code",
   "execution_count": 17,
   "metadata": {},
   "outputs": [
    {
     "data": {
      "application/json": {
       "ascii": false,
       "bar_format": null,
       "colour": null,
       "elapsed": 0.02724456787109375,
       "initial": 0,
       "n": 0,
       "ncols": null,
       "nrows": null,
       "postfix": null,
       "prefix": "Reading members",
       "rate": null,
       "total": 1336,
       "unit": "it",
       "unit_divisor": 1000,
       "unit_scale": false
      },
      "application/vnd.jupyter.widget-view+json": {
       "model_id": "cc4212d7a4174f5d95cd8d55831cd278",
       "version_major": 2,
       "version_minor": 0
      },
      "text/plain": [
       "Reading members:   0%|          | 0/1336 [00:00<?, ?it/s]"
      ]
     },
     "metadata": {},
     "output_type": "display_data"
    },
    {
     "data": {
      "application/json": {
       "ascii": false,
       "bar_format": null,
       "colour": null,
       "elapsed": 0.023189783096313477,
       "initial": 0,
       "n": 0,
       "ncols": null,
       "nrows": null,
       "postfix": null,
       "prefix": "Find maximum pID",
       "rate": null,
       "total": 1336,
       "unit": "it",
       "unit_divisor": 1000,
       "unit_scale": false
      },
      "application/vnd.jupyter.widget-view+json": {
       "model_id": "e88693f1157746419089885fc595abf5",
       "version_major": 2,
       "version_minor": 0
      },
      "text/plain": [
       "Find maximum pID:   0%|          | 0/1336 [00:00<?, ?it/s]"
      ]
     },
     "metadata": {},
     "output_type": "display_data"
    },
    {
     "name": "stdout",
     "output_type": "stream",
     "text": [
      "Calculate Scores...\n"
     ]
    },
    {
     "data": {
      "application/json": {
       "ascii": false,
       "bar_format": null,
       "colour": null,
       "elapsed": 0.01932382583618164,
       "initial": 0,
       "n": 0,
       "ncols": null,
       "nrows": null,
       "postfix": null,
       "prefix": "[0994]",
       "rate": null,
       "total": 1336,
       "unit": "it",
       "unit_divisor": 1000,
       "unit_scale": false
      },
      "application/vnd.jupyter.widget-view+json": {
       "model_id": "66efb026642c4725afa94e7f28f144a4",
       "version_major": 2,
       "version_minor": 0
      },
      "text/plain": [
       "[0994]:   0%|          | 0/1336 [00:00<?, ?it/s]"
      ]
     },
     "metadata": {},
     "output_type": "display_data"
    },
    {
     "name": "stdout",
     "output_type": "stream",
     "text": [
      "`/home/jeon/MissingSat/database/nh/stable_progenitors.tmp.pickle` save done\n"
     ]
    },
    {
     "data": {
      "application/json": {
       "ascii": false,
       "bar_format": null,
       "colour": null,
       "elapsed": 0.01952075958251953,
       "initial": 0,
       "n": 0,
       "ncols": null,
       "nrows": null,
       "postfix": null,
       "prefix": "[0993]",
       "rate": null,
       "total": 1336,
       "unit": "it",
       "unit_divisor": 1000,
       "unit_scale": false
      },
      "application/vnd.jupyter.widget-view+json": {
       "model_id": "3b270342d72e4424be7cf3ea5a45623a",
       "version_major": 2,
       "version_minor": 0
      },
      "text/plain": [
       "[0993]:   0%|          | 0/1336 [00:00<?, ?it/s]"
      ]
     },
     "metadata": {},
     "output_type": "display_data"
    },
    {
     "name": "stdout",
     "output_type": "stream",
     "text": [
      "`/home/jeon/MissingSat/database/nh/stable_progenitors.tmp.pickle` save done\n"
     ]
    },
    {
     "data": {
      "application/json": {
       "ascii": false,
       "bar_format": null,
       "colour": null,
       "elapsed": 0.019210338592529297,
       "initial": 0,
       "n": 0,
       "ncols": null,
       "nrows": null,
       "postfix": null,
       "prefix": "[0992]",
       "rate": null,
       "total": 1336,
       "unit": "it",
       "unit_divisor": 1000,
       "unit_scale": false
      },
      "application/vnd.jupyter.widget-view+json": {
       "model_id": "b086eb61c54c4017a3dcd89fca8a8152",
       "version_major": 2,
       "version_minor": 0
      },
      "text/plain": [
       "[0992]:   0%|          | 0/1336 [00:00<?, ?it/s]"
      ]
     },
     "metadata": {},
     "output_type": "display_data"
    },
    {
     "name": "stdout",
     "output_type": "stream",
     "text": [
      "`/home/jeon/MissingSat/database/nh/stable_progenitors.tmp.pickle` save done\n"
     ]
    },
    {
     "data": {
      "application/json": {
       "ascii": false,
       "bar_format": null,
       "colour": null,
       "elapsed": 0.02550363540649414,
       "initial": 0,
       "n": 0,
       "ncols": null,
       "nrows": null,
       "postfix": null,
       "prefix": "[0991]",
       "rate": null,
       "total": 1336,
       "unit": "it",
       "unit_divisor": 1000,
       "unit_scale": false
      },
      "application/vnd.jupyter.widget-view+json": {
       "model_id": "28945c4bab1c44539fcb26ee133cf15c",
       "version_major": 2,
       "version_minor": 0
      },
      "text/plain": [
       "[0991]:   0%|          | 0/1336 [00:00<?, ?it/s]"
      ]
     },
     "metadata": {},
     "output_type": "display_data"
    },
    {
     "name": "stdout",
     "output_type": "stream",
     "text": [
      "`/home/jeon/MissingSat/database/nh/stable_progenitors.tmp.pickle` save done\n"
     ]
    },
    {
     "data": {
      "application/json": {
       "ascii": false,
       "bar_format": null,
       "colour": null,
       "elapsed": 0.021121501922607422,
       "initial": 0,
       "n": 0,
       "ncols": null,
       "nrows": null,
       "postfix": null,
       "prefix": "[0990]",
       "rate": null,
       "total": 1336,
       "unit": "it",
       "unit_divisor": 1000,
       "unit_scale": false
      },
      "application/vnd.jupyter.widget-view+json": {
       "model_id": "53301dded6a04c30a597c3bf0223ee00",
       "version_major": 2,
       "version_minor": 0
      },
      "text/plain": [
       "[0990]:   0%|          | 0/1336 [00:00<?, ?it/s]"
      ]
     },
     "metadata": {},
     "output_type": "display_data"
    },
    {
     "name": "stdout",
     "output_type": "stream",
     "text": [
      "`/home/jeon/MissingSat/database/nh/stable_progenitors.tmp.pickle` save done\n"
     ]
    },
    {
     "data": {
      "application/json": {
       "ascii": false,
       "bar_format": null,
       "colour": null,
       "elapsed": 0.02083897590637207,
       "initial": 0,
       "n": 0,
       "ncols": null,
       "nrows": null,
       "postfix": null,
       "prefix": "[0989]",
       "rate": null,
       "total": 1336,
       "unit": "it",
       "unit_divisor": 1000,
       "unit_scale": false
      },
      "application/vnd.jupyter.widget-view+json": {
       "model_id": "07c18799b54340d299145f4dd289e26f",
       "version_major": 2,
       "version_minor": 0
      },
      "text/plain": [
       "[0989]:   0%|          | 0/1336 [00:00<?, ?it/s]"
      ]
     },
     "metadata": {},
     "output_type": "display_data"
    },
    {
     "name": "stdout",
     "output_type": "stream",
     "text": [
      "`/home/jeon/MissingSat/database/nh/stable_progenitors.tmp.pickle` save done\n"
     ]
    },
    {
     "data": {
      "application/json": {
       "ascii": false,
       "bar_format": null,
       "colour": null,
       "elapsed": 0.02020406723022461,
       "initial": 0,
       "n": 0,
       "ncols": null,
       "nrows": null,
       "postfix": null,
       "prefix": "[0988]",
       "rate": null,
       "total": 1336,
       "unit": "it",
       "unit_divisor": 1000,
       "unit_scale": false
      },
      "application/vnd.jupyter.widget-view+json": {
       "model_id": "698b173c557e47aca7fe431d9944cc79",
       "version_major": 2,
       "version_minor": 0
      },
      "text/plain": [
       "[0988]:   0%|          | 0/1336 [00:00<?, ?it/s]"
      ]
     },
     "metadata": {},
     "output_type": "display_data"
    },
    {
     "name": "stdout",
     "output_type": "stream",
     "text": [
      "`/home/jeon/MissingSat/database/nh/stable_progenitors.tmp.pickle` save done\n"
     ]
    },
    {
     "data": {
      "application/json": {
       "ascii": false,
       "bar_format": null,
       "colour": null,
       "elapsed": 0.020686626434326172,
       "initial": 0,
       "n": 0,
       "ncols": null,
       "nrows": null,
       "postfix": null,
       "prefix": "[0987]",
       "rate": null,
       "total": 1336,
       "unit": "it",
       "unit_divisor": 1000,
       "unit_scale": false
      },
      "application/vnd.jupyter.widget-view+json": {
       "model_id": "c2748fa39bdf4bf5bd1c099a5283fc76",
       "version_major": 2,
       "version_minor": 0
      },
      "text/plain": [
       "[0987]:   0%|          | 0/1336 [00:00<?, ?it/s]"
      ]
     },
     "metadata": {},
     "output_type": "display_data"
    },
    {
     "name": "stdout",
     "output_type": "stream",
     "text": [
      "`/home/jeon/MissingSat/database/nh/stable_progenitors.tmp.pickle` save done\n"
     ]
    },
    {
     "data": {
      "application/json": {
       "ascii": false,
       "bar_format": null,
       "colour": null,
       "elapsed": 0.028099775314331055,
       "initial": 0,
       "n": 0,
       "ncols": null,
       "nrows": null,
       "postfix": null,
       "prefix": "[0986]",
       "rate": null,
       "total": 1336,
       "unit": "it",
       "unit_divisor": 1000,
       "unit_scale": false
      },
      "application/vnd.jupyter.widget-view+json": {
       "model_id": "3d2c195ed8fd4439bec7c951ea500799",
       "version_major": 2,
       "version_minor": 0
      },
      "text/plain": [
       "[0986]:   0%|          | 0/1336 [00:00<?, ?it/s]"
      ]
     },
     "metadata": {},
     "output_type": "display_data"
    },
    {
     "name": "stdout",
     "output_type": "stream",
     "text": [
      "`/home/jeon/MissingSat/database/nh/stable_progenitors.tmp.pickle` save done\n"
     ]
    },
    {
     "data": {
      "application/json": {
       "ascii": false,
       "bar_format": null,
       "colour": null,
       "elapsed": 0.02043318748474121,
       "initial": 0,
       "n": 0,
       "ncols": null,
       "nrows": null,
       "postfix": null,
       "prefix": "[0985]",
       "rate": null,
       "total": 1336,
       "unit": "it",
       "unit_divisor": 1000,
       "unit_scale": false
      },
      "application/vnd.jupyter.widget-view+json": {
       "model_id": "29d58a85169a42ccb84c74fe9976ac6f",
       "version_major": 2,
       "version_minor": 0
      },
      "text/plain": [
       "[0985]:   0%|          | 0/1336 [00:00<?, ?it/s]"
      ]
     },
     "metadata": {},
     "output_type": "display_data"
    },
    {
     "name": "stdout",
     "output_type": "stream",
     "text": [
      "`/home/jeon/MissingSat/database/nh/stable_progenitors.tmp.pickle` save done\n"
     ]
    },
    {
     "data": {
      "application/json": {
       "ascii": false,
       "bar_format": null,
       "colour": null,
       "elapsed": 0.018700361251831055,
       "initial": 0,
       "n": 0,
       "ncols": null,
       "nrows": null,
       "postfix": null,
       "prefix": "[0984]",
       "rate": null,
       "total": 1336,
       "unit": "it",
       "unit_divisor": 1000,
       "unit_scale": false
      },
      "application/vnd.jupyter.widget-view+json": {
       "model_id": "63e57e9d33a3494ea0e4f95ac3f4a49c",
       "version_major": 2,
       "version_minor": 0
      },
      "text/plain": [
       "[0984]:   0%|          | 0/1336 [00:00<?, ?it/s]"
      ]
     },
     "metadata": {},
     "output_type": "display_data"
    },
    {
     "name": "stdout",
     "output_type": "stream",
     "text": [
      "`/home/jeon/MissingSat/database/nh/stable_progenitors.tmp.pickle` save done\n"
     ]
    },
    {
     "data": {
      "application/json": {
       "ascii": false,
       "bar_format": null,
       "colour": null,
       "elapsed": 0.018769264221191406,
       "initial": 0,
       "n": 0,
       "ncols": null,
       "nrows": null,
       "postfix": null,
       "prefix": "[0983]",
       "rate": null,
       "total": 1336,
       "unit": "it",
       "unit_divisor": 1000,
       "unit_scale": false
      },
      "application/vnd.jupyter.widget-view+json": {
       "model_id": "52c60edf5e6d49a9bbcf0f52c98ae373",
       "version_major": 2,
       "version_minor": 0
      },
      "text/plain": [
       "[0983]:   0%|          | 0/1336 [00:00<?, ?it/s]"
      ]
     },
     "metadata": {},
     "output_type": "display_data"
    },
    {
     "name": "stdout",
     "output_type": "stream",
     "text": [
      "`/home/jeon/MissingSat/database/nh/stable_progenitors.tmp.pickle` save done\n"
     ]
    },
    {
     "ename": "KeyboardInterrupt",
     "evalue": "",
     "output_type": "error",
     "traceback": [
      "\u001b[0;31m---------------------------------------------------------------------------\u001b[0m",
      "\u001b[0;31mKeyboardInterrupt\u001b[0m                         Traceback (most recent call last)",
      "Input \u001b[0;32mIn [17]\u001b[0m, in \u001b[0;36m<cell line: 36>\u001b[0;34m()\u001b[0m\n\u001b[1;32m     44\u001b[0m result[cursor:cursor\u001b[38;5;241m+\u001b[39mnsub][\u001b[38;5;124m'\u001b[39m\u001b[38;5;124mlastid\u001b[39m\u001b[38;5;124m'\u001b[39m] \u001b[38;5;241m=\u001b[39m allsubs1[\u001b[38;5;124m'\u001b[39m\u001b[38;5;124mid\u001b[39m\u001b[38;5;124m'\u001b[39m]\n\u001b[1;32m     45\u001b[0m result[cursor:cursor\u001b[38;5;241m+\u001b[39mnsub][\u001b[38;5;124m'\u001b[39m\u001b[38;5;124mtimestep\u001b[39m\u001b[38;5;124m'\u001b[39m] \u001b[38;5;241m=\u001b[39m pout\n\u001b[0;32m---> 47\u001b[0m \u001b[38;5;28;01mfor\u001b[39;00m key \u001b[38;5;129;01min\u001b[39;00m tqdm(\u001b[43mlastids\u001b[49m\u001b[38;5;241;43m.\u001b[39;49m\u001b[43mkeys\u001b[49m\u001b[43m(\u001b[49m\u001b[43m)\u001b[49m, desc\u001b[38;5;241m=\u001b[39m\u001b[38;5;124mf\u001b[39m\u001b[38;5;124m\"\u001b[39m\u001b[38;5;124m[\u001b[39m\u001b[38;5;132;01m{\u001b[39;00mpout\u001b[38;5;132;01m:\u001b[39;00m\u001b[38;5;124m04d\u001b[39m\u001b[38;5;132;01m}\u001b[39;00m\u001b[38;5;124m]\u001b[39m\u001b[38;5;124m\"\u001b[39m):\n\u001b[1;32m     48\u001b[0m     shared_particles \u001b[38;5;241m=\u001b[39m shared_particles1[key]\n\u001b[1;32m     50\u001b[0m     \u001b[38;5;66;03m# Find Prog\u001b[39;00m\n",
      "\u001b[0;31mKeyboardInterrupt\u001b[0m: "
     ]
    }
   ],
   "source": [
    "leng = len(allsubs1)\n",
    "fnames = os.listdir(f\"/storage6/NewHorizon/halo/\")\n",
    "bout = [int(fname[-5:]) for fname in fnames if(fname.startswith(\"tree_bricks\"))]; bout.sort()\n",
    "bout = np.array(bout); bout = bout[bout <= iout1]\n",
    "# print(bout)\n",
    "\n",
    "lastids = {}\n",
    "maxid = 0\n",
    "uri.timer.verbose=1\n",
    "hparts = uhmi.HaloMaker.read_member_parts(snap1, allsubs1, galaxy=False, target_fields=['id'], nthread=24)\n",
    "uri.timer.verbose=0\n",
    "for sub in tqdm( allsubs1, desc='Find maximum pID' ):\n",
    "    lastids[sub['id']] = hparts[hparts['hmid']==sub['id']]['id']\n",
    "    maxid = max(maxid, lastids[sub['id']].max())\n",
    "\n",
    "\n",
    "dtype = [(\"lastid\", np.int16), (\"timestep\", np.int16), (\"id\", np.int16), (\"give_score\", np.float64), (\"take_score\", np.float64)]\n",
    "nstep = len(bout)\n",
    "nsub = len(allsubs1)\n",
    "result = np.zeros(nstep*nsub, dtype=dtype)\n",
    "\n",
    "result[:nsub]['lastid'] = allsubs1['id']\n",
    "result[:nsub]['timestep'] = iout1\n",
    "result[:nsub]['id'] = allsubs1['id']\n",
    "result[:nsub]['give_score'] = 1\n",
    "result[:nsub]['take_score'] = 1\n",
    "cursor = nsub\n",
    "if(os.path.exists(f\"{database1}/stable_progenitors.tmp.pickle\")):\n",
    "    lastout, result = pklload(f\"{database1}/stable_progenitors.tmp.pickle\")\n",
    "else:\n",
    "    pklsave((iout1,result), f\"{database1}/stable_progenitors.tmp.pickle\")\n",
    "    lastout = iout1\n",
    "cursor = np.where(result['id']==0)[0][0]\n",
    "\n",
    "print(\"Calculate Scores...\")\n",
    "for pout in bout[::-1][1:]:\n",
    "    if(pout >= lastout): continue\n",
    "    psnap = snap1s.get_snap(pout)\n",
    "    phals, ppids = uhmi.HaloMaker.load(psnap, galaxy=False, load_parts=True)\n",
    "    cparts = phals['nparts']; cparts = np.cumsum(cparts); cparts = np.hstack((0, cparts))\n",
    "    table = np.repeat(phals['id'], phals['nparts']).astype(np.int16)\n",
    "    pids = np.zeros(max(maxid, ppids.max()), dtype=np.int32)\n",
    "    pids[ppids-1] = table\n",
    "    result[cursor:cursor+nsub]['lastid'] = allsubs1['id']\n",
    "    result[cursor:cursor+nsub]['timestep'] = pout\n",
    "\n",
    "    for key in lastids.keys():\n",
    "        shared_particles = shared_particles1[key]\n",
    "\n",
    "        # Find Prog\n",
    "        progs = pids[shared_particles-1]\n",
    "        unique, counts = np.unique(progs, return_counts=True)\n",
    "        if( (len(unique)==1)&(0 in unique) ):\n",
    "            prog=0\n",
    "            give_score=0\n",
    "            take_score=0\n",
    "        else:\n",
    "            if(0 in unique):\n",
    "                mask = unique!=0\n",
    "                unique = unique[mask]; counts = counts[mask]\n",
    "            \n",
    "            # Give Score\n",
    "            argmax = np.argmax(counts)\n",
    "            prog = unique[argmax]\n",
    "            give_score = counts[argmax] / len(shared_particles)\n",
    "            # print(prog, give_score)\n",
    "\n",
    "            # Take Score\n",
    "            part_of_prog = ppids[ cparts[prog-1]:cparts[prog] ]\n",
    "            ind = isin(part_of_prog, shared_particles, assume_unique=True)\n",
    "            take_score = np.sum(ind)/len(part_of_prog)\n",
    "        result[cursor]['id'] = prog\n",
    "        result[cursor]['give_score'] = give_score\n",
    "        result[cursor]['take_score'] = take_score\n",
    "        cursor += 1\n",
    "    psnap.clear()\n",
    "    del snap1s.snaps[pout]\n",
    "    pklsave((pout,result), f\"{database1}/stable_progenitors.tmp.pickle\", overwrite=True)\n",
    "    print(f\"[{pout:04d}] `{database1}/stable_progenitors.tmp.pickle` save done\")\n",
    "    lastout = pout\n",
    "pklsave(result, f\"{database1}/stable_progenitors.pickle\", overwrite=True)"
   ]
  },
  {
   "cell_type": "code",
   "execution_count": 14,
   "metadata": {},
   "outputs": [
    {
     "data": {
      "text/plain": [
       "1022"
      ]
     },
     "execution_count": 14,
     "metadata": {},
     "output_type": "execute_result"
    }
   ],
   "source": [
    "pout"
   ]
  },
  {
   "cell_type": "code",
   "execution_count": null,
   "metadata": {},
   "outputs": [],
   "source": []
  }
 ],
 "metadata": {
  "kernelspec": {
   "display_name": "jeonpy",
   "language": "python",
   "name": "python3"
  },
  "language_info": {
   "codemirror_mode": {
    "name": "ipython",
    "version": 3
   },
   "file_extension": ".py",
   "mimetype": "text/x-python",
   "name": "python",
   "nbconvert_exporter": "python",
   "pygments_lexer": "ipython3",
   "version": "3.10.4"
  }
 },
 "nbformat": 4,
 "nbformat_minor": 2
}
