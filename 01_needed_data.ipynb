{
 "cells": [
  {
   "cell_type": "code",
   "execution_count": 1,
   "metadata": {},
   "outputs": [],
   "source": [
    "from tqdm import tqdm\n",
    "import matplotlib.pyplot as plt # type: module\n",
    "import matplotlib.ticker as ticker\n",
    "\n",
    "import numpy as np\n",
    "import os, glob\n",
    "import time\n",
    "import warnings\n",
    "\n",
    "from rur.fortranfile import FortranFile\n",
    "from rur import uri, uhmi, painter, drawer\n",
    "from rur.sci.photometry import measure_luminosity\n",
    "from rur.sci.geometry import get_angles, euler_angle\n",
    "from rur.utool import rotate_data\n",
    "from scipy.ndimage import gaussian_filter\n",
    "uri.timer.verbose=1\n",
    "# from rur.sci.kinematics import f_getpot\n",
    "\n",
    "from icl_IO import mode2repo, pklsave, pklload\n",
    "from icl_tool import *\n",
    "from icl_numba import large_isin, large_isind, isin\n",
    "from icl_draw import drawsnap, add_scalebar, addtext, MakeSub_nolabel, label_to_in, fancy_axis, circle\n",
    "import argparse, subprocess\n",
    "from importlib import reload\n",
    "import cmasher as cmr\n",
    "from copy import deepcopy"
   ]
  },
  {
   "cell_type": "code",
   "execution_count": 2,
   "metadata": {},
   "outputs": [
    {
     "name": "stdout",
     "output_type": "stream",
     "text": [
      "[Output 01026] Age (Gyr) : 11.624 / 13.741, z = 0.17149 (a = 0.8536)\n"
     ]
    }
   ],
   "source": [
    "mode = 'nh'\n",
    "iout = 1026\n",
    "repo, rurmode, dp = mode2repo(mode)\n",
    "snap = uri.RamsesSnapshot(repo, iout, mode=rurmode)\n",
    "snaps = uri.TimeSeries(snap)\n",
    "snaps.read_iout_avail()\n",
    "nout = snaps.iout_avail['iout']\n",
    "gals = uhmi.HaloMaker.load(snap, galaxy=True, double_precision=dp)\n",
    "hals = uhmi.HaloMaker.load(snap, galaxy=False, double_precision=dp)"
   ]
  },
  {
   "cell_type": "markdown",
   "metadata": {},
   "source": [
    "`01_nh_ghmatch.pickle`: No need  \n",
    "`02_MWA1s.pickle`: No need  \n",
    "`03_MWA1s.pickle`: No need  \n",
    "`06_nh_subhalo_pairs.pickle`: No need  \n",
    "`08_nh_scores.pickle`: Already used  \n",
    "`08_nh_dm_scores.pickle`: Already used  \n",
    "`09_value_added.pickle`: Already used  \n",
    "`10_real_members.pickle`: No need  \n",
    "`11_LocalGroup.pickle`: No need  \n",
    "`14_mass_in_sub.pickle`: RECALCULATE  \n",
    "`16_LocalGroup.pickle`: No need  "
   ]
  },
  {
   "cell_type": "code",
   "execution_count": 8,
   "metadata": {},
   "outputs": [
    {
     "name": "stdout",
     "output_type": "stream",
     "text": [
      "dict_keys([1, 2, 3, 4, 7, 8, 9, 10, 14, 17, 23, 24, 25, 26, 29, 35, 36, 37, 40, 46, 47, 52, 63, 64, 75, 84, 92, 107, 108, 121, 129, 207])\n",
      "dict_keys(['BGG', 'neighbor', 'sats', 'subs', 'real'])\n"
     ]
    }
   ],
   "source": [
    "LG = pklload(\"./database/00_LocalGroup.pickle\")\n",
    "print(LG.keys())\n",
    "print(LG[2].keys())"
   ]
  },
  {
   "cell_type": "code",
   "execution_count": 4,
   "metadata": {},
   "outputs": [
    {
     "data": {
      "text/plain": [
       "dtype([('nparts', '<i4'), ('id', '<i4'), ('timestep', '<i4'), ('level', '<i4'), ('host', '<i4'), ('hostsub', '<i4'), ('nbsub', '<i4'), ('nextsub', '<i4'), ('aexp', '<f8'), ('m', '<f8'), ('x', '<f8'), ('y', '<f8'), ('z', '<f8'), ('vx', '<f8'), ('vy', '<f8'), ('vz', '<f8'), ('Lx', '<f8'), ('Ly', '<f8'), ('Lz', '<f8'), ('r', '<f8'), ('a', '<f8'), ('b', '<f8'), ('c', '<f8'), ('ek', '<f8'), ('ep', '<f8'), ('et', '<f8'), ('spin', '<f8'), ('sigma', '<f8'), ('sigma_bulge', '<f8'), ('m_bulge', '<f8'), ('rvir', '<f8'), ('mvir', '<f8'), ('tvir', '<f8'), ('cvel', '<f8'), ('rho0', '<f8'), ('rc', '<f8'), ('halo_id', '<i4'), ('halo_nparts', '<i4'), ('halo_level', '<i4'), ('halo_host', '<i4'), ('halo_hostsub', '<i4'), ('halo_x', '<f8'), ('halo_y', '<f8'), ('halo_z', '<f8'), ('halo_vx', '<f8'), ('halo_vy', '<f8'), ('halo_vz', '<f8'), ('halo_mvir', '<f8'), ('halo_rvir', '<f8'), ('fcontam', '<f8'), ('dist', '<f8'), ('central', '?'), ('main', '?'), ('Host', '<i4'), ('r50m', '<f8'), ('r90m', '<f8'), ('r50r', '<f8'), ('r90r', '<f8'), ('SFR_mem', '<f8'), ('u_mem', '<f8'), ('g_mem', '<f8'), ('r_mem', '<f8'), ('i_mem', '<f8'), ('z_mem', '<f8'), ('metal_mem', '<f8'), ('ager_mem', '<f8'), ('t50_mem', '<f8'), ('t90_mem', '<f8'), ('SFR_r50m', '<f8'), ('u_r50m', '<f8'), ('g_r50m', '<f8'), ('r_r50m', '<f8'), ('i_r50m', '<f8'), ('z_r50m', '<f8'), ('metal_r50m', '<f8'), ('ager_r50m', '<f8'), ('t50_r50m', '<f8'), ('t90_r50m', '<f8'), ('mgas_r50m', '<f8'), ('mcold_r50m', '<f8'), ('mdm_r50m', '<f8'), ('SFR_r90m', '<f8'), ('u_r90m', '<f8'), ('g_r90m', '<f8'), ('r_r90m', '<f8'), ('i_r90m', '<f8'), ('z_r90m', '<f8'), ('metal_r90m', '<f8'), ('ager_r90m', '<f8'), ('t50_r90m', '<f8'), ('t90_r90m', '<f8'), ('mgas_r90m', '<f8'), ('mcold_r90m', '<f8'), ('mdm_r90m', '<f8'), ('SFR_r50r', '<f8'), ('u_r50r', '<f8'), ('g_r50r', '<f8'), ('r_r50r', '<f8'), ('i_r50r', '<f8'), ('z_r50r', '<f8'), ('metal_r50r', '<f8'), ('ager_r50r', '<f8'), ('t50_r50r', '<f8'), ('t90_r50r', '<f8'), ('mgas_r50r', '<f8'), ('mcold_r50r', '<f8'), ('mdm_r50r', '<f8'), ('SFR_r90r', '<f8'), ('u_r90r', '<f8'), ('g_r90r', '<f8'), ('r_r90r', '<f8'), ('i_r90r', '<f8'), ('z_r90r', '<f8'), ('metal_r90r', '<f8'), ('ager_r90r', '<f8'), ('t50_r90r', '<f8'), ('t90_r90r', '<f8'), ('mgas_r90r', '<f8'), ('mcold_r90r', '<f8'), ('mdm_r90r', '<f8'), ('SFR_rmax', '<f8'), ('u_rmax', '<f8'), ('g_rmax', '<f8'), ('r_rmax', '<f8'), ('i_rmax', '<f8'), ('z_rmax', '<f8'), ('metal_rmax', '<f8'), ('ager_rmax', '<f8'), ('t50_rmax', '<f8'), ('t90_rmax', '<f8'), ('mgas_rmax', '<f8'), ('mcold_rmax', '<f8'), ('mdm_rmax', '<f8')])"
      ]
     },
     "execution_count": 4,
     "metadata": {},
     "output_type": "execute_result"
    }
   ],
   "source": [
    "LG[2]['sats'].dtype"
   ]
  },
  {
   "cell_type": "code",
   "execution_count": null,
   "metadata": {},
   "outputs": [],
   "source": []
  }
 ],
 "metadata": {
  "kernelspec": {
   "display_name": "jeonpy",
   "language": "python",
   "name": "python3"
  },
  "language_info": {
   "codemirror_mode": {
    "name": "ipython",
    "version": 3
   },
   "file_extension": ".py",
   "mimetype": "text/x-python",
   "name": "python",
   "nbconvert_exporter": "python",
   "pygments_lexer": "ipython3",
   "version": "3.10.4"
  }
 },
 "nbformat": 4,
 "nbformat_minor": 2
}
