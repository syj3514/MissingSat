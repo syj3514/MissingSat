{
 "cells": [
  {
   "cell_type": "code",
   "execution_count": 1,
   "metadata": {},
   "outputs": [
    {
     "name": "stdout",
     "output_type": "stream",
     "text": [
      "[Output 01026] Age (Gyr) : 11.624 / 13.741, z = 0.17149 (a = 0.8536)\n"
     ]
    }
   ],
   "source": [
    "from tqdm import tqdm\n",
    "import matplotlib.pyplot as plt # type: module\n",
    "import matplotlib.ticker as ticker\n",
    "\n",
    "import numpy as np\n",
    "import os, glob\n",
    "import time\n",
    "import warnings\n",
    "\n",
    "from rur.fortranfile import FortranFile\n",
    "from rur import uri, uhmi, painter, drawer\n",
    "from rur.sci.photometry import measure_luminosity\n",
    "from rur.sci.geometry import get_angles, euler_angle\n",
    "from rur.utool import rotate_data\n",
    "from scipy.ndimage import gaussian_filter\n",
    "uri.timer.verbose=1\n",
    "# from rur.sci.kinematics import f_getpot\n",
    "\n",
    "from icl_IO import mode2repo, pklsave, pklload\n",
    "from icl_tool import *\n",
    "from icl_numba import large_isin, large_isind, isin\n",
    "from icl_draw import drawsnap, add_scalebar, addtext, MakeSub_nolabel, label_to_in, fancy_axis, circle\n",
    "import argparse, subprocess\n",
    "from importlib import reload\n",
    "import cmasher as cmr\n",
    "\n",
    "\n",
    "mode = 'nh'\n",
    "iout = 1026\n",
    "repo, rurmode, dp = mode2repo(mode)\n",
    "snap = uri.RamsesSnapshot(repo, iout, mode=rurmode)\n",
    "snaps = uri.TimeSeries(snap)\n",
    "snaps.read_iout_avail()\n",
    "nout = snaps.iout_avail['iout']\n",
    "gals1 = uhmi.HaloMaker.load(snap, galaxy=True, double_precision=dp)\n",
    "gals2 = pklload(\"./database/01_nh_ghmatch.pickle\")\n",
    "hals = uhmi.HaloMaker.load(snap, galaxy=False, double_precision=dp)\n",
    "LG = pklload(f\"./database/11_LocalGroup.pickle\")\n",
    "for key in LG.keys():\n",
    "    satids = LG[key]['sats']['id']\n",
    "    ind = isin(satids, LG[key]['real']['gid'])\n",
    "    omitted = satids[~ind]\n",
    "    if(len(omitted)>0):\n",
    "        dtype = LG[key]['real'].dtype\n",
    "        arr = np.zeros(len(omitted), dtype=dtype)\n",
    "        arr['gid'] = omitted\n",
    "        arr['state'] = 'orphan'\n",
    "        LG[key]['real'] = np.hstack((LG[key]['real'], arr))\n",
    "\n",
    "bggs = None\n",
    "for key in LG.keys():\n",
    "    temp = LG[key]['BGG']\n",
    "    bggs = temp if(bggs is None) else np.hstack((bggs, temp))\n",
    "\n",
    "sats = None\n",
    "for key in LG.keys():\n",
    "    temp = LG[key]['sats']\n",
    "    sats = temp if(sats is None) else np.hstack((sats, temp))\n",
    "\n",
    "subs = None\n",
    "for key in LG.keys():\n",
    "    temp = LG[key]['subs']\n",
    "    subs = temp if(subs is None) else np.hstack((subs, temp))\n",
    "\n",
    "pairs = None\n",
    "for key in LG.keys():\n",
    "    temp = LG[key]['real']\n",
    "    temp = temp[temp['state'] == 'pair']\n",
    "    pairs = temp if(pairs is None) else np.hstack((pairs, temp))"
   ]
  },
  {
   "cell_type": "code",
   "execution_count": 2,
   "metadata": {},
   "outputs": [
    {
     "data": {
      "text/plain": [
       "(2630,)"
      ]
     },
     "execution_count": 2,
     "metadata": {},
     "output_type": "execute_result"
    }
   ],
   "source": [
    "subids = None\n",
    "for key in LG.keys():\n",
    "    tmp = LG[key]['real']['hid']\n",
    "    tmp = tmp[tmp>0]\n",
    "    subids = tmp if(subids is None) else np.union1d(subids, tmp)\n",
    "subids.shape"
   ]
  },
  {
   "cell_type": "code",
   "execution_count": 3,
   "metadata": {},
   "outputs": [
    {
     "name": "stderr",
     "output_type": "stream",
     "text": [
      "100%|██████████| 2630/2630 [00:00<00:00, 16989.96it/s]\n"
     ]
    }
   ],
   "source": [
    "for subid in tqdm( subids ):\n",
    "    if(os.path.exists(f\"./database/submember/z017/DM_{subid:07d}.pickle\")): continue\n",
    "    mem = uhmi.HaloMaker.read_member_part(snap, subid, galaxy=False, target_fields=['x','y','z','id'])\n",
    "    pklsave(mem.table, f\"./database/submember/z017/DM_{subid:07d}.pickle\")"
   ]
  },
  {
   "cell_type": "code",
   "execution_count": 4,
   "metadata": {},
   "outputs": [
    {
     "data": {
      "text/plain": [
       "array([871, 717, 446, 335, 252, 158], dtype=int32)"
      ]
     },
     "execution_count": 4,
     "metadata": {},
     "output_type": "execute_result"
    }
   ],
   "source": [
    "zreds = np.array([0.3, 0.5, 1, 1.5, 2, 3])\n",
    "aexps = 1/(1+zreds)\n",
    "iouts = np.zeros(len(zreds), dtype=np.int32)\n",
    "for i in range(len(zreds)):\n",
    "    arg = np.argmin(np.abs(snaps.iout_avail['aexp']-aexps[i]))\n",
    "    iouts[i] = snaps.iout_avail['iout'][arg]\n",
    "iouts"
   ]
  },
  {
   "cell_type": "code",
   "execution_count": 5,
   "metadata": {},
   "outputs": [
    {
     "name": "stdout",
     "output_type": "stream",
     "text": [
      "[Output 00871] Age (Gyr) : 10.335 / 13.741, z = 0.29925 (a = 0.7697)\n",
      "[0871 (z030)]\n",
      "Reading 4800 part files (33.47 GiB) in /storage6/NewHorizon/snapshots/output_00871... \n"
     ]
    },
    {
     "data": {
      "application/json": {
       "ascii": false,
       "bar_format": null,
       "colour": null,
       "elapsed": 0.02264261245727539,
       "initial": 0,
       "n": 0,
       "ncols": null,
       "nrows": null,
       "postfix": null,
       "prefix": "Reading parts",
       "rate": null,
       "total": 4800,
       "unit": "it",
       "unit_divisor": 1000,
       "unit_scale": false
      },
      "application/vnd.jupyter.widget-view+json": {
       "model_id": "223e169c4b714d2ab7f1fa1b25527914",
       "version_major": 2,
       "version_minor": 0
      },
      "text/plain": [
       "Reading parts:   0%|          | 0/4800 [00:00<?, ?it/s]"
      ]
     },
     "metadata": {},
     "output_type": "display_data"
    },
    {
     "name": "stdout",
     "output_type": "stream",
     "text": [
      "Done (6.573s).\n",
      "Get part done\n",
      "Argsort done\n"
     ]
    },
    {
     "name": "stderr",
     "output_type": "stream",
     "text": [
      "100%|██████████| 2630/2630 [00:09<00:00, 277.59it/s]\n"
     ]
    },
    {
     "name": "stdout",
     "output_type": "stream",
     "text": [
      "[clear] Clearing memory\n",
      "\tUnlink `psm_160656ad`\n",
      "[Output 00717] Age (Gyr) : 8.686 / 13.741, z = 0.50068 (a = 0.6664)\n",
      "[0717 (z050)]\n",
      "Reading 4800 part files (39.84 GiB) in /storage6/NewHorizon/snapshots/output_00717... \n"
     ]
    },
    {
     "data": {
      "application/json": {
       "ascii": false,
       "bar_format": null,
       "colour": null,
       "elapsed": 0.029425621032714844,
       "initial": 0,
       "n": 0,
       "ncols": null,
       "nrows": null,
       "postfix": null,
       "prefix": "Reading parts",
       "rate": null,
       "total": 4800,
       "unit": "it",
       "unit_divisor": 1000,
       "unit_scale": false
      },
      "application/vnd.jupyter.widget-view+json": {
       "model_id": "6dfbd96b42f545748d72918504d35358",
       "version_major": 2,
       "version_minor": 0
      },
      "text/plain": [
       "Reading parts:   0%|          | 0/4800 [00:00<?, ?it/s]"
      ]
     },
     "metadata": {},
     "output_type": "display_data"
    },
    {
     "name": "stdout",
     "output_type": "stream",
     "text": [
      "Done (77.188s).\n",
      "Get part done\n",
      "Argsort done\n"
     ]
    },
    {
     "name": "stderr",
     "output_type": "stream",
     "text": [
      "100%|██████████| 2630/2630 [00:09<00:00, 276.83it/s]\n"
     ]
    },
    {
     "name": "stdout",
     "output_type": "stream",
     "text": [
      "[clear] Clearing memory\n",
      "\tUnlink `psm_e548395a`\n",
      "[Output 00446] Age (Gyr) : 5.959 / 13.741, z = 1.00134 (a = 0.4997)\n",
      "[0446 (z100)]\n",
      "Reading 4800 part files (33.93 GiB) in /storage6/NewHorizon/snapshots/output_00446... \n"
     ]
    },
    {
     "data": {
      "application/json": {
       "ascii": false,
       "bar_format": null,
       "colour": null,
       "elapsed": 0.023940086364746094,
       "initial": 0,
       "n": 0,
       "ncols": null,
       "nrows": null,
       "postfix": null,
       "prefix": "Reading parts",
       "rate": null,
       "total": 4800,
       "unit": "it",
       "unit_divisor": 1000,
       "unit_scale": false
      },
      "application/vnd.jupyter.widget-view+json": {
       "model_id": "befb8271145142dba222d2f61d3763cc",
       "version_major": 2,
       "version_minor": 0
      },
      "text/plain": [
       "Reading parts:   0%|          | 0/4800 [00:00<?, ?it/s]"
      ]
     },
     "metadata": {},
     "output_type": "display_data"
    },
    {
     "name": "stdout",
     "output_type": "stream",
     "text": [
      "Done (191.928s).\n",
      "Get part done\n",
      "Argsort done\n"
     ]
    },
    {
     "name": "stderr",
     "output_type": "stream",
     "text": [
      "100%|██████████| 2630/2630 [00:09<00:00, 276.77it/s]\n"
     ]
    },
    {
     "name": "stdout",
     "output_type": "stream",
     "text": [
      "[clear] Clearing memory\n",
      "\tUnlink `psm_b9216a5c`\n",
      "[Output 00335] Age (Gyr) : 4.370 / 13.741, z = 1.49898 (a = 0.4002)\n",
      "[0335 (z150)]\n",
      "Reading 4800 part files (29.55 GiB) in /storage6/NewHorizon/snapshots/output_00335... \n"
     ]
    },
    {
     "data": {
      "application/json": {
       "ascii": false,
       "bar_format": null,
       "colour": null,
       "elapsed": 0.029278278350830078,
       "initial": 0,
       "n": 0,
       "ncols": null,
       "nrows": null,
       "postfix": null,
       "prefix": "Reading parts",
       "rate": null,
       "total": 4800,
       "unit": "it",
       "unit_divisor": 1000,
       "unit_scale": false
      },
      "application/vnd.jupyter.widget-view+json": {
       "model_id": "7f3814dcd29742d68db7a1ff0aac3ac2",
       "version_major": 2,
       "version_minor": 0
      },
      "text/plain": [
       "Reading parts:   0%|          | 0/4800 [00:00<?, ?it/s]"
      ]
     },
     "metadata": {},
     "output_type": "display_data"
    },
    {
     "name": "stdout",
     "output_type": "stream",
     "text": [
      "Done (61.907s).\n",
      "Get part done\n",
      "Argsort done\n"
     ]
    },
    {
     "name": "stderr",
     "output_type": "stream",
     "text": [
      "100%|██████████| 2630/2630 [00:09<00:00, 280.29it/s]\n"
     ]
    },
    {
     "name": "stdout",
     "output_type": "stream",
     "text": [
      "[clear] Clearing memory\n",
      "\tUnlink `psm_d8344a1c`\n",
      "[Output 00252] Age (Gyr) : 3.366 / 13.741, z = 1.99586 (a = 0.3338)\n",
      "[0252 (z200)]\n",
      "Reading 4800 part files (25.24 GiB) in /storage6/NewHorizon/snapshots/output_00252... \n"
     ]
    },
    {
     "data": {
      "application/json": {
       "ascii": false,
       "bar_format": null,
       "colour": null,
       "elapsed": 0.023752689361572266,
       "initial": 0,
       "n": 0,
       "ncols": null,
       "nrows": null,
       "postfix": null,
       "prefix": "Reading parts",
       "rate": null,
       "total": 4800,
       "unit": "it",
       "unit_divisor": 1000,
       "unit_scale": false
      },
      "application/vnd.jupyter.widget-view+json": {
       "model_id": "f56ebbf5a0714b61a8aed1fb930345a6",
       "version_major": 2,
       "version_minor": 0
      },
      "text/plain": [
       "Reading parts:   0%|          | 0/4800 [00:00<?, ?it/s]"
      ]
     },
     "metadata": {},
     "output_type": "display_data"
    },
    {
     "name": "stdout",
     "output_type": "stream",
     "text": [
      "Done (107.510s).\n",
      "Get part done\n",
      "Argsort done\n"
     ]
    },
    {
     "name": "stderr",
     "output_type": "stream",
     "text": [
      "100%|██████████| 2630/2630 [00:08<00:00, 294.84it/s]\n"
     ]
    },
    {
     "name": "stdout",
     "output_type": "stream",
     "text": [
      "[clear] Clearing memory\n",
      "\tUnlink `psm_dda428ea`\n",
      "[Output 00158] Age (Gyr) : 2.197 / 13.741, z = 3.00643 (a = 0.2496)\n",
      "[0158 (z301)]\n",
      "Reading 4800 part files (21.73 GiB) in /storage6/NewHorizon/snapshots/output_00158... \n"
     ]
    },
    {
     "data": {
      "application/json": {
       "ascii": false,
       "bar_format": null,
       "colour": null,
       "elapsed": 0.024884462356567383,
       "initial": 0,
       "n": 0,
       "ncols": null,
       "nrows": null,
       "postfix": null,
       "prefix": "Reading parts",
       "rate": null,
       "total": 4800,
       "unit": "it",
       "unit_divisor": 1000,
       "unit_scale": false
      },
      "application/vnd.jupyter.widget-view+json": {
       "model_id": "117f432a90e04da6847e3113aac47e20",
       "version_major": 2,
       "version_minor": 0
      },
      "text/plain": [
       "Reading parts:   0%|          | 0/4800 [00:00<?, ?it/s]"
      ]
     },
     "metadata": {},
     "output_type": "display_data"
    },
    {
     "name": "stdout",
     "output_type": "stream",
     "text": [
      "Done (223.803s).\n",
      "Get part done\n",
      "Argsort done\n"
     ]
    },
    {
     "name": "stderr",
     "output_type": "stream",
     "text": [
      "100%|██████████| 2630/2630 [00:09<00:00, 277.43it/s]\n"
     ]
    },
    {
     "name": "stdout",
     "output_type": "stream",
     "text": [
      "[clear] Clearing memory\n",
      "\tUnlink `psm_e2ac1966`\n"
     ]
    }
   ],
   "source": [
    "for iout in iouts:\n",
    "    isnap = snaps.get_snap(iout)\n",
    "    dirname = f\"z{round(isnap.z*100):03d}\"\n",
    "    if(os.path.exists(f\"./database/submember/{dirname}/DM_{subids[-1]:07d}.pickle\")): continue\n",
    "    if(not os.path.isdir(f\"./database/submember/{dirname}\")):\n",
    "        os.makedirs(f\"./database/submember/{dirname}\")\n",
    "    print(f\"[{iout:04d} ({dirname})]\")\n",
    "    isnap.get_part(pname='dm', nthread=32, target_fields=['x','y','z','id'])\n",
    "    print(\"Get part done\")\n",
    "    assert (isnap.part['id']>0).all()\n",
    "    argsort = np.argsort(isnap.part['id'])\n",
    "    dm = isnap.part[argsort]\n",
    "    print(\"Argsort done\")\n",
    "\n",
    "    for subid in tqdm(subids):\n",
    "        if(os.path.exists(f\"./database/submember/{dirname}/DM_{subid:07d}.pickle\")): continue\n",
    "        memid = pklload(f\"./database/submember/z017/DM_{subid:07d}.pickle\")['id']\n",
    "        nowmem = dm[memid-1]\n",
    "        pklsave(nowmem.table, f\"./database/submember/{dirname}/DM_{subid:07d}.pickle\")\n",
    "    isnap.clear()"
   ]
  }
 ],
 "metadata": {
  "kernelspec": {
   "display_name": "jeonpy",
   "language": "python",
   "name": "python3"
  },
  "language_info": {
   "codemirror_mode": {
    "name": "ipython",
    "version": 3
   },
   "file_extension": ".py",
   "mimetype": "text/x-python",
   "name": "python",
   "nbconvert_exporter": "python",
   "pygments_lexer": "ipython3",
   "version": "3.10.4"
  }
 },
 "nbformat": 4,
 "nbformat_minor": 2
}
