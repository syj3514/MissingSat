{
 "cells": [
  {
   "cell_type": "code",
   "execution_count": 1,
   "metadata": {},
   "outputs": [],
   "source": [
    "from tqdm import tqdm\n",
    "import matplotlib.pyplot as plt # type: module\n",
    "import matplotlib.ticker as ticker\n",
    "from matplotlib import colormaps\n",
    "from matplotlib.colors import Normalize\n",
    "\n",
    "import numpy as np\n",
    "import os, glob\n",
    "import time\n",
    "import warnings\n",
    "\n",
    "from rur.fortranfile import FortranFile\n",
    "from rur import uri, uhmi, painter, drawer\n",
    "from rur.sci.photometry import measure_luminosity\n",
    "from rur.sci.geometry import get_angles, euler_angle\n",
    "from rur.utool import rotate_data\n",
    "from scipy.ndimage import gaussian_filter\n",
    "uri.timer.verbose=1\n",
    "# from rur.sci.kinematics import f_getpot\n",
    "\n",
    "from icl_IO import mode2repo, pklsave, pklload\n",
    "from icl_tool import *\n",
    "from icl_numba import large_isin, large_isind, isin\n",
    "from icl_draw import drawsnap, add_scalebar, addtext, MakeSub_nolabel, label_to_in, fancy_axis, circle\n",
    "import argparse, subprocess\n",
    "from importlib import reload\n",
    "import cmasher as cmr\n",
    "from copy import deepcopy"
   ]
  },
  {
   "cell_type": "code",
   "execution_count": 3,
   "metadata": {},
   "outputs": [
    {
     "name": "stdout",
     "output_type": "stream",
     "text": [
      "[Output 00797] Age (Gyr) : 11.623 / 13.741, z = 0.17158 (a = 0.8536)\n"
     ]
    }
   ],
   "source": [
    "mode = 'nh2'\n",
    "database = f\"/home/jeon/MissingSat/database/nh2\"\n",
    "iout = 797\n",
    "repo, rurmode, dp = mode2repo(mode)\n",
    "snap = uri.RamsesSnapshot(repo, iout, mode=rurmode)\n",
    "snaps = uri.TimeSeries(snap)\n",
    "snaps.read_iout_avail()\n",
    "nout = snaps.iout_avail['iout']\n",
    "gals = uhmi.HaloMaker.load(snap, galaxy=True, double_precision=dp)\n",
    "hals = uhmi.HaloMaker.load(snap, galaxy=False, double_precision=dp)"
   ]
  },
  {
   "cell_type": "code",
   "execution_count": 4,
   "metadata": {},
   "outputs": [
    {
     "name": "stdout",
     "output_type": "stream",
     "text": [
      "dict_keys([2, 12, 45, 14, 3, 19, 18, 25, 37, 131, 143, 89, 10])\n",
      "dict_keys(['BGG', 'subs', 'sats', 'real', 'Final_sats', 'Final_subs', 'Final_real', 'box', 'UDG', 'isLG'])\n"
     ]
    }
   ],
   "source": [
    "LG = pklload(f\"{database}/LG\")\n",
    "print(LG.keys())\n",
    "print(LG[2].keys())"
   ]
  },
  {
   "cell_type": "code",
   "execution_count": 5,
   "metadata": {},
   "outputs": [
    {
     "name": "stderr",
     "output_type": "stream",
     "text": [
      "  3%|▎         | 3/105 [00:08<04:36,  2.71s/it]\n"
     ]
    },
    {
     "ename": "KeyboardInterrupt",
     "evalue": "",
     "output_type": "error",
     "traceback": [
      "\u001b[0;31m---------------------------------------------------------------------------\u001b[0m",
      "\u001b[0;31mKeyboardInterrupt\u001b[0m                         Traceback (most recent call last)",
      "Input \u001b[0;32mIn [5]\u001b[0m, in \u001b[0;36m<cell line: 1>\u001b[0;34m()\u001b[0m\n\u001b[1;32m     10\u001b[0m \u001b[38;5;28;01mif\u001b[39;00m(os\u001b[38;5;241m.\u001b[39mpath\u001b[38;5;241m.\u001b[39mexists(\u001b[38;5;124mf\u001b[39m\u001b[38;5;124m\"\u001b[39m\u001b[38;5;124m./database/parts/insub/nh2_dm_\u001b[39m\u001b[38;5;132;01m{\u001b[39;00mkey\u001b[38;5;132;01m:\u001b[39;00m\u001b[38;5;124m04d\u001b[39m\u001b[38;5;132;01m}\u001b[39;00m\u001b[38;5;124m_\u001b[39m\u001b[38;5;132;01m{\u001b[39;00msub[\u001b[38;5;124m'\u001b[39m\u001b[38;5;124mid\u001b[39m\u001b[38;5;124m'\u001b[39m]\u001b[38;5;132;01m:\u001b[39;00m\u001b[38;5;124m07d\u001b[39m\u001b[38;5;132;01m}\u001b[39;00m\u001b[38;5;124m.pickle\u001b[39m\u001b[38;5;124m\"\u001b[39m)): \u001b[38;5;28;01mcontinue\u001b[39;00m\n\u001b[1;32m     11\u001b[0m istar \u001b[38;5;241m=\u001b[39m cut_sphere(star, sub[\u001b[38;5;124m'\u001b[39m\u001b[38;5;124mx\u001b[39m\u001b[38;5;124m'\u001b[39m],sub[\u001b[38;5;124m'\u001b[39m\u001b[38;5;124my\u001b[39m\u001b[38;5;124m'\u001b[39m],sub[\u001b[38;5;124m'\u001b[39m\u001b[38;5;124mz\u001b[39m\u001b[38;5;124m'\u001b[39m],sub[\u001b[38;5;124m'\u001b[39m\u001b[38;5;124mr\u001b[39m\u001b[38;5;124m'\u001b[39m])\n\u001b[0;32m---> 12\u001b[0m icell \u001b[38;5;241m=\u001b[39m \u001b[43mcut_sphere\u001b[49m\u001b[43m(\u001b[49m\u001b[43mcell\u001b[49m\u001b[43m,\u001b[49m\u001b[43m \u001b[49m\u001b[43msub\u001b[49m\u001b[43m[\u001b[49m\u001b[38;5;124;43m'\u001b[39;49m\u001b[38;5;124;43mx\u001b[39;49m\u001b[38;5;124;43m'\u001b[39;49m\u001b[43m]\u001b[49m\u001b[43m,\u001b[49m\u001b[43msub\u001b[49m\u001b[43m[\u001b[49m\u001b[38;5;124;43m'\u001b[39;49m\u001b[38;5;124;43my\u001b[39;49m\u001b[38;5;124;43m'\u001b[39;49m\u001b[43m]\u001b[49m\u001b[43m,\u001b[49m\u001b[43msub\u001b[49m\u001b[43m[\u001b[49m\u001b[38;5;124;43m'\u001b[39;49m\u001b[38;5;124;43mz\u001b[39;49m\u001b[38;5;124;43m'\u001b[39;49m\u001b[43m]\u001b[49m\u001b[43m,\u001b[49m\u001b[43msub\u001b[49m\u001b[43m[\u001b[49m\u001b[38;5;124;43m'\u001b[39;49m\u001b[38;5;124;43mr\u001b[39;49m\u001b[38;5;124;43m'\u001b[39;49m\u001b[43m]\u001b[49m\u001b[43m)\u001b[49m\n\u001b[1;32m     13\u001b[0m idm \u001b[38;5;241m=\u001b[39m cut_sphere(dm, sub[\u001b[38;5;124m'\u001b[39m\u001b[38;5;124mx\u001b[39m\u001b[38;5;124m'\u001b[39m],sub[\u001b[38;5;124m'\u001b[39m\u001b[38;5;124my\u001b[39m\u001b[38;5;124m'\u001b[39m],sub[\u001b[38;5;124m'\u001b[39m\u001b[38;5;124mz\u001b[39m\u001b[38;5;124m'\u001b[39m],sub[\u001b[38;5;124m'\u001b[39m\u001b[38;5;124mr\u001b[39m\u001b[38;5;124m'\u001b[39m])\n\u001b[1;32m     14\u001b[0m pklsave(istar\u001b[38;5;241m.\u001b[39mtable, \u001b[38;5;124mf\u001b[39m\u001b[38;5;124m\"\u001b[39m\u001b[38;5;124m./database/parts/insub/nh2_star_\u001b[39m\u001b[38;5;132;01m{\u001b[39;00mkey\u001b[38;5;132;01m:\u001b[39;00m\u001b[38;5;124m04d\u001b[39m\u001b[38;5;132;01m}\u001b[39;00m\u001b[38;5;124m_\u001b[39m\u001b[38;5;132;01m{\u001b[39;00msub[\u001b[38;5;124m'\u001b[39m\u001b[38;5;124mid\u001b[39m\u001b[38;5;124m'\u001b[39m]\u001b[38;5;132;01m:\u001b[39;00m\u001b[38;5;124m07d\u001b[39m\u001b[38;5;132;01m}\u001b[39;00m\u001b[38;5;124m.pickle\u001b[39m\u001b[38;5;124m\"\u001b[39m)\n",
      "File \u001b[0;32m~/ICLwork/icl_tool.py:123\u001b[0m, in \u001b[0;36mcut_sphere\u001b[0;34m(targets, cx, cy, cz, radius, return_index, both_sphere, rname, factor)\u001b[0m\n\u001b[1;32m    121\u001b[0m indx \u001b[38;5;241m=\u001b[39m targets[\u001b[38;5;124m'\u001b[39m\u001b[38;5;124mx\u001b[39m\u001b[38;5;124m'\u001b[39m] \u001b[38;5;241m-\u001b[39m cx\n\u001b[1;32m    122\u001b[0m indx[indx\u001b[38;5;241m>\u001b[39m\u001b[38;5;241m0.5\u001b[39m] \u001b[38;5;241m=\u001b[39m \u001b[38;5;241m1\u001b[39m \u001b[38;5;241m-\u001b[39m indx[indx\u001b[38;5;241m>\u001b[39m\u001b[38;5;241m0.5\u001b[39m]\n\u001b[0;32m--> 123\u001b[0m indy \u001b[38;5;241m=\u001b[39m \u001b[43mtargets\u001b[49m\u001b[43m[\u001b[49m\u001b[38;5;124;43m'\u001b[39;49m\u001b[38;5;124;43my\u001b[39;49m\u001b[38;5;124;43m'\u001b[39;49m\u001b[43m]\u001b[49m \u001b[38;5;241m-\u001b[39m cy\n\u001b[1;32m    124\u001b[0m indy[indy\u001b[38;5;241m>\u001b[39m\u001b[38;5;241m0.5\u001b[39m] \u001b[38;5;241m=\u001b[39m \u001b[38;5;241m1\u001b[39m \u001b[38;5;241m-\u001b[39m indy[indy\u001b[38;5;241m>\u001b[39m\u001b[38;5;241m0.5\u001b[39m]\n\u001b[1;32m    125\u001b[0m indz \u001b[38;5;241m=\u001b[39m targets[\u001b[38;5;124m'\u001b[39m\u001b[38;5;124mz\u001b[39m\u001b[38;5;124m'\u001b[39m] \u001b[38;5;241m-\u001b[39m cz\n",
      "File \u001b[0;32m~/rur/rur/uri.py:174\u001b[0m, in \u001b[0;36mParticle.__getitem__\u001b[0;34m(self, item, return_code_unit)\u001b[0m\n\u001b[1;32m    171\u001b[0m     \u001b[38;5;28mself\u001b[39m\u001b[38;5;241m.\u001b[39mptype \u001b[38;5;241m=\u001b[39m ptype\n\u001b[1;32m    172\u001b[0m     \u001b[38;5;28mself\u001b[39m\u001b[38;5;241m.\u001b[39mextra_fields \u001b[38;5;241m=\u001b[39m custom_extra_fields(snap, \u001b[38;5;124m'\u001b[39m\u001b[38;5;124mparticle\u001b[39m\u001b[38;5;124m'\u001b[39m)\n\u001b[0;32m--> 174\u001b[0m \u001b[38;5;28;01mdef\u001b[39;00m \u001b[38;5;21m__getitem__\u001b[39m(\u001b[38;5;28mself\u001b[39m, item, return_code_unit\u001b[38;5;241m=\u001b[39m\u001b[38;5;28;01mFalse\u001b[39;00m):\n\u001b[1;32m    175\u001b[0m     \u001b[38;5;28;01mif\u001b[39;00m \u001b[38;5;28misinstance\u001b[39m(item, \u001b[38;5;28mstr\u001b[39m):\n\u001b[1;32m    176\u001b[0m         \u001b[38;5;28;01mif\u001b[39;00m item \u001b[38;5;129;01min\u001b[39;00m part_family\u001b[38;5;241m.\u001b[39mkeys(): \u001b[38;5;66;03m# if an item exists among known particle family names\u001b[39;00m\n",
      "\u001b[0;31mKeyboardInterrupt\u001b[0m: "
     ]
    }
   ],
   "source": [
    "for key in LG.keys():\n",
    "    subs = LG[key]['subs']\n",
    "    if(os.path.exists(f\"./database/parts/insub/nh2_dm_{key:04d}_{subs[-1]['id']:07d}.pickle\")): continue\n",
    "\n",
    "    star = uri.Particle(pklload(f\"./database/parts/nh2_star_{key:04d}.pickle\"), snap)\n",
    "    cell = uri.Particle(pklload(f\"./database/parts/nh2_cell_{key:04d}.pickle\"), snap)\n",
    "    dm = uri.Particle(pklload(f\"./database/parts/nh2_dm_{key:04d}.pickle\"), snap)\n",
    "\n",
    "    for i, sub in tqdm(enumerate(subs), total=len(subs)):\n",
    "        if(os.path.exists(f\"./database/parts/insub/nh2_dm_{key:04d}_{sub['id']:07d}.pickle\")): continue\n",
    "        istar = cut_sphere(star, sub['x'],sub['y'],sub['z'],sub['r'])\n",
    "        icell = cut_sphere(cell, sub['x'],sub['y'],sub['z'],sub['r'])\n",
    "        idm = cut_sphere(dm, sub['x'],sub['y'],sub['z'],sub['r'])\n",
    "        pklsave(istar.table, f\"./database/parts/insub/nh2_star_{key:04d}_{sub['id']:07d}.pickle\")\n",
    "        pklsave(icell.table, f\"./database/parts/insub/nh2_cell_{key:04d}_{sub['id']:07d}.pickle\")\n",
    "        pklsave(idm.table, f\"./database/parts/insub/nh2_dm_{key:04d}_{sub['id']:07d}.pickle\")\n"
   ]
  }
 ],
 "metadata": {
  "kernelspec": {
   "display_name": "jeonpy",
   "language": "python",
   "name": "python3"
  },
  "language_info": {
   "codemirror_mode": {
    "name": "ipython",
    "version": 3
   },
   "file_extension": ".py",
   "mimetype": "text/x-python",
   "name": "python",
   "nbconvert_exporter": "python",
   "pygments_lexer": "ipython3",
   "version": "3.10.4"
  }
 },
 "nbformat": 4,
 "nbformat_minor": 2
}
