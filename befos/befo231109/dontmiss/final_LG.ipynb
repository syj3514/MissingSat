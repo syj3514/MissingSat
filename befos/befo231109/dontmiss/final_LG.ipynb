{
 "cells": [
  {
   "cell_type": "code",
   "execution_count": 1,
   "metadata": {},
   "outputs": [],
   "source": [
    "from tqdm import tqdm\n",
    "import matplotlib.pyplot as plt # type: module\n",
    "import matplotlib.ticker as ticker\n",
    "from matplotlib import colormaps\n",
    "from matplotlib.colors import Normalize\n",
    "\n",
    "import numpy as np\n",
    "import os, glob\n",
    "import time\n",
    "import warnings\n",
    "\n",
    "from rur.fortranfile import FortranFile\n",
    "from rur import uri, uhmi, painter, drawer\n",
    "from rur.sci.photometry import measure_luminosity\n",
    "from rur.sci.geometry import get_angles, euler_angle\n",
    "from rur.utool import rotate_data\n",
    "from scipy.ndimage import gaussian_filter\n",
    "uri.timer.verbose=1\n",
    "# from rur.sci.kinematics import f_getpot\n",
    "\n",
    "from icl_IO import mode2repo, pklsave, pklload\n",
    "from icl_tool import *\n",
    "from icl_numba import large_isin, large_isind, isin\n",
    "from icl_draw import drawsnap, add_scalebar, addtext, MakeSub_nolabel, label_to_in, fancy_axis, circle\n",
    "import argparse, subprocess\n",
    "from importlib import reload\n",
    "import cmasher as cmr\n",
    "from copy import deepcopy\n"
   ]
  },
  {
   "cell_type": "code",
   "execution_count": 2,
   "metadata": {},
   "outputs": [
    {
     "name": "stdout",
     "output_type": "stream",
     "text": [
      "[Output 01026] Age (Gyr) : 11.624 / 13.741, z = 0.17149 (a = 0.8536)\n",
      "dict_keys([1, 2, 3, 4, 7, 8, 9, 10, 14, 17, 23, 24, 25, 26, 29, 35, 36, 37, 40, 46, 47, 52, 63, 64, 75, 84, 92, 107, 108, 121, 129, 207, 11])\n",
      "dict_keys(['BGG', 'neighbor', 'sats', 'subs', 'real', 'box', 'parking', 'UDG'])\n"
     ]
    }
   ],
   "source": [
    "mode = 'nh'\n",
    "iout = 1026\n",
    "repo, rurmode, dp = mode2repo(mode)\n",
    "snap = uri.RamsesSnapshot(repo, iout, mode=rurmode)\n",
    "snaps = uri.TimeSeries(snap)\n",
    "snaps.read_iout_avail()\n",
    "nout = snaps.iout_avail['iout']\n",
    "gals = uhmi.HaloMaker.load(snap, galaxy=True, double_precision=dp)\n",
    "hals = uhmi.HaloMaker.load(snap, galaxy=False, double_precision=dp)\n",
    "\n",
    "dirname = '/home/jeon/MissingSat/database'\n",
    "\n",
    "# LG = pklload(f\"{dirname}/00_LocalGroup_fix.pickle\")\n",
    "LG = pklload(f\"{dirname}/00_LocalGroup_final.pickle\")\n",
    "print(LG.keys())\n",
    "print(LG[2].keys())\n",
    "MASSs = pklload(f\"{dirname}/01_mass_in_sub.pickle\")\n",
    "MASSs_rvir = pklload(f\"{dirname}/01_mass_in_sub_rvir.pickle\")\n",
    "\n",
    "scores = pklload(f\"{dirname}/befo231031/08_nh_scores.pickle\")\n",
    "dm_scores = pklload(f\"{dirname}/befo231031/08_nh_dm_scores.pickle\")"
   ]
  },
  {
   "cell_type": "code",
   "execution_count": 30,
   "metadata": {},
   "outputs": [],
   "source": [
    "gals2 = pklload(f\"{dirname}/befo231031/01_nh_ghmatch.pickle\")\n"
   ]
  },
  {
   "cell_type": "markdown",
   "metadata": {},
   "source": [
    "# Find omitted Subhalos"
   ]
  },
  {
   "cell_type": "code",
   "execution_count": 3,
   "metadata": {},
   "outputs": [
    {
     "name": "stdout",
     "output_type": "stream",
     "text": [
      "[0001]\n",
      " > Subs 113 -> 113 & Real 121 -> 121\n",
      "[0002]\n",
      " > Subs 531 -> 531 & Real 549 -> 549\n",
      "[0003]\n",
      " > Subs 71 -> 71 & Real 74 -> 74\n",
      "[0004]\n",
      " > Subs 485 -> 485 & Real 536 -> 536\n",
      "[0007]\n",
      " > Subs 91 -> 91 & Real 96 -> 96\n",
      "[0008]\n",
      " > Subs 90 -> 90 & Real 100 -> 100\n",
      "[0009]\n",
      " > Subs 117 -> 117 & Real 135 -> 135\n",
      "[0010]\n",
      " > Subs 100 -> 100 & Real 101 -> 101\n",
      "[0014]\n",
      " > Subs 396 -> 396 & Real 424 -> 424\n",
      "[0017]\n",
      " > Subs 34 -> 34 & Real 34 -> 34\n",
      "[0024]\n",
      " > Subs 58 -> 58 & Real 58 -> 58\n",
      "[0025]\n",
      " > Subs 177 -> 177 & Real 209 -> 209\n",
      "[0026]\n",
      " > Subs 40 -> 40 & Real 40 -> 40\n",
      "[0029]\n",
      " > Subs 32 -> 32 & Real 32 -> 32\n",
      "[0036]\n",
      " > Subs 292 -> 292 & Real 295 -> 295\n",
      "[0040]\n",
      " > Subs 9 -> 9 & Real 9 -> 9\n",
      "[0046]\n",
      " > Subs 109 -> 109 & Real 112 -> 112\n",
      "[0052]\n",
      " > Subs 42 -> 42 & Real 42 -> 42\n",
      "[0063]\n",
      " > Subs 21 -> 21 & Real 22 -> 22\n",
      "[0064]\n",
      " > Subs 95 -> 95 & Real 101 -> 101\n",
      "[0075]\n",
      " > Subs 26 -> 26 & Real 26 -> 26\n",
      "[0084]\n",
      " > Subs 21 -> 21 & Real 21 -> 21\n",
      "[0092]\n",
      " > Subs 44 -> 44 & Real 45 -> 45\n",
      "[0107]\n",
      " > Subs 38 -> 38 & Real 39 -> 39\n",
      "[0121]\n",
      " > Subs 26 -> 26 & Real 35 -> 35\n",
      "[0129]\n",
      " > Subs 32 -> 32 & Real 33 -> 33\n",
      "[0207]\n",
      " > Subs 9 -> 9 & Real 9 -> 9\n",
      "[0011]\n",
      " > Subs 37 -> 37 & Real 38 -> 38\n"
     ]
    }
   ],
   "source": [
    "for key in LG.keys():\n",
    "    if(not os.path.exists(f\"./nh_take_dm_scores_host{key:04d}_new.pickle\")): continue\n",
    "    new_scores = pklload(f\"./nh_take_dm_scores_host{key:04d}_new.pickle\")\n",
    "    BGG = LG[key]['BGG']\n",
    "    subs = LG[key]['subs']\n",
    "    real = LG[key]['real']; rtype = LG[key]['real'].dtype\n",
    "    print(f\"[{key:04d}]\")\n",
    "    for ikey in new_scores.keys():\n",
    "        if(ikey in subs['id']): continue\n",
    "        dm_scores['take'][key][ikey] = new_scores[ikey]\n",
    "        isgood = np.median(new_scores[ikey]%1) > 0.25\n",
    "        if(isgood):\n",
    "            subs = np.hstack((subs, hals[ikey-1]))\n",
    "            arr = np.zeros(1, dtype=rtype)[0]\n",
    "            arr['hid'] = ikey; arr['gid'] = -1; arr['state'] = 'dink'\n",
    "            real = np.hstack((real, arr))\n",
    "    print(f\" > Subs {len(LG[key]['subs'])} -> {len(subs)} & Real {len(LG[key]['real'])} -> {len(real)}\")\n",
    "    LG[key]['subs'] = subs\n",
    "    LG[key]['real'] = real\n",
    "pklsave(LG, f\"{dirname}/00_LocalGroup_final.pickle\", overwrite=True)\n"
   ]
  },
  {
   "cell_type": "markdown",
   "metadata": {},
   "source": [
    "# Reduce Box"
   ]
  },
  {
   "cell_type": "code",
   "execution_count": 4,
   "metadata": {},
   "outputs": [
    {
     "name": "stdout",
     "output_type": "stream",
     "text": [
      "[0001]\n",
      "[0002]\n",
      "[0003]\n",
      "[0004]\n",
      "[0007]\n",
      "[0008]\n",
      "[0009]\n",
      "[0010]\n",
      "[0014]\n",
      "[0017]\n",
      "[0023]\n",
      "[0024]\n",
      "[0025]\n",
      "[0026]\n",
      "[0029]\n",
      "[0035]\n",
      "[0036]\n",
      "[0037]\n",
      "[0040]\n",
      "[0046]\n",
      "[0047]\n",
      "[0052]\n",
      "[0063]\n",
      "[0064]\n",
      "[0075]\n",
      "[0084]\n",
      "[0092]\n",
      "[0107]\n",
      "[0108]\n",
      "[0121]\n",
      "[0129]\n",
      "[0207]\n",
      "[0011]\n"
     ]
    }
   ],
   "source": [
    "for key in LG.keys():\n",
    "    print(f\"[{key:04d}]\")\n",
    "    BGG = LG[key]['BGG']\n",
    "    subs = LG[key]['subs']\n",
    "    sats = LG[key]['sats']\n",
    "\n",
    "    x1s = np.hstack((subs['x']-subs['r'], sats['x']-sats['r']))\n",
    "    x1 = min( BGG['x'] - 1.5*BGG['r200_code'], BGG['x'] - BGG['r'], np.min(x1s) )\n",
    "    x2s = np.hstack((subs['x']+subs['r'], sats['x']+sats['r']))\n",
    "    x2 = max( BGG['x'] + 1.5*BGG['r200_code'], BGG['x'] + BGG['r'], np.max(x2s) )\n",
    "    y1s = np.hstack((subs['y']-subs['r'], sats['y']-sats['r']))\n",
    "    y1 = min( BGG['y'] - 1.5*BGG['r200_code'], BGG['y'] - BGG['r'], np.min(y1s) )\n",
    "    y2s = np.hstack((subs['y']+subs['r'], sats['y']+sats['r']))\n",
    "    y2 = max( BGG['y'] + 1.5*BGG['r200_code'], BGG['y'] + BGG['r'], np.max(y2s) )\n",
    "    z1s = np.hstack((subs['z']-subs['r'], sats['z']-sats['r']))\n",
    "    z1 = min( BGG['z'] - 1.5*BGG['r200_code'], BGG['z'] - BGG['r'], np.min(z1s) )\n",
    "    z2s = np.hstack((subs['z']+subs['r'], sats['z']+sats['r']))\n",
    "    z2 = max( BGG['z'] + 1.5*BGG['r200_code'], BGG['z'] + BGG['r'], np.max(z2s) )\n",
    "\n",
    "    dx = x2-x1; dy = y2-y1; dz = z2-z1\n",
    "    xc = (x1+x2)/2; yc = (y1+y2)/2; zc = (z1+z2)/2\n",
    "    x1 -= 0.05*dx; x2 += 0.05*dx\n",
    "    y1 -= 0.05*dy; y2 += 0.05*dy\n",
    "    z1 -= 0.05*dz; z2 += 0.05*dz\n",
    "    newbox = np.array([[x1,x2],[y1,y2],[z1,z2]])\n",
    "    oldbox = LG[key]['box']\n",
    "    if(np.array_equal(newbox, oldbox)): continue\n",
    "    print(f\"{oldbox}\\n ->\\n{newbox}\")\n",
    "\n",
    "    LG[key]['box'] = newbox\n",
    "    star = pklload(f\"{dirname}/parts/nh_star_{key:04d}.pickle\")\n",
    "    indx = (star['x'] >= x1)&(star['x'] <= x2)\n",
    "    indy = (star['y'] >= y1)&(star['y'] <= y2)\n",
    "    indz = (star['z'] >= z1)&(star['z'] <= z2)\n",
    "    star = star[indx&indy&indz]\n",
    "    pklsave(star, f\"{dirname}/parts/nh_star_{key:04d}.pickle\", overwrite=True)\n",
    "    dm = pklload(f\"{dirname}/parts/nh_dm_{key:04d}.pickle\")\n",
    "    indx = (dm['x'] >= x1)&(dm['x'] <= x2)\n",
    "    indy = (dm['y'] >= y1)&(dm['y'] <= y2)\n",
    "    indz = (dm['z'] >= z1)&(dm['z'] <= z2)\n",
    "    dm = dm[indx&indy&indz]\n",
    "    pklsave(dm, f\"{dirname}/parts/nh_dm_{key:04d}.pickle\", overwrite=True)\n",
    "    cell = pklload(f\"{dirname}/parts/nh_cell_{key:04d}.pickle\")\n",
    "    indx = (cell['x'] >= x1)&(cell['x'] <= x2)\n",
    "    indy = (cell['y'] >= y1)&(cell['y'] <= y2)\n",
    "    indz = (cell['z'] >= z1)&(cell['z'] <= z2)\n",
    "    cell = cell[indx&indy&indz]\n",
    "    pklsave(cell, f\"{dirname}/parts/nh_cell_{key:04d}.pickle\", overwrite=True)\n",
    "pklsave(LG, f\"{dirname}/00_LocalGroup_final.pickle\", overwrite=True)\n",
    "\n",
    "    # fig,ax = fancy_axis(figsize=(6,6), dpi=150)\n",
    "    # imread = plt.imread(f\"/home/jeon/MissingSat/database/photo/00_LG_image/NH_{key:04d}_total.png\")\n",
    "    # ax.imshow(imread, extent=oldbox[:2].flatten())\n",
    "    # for ihal in subs:\n",
    "    #     cir = plt.Circle((ihal['x'], ihal['y']), ihal['r'], color='yellowgreen', fill=False, lw=0.3)\n",
    "    #     ax.add_patch(cir)\n",
    "    # rect = plt.Rectangle((newbox[0,0],newbox[1,0]), newbox[0,1]-newbox[0,0], newbox[1,1]-newbox[1,0], fill=False, color='r', linewidth=1)\n",
    "    # ax.add_patch(rect)\n",
    "    # cir = plt.Circle((BGG['x'], BGG['y']), max(1.5*BGG['r200_code'], BGG['r']), color='red', fill=False, lw=0.3)\n",
    "    # ax.add_patch(cir)\n",
    "    \n",
    "    # plt.show()\n",
    "    # plt.close()\n"
   ]
  },
  {
   "cell_type": "markdown",
   "metadata": {},
   "source": [
    "# Mass in sub"
   ]
  },
  {
   "cell_type": "code",
   "execution_count": 5,
   "metadata": {},
   "outputs": [
    {
     "name": "stdout",
     "output_type": "stream",
     "text": [
      "[0001]\n"
     ]
    },
    {
     "name": "stderr",
     "output_type": "stream",
     "text": [
      "100%|██████████| 113/113 [00:00<00:00, 51377.38it/s]\n"
     ]
    },
    {
     "name": "stdout",
     "output_type": "stream",
     "text": [
      "[0002]\n"
     ]
    },
    {
     "name": "stderr",
     "output_type": "stream",
     "text": [
      "100%|██████████| 531/531 [00:00<00:00, 52707.97it/s]\n"
     ]
    },
    {
     "name": "stdout",
     "output_type": "stream",
     "text": [
      "[0003]\n"
     ]
    },
    {
     "name": "stderr",
     "output_type": "stream",
     "text": [
      "100%|██████████| 71/71 [00:00<00:00, 46698.38it/s]\n"
     ]
    },
    {
     "name": "stdout",
     "output_type": "stream",
     "text": [
      "[0004]\n"
     ]
    },
    {
     "name": "stderr",
     "output_type": "stream",
     "text": [
      "100%|██████████| 485/485 [00:00<00:00, 46180.19it/s]\n"
     ]
    },
    {
     "name": "stdout",
     "output_type": "stream",
     "text": [
      "[0007]\n"
     ]
    },
    {
     "name": "stderr",
     "output_type": "stream",
     "text": [
      "100%|██████████| 91/91 [00:00<00:00, 48179.96it/s]\n"
     ]
    },
    {
     "name": "stdout",
     "output_type": "stream",
     "text": [
      "[0008]\n"
     ]
    },
    {
     "name": "stderr",
     "output_type": "stream",
     "text": [
      "100%|██████████| 90/90 [00:00<00:00, 47316.04it/s]\n"
     ]
    },
    {
     "name": "stdout",
     "output_type": "stream",
     "text": [
      "[0009]\n"
     ]
    },
    {
     "name": "stderr",
     "output_type": "stream",
     "text": [
      "100%|██████████| 117/117 [00:00<00:00, 48381.50it/s]\n"
     ]
    },
    {
     "name": "stdout",
     "output_type": "stream",
     "text": [
      "[0010]\n"
     ]
    },
    {
     "name": "stderr",
     "output_type": "stream",
     "text": [
      "100%|██████████| 100/100 [00:00<00:00, 47743.93it/s]\n"
     ]
    },
    {
     "name": "stdout",
     "output_type": "stream",
     "text": [
      "[0014]\n"
     ]
    },
    {
     "name": "stderr",
     "output_type": "stream",
     "text": [
      "100%|██████████| 396/396 [00:00<00:00, 44332.04it/s]\n"
     ]
    },
    {
     "name": "stdout",
     "output_type": "stream",
     "text": [
      "[0017]\n"
     ]
    },
    {
     "name": "stderr",
     "output_type": "stream",
     "text": [
      "100%|██████████| 34/34 [00:00<00:00, 38211.77it/s]\n"
     ]
    },
    {
     "name": "stdout",
     "output_type": "stream",
     "text": [
      "[0024]\n"
     ]
    },
    {
     "name": "stderr",
     "output_type": "stream",
     "text": [
      "100%|██████████| 58/58 [00:00<00:00, 45479.46it/s]\n"
     ]
    },
    {
     "name": "stdout",
     "output_type": "stream",
     "text": [
      "[0025]\n"
     ]
    },
    {
     "name": "stderr",
     "output_type": "stream",
     "text": [
      "100%|██████████| 177/177 [00:00<00:00, 47549.59it/s]\n"
     ]
    },
    {
     "name": "stdout",
     "output_type": "stream",
     "text": [
      "[0026]\n"
     ]
    },
    {
     "name": "stderr",
     "output_type": "stream",
     "text": [
      "100%|██████████| 40/40 [00:00<00:00, 38497.51it/s]\n"
     ]
    },
    {
     "name": "stdout",
     "output_type": "stream",
     "text": [
      "[0029]\n"
     ]
    },
    {
     "name": "stderr",
     "output_type": "stream",
     "text": [
      "100%|██████████| 32/32 [00:00<00:00, 39499.04it/s]\n"
     ]
    },
    {
     "name": "stdout",
     "output_type": "stream",
     "text": [
      "[0036]\n"
     ]
    },
    {
     "name": "stderr",
     "output_type": "stream",
     "text": [
      "100%|██████████| 292/292 [00:00<00:00, 44209.54it/s]\n"
     ]
    },
    {
     "name": "stdout",
     "output_type": "stream",
     "text": [
      "[0040]\n"
     ]
    },
    {
     "name": "stderr",
     "output_type": "stream",
     "text": [
      "100%|██████████| 9/9 [00:00<00:00, 23891.61it/s]\n"
     ]
    },
    {
     "name": "stdout",
     "output_type": "stream",
     "text": [
      "[0046]\n"
     ]
    },
    {
     "name": "stderr",
     "output_type": "stream",
     "text": [
      "100%|██████████| 109/109 [00:00<00:00, 48755.37it/s]\n"
     ]
    },
    {
     "name": "stdout",
     "output_type": "stream",
     "text": [
      "[0052]\n"
     ]
    },
    {
     "name": "stderr",
     "output_type": "stream",
     "text": [
      "100%|██████████| 42/42 [00:00<00:00, 42851.07it/s]\n"
     ]
    },
    {
     "name": "stdout",
     "output_type": "stream",
     "text": [
      "[0063]\n"
     ]
    },
    {
     "name": "stderr",
     "output_type": "stream",
     "text": [
      "100%|██████████| 21/21 [00:00<00:00, 35416.32it/s]\n"
     ]
    },
    {
     "name": "stdout",
     "output_type": "stream",
     "text": [
      "[0064]\n"
     ]
    },
    {
     "name": "stderr",
     "output_type": "stream",
     "text": [
      "100%|██████████| 95/95 [00:00<00:00, 48687.55it/s]\n"
     ]
    },
    {
     "name": "stdout",
     "output_type": "stream",
     "text": [
      "[0075]\n"
     ]
    },
    {
     "name": "stderr",
     "output_type": "stream",
     "text": [
      "100%|██████████| 26/26 [00:00<00:00, 37983.94it/s]\n"
     ]
    },
    {
     "name": "stdout",
     "output_type": "stream",
     "text": [
      "[0084]\n"
     ]
    },
    {
     "name": "stderr",
     "output_type": "stream",
     "text": [
      "100%|██████████| 21/21 [00:00<00:00, 34690.97it/s]\n"
     ]
    },
    {
     "name": "stdout",
     "output_type": "stream",
     "text": [
      "[0092]\n"
     ]
    },
    {
     "name": "stderr",
     "output_type": "stream",
     "text": [
      "100%|██████████| 44/44 [00:00<00:00, 43680.33it/s]\n"
     ]
    },
    {
     "name": "stdout",
     "output_type": "stream",
     "text": [
      "[0107]\n"
     ]
    },
    {
     "name": "stderr",
     "output_type": "stream",
     "text": [
      "100%|██████████| 38/38 [00:00<00:00, 48980.81it/s]\n"
     ]
    },
    {
     "name": "stdout",
     "output_type": "stream",
     "text": [
      "[0121]\n"
     ]
    },
    {
     "name": "stderr",
     "output_type": "stream",
     "text": [
      "100%|██████████| 26/26 [00:00<00:00, 37539.38it/s]\n"
     ]
    },
    {
     "name": "stdout",
     "output_type": "stream",
     "text": [
      "[0129]\n"
     ]
    },
    {
     "name": "stderr",
     "output_type": "stream",
     "text": [
      "100%|██████████| 32/32 [00:00<00:00, 40820.48it/s]\n"
     ]
    },
    {
     "name": "stdout",
     "output_type": "stream",
     "text": [
      "[0207]\n"
     ]
    },
    {
     "name": "stderr",
     "output_type": "stream",
     "text": [
      "100%|██████████| 9/9 [00:00<00:00, 26867.43it/s]\n"
     ]
    },
    {
     "name": "stdout",
     "output_type": "stream",
     "text": [
      "[0011]\n"
     ]
    },
    {
     "name": "stderr",
     "output_type": "stream",
     "text": [
      "100%|██████████| 37/37 [00:00<00:00, 38565.92it/s]\n"
     ]
    }
   ],
   "source": [
    "for key in LG.keys():\n",
    "    if(not os.path.exists(f\"./nh_take_dm_scores_host{key:04d}_new.pickle\")): continue\n",
    "    BGG = LG[key]['BGG']\n",
    "    subs = LG[key]['subs']\n",
    "    real = LG[key]['real']\n",
    "    imass = MASSs[MASSs['host']==key]\n",
    "    snap.box = LG[key]['box']\n",
    "    print(f\"[{key:04d}]\")\n",
    "    star = uri.Particle(pklload(f\"{dirname}/parts/nh_star_{key:04d}.pickle\"), snap)\n",
    "    dm = uri.Particle(pklload(f\"{dirname}/parts/nh_dm_{key:04d}.pickle\"), snap)\n",
    "    cell = uri.Cell(pklload(f\"{dirname}/parts/nh_cell_{key:04d}.pickle\"), snap)\n",
    "\n",
    "    ids = np.zeros(len(subs), dtype=int)-1\n",
    "    mstar = np.zeros(len(subs))\n",
    "    mcell = np.zeros(len(subs))\n",
    "    mcold = np.zeros(len(subs))\n",
    "    mdm = np.zeros(len(subs))\n",
    "    mstar_rvir = np.zeros(len(subs))\n",
    "    mcell_rvir = np.zeros(len(subs))\n",
    "    mcold_rvir = np.zeros(len(subs))\n",
    "    mdm_rvir = np.zeros(len(subs))\n",
    "    for i,sub in tqdm(enumerate(subs), total=len(subs)):\n",
    "        if(sub['id'] in imass['sub']): continue\n",
    "        ids[i] = sub['id']\n",
    "        istar = cut_sphere(star, sub['x'],sub['y'],sub['z'],sub['r'])\n",
    "        pklsave(istar.table, f\"{dirname}/parts/insub/nh_star_{key:04d}_{sub['id']:07d}.pickle\")\n",
    "        if(len(istar)>0):\n",
    "            mstar[i] = np.sum(istar['m','Msol'])\n",
    "            istar = cut_sphere(istar, sub['x'],sub['y'],sub['z'],sub['rvir'])\n",
    "            if(len(istar)>0): mstar_rvir[i] = np.sum(istar['m','Msol'])\n",
    "        idm = cut_sphere(dm, sub['x'],sub['y'],sub['z'],sub['r'])\n",
    "        pklsave(idm.table, f\"{dirname}/parts/insub/nh_dm_{key:04d}_{sub['id']:07d}.pickle\")\n",
    "        if(len(idm)>0):\n",
    "            mdm[i] = np.sum(idm['m','Msol'])\n",
    "            idm = cut_sphere(idm, sub['x'],sub['y'],sub['z'],sub['rvir'])\n",
    "            if(len(idm)>0): mdm_rvir[i] = np.sum(idm['m','Msol'])\n",
    "        icell = cut_sphere(cell, sub['x'],sub['y'],sub['z'],sub['r'])\n",
    "        pklsave(icell.table, f\"{dirname}/parts/insub/nh_cell_{key:04d}_{sub['id']:07d}.pickle\")\n",
    "        icold = icell[icell['T','K'] < 2e4]\n",
    "        if(len(icold)>0):\n",
    "            mcold[i] = np.sum(icold['m','Msol'])\n",
    "            icold = cut_sphere(icold, sub['x'],sub['y'],sub['z'],sub['rvir'])\n",
    "            if(len(icold)>0): mcold_rvir[i] = np.sum(icold['m','Msol'])\n",
    "        if(len(icell)>0):\n",
    "            mcell[i] = np.sum(icell['m','Msol'])\n",
    "            icell = cut_sphere(icell, sub['x'],sub['y'],sub['z'],sub['rvir'])\n",
    "            if(len(icell)>0):\n",
    "                mcell_rvir[i] = np.sum(icell['m','Msol'])\n",
    "    mask = ids>0\n",
    "    if(True in mask):\n",
    "        ids = ids[mask]; host = np.full(len(ids), key, dtype=np.int32); dinks = np.full(len(ids), True, dtype=bool)\n",
    "        mstar = mstar[mask]; mcell = mcell[mask]; mcold = mcold[mask]; mdm = mdm[mask]\n",
    "        mstar_rvir = mstar_rvir[mask]; mcell_rvir = mcell_rvir[mask]; mcold_rvir = mcold_rvir[mask]; mdm_rvir = mdm_rvir[mask]\n",
    "        where = mstar==0; mstar[where] += 1e3\n",
    "        where = mcell==0; mcell[where] += 1e3\n",
    "        where = mcold==0; mcold[where] += 1e3\n",
    "        where = mdm==0; mdm[where] += 1e3\n",
    "        where = mstar_rvir==0; mstar_rvir[where] += 1e3\n",
    "        where = mcell_rvir==0; mcell_rvir[where] += 1e3\n",
    "        where = mcold_rvir==0; mcold_rvir[where] += 1e3\n",
    "        where = mdm_rvir==0; mdm_rvir[where] += 1e3\n",
    "        arr = np.rec.fromarrays((host, ids,dinks, mdm, mstar, mcold, mcell), names=('host','sub','dink','mdm','mstar','mcold','mcell'))\n",
    "        MASSs = np.hstack((MASSs, arr))\n",
    "        arr = np.rec.fromarrays((host, ids,dinks, mdm_rvir, mstar_rvir, mcold_rvir, mcell_rvir), names=('host','sub','dink','mdm','mstar','mcold','mcell'))\n",
    "        MASSs_rvir = np.hstack((MASSs_rvir, arr))\n",
    "pklsave(MASSs, f\"{dirname}/01_mass_in_sub.pickle\", overwrite=True)\n",
    "pklsave(MASSs_rvir, f\"{dirname}/01_mass_in_sub_rvir.pickle\", overwrite=True)\n",
    "        "
   ]
  },
  {
   "cell_type": "markdown",
   "metadata": {},
   "source": [
    "# Find satellite"
   ]
  },
  {
   "cell_type": "code",
   "execution_count": 6,
   "metadata": {},
   "outputs": [],
   "source": [
    "def point_in_sphere(point, sphere, rname='r', factor=1):\n",
    "    dist = np.sqrt( (point['x'] - sphere['x'])**2 + (point['y'] - sphere['y'])**2 + (point['z'] - sphere['z'])**2 )\n",
    "    # print(dist, sphere[rname]*factor)\n",
    "    return dist < sphere[rname]*factor\n",
    "\n",
    "def sphere_in_sphere(inner, outer, r1='r',r2='r', factor=1):\n",
    "    dist = np.sqrt( (inner['x'] - outer['x'])**2 + (inner['y'] - outer['y'])**2 + (inner['z'] - outer['z'])**2 )\n",
    "    # print(dist+inner[r1], outer[r2])\n",
    "    return (dist+inner[r1]) < outer[r2]\n",
    "\n",
    "def sphere_touch_sphere(sph1, sph2, r1='r',r2='r', factor=1):\n",
    "    dist = np.sqrt( (sph1['x'] - sph2['x'])**2 + (sph1['y'] - sph2['y'])**2 + (sph1['z'] - sph2['z'])**2 )\n",
    "    # print(dist, sph1[r1]+sph2[r2])\n",
    "    return dist < (sph1[r1]+sph2[r2])*factor\n"
   ]
  },
  {
   "cell_type": "code",
   "execution_count": 7,
   "metadata": {},
   "outputs": [
    {
     "name": "stdout",
     "output_type": "stream",
     "text": [
      "[1] 3/109 are matched\n",
      "[2] 5/490 are matched\n",
      "[3] 5/63 are matched\n",
      "[4] 8/430 are matched\n",
      "[7] 3/81 are matched\n",
      "[8] 2/82 are matched\n",
      "[9] 3/105 are matched\n",
      "[10] 2/87 are matched\n",
      "[14] 5/359 are matched\n",
      "[17] 2/32 are matched\n",
      "[24] 3/55 are matched\n",
      "[25] 4/163 are matched\n",
      "[29] 1/29 are matched\n",
      "[36] 8/273 are matched\n",
      "[40] 1/8 are matched\n",
      "[46] 4/97 are matched\n",
      "[52] 2/41 are matched\n",
      "[75] 5/24 are matched\n",
      "[84] 1/21 are matched\n",
      "[92] 2/41 are matched\n",
      "[107] 1/37 are matched\n",
      "[129] 1/29 are matched\n"
     ]
    }
   ],
   "source": [
    "for key in LG.keys():\n",
    "    BGG = LG[key]['BGG']\n",
    "    sats = LG[key]['sats']\n",
    "    subs = LG[key]['subs']\n",
    "    real = LG[key]['real']\n",
    "    igals = gals[~isin(gals['id'], sats['id'])]\n",
    "    igals = igals[igals['id'] != BGG['id']]\n",
    "    LG[key]['parking'] = None\n",
    "\n",
    "    tmp = MASSs[MASSs['host']==key]\n",
    "    tmp = tmp[tmp['dink']]\n",
    "    fig, ax = plt.subplots(dpi=50)\n",
    "    ax.scatter(sats['x'], sats['y'], color='g', s=1)\n",
    "    for sat in sats:\n",
    "        cir = plt.Circle((sat['x'], sat['y']), sat['r'], color='cyan', fill=False)\n",
    "        ax.add_patch(cir)\n",
    "    count = 0\n",
    "    for itmp in tmp:\n",
    "        if(itmp['mstar'] < 6e5): continue\n",
    "        dink = subs[subs['id'] == itmp['sub']][0]\n",
    "        insides2 = igals['r']<dink['r']\n",
    "        insides = point_in_sphere(dink, igals, rname='r', factor=1) & insides2\n",
    "        if(np.sum(insides)==0):\n",
    "            insides = sphere_in_sphere(igals, dink, r2='rvir')\n",
    "        if(np.sum(insides)==0):\n",
    "            insides1 = sphere_touch_sphere(dink, igals, r1='rvir', factor=0.5)\n",
    "            insides = insides1&insides2\n",
    "        gcands = igals[insides]\n",
    "        if(len(gcands)==0): continue\n",
    "        elif(len(gcands)==1):\n",
    "            gcand = gcands[0]\n",
    "            where = np.where(real['hid'] == dink['id'])[0][0]\n",
    "            real[where]['gid'] = gcand['id']; count+=1\n",
    "            real[where]['state'] = 'pair'\n",
    "        else:\n",
    "            dists = distance(gcand, gcands)\n",
    "            argmin = np.argmin(dists)\n",
    "            gcand = gcands[argmin]\n",
    "            where = np.where(real['hid'] == dink['id'])[0][0]\n",
    "            real[where]['gid'] = gcand['id']; count+=1\n",
    "            real[where]['state'] = 'pair'\n",
    "        \n",
    "        LG[key]['parking'] = gcand if(LG[key]['parking'] is None) else np.hstack((LG[key]['parking'], gcand))\n",
    "        ax.scatter(dink['x'],dink['y'], color='k', s=4)\n",
    "        cir = plt.Circle((dink['x'], dink['y']), dink['rvir'], color='k', fill=False)\n",
    "        ax.add_patch(cir)\n",
    "        ax.scatter(gcand['x'],gcand['y'], color='r', s=4)\n",
    "        cir = plt.Circle((gcand['x'], gcand['y']), gcand['r'], color='r', fill=False)\n",
    "        ax.plot([dink['x'], gcand['x']],[dink['y'], gcand['y']], color='k')\n",
    "        ax.add_patch(cir)\n",
    "    ax.set_aspect(1)\n",
    "    ax.set_title(f\"{key:04d}\")\n",
    "    if(count>0):\n",
    "        print(f\"[{key}] {count}/{len(tmp)} are matched\")\n",
    "        # plt.show()\n",
    "        plt.close()\n",
    "    else:\n",
    "        plt.close()\n",
    "pklsave(LG, f\"{dirname}/00_LocalGroup_final.pickle\", overwrite=True)"
   ]
  },
  {
   "cell_type": "markdown",
   "metadata": {},
   "source": [
    "## UDG candidates"
   ]
  },
  {
   "cell_type": "code",
   "execution_count": 8,
   "metadata": {},
   "outputs": [
    {
     "name": "stdout",
     "output_type": "stream",
     "text": [
      "[0064] (26098) 1 cands and logM*=7.833543446418819\n",
      "[64] 1/91 are matched\n"
     ]
    }
   ],
   "source": [
    "for key in LG.keys():\n",
    "    BGG = LG[key]['BGG']\n",
    "    sats = LG[key]['sats']\n",
    "    subs = LG[key]['subs']\n",
    "    real = LG[key]['real']\n",
    "    igals = gals[~isin(gals['id'], sats['id'])]\n",
    "    igals = igals[igals['id'] != BGG['id']]\n",
    "    LG[key]['UDG'] = []\n",
    "\n",
    "    tmp = MASSs[MASSs['host']==key]\n",
    "    tmp = tmp[tmp['dink']]\n",
    "    fig, ax = plt.subplots(dpi=50)\n",
    "    ax.scatter(sats['x'], sats['y'], color='g', s=1)\n",
    "    for sat in sats:\n",
    "        cir = plt.Circle((sat['x'], sat['y']), sat['r'], color='cyan', fill=False)\n",
    "        ax.add_patch(cir)\n",
    "    count = 0\n",
    "    for itmp in tmp:\n",
    "        if(itmp['mstar'] < 6e5): continue\n",
    "        dink = subs[subs['id'] == itmp['sub']][0]\n",
    "        where = np.where(real['hid'] == dink['id'])[0][0]\n",
    "        if(real[where]['gid']>0): continue\n",
    "        insides1 = sphere_touch_sphere(dink, igals, r1='rvir', factor=0.75)\n",
    "        insides2 = igals['r'] < 2*dink['r']\n",
    "        insides = insides1&insides2\n",
    "        gcands = igals[insides]\n",
    "        if(len(gcands)==0):\n",
    "            star = pklload(f\"{dirname}/parts/insub/nh_star_{key:04d}_{dink['id']:07d}.pickle\")\n",
    "            if(len(star)>300):\n",
    "                LG[key]['UDG'].append(dink['id'])\n",
    "        else:\n",
    "            print(f\"[{key:04d}] ({dink['id']}) {len(gcands)} cands and logM*={np.log10(itmp['mstar'])}\")\n",
    "            count += 1\n",
    "            cir = plt.Circle((dink['x'], dink['y']), dink['r'], color='grey', fill=False)\n",
    "            ax.add_patch(cir)\n",
    "            cir = plt.Circle((dink['x'], dink['y']), dink['rvir'], color='k', fill=False)\n",
    "            ax.add_patch(cir)\n",
    "            for gcand in gcands:\n",
    "                cir = plt.Circle((gcand['x'], gcand['y']), gcand['r'], color='r', fill=False)\n",
    "                ax.add_patch(cir)\n",
    "                ax.plot([dink['x'], gcand['x']],[dink['y'], gcand['y']], color='k')\n",
    "    ax.set_aspect(1)\n",
    "    ax.set_title(f\"{key:04d}\")\n",
    "    if(count>0):\n",
    "        print(f\"[{key}] {count}/{len(tmp)} are matched\")\n",
    "        # plt.show()\n",
    "        plt.close()\n",
    "    else:\n",
    "        plt.close()\n",
    "pklsave(LG, f\"{dirname}/00_LocalGroup_final.pickle\", overwrite=True)"
   ]
  },
  {
   "cell_type": "markdown",
   "metadata": {},
   "source": [
    "# Calc VAD of new sats"
   ]
  },
  {
   "cell_type": "markdown",
   "metadata": {},
   "source": [
    "new sats ID are saved in `parking` key"
   ]
  },
  {
   "cell_type": "code",
   "execution_count": 11,
   "metadata": {},
   "outputs": [],
   "source": [
    "all_sats = None\n",
    "parkings = None\n",
    "for key in LG.keys():\n",
    "    sats = LG[key]['sats']\n",
    "    all_sats = sats if(all_sats is None) else np.hstack((all_sats, sats))\n",
    "    parking = LG[key]['parking']\n",
    "    if(parking is None): continue\n",
    "    if(isinstance(parking, np.record)or(parking.shape==())):\n",
    "        parking = np.array([parking])\n",
    "        LG[key]['parking'] = parking\n",
    "    parkings = parking if(parkings is None) else np.hstack((parkings, parking))\n",
    "    assert not True in isin(sats['id'], parking['id'])"
   ]
  },
  {
   "cell_type": "code",
   "execution_count": 12,
   "metadata": {},
   "outputs": [],
   "source": [
    "cols = [\n",
    "    \"Host\", \"Sat\", \"r50m\", \"r90m\", \"r50r\", \"r90r\", \n",
    "    \"SFR_mem\", \"u_mem\", \"g_mem\", \"r_mem\", \"i_mem\", \"z_mem\", \"metal_mem\", \"ager_mem\", \"t50_mem\", \"t90_mem\"] \n",
    "category = [\"r50m\", \"r90m\", \"r50r\", \"r90r\", \"rmax\"]\n",
    "\n",
    "\n",
    "for icate in category:\n",
    "    cols = cols+[f\"SFR_{icate}\", f\"u_{icate}\", f\"g_{icate}\", f\"r_{icate}\", f\"i_{icate}\", f\"z_{icate}\", f\"metal_{icate}\", f\"ager_{icate}\", f\"t50_{icate}\", f\"t90_{icate}\", f\"mgas_{icate}\", f\"mcold_{icate}\", f\"mdm_{icate}\"]"
   ]
  },
  {
   "cell_type": "code",
   "execution_count": 13,
   "metadata": {},
   "outputs": [
    {
     "name": "stdout",
     "output_type": "stream",
     "text": [
      "(71,)\n"
     ]
    }
   ],
   "source": [
    "newarr = np.zeros(len(parkings), dtype=sats.dtype)\n",
    "print(newarr.shape)"
   ]
  },
  {
   "cell_type": "code",
   "execution_count": 141,
   "metadata": {},
   "outputs": [],
   "source": [
    "def calc_rhalf(gal, part, weights, ratio=0.5):\n",
    "    dist = distance(gal, part)\n",
    "    argsort = np.argsort(dist)\n",
    "    sw = np.cumsum(weights[argsort])\n",
    "    sw /= sw[-1]\n",
    "    return dist[argsort][np.argmin(np.abs(sw-ratio))]\n",
    "\n",
    "def calc_rhalf_sorted(sorted_dist, sorted_weights, ratio=0.5):\n",
    "    sw = np.cumsum(sorted_weights)\n",
    "    sw /= sw[-1]\n",
    "    return sorted_dist[np.argmin(np.abs(sw-ratio))]\n",
    "\n",
    "def calc_tform(part, weights, ratio=0.5):\n",
    "    age = part['age','Gyr']\n",
    "    argsort = np.argsort(age)\n",
    "    sw = np.cumsum(weights[argsort])\n",
    "    sw /= sw[-1]\n",
    "    return age[argsort][np.argmin(np.abs(sw-ratio))]"
   ]
  },
  {
   "cell_type": "code",
   "execution_count": 18,
   "metadata": {},
   "outputs": [
    {
     "name": "stdout",
     "output_type": "stream",
     "text": [
      "0001 Load data...\n",
      " > Nstar = 7898479\n"
     ]
    },
    {
     "name": "stderr",
     "output_type": "stream",
     "text": [
      "Sats of 0001: 100%|██████████| 3/3 [00:19<00:00,  6.55s/it]\n"
     ]
    },
    {
     "name": "stdout",
     "output_type": "stream",
     "text": [
      "0002 Load data...\n",
      " > Nstar = 37815414\n"
     ]
    },
    {
     "name": "stderr",
     "output_type": "stream",
     "text": [
      "Sats of 0002: 100%|██████████| 5/5 [02:11<00:00, 26.21s/it]\n"
     ]
    },
    {
     "name": "stdout",
     "output_type": "stream",
     "text": [
      "0003 Load data...\n",
      " > Nstar = 4209987\n"
     ]
    },
    {
     "name": "stderr",
     "output_type": "stream",
     "text": [
      "Sats of 0003: 100%|██████████| 5/5 [00:34<00:00,  6.92s/it]\n"
     ]
    },
    {
     "name": "stdout",
     "output_type": "stream",
     "text": [
      "0004 Load data...\n",
      " > Nstar = 43912740\n"
     ]
    },
    {
     "name": "stderr",
     "output_type": "stream",
     "text": [
      "Sats of 0004: 100%|██████████| 8/8 [03:50<00:00, 28.84s/it]\n"
     ]
    },
    {
     "name": "stdout",
     "output_type": "stream",
     "text": [
      "0007 Load data...\n",
      " > Nstar = 8621474\n"
     ]
    },
    {
     "name": "stderr",
     "output_type": "stream",
     "text": [
      "Sats of 0007: 100%|██████████| 3/3 [00:18<00:00,  6.14s/it]\n"
     ]
    },
    {
     "name": "stdout",
     "output_type": "stream",
     "text": [
      "0008 Load data...\n",
      " > Nstar = 9809636\n"
     ]
    },
    {
     "name": "stderr",
     "output_type": "stream",
     "text": [
      "Sats of 0008: 100%|██████████| 2/2 [00:14<00:00,  7.35s/it]\n"
     ]
    },
    {
     "name": "stdout",
     "output_type": "stream",
     "text": [
      "0009 Load data...\n",
      " > Nstar = 24388884\n"
     ]
    },
    {
     "name": "stderr",
     "output_type": "stream",
     "text": [
      "Sats of 0009: 100%|██████████| 3/3 [00:39<00:00, 13.12s/it]\n"
     ]
    },
    {
     "name": "stdout",
     "output_type": "stream",
     "text": [
      "0010 Load data...\n",
      " > Nstar = 10734135\n"
     ]
    },
    {
     "name": "stderr",
     "output_type": "stream",
     "text": [
      "Sats of 0010: 100%|██████████| 2/2 [00:16<00:00,  8.20s/it]\n"
     ]
    },
    {
     "name": "stdout",
     "output_type": "stream",
     "text": [
      "0014 Load data...\n",
      " > Nstar = 37548989\n"
     ]
    },
    {
     "name": "stderr",
     "output_type": "stream",
     "text": [
      "Sats of 0014: 100%|██████████| 5/5 [01:56<00:00, 23.23s/it]\n"
     ]
    },
    {
     "name": "stdout",
     "output_type": "stream",
     "text": [
      "0017 Load data...\n",
      " > Nstar = 1510186\n"
     ]
    },
    {
     "name": "stderr",
     "output_type": "stream",
     "text": [
      "Sats of 0017: 100%|██████████| 2/2 [00:04<00:00,  2.32s/it]\n"
     ]
    },
    {
     "name": "stdout",
     "output_type": "stream",
     "text": [
      "0024 Load data...\n",
      " > Nstar = 4161280\n"
     ]
    },
    {
     "name": "stderr",
     "output_type": "stream",
     "text": [
      "Sats of 0024: 100%|██████████| 3/3 [00:11<00:00,  3.84s/it]\n"
     ]
    },
    {
     "name": "stdout",
     "output_type": "stream",
     "text": [
      "0025 Load data...\n",
      " > Nstar = 14502035\n"
     ]
    },
    {
     "name": "stderr",
     "output_type": "stream",
     "text": [
      "Sats of 0025: 100%|██████████| 4/4 [00:44<00:00, 11.19s/it]\n"
     ]
    },
    {
     "name": "stdout",
     "output_type": "stream",
     "text": [
      "0029 Load data...\n",
      " > Nstar = 2217705\n"
     ]
    },
    {
     "name": "stderr",
     "output_type": "stream",
     "text": [
      "Sats of 0029: 100%|██████████| 1/1 [00:03<00:00,  3.36s/it]\n"
     ]
    },
    {
     "name": "stdout",
     "output_type": "stream",
     "text": [
      "0036 Load data...\n",
      " > Nstar = 7796800\n"
     ]
    },
    {
     "name": "stderr",
     "output_type": "stream",
     "text": [
      "Sats of 0036: 100%|██████████| 8/8 [01:29<00:00, 11.21s/it]\n"
     ]
    },
    {
     "name": "stdout",
     "output_type": "stream",
     "text": [
      "0040 Load data...\n",
      " > Nstar = 1313955\n"
     ]
    },
    {
     "name": "stderr",
     "output_type": "stream",
     "text": [
      "Sats of 0040: 100%|██████████| 1/1 [00:07<00:00,  7.29s/it]\n"
     ]
    },
    {
     "name": "stdout",
     "output_type": "stream",
     "text": [
      "0046 Load data...\n",
      " > Nstar = 5513450\n"
     ]
    },
    {
     "name": "stderr",
     "output_type": "stream",
     "text": [
      "Sats of 0046: 100%|██████████| 4/4 [00:22<00:00,  5.59s/it]\n"
     ]
    },
    {
     "name": "stdout",
     "output_type": "stream",
     "text": [
      "0052 Load data...\n",
      " > Nstar = 1348616\n"
     ]
    },
    {
     "name": "stderr",
     "output_type": "stream",
     "text": [
      "Sats of 0052: 100%|██████████| 2/2 [00:04<00:00,  2.30s/it]\n"
     ]
    },
    {
     "name": "stdout",
     "output_type": "stream",
     "text": [
      "0075 Load data...\n",
      " > Nstar = 1558921\n"
     ]
    },
    {
     "name": "stderr",
     "output_type": "stream",
     "text": [
      "Sats of 0075: 100%|██████████| 5/5 [00:19<00:00,  3.86s/it]\n"
     ]
    },
    {
     "name": "stdout",
     "output_type": "stream",
     "text": [
      "0084 Load data...\n",
      " > Nstar = 1253339\n"
     ]
    },
    {
     "name": "stderr",
     "output_type": "stream",
     "text": [
      "Sats of 0084: 100%|██████████| 1/1 [00:01<00:00,  1.69s/it]\n"
     ]
    },
    {
     "name": "stdout",
     "output_type": "stream",
     "text": [
      "0092 Load data...\n",
      " > Nstar = 2312629\n"
     ]
    },
    {
     "name": "stderr",
     "output_type": "stream",
     "text": [
      "Sats of 0092: 100%|██████████| 2/2 [00:05<00:00,  2.72s/it]\n"
     ]
    },
    {
     "name": "stdout",
     "output_type": "stream",
     "text": [
      "0107 Load data...\n",
      " > Nstar = 1651375\n"
     ]
    },
    {
     "name": "stderr",
     "output_type": "stream",
     "text": [
      "Sats of 0107: 100%|██████████| 1/1 [00:05<00:00,  5.12s/it]\n"
     ]
    },
    {
     "name": "stdout",
     "output_type": "stream",
     "text": [
      "0129 Load data...\n",
      " > Nstar = 1999557\n"
     ]
    },
    {
     "name": "stderr",
     "output_type": "stream",
     "text": [
      "Sats of 0129: 100%|██████████| 1/1 [00:02<00:00,  2.37s/it]\n"
     ]
    }
   ],
   "source": [
    "cols = [\n",
    "    \"Host\", \"Sat\", \"r50m\", \"r90m\", \"r50r\", \"r90r\", \n",
    "    \"SFR_mem\", \"u_mem\", \"g_mem\", \"r_mem\", \"i_mem\", \"z_mem\", \"metal_mem\", \"ager_mem\", \"t50_mem\", \"t90_mem\"] \n",
    "category = [\"r50m\", \"r90m\", \"r50r\", \"r90r\", \"rmax\"]\n",
    "\n",
    "uri.timer.verbose=0\n",
    "for icate in category:\n",
    "    cols = cols+[f\"SFR_{icate}\", f\"u_{icate}\", f\"g_{icate}\", f\"r_{icate}\", f\"i_{icate}\", f\"z_{icate}\", f\"metal_{icate}\", f\"ager_{icate}\", f\"t50_{icate}\", f\"t90_{icate}\", f\"mgas_{icate}\", f\"mcold_{icate}\", f\"mdm_{icate}\"]\n",
    "with open(\"./value_added.txt\", \"+w\") as f:\n",
    "    f.write(\"\\t\".join(cols)+\"\\n\")\n",
    "    for key in LG.keys():\n",
    "        if(LG[key]['parking'] is None): continue\n",
    "        parkings = LG[key]['parking']\n",
    "        MWA = LG[key]['BGG']\n",
    "        print(f\"{MWA['id']:04d} Load data...\")\n",
    "        snap.clear()\n",
    "        snap.box = LG[key]['box']\n",
    "        cell = pklload(f\"{dirname}/parts/nh_cell_{MWA['id']:04d}.pickle\"); cell = uri.Cell(cell, snap)\n",
    "        star = pklload(f\"{dirname}/parts/nh_star_{MWA['id']:04d}.pickle\"); star = uri.Particle(star, snap)\n",
    "        print(f\" > Nstar = {len(star)}\")\n",
    "        dm = pklload(f\"{dirname}/parts/nh_dm_{MWA['id']:04d}.pickle\"); dm = uri.Particle(dm, snap)\n",
    "\n",
    "\n",
    "        for sat in tqdm(parkings, desc=f\"Sats of {MWA['id']:04d}\"):\n",
    "            pid = uhmi.HaloMaker.read_member_part(snap, sat['id'], galaxy=True, simple=True, usefortran=True).flatten()\n",
    "            ind = isin(np.abs(star['id']), pid)\n",
    "            if(np.sum(ind) < len(pid)):\n",
    "                print(\"Reset the box...\")\n",
    "                print(snap.box)\n",
    "                print(sat['x']-sat['r'], sat['x']+sat['r'])\n",
    "                print(sat['y']-sat['r'], sat['y']+sat['r'])\n",
    "                print(sat['z']-sat['r'], sat['z']+sat['r'])\n",
    "                snap.box = LG[key]['box']\n",
    "                snap.get_part(nthread=32)\n",
    "                istar = snap.part['star']\n",
    "                idm = snap.part['dm']\n",
    "                snap.get_cell(nthread=32)\n",
    "                icell = snap.cell\n",
    "\n",
    "                mem_star = istar[isin(np.abs(istar['id']), pid)]\n",
    "            else:\n",
    "                istar = star\n",
    "                icell = cell\n",
    "                idm = dm\n",
    "\n",
    "\n",
    "                mem_star = star[ind]\n",
    "            r50m = calc_rhalf(sat, mem_star, mem_star['m'], ratio=0.5)\n",
    "            r90m = calc_rhalf(sat, mem_star, mem_star['m'], ratio=0.9)\n",
    "\n",
    "            rband = measure_luminosity(mem_star, 'SDSS_r', model='cb07')\n",
    "            r50r = calc_rhalf(sat, mem_star, rband, ratio=0.5)\n",
    "            r90r = calc_rhalf(sat, mem_star, rband, ratio=0.9)\n",
    "            # Use member particles\n",
    "            ind = mem_star['age', 'Myr'] < 100\n",
    "            SFR_mem = np.sum(mem_star['m', 'Msol'][ind]) / 1e8\n",
    "            u_mem = measure_luminosity(mem_star, 'SDSS_u', model='cb07', total=True)\n",
    "            g_mem = measure_luminosity(mem_star, 'SDSS_g', model='cb07', total=True)\n",
    "            r_mem = measure_luminosity(mem_star, 'SDSS_r', model='cb07', total=True)\n",
    "            i_mem = measure_luminosity(mem_star, 'SDSS_i', model='cb07', total=True)\n",
    "            z_mem = measure_luminosity(mem_star, 'SDSS_z', model='cb07', total=True)\n",
    "            metal_mem = np.sum(mem_star['metal'] * mem_star['m']) / np.sum(mem_star['m'])\n",
    "            ager_mem = np.average(mem_star['age', 'Gyr'], weights=rband)\n",
    "            t50_mem = calc_tform(mem_star, rband, ratio=0.5)\n",
    "            t90_mem = calc_tform(mem_star, rband, ratio=0.9)\n",
    "            write = [MWA['id'], sat['id'], r50m, r90m, r50r, r90r, SFR_mem, u_mem, g_mem, r_mem, i_mem, z_mem, metal_mem, ager_mem, t50_mem, t90_mem]\n",
    "\n",
    "            # Use radial cut\n",
    "            radiis = [r50m, r90m, r50r, r90r, sat['r']]\n",
    "            for radii, rname in zip(radiis, category):\n",
    "                cut_star, cutind = cut_sphere(istar, sat['x'], sat['y'], sat['z'], radii, return_index=True)\n",
    "                rband = measure_luminosity(cut_star, 'SDSS_r', model='cb07')\n",
    "                SFR_rad = np.sum(cut_star['m', 'Msol'][cut_star['age', 'Myr'] < 100]) / 1e8\n",
    "                u_rad = measure_luminosity(cut_star, 'SDSS_u', model='cb07', total=True)\n",
    "                g_rad = measure_luminosity(cut_star, 'SDSS_g', model='cb07', total=True)\n",
    "                r_rad = measure_luminosity(cut_star, 'SDSS_r', model='cb07', total=True)\n",
    "                i_rad = measure_luminosity(cut_star, 'SDSS_i', model='cb07', total=True)\n",
    "                z_rad = measure_luminosity(cut_star, 'SDSS_z', model='cb07', total=True)\n",
    "                metal_rad = np.sum(cut_star['metal'] * cut_star['m']) / np.sum(cut_star['m'])\n",
    "                ager_rad = np.average(cut_star['age', 'Gyr'], weights=rband)\n",
    "                t50_rad = calc_tform(cut_star, rband, ratio=0.5)\n",
    "                t90_rad = calc_tform(cut_star, rband, ratio=0.9)\n",
    "                cut_gas = cut_sphere(icell, sat['x'], sat['y'], sat['z'], radii)\n",
    "                cut_dm = cut_sphere(idm, sat['x'], sat['y'], sat['z'], radii)\n",
    "                mgas_rad = np.sum(cut_gas['m', 'Msol'])\n",
    "                coldind = cut_gas['T', 'K'] < 1e4\n",
    "                mcold_rad = np.sum(cut_gas['m', 'Msol'][coldind])\n",
    "                mdm_rad = np.sum(cut_dm['m', 'Msol'])\n",
    "                write = write + [SFR_rad, u_rad, g_rad, r_rad, i_rad, z_rad, metal_rad, ager_rad, t50_rad, t90_rad, mgas_rad, mcold_rad, mdm_rad]\n",
    "            f.write(\"\\t\".join([str(w) for w in write])+\"\\n\")\n",
    "uri.timer.verbose=1"
   ]
  },
  {
   "cell_type": "code",
   "execution_count": 19,
   "metadata": {},
   "outputs": [
    {
     "name": "stdout",
     "output_type": "stream",
     "text": [
      "81\n"
     ]
    }
   ],
   "source": [
    "cols = [\n",
    "    \"Host\", \"Sat\", \"r50m\", \"r90m\", \"r50r\", \"r90r\", \n",
    "    \"SFR_mem\", \"u_mem\", \"g_mem\", \"r_mem\", \"i_mem\", \"z_mem\", \"metal_mem\", \"ager_mem\", \"t50_mem\", \"t90_mem\"] \n",
    "category = [\"r50m\", \"r90m\", \"r50r\", \"r90r\", \"rmax\"]\n",
    "\n",
    "\n",
    "for icate in category:\n",
    "    cols = cols+[f\"SFR_{icate}\", f\"u_{icate}\", f\"g_{icate}\", f\"r_{icate}\", f\"i_{icate}\", f\"z_{icate}\", f\"metal_{icate}\", f\"ager_{icate}\", f\"t50_{icate}\", f\"t90_{icate}\", f\"mgas_{icate}\", f\"mcold_{icate}\", f\"mdm_{icate}\"]\n",
    "\n",
    "dtype = [(col, np.float64) for col in cols]\n",
    "print(len(dtype))\n",
    "dtype[0] = (\"Host\", np.int32)\n",
    "dtype[1] = (\"Sat\", np.int32)\n",
    "dtype = np.dtype(dtype)\n",
    "\n",
    "vad = np.genfromtxt(\"./value_added.txt\", delimiter=\"\\t\", dtype=dtype, skip_header=1)\n",
    "pklsave(vad, \"./value_added.pickle\", overwrite=True)"
   ]
  },
  {
   "cell_type": "code",
   "execution_count": 42,
   "metadata": {},
   "outputs": [],
   "source": [
    "for key in LG.keys():\n",
    "    if(key in vad['Host']):\n",
    "        tmp = vad[vad['Host']==key]\n",
    "        sats = LG[key]['sats']\n",
    "\n",
    "        satdtype = sats.dtype\n",
    "        newsats = np.empty(len(tmp), dtype=satdtype)\n",
    "        for i,tvac in enumerate(tmp):\n",
    "            assert tvac['Sat'] in LG[key]['real']['gid']\n",
    "            assert tvac['Sat'] not in sats['id']\n",
    "            where = np.where(LG[key]['real']['gid']==tvac['Sat'])[0][0]\n",
    "            goodsat = gals[gals['id']==tvac['Sat']][0]\n",
    "            assert gals2[goodsat['id']-1]['halo_id'] == LG[key]['real']['hid'][where]\n",
    "            for iname in satdtype.names:\n",
    "                if(iname in gals.dtype.names):\n",
    "                    newsats[i][iname] = goodsat[iname]\n",
    "                elif(iname in gals2.dtype.names):\n",
    "                    newsats[i][iname] = gals2[goodsat['id']-1][iname]\n",
    "                elif(iname in tvac.dtype.names):\n",
    "                    newsats[i][iname] = tvac[iname]\n",
    "        new_sats = np.hstack((sats, newsats))\n",
    "        LG[key]['sats'] = new_sats\n",
    "pklsave(LG, f\"{dirname}/00_LocalGroup_final.pickle\", overwrite=True)\n"
   ]
  },
  {
   "cell_type": "markdown",
   "metadata": {},
   "source": [
    "# Calc VAD of UDG"
   ]
  },
  {
   "cell_type": "markdown",
   "metadata": {},
   "source": [
    "sub ID who hosts UDG are saved in `UDG` key"
   ]
  },
  {
   "cell_type": "code",
   "execution_count": 51,
   "metadata": {},
   "outputs": [
    {
     "data": {
      "text/plain": [
       "dtype([('nparts', '<i4'), ('id', '<i4'), ('timestep', '<i4'), ('level', '<i4'), ('host', '<i4'), ('hostsub', '<i4'), ('nbsub', '<i4'), ('nextsub', '<i4'), ('aexp', '<f8'), ('m', '<f8'), ('x', '<f8'), ('y', '<f8'), ('z', '<f8'), ('vx', '<f8'), ('vy', '<f8'), ('vz', '<f8'), ('Lx', '<f8'), ('Ly', '<f8'), ('Lz', '<f8'), ('r', '<f8'), ('a', '<f8'), ('b', '<f8'), ('c', '<f8'), ('ek', '<f8'), ('ep', '<f8'), ('et', '<f8'), ('spin', '<f8'), ('sigma', '<f8'), ('sigma_bulge', '<f8'), ('m_bulge', '<f8'), ('rvir', '<f8'), ('mvir', '<f8'), ('tvir', '<f8'), ('cvel', '<f8'), ('rho0', '<f8'), ('rc', '<f8'), ('halo_id', '<i4'), ('halo_nparts', '<i4'), ('halo_level', '<i4'), ('halo_host', '<i4'), ('halo_hostsub', '<i4'), ('halo_x', '<f8'), ('halo_y', '<f8'), ('halo_z', '<f8'), ('halo_vx', '<f8'), ('halo_vy', '<f8'), ('halo_vz', '<f8'), ('halo_mvir', '<f8'), ('halo_rvir', '<f8'), ('fcontam', '<f8'), ('dist', '<f8'), ('central', '?'), ('main', '?'), ('Host', '<i4'), ('r50m', '<f8'), ('r90m', '<f8'), ('r50r', '<f8'), ('r90r', '<f8'), ('SFR_mem', '<f8'), ('u_mem', '<f8'), ('g_mem', '<f8'), ('r_mem', '<f8'), ('i_mem', '<f8'), ('z_mem', '<f8'), ('metal_mem', '<f8'), ('ager_mem', '<f8'), ('t50_mem', '<f8'), ('t90_mem', '<f8'), ('SFR_r50m', '<f8'), ('u_r50m', '<f8'), ('g_r50m', '<f8'), ('r_r50m', '<f8'), ('i_r50m', '<f8'), ('z_r50m', '<f8'), ('metal_r50m', '<f8'), ('ager_r50m', '<f8'), ('t50_r50m', '<f8'), ('t90_r50m', '<f8'), ('mgas_r50m', '<f8'), ('mcold_r50m', '<f8'), ('mdm_r50m', '<f8'), ('SFR_r90m', '<f8'), ('u_r90m', '<f8'), ('g_r90m', '<f8'), ('r_r90m', '<f8'), ('i_r90m', '<f8'), ('z_r90m', '<f8'), ('metal_r90m', '<f8'), ('ager_r90m', '<f8'), ('t50_r90m', '<f8'), ('t90_r90m', '<f8'), ('mgas_r90m', '<f8'), ('mcold_r90m', '<f8'), ('mdm_r90m', '<f8'), ('SFR_r50r', '<f8'), ('u_r50r', '<f8'), ('g_r50r', '<f8'), ('r_r50r', '<f8'), ('i_r50r', '<f8'), ('z_r50r', '<f8'), ('metal_r50r', '<f8'), ('ager_r50r', '<f8'), ('t50_r50r', '<f8'), ('t90_r50r', '<f8'), ('mgas_r50r', '<f8'), ('mcold_r50r', '<f8'), ('mdm_r50r', '<f8'), ('SFR_r90r', '<f8'), ('u_r90r', '<f8'), ('g_r90r', '<f8'), ('r_r90r', '<f8'), ('i_r90r', '<f8'), ('z_r90r', '<f8'), ('metal_r90r', '<f8'), ('ager_r90r', '<f8'), ('t50_r90r', '<f8'), ('t90_r90r', '<f8'), ('mgas_r90r', '<f8'), ('mcold_r90r', '<f8'), ('mdm_r90r', '<f8'), ('SFR_rmax', '<f8'), ('u_rmax', '<f8'), ('g_rmax', '<f8'), ('r_rmax', '<f8'), ('i_rmax', '<f8'), ('z_rmax', '<f8'), ('metal_rmax', '<f8'), ('ager_rmax', '<f8'), ('t50_rmax', '<f8'), ('t90_rmax', '<f8'), ('mgas_rmax', '<f8'), ('mcold_rmax', '<f8'), ('mdm_rmax', '<f8')])"
      ]
     },
     "execution_count": 51,
     "metadata": {},
     "output_type": "execute_result"
    }
   ],
   "source": [
    "sats.dtype"
   ]
  },
  {
   "cell_type": "code",
   "execution_count": 60,
   "metadata": {},
   "outputs": [
    {
     "name": "stdout",
     "output_type": "stream",
     "text": [
      "[0001]\n"
     ]
    },
    {
     "name": "stderr",
     "output_type": "stream",
     "text": [
      "  0%|          | 0/8 [00:00<?, ?it/s]"
     ]
    },
    {
     "name": "stderr",
     "output_type": "stream",
     "text": [
      "100%|██████████| 8/8 [00:17<00:00,  2.22s/it]\n"
     ]
    },
    {
     "name": "stdout",
     "output_type": "stream",
     "text": [
      "[0002]\n"
     ]
    },
    {
     "name": "stderr",
     "output_type": "stream",
     "text": [
      "100%|██████████| 131/131 [05:06<00:00,  2.34s/it]\n"
     ]
    },
    {
     "name": "stdout",
     "output_type": "stream",
     "text": [
      "[0003]\n"
     ]
    },
    {
     "name": "stderr",
     "output_type": "stream",
     "text": [
      "100%|██████████| 1/1 [00:01<00:00,  1.78s/it]\n"
     ]
    },
    {
     "name": "stdout",
     "output_type": "stream",
     "text": [
      "[0004]\n"
     ]
    },
    {
     "name": "stderr",
     "output_type": "stream",
     "text": [
      "100%|██████████| 116/116 [03:59<00:00,  2.07s/it]\n"
     ]
    },
    {
     "name": "stdout",
     "output_type": "stream",
     "text": [
      "[0007]\n"
     ]
    },
    {
     "name": "stderr",
     "output_type": "stream",
     "text": [
      "100%|██████████| 11/11 [00:29<00:00,  2.70s/it]\n"
     ]
    },
    {
     "name": "stdout",
     "output_type": "stream",
     "text": [
      "[0008]\n"
     ]
    },
    {
     "name": "stderr",
     "output_type": "stream",
     "text": [
      "100%|██████████| 8/8 [00:21<00:00,  2.63s/it]\n"
     ]
    },
    {
     "name": "stdout",
     "output_type": "stream",
     "text": [
      "[0009]\n"
     ]
    },
    {
     "name": "stderr",
     "output_type": "stream",
     "text": [
      "100%|██████████| 22/22 [00:52<00:00,  2.39s/it]\n"
     ]
    },
    {
     "name": "stdout",
     "output_type": "stream",
     "text": [
      "[0010]\n"
     ]
    },
    {
     "name": "stderr",
     "output_type": "stream",
     "text": [
      "100%|██████████| 9/9 [00:22<00:00,  2.54s/it]\n"
     ]
    },
    {
     "name": "stdout",
     "output_type": "stream",
     "text": [
      "[0014]\n"
     ]
    },
    {
     "name": "stderr",
     "output_type": "stream",
     "text": [
      "100%|██████████| 69/69 [02:49<00:00,  2.45s/it]\n"
     ]
    },
    {
     "name": "stdout",
     "output_type": "stream",
     "text": [
      "[0023]\n"
     ]
    },
    {
     "name": "stderr",
     "output_type": "stream",
     "text": [
      "100%|██████████| 5/5 [00:11<00:00,  2.27s/it]\n"
     ]
    },
    {
     "name": "stdout",
     "output_type": "stream",
     "text": [
      "[0024]\n"
     ]
    },
    {
     "name": "stderr",
     "output_type": "stream",
     "text": [
      "100%|██████████| 1/1 [00:01<00:00,  1.75s/it]\n"
     ]
    },
    {
     "name": "stdout",
     "output_type": "stream",
     "text": [
      "[0025]\n"
     ]
    },
    {
     "name": "stderr",
     "output_type": "stream",
     "text": [
      "100%|██████████| 19/19 [00:46<00:00,  2.45s/it]\n"
     ]
    },
    {
     "name": "stdout",
     "output_type": "stream",
     "text": [
      "[0029]\n"
     ]
    },
    {
     "name": "stderr",
     "output_type": "stream",
     "text": [
      "100%|██████████| 1/1 [00:01<00:00,  1.77s/it]\n"
     ]
    },
    {
     "name": "stdout",
     "output_type": "stream",
     "text": [
      "[0036]\n"
     ]
    },
    {
     "name": "stderr",
     "output_type": "stream",
     "text": [
      "100%|██████████| 19/19 [00:45<00:00,  2.42s/it]\n"
     ]
    },
    {
     "name": "stdout",
     "output_type": "stream",
     "text": [
      "[0063]\n"
     ]
    },
    {
     "name": "stderr",
     "output_type": "stream",
     "text": [
      "100%|██████████| 4/4 [00:10<00:00,  2.64s/it]\n"
     ]
    },
    {
     "name": "stdout",
     "output_type": "stream",
     "text": [
      "[0064]\n"
     ]
    },
    {
     "name": "stderr",
     "output_type": "stream",
     "text": [
      "100%|██████████| 3/3 [00:05<00:00,  1.80s/it]\n"
     ]
    },
    {
     "name": "stdout",
     "output_type": "stream",
     "text": [
      "[0084]\n"
     ]
    },
    {
     "name": "stderr",
     "output_type": "stream",
     "text": [
      "100%|██████████| 1/1 [00:01<00:00,  1.77s/it]\n"
     ]
    },
    {
     "name": "stdout",
     "output_type": "stream",
     "text": [
      "[0092]\n"
     ]
    },
    {
     "name": "stderr",
     "output_type": "stream",
     "text": [
      "100%|██████████| 1/1 [00:02<00:00,  2.87s/it]\n"
     ]
    },
    {
     "name": "stdout",
     "output_type": "stream",
     "text": [
      "[0107]\n"
     ]
    },
    {
     "name": "stderr",
     "output_type": "stream",
     "text": [
      "100%|██████████| 1/1 [00:01<00:00,  1.77s/it]\n"
     ]
    },
    {
     "name": "stdout",
     "output_type": "stream",
     "text": [
      "[0121]\n"
     ]
    },
    {
     "name": "stderr",
     "output_type": "stream",
     "text": [
      "100%|██████████| 4/4 [00:08<00:00,  2.10s/it]\n"
     ]
    },
    {
     "name": "stdout",
     "output_type": "stream",
     "text": [
      "[0129]\n"
     ]
    },
    {
     "name": "stderr",
     "output_type": "stream",
     "text": [
      "100%|██████████| 4/4 [00:11<00:00,  2.94s/it]\n"
     ]
    }
   ],
   "source": [
    "for key in LG.keys():\n",
    "    UDGs = LG[key]['UDG']\n",
    "    if(len(UDGs)==0): continue\n",
    "    print(f\"[{key:04d}]\")\n",
    "    BGG = LG[key]['BGG']\n",
    "    sats = LG[key]['sats']\n",
    "    subs = LG[key]['subs']\n",
    "    real = LG[key]['real']\n",
    "    \n",
    "    hosts_of_udgs = subs[isin(subs['id'], UDGs)]\n",
    "    udg_cats = np.zeros(len(UDGs), dtype=sats.dtype)\n",
    "    for i, host in tqdm( enumerate(hosts_of_udgs), total=len(hosts_of_udgs) ):\n",
    "        where = np.where(real['hid'] == host['id'])[0][0]\n",
    "        if(LG[key]['real'][where]['state'] != 'upair'):\n",
    "            assert real[where]['state']=='dink'\n",
    "            LG[key]['real'][where]['state'] = 'upair'\n",
    "            LG[key]['real'][where]['gid'] = -host['id']\n",
    "\n",
    "\n",
    "        snap.set_box_halo(host, 1, radius_name='r')\n",
    "        star = pklload(f\"{dirname}/parts/insub/nh_star_{key:04d}_{host['id']:07d}.pickle\"); star = uri.Particle(star, snap)\n",
    "        dm = pklload(f\"{dirname}/parts/insub/nh_dm_{key:04d}_{host['id']:07d}.pickle\"); dm = uri.Particle(dm, snap)\n",
    "        cell = pklload(f\"{dirname}/parts/insub/nh_cell_{key:04d}_{host['id']:07d}.pickle\"); cell = uri.Cell(cell, snap)\n",
    "\n",
    "        udg_cats[i]['nparts'] = len(star)\n",
    "        udg_cats[i]['id'] = -host['id']\n",
    "        # Copy the host properties\n",
    "        names = ['timestep', 'aexp']\n",
    "        for name in names:\n",
    "            udg_cats[i][name] = host[name]\n",
    "        udg_cats[i]['fcontam'] = host['mcontam']/host['m']\n",
    "        # With prefix\n",
    "        names = ['halo_id', 'halo_nparts', 'halo_level', 'halo_host', 'halo_hostsub', 'halo_x', 'halo_y', 'halo_z', 'halo_vx', 'halo_vy', 'halo_vz', 'halo_mvir', 'halo_rvir']\n",
    "        for name in names:\n",
    "            udg_cats[i][name] = host[name[5:]]\n",
    "        # Default Info\n",
    "        udg_cats[i]['m'] = np.sum(star['m', 'Msol'])\n",
    "        udg_cats[i]['x'] = np.average(star['x'], weights=star['m'])\n",
    "        udg_cats[i]['y'] = np.average(star['y'], weights=star['m'])\n",
    "        udg_cats[i]['z'] = np.average(star['z'], weights=star['m'])\n",
    "        udg_cats[i]['vx'] = np.average(star['vx','km/s'], weights=star['m'])\n",
    "        udg_cats[i]['vy'] = np.average(star['vy','km/s'], weights=star['m'])\n",
    "        udg_cats[i]['vz'] = np.average(star['vz','km/s'], weights=star['m'])\n",
    "        udg_cats[i]['dist'] = distance(udg_cats[i], host)\n",
    "        # Calculate the angular momentum\n",
    "        dx = star['x'] - udg_cats[i]['x']; dx /= snap.unit['Mpc']\n",
    "        dy = star['y'] - udg_cats[i]['y']; dy /= snap.unit['Mpc']\n",
    "        dz = star['z'] - udg_cats[i]['z']; dz /= snap.unit['Mpc']\n",
    "        dpx = (star['vx','km/s'] - udg_cats[i]['vx'])*star['m','Msol']\n",
    "        dpy = (star['vy','km/s'] - udg_cats[i]['vy'])*star['m','Msol']\n",
    "        dpz = (star['vz','km/s'] - udg_cats[i]['vz'])*star['m','Msol']\n",
    "        udg_cats[i]['Lx'] = np.sum(dpy*dz - dpz*dy)/1e11 # in 10**11 Msun * km/s * Mpc\n",
    "        udg_cats[i]['Ly'] = np.sum(dpz*dx - dpx*dz)/1e11\n",
    "        udg_cats[i]['Lz'] = np.sum(dpx*dy - dpy*dx)/1e11\n",
    "        udg_cats[i]['r'] = np.max(np.sqrt(dx**2 + dy**2 + dz**2)) * snap.unit['Mpc']\n",
    "        # Value Added\n",
    "        udg_cats[i]['Host'] = host['id']\n",
    "        udg_cats[i]['r50m'] = calc_rhalf(udg_cats[i], star, star['m'], ratio=0.5)\n",
    "        udg_cats[i]['r90m'] = calc_rhalf(udg_cats[i], star, star['m'], ratio=0.9)\n",
    "\n",
    "        rband = measure_luminosity(star, 'SDSS_r', model='cb07')\n",
    "        udg_cats[i]['r50r'] = calc_rhalf(udg_cats[i], star, rband, ratio=0.5)\n",
    "        udg_cats[i]['r90r'] = calc_rhalf(udg_cats[i], star, rband, ratio=0.9)\n",
    "        # Use member particles\n",
    "        ind = star['age', 'Myr'] < 100\n",
    "        udg_cats[i]['SFR_mem'] = np.sum(star['m', 'Msol'][ind]) / 1e8\n",
    "        udg_cats[i]['u_mem'] = measure_luminosity(star, 'SDSS_u', model='cb07', total=True)\n",
    "        udg_cats[i]['g_mem'] = measure_luminosity(star, 'SDSS_g', model='cb07', total=True)\n",
    "        udg_cats[i]['r_mem'] = measure_luminosity(star, 'SDSS_r', model='cb07', total=True)\n",
    "        udg_cats[i]['i_mem'] = measure_luminosity(star, 'SDSS_i', model='cb07', total=True)\n",
    "        udg_cats[i]['z_mem'] = measure_luminosity(star, 'SDSS_z', model='cb07', total=True)\n",
    "        udg_cats[i]['metal_mem'] = np.sum(star['metal'] * star['m']) / np.sum(star['m'])\n",
    "        udg_cats[i]['ager_mem'] = np.average(star['age', 'Gyr'], weights=rband)\n",
    "        udg_cats[i]['t50_mem'] = calc_tform(star, rband, ratio=0.5)\n",
    "        udg_cats[i]['t90_mem'] = calc_tform(star, rband, ratio=0.9)\n",
    "        radiis = [udg_cats[i]['r50m'], udg_cats[i]['r90m'], udg_cats[i]['r50r'], udg_cats[i]['r90r'], udg_cats[i]['r']]\n",
    "        for radii, rname in zip(radiis, category):\n",
    "            cut_star, cutind = cut_sphere(star, udg_cats[i]['x'], udg_cats[i]['y'], udg_cats[i]['z'], radii, return_index=True)\n",
    "            rband = measure_luminosity(cut_star, 'SDSS_r', model='cb07')\n",
    "            udg_cats[i][f'SFR_{rname}'] = np.sum(cut_star['m', 'Msol'][cut_star['age', 'Myr'] < 100]) / 1e8\n",
    "            udg_cats[i][f'u_{rname}'] = measure_luminosity(cut_star, 'SDSS_u', model='cb07', total=True)\n",
    "            udg_cats[i][f'g_{rname}'] = measure_luminosity(cut_star, 'SDSS_g', model='cb07', total=True)\n",
    "            udg_cats[i][f'r_{rname}'] = measure_luminosity(cut_star, 'SDSS_r', model='cb07', total=True)\n",
    "            udg_cats[i][f'i_{rname}'] = measure_luminosity(cut_star, 'SDSS_i', model='cb07', total=True)\n",
    "            udg_cats[i][f'z_{rname}'] = measure_luminosity(cut_star, 'SDSS_z', model='cb07', total=True)\n",
    "            udg_cats[i][f'metal_{rname}'] = np.sum(cut_star['metal'] * cut_star['m']) / np.sum(cut_star['m'])\n",
    "            udg_cats[i][f'ager_{rname}'] = np.average(cut_star['age', 'Gyr'], weights=rband)\n",
    "            udg_cats[i][f't50_{rname}'] = calc_tform(cut_star, rband, ratio=0.5)\n",
    "            udg_cats[i][f't90_{rname}'] = calc_tform(cut_star, rband, ratio=0.9)\n",
    "            cut_gas = cut_sphere(icell, udg_cats[i]['x'], udg_cats[i]['y'], udg_cats[i]['z'], radii)\n",
    "            cut_dm = cut_sphere(idm, udg_cats[i]['x'], udg_cats[i]['y'], udg_cats[i]['z'], radii)\n",
    "            udg_cats[i][f'mgas_{rname}'] = np.sum(cut_gas['m', 'Msol'])\n",
    "            coldind = cut_gas['T', 'K'] < 1e4\n",
    "            udg_cats[i][f'mcold_{rname}'] = np.sum(cut_gas['m', 'Msol'][coldind])\n",
    "            udg_cats[i][f'mdm_{rname}'] = np.sum(cut_dm['m', 'Msol'])\n",
    "        LG[key]['sats'] = np.hstack((sats, udg_cats))\n",
    "pklsave(LG, f\"{dirname}/00_LocalGroup_final.pickle\", overwrite=True)"
   ]
  },
  {
   "cell_type": "markdown",
   "metadata": {},
   "source": [
    "# Add DM properties"
   ]
  },
  {
   "cell_type": "code",
   "execution_count": null,
   "metadata": {},
   "outputs": [],
   "source": [
    "# calc_rhalf_sorted(sorted_dist, sorted_weights)"
   ]
  },
  {
   "cell_type": "code",
   "execution_count": 144,
   "metadata": {},
   "outputs": [
    {
     "name": "stdout",
     "output_type": "stream",
     "text": [
      "[0001]\n"
     ]
    },
    {
     "name": "stderr",
     "output_type": "stream",
     "text": [
      "100%|██████████| 113/113 [00:00<00:00, 312.95it/s]\n"
     ]
    },
    {
     "name": "stdout",
     "output_type": "stream",
     "text": [
      "[0002]\n"
     ]
    },
    {
     "name": "stderr",
     "output_type": "stream",
     "text": [
      "100%|██████████| 531/531 [00:02<00:00, 256.88it/s]\n"
     ]
    },
    {
     "name": "stdout",
     "output_type": "stream",
     "text": [
      "[0003]\n"
     ]
    },
    {
     "name": "stderr",
     "output_type": "stream",
     "text": [
      "100%|██████████| 71/71 [00:00<00:00, 167.90it/s]\n"
     ]
    },
    {
     "name": "stdout",
     "output_type": "stream",
     "text": [
      "[0004]\n"
     ]
    },
    {
     "name": "stderr",
     "output_type": "stream",
     "text": [
      "100%|██████████| 485/485 [00:03<00:00, 151.51it/s]\n"
     ]
    },
    {
     "name": "stdout",
     "output_type": "stream",
     "text": [
      "[0007]\n"
     ]
    },
    {
     "name": "stderr",
     "output_type": "stream",
     "text": [
      "100%|██████████| 91/91 [00:00<00:00, 159.71it/s]\n"
     ]
    },
    {
     "name": "stdout",
     "output_type": "stream",
     "text": [
      "[0008]\n"
     ]
    },
    {
     "name": "stderr",
     "output_type": "stream",
     "text": [
      "100%|██████████| 90/90 [00:00<00:00, 96.17it/s] \n"
     ]
    },
    {
     "name": "stdout",
     "output_type": "stream",
     "text": [
      "[0009]\n"
     ]
    },
    {
     "name": "stderr",
     "output_type": "stream",
     "text": [
      "100%|██████████| 117/117 [00:00<00:00, 188.58it/s]\n"
     ]
    },
    {
     "name": "stdout",
     "output_type": "stream",
     "text": [
      "[0010]\n"
     ]
    },
    {
     "name": "stderr",
     "output_type": "stream",
     "text": [
      "100%|██████████| 100/100 [00:00<00:00, 160.00it/s]\n"
     ]
    },
    {
     "name": "stdout",
     "output_type": "stream",
     "text": [
      "[0014]\n"
     ]
    },
    {
     "name": "stderr",
     "output_type": "stream",
     "text": [
      "100%|██████████| 396/396 [00:02<00:00, 158.16it/s]\n"
     ]
    },
    {
     "name": "stdout",
     "output_type": "stream",
     "text": [
      "[0017]\n"
     ]
    },
    {
     "name": "stderr",
     "output_type": "stream",
     "text": [
      "100%|██████████| 34/34 [00:00<00:00, 146.46it/s]\n"
     ]
    },
    {
     "name": "stdout",
     "output_type": "stream",
     "text": [
      "[0023]\n"
     ]
    },
    {
     "name": "stderr",
     "output_type": "stream",
     "text": [
      "100%|██████████| 35/35 [00:00<00:00, 162.20it/s]\n"
     ]
    },
    {
     "name": "stdout",
     "output_type": "stream",
     "text": [
      "[0024]\n"
     ]
    },
    {
     "name": "stderr",
     "output_type": "stream",
     "text": [
      "100%|██████████| 58/58 [00:00<00:00, 84.93it/s] \n"
     ]
    },
    {
     "name": "stdout",
     "output_type": "stream",
     "text": [
      "[0025]\n"
     ]
    },
    {
     "name": "stderr",
     "output_type": "stream",
     "text": [
      "100%|██████████| 177/177 [00:00<00:00, 205.99it/s]\n"
     ]
    },
    {
     "name": "stdout",
     "output_type": "stream",
     "text": [
      "[0026]\n"
     ]
    },
    {
     "name": "stderr",
     "output_type": "stream",
     "text": [
      "100%|██████████| 40/40 [00:00<00:00, 214.11it/s]\n"
     ]
    },
    {
     "name": "stdout",
     "output_type": "stream",
     "text": [
      "[0029]\n"
     ]
    },
    {
     "name": "stderr",
     "output_type": "stream",
     "text": [
      "100%|██████████| 32/32 [00:00<00:00, 217.90it/s]\n"
     ]
    },
    {
     "name": "stdout",
     "output_type": "stream",
     "text": [
      "[0035]\n"
     ]
    },
    {
     "name": "stderr",
     "output_type": "stream",
     "text": [
      "100%|██████████| 12/12 [00:00<00:00, 355.66it/s]\n"
     ]
    },
    {
     "name": "stdout",
     "output_type": "stream",
     "text": [
      "[0036]\n"
     ]
    },
    {
     "name": "stderr",
     "output_type": "stream",
     "text": [
      "100%|██████████| 292/292 [00:01<00:00, 151.93it/s]\n"
     ]
    },
    {
     "name": "stdout",
     "output_type": "stream",
     "text": [
      "[0037]\n"
     ]
    },
    {
     "name": "stderr",
     "output_type": "stream",
     "text": [
      "100%|██████████| 11/11 [00:00<00:00, 119.65it/s]\n"
     ]
    },
    {
     "name": "stdout",
     "output_type": "stream",
     "text": [
      "[0040]\n"
     ]
    },
    {
     "name": "stderr",
     "output_type": "stream",
     "text": [
      "100%|██████████| 9/9 [00:00<00:00, 219.35it/s]\n"
     ]
    },
    {
     "name": "stdout",
     "output_type": "stream",
     "text": [
      "[0046]\n"
     ]
    },
    {
     "name": "stderr",
     "output_type": "stream",
     "text": [
      "100%|██████████| 109/109 [00:01<00:00, 83.63it/s]\n"
     ]
    },
    {
     "name": "stdout",
     "output_type": "stream",
     "text": [
      "[0047]\n"
     ]
    },
    {
     "name": "stderr",
     "output_type": "stream",
     "text": [
      "100%|██████████| 8/8 [00:00<00:00, 128.13it/s]\n"
     ]
    },
    {
     "name": "stdout",
     "output_type": "stream",
     "text": [
      "[0052]\n"
     ]
    },
    {
     "name": "stderr",
     "output_type": "stream",
     "text": [
      "100%|██████████| 42/42 [00:00<00:00, 177.65it/s]\n"
     ]
    },
    {
     "name": "stdout",
     "output_type": "stream",
     "text": [
      "[0063]\n"
     ]
    },
    {
     "name": "stderr",
     "output_type": "stream",
     "text": [
      "100%|██████████| 21/21 [00:00<00:00, 158.78it/s]\n"
     ]
    },
    {
     "name": "stdout",
     "output_type": "stream",
     "text": [
      "[0064]\n"
     ]
    },
    {
     "name": "stderr",
     "output_type": "stream",
     "text": [
      "100%|██████████| 95/95 [00:00<00:00, 224.82it/s]\n"
     ]
    },
    {
     "name": "stdout",
     "output_type": "stream",
     "text": [
      "[0075]\n"
     ]
    },
    {
     "name": "stderr",
     "output_type": "stream",
     "text": [
      "100%|██████████| 26/26 [00:00<00:00, 85.90it/s]\n"
     ]
    },
    {
     "name": "stdout",
     "output_type": "stream",
     "text": [
      "[0084]\n"
     ]
    },
    {
     "name": "stderr",
     "output_type": "stream",
     "text": [
      "100%|██████████| 21/21 [00:00<00:00, 308.80it/s]\n"
     ]
    },
    {
     "name": "stdout",
     "output_type": "stream",
     "text": [
      "[0092]\n"
     ]
    },
    {
     "name": "stderr",
     "output_type": "stream",
     "text": [
      "100%|██████████| 44/44 [00:00<00:00, 304.77it/s]\n"
     ]
    },
    {
     "name": "stdout",
     "output_type": "stream",
     "text": [
      "[0107]\n"
     ]
    },
    {
     "name": "stderr",
     "output_type": "stream",
     "text": [
      "100%|██████████| 38/38 [00:00<00:00, 314.94it/s]\n"
     ]
    },
    {
     "name": "stdout",
     "output_type": "stream",
     "text": [
      "[0108]\n"
     ]
    },
    {
     "name": "stderr",
     "output_type": "stream",
     "text": [
      "100%|██████████| 14/14 [00:00<00:00, 188.53it/s]\n"
     ]
    },
    {
     "name": "stdout",
     "output_type": "stream",
     "text": [
      "[0121]\n"
     ]
    },
    {
     "name": "stderr",
     "output_type": "stream",
     "text": [
      "100%|██████████| 26/26 [00:00<00:00, 279.37it/s]\n"
     ]
    },
    {
     "name": "stdout",
     "output_type": "stream",
     "text": [
      "[0129]\n"
     ]
    },
    {
     "name": "stderr",
     "output_type": "stream",
     "text": [
      "100%|██████████| 32/32 [00:00<00:00, 261.94it/s]\n"
     ]
    },
    {
     "name": "stdout",
     "output_type": "stream",
     "text": [
      "[0207]\n"
     ]
    },
    {
     "name": "stderr",
     "output_type": "stream",
     "text": [
      "100%|██████████| 9/9 [00:00<00:00, 330.58it/s]\n"
     ]
    },
    {
     "name": "stdout",
     "output_type": "stream",
     "text": [
      "[0011]\n"
     ]
    },
    {
     "name": "stderr",
     "output_type": "stream",
     "text": [
      "100%|██████████| 37/37 [00:00<00:00, 210.98it/s]\n"
     ]
    }
   ],
   "source": [
    "dtype2 = [\n",
    "    (\"r10_mem\", np.float64), (\"r50_mem\", np.float64), (\"r90_mem\", np.float64),\n",
    "    (\"r10_vir\", np.float64), (\"r50_vir\", np.float64), (\"r90_vir\", np.float64),\n",
    "    (\"r10_max\", np.float64), (\"r50_max\", np.float64), (\"r90_max\", np.float64),\n",
    "    ]\n",
    "uri.timer.verbose=0\n",
    "for key in LG.keys():\n",
    "    print(f\"[{key:04d}]\")\n",
    "    BGG = LG[key]['BGG']\n",
    "    subs = LG[key]['subs']\n",
    "    dtype1 = subs.dtype\n",
    "    dtype = np.dtype(dtype1.descr + dtype2)\n",
    "    newsubs = np.zeros(len(subs), dtype=dtype)\n",
    "    for iname in dtype1.names:\n",
    "        newsubs[iname] = subs[iname]\n",
    "    for i,sub in tqdm( enumerate(subs), total=len(subs) ):\n",
    "        alldm = pklload(f\"{dirname}/parts/insub/nh_dm_{key:04d}_{sub['id']:07d}.pickle\")\n",
    "        alldm = uri.Particle(alldm,snap)\n",
    "        alldist = distance(sub, alldm); argsort = np.argsort(alldist)\n",
    "        alldist = alldist[argsort]; allmass = alldm['m'][argsort]\n",
    "        memdm = uhmi.HaloMaker.read_member_part(snap, sub['id'], galaxy=False, target_fields=['x','y','z','m'])\n",
    "        memdist = distance(sub, memdm); argsort = np.argsort(memdist)\n",
    "        memdist = memdist[argsort]; memmass = memdm['m'][argsort]\n",
    "\n",
    "        newsubs[i]['r10_mem'] = calc_rhalf_sorted(memdist, memmass, ratio=0.1)\n",
    "        newsubs[i]['r50_mem'] = calc_rhalf_sorted(memdist, memmass, ratio=0.5)\n",
    "        newsubs[i]['r90_mem'] = calc_rhalf_sorted(memdist, memmass, ratio=0.9)\n",
    "        newsubs[i]['r10_max'] = calc_rhalf_sorted(alldist, allmass, ratio=0.1)\n",
    "        newsubs[i]['r50_max'] = calc_rhalf_sorted(alldist, allmass, ratio=0.5)\n",
    "        newsubs[i]['r90_max'] = calc_rhalf_sorted(alldist, allmass, ratio=0.9)\n",
    "        virdm, ind = cut_sphere(alldm, sub['x'], sub['y'], sub['z'], sub['rvir'], return_index=True)\n",
    "        alldist = alldist[ind]; allmass = allmass[ind]\n",
    "        newsubs[i]['r10_vir'] = calc_rhalf_sorted(alldist, allmass, ratio=0.1)\n",
    "        newsubs[i]['r50_vir'] = calc_rhalf_sorted(alldist, allmass, ratio=0.5)\n",
    "        newsubs[i]['r90_vir'] = calc_rhalf_sorted(alldist, allmass, ratio=0.9)\n",
    "    LG[key]['subs'] = newsubs\n",
    "uri.timer.verbose=1\n",
    "pklsave(LG, f\"{dirname}/00_LocalGroup_final.pickle\", overwrite=True)"
   ]
  },
  {
   "cell_type": "markdown",
   "metadata": {},
   "source": [
    "---"
   ]
  },
  {
   "cell_type": "markdown",
   "metadata": {},
   "source": [
    "# Density profile"
   ]
  },
  {
   "cell_type": "code",
   "execution_count": 121,
   "metadata": {},
   "outputs": [],
   "source": [
    "def denprop(cen, parts, nbin=100):\n",
    "    global snap\n",
    "    # rbins = np.logspace(-2, 0.3, nbin+1)#np.linspace(0, 2, nbin+1)\n",
    "    rbins = np.logspace(-0.3, np.log10(20), nbin+1) # kpc\n",
    "    mbins = np.zeros(nbin)\n",
    "    re = calc_rhalf(cen, parts, parts['m'], ratio=0.5)\n",
    "    dist = distance(cen, parts)/snap.unit['kpc']#/re\n",
    "    for i in range(nbin):\n",
    "        ind = (dist>=rbins[i])&(dist<rbins[i+1])\n",
    "        mbins[i] = np.sum(parts['m','Msol'][ind])\n",
    "    vols = (4/3)*np.pi*(rbins[1:]**3 - rbins[:-1]**3)\n",
    "    dens = mbins/vols\n",
    "    return rbins, dens, mbins\n",
    "    # vels = np.sqrt((cen['vx']-parts['vx','km/s'])**2 + (cen['vy']-parts['vy','km/s'])**2 + (cen['vz']-tmp['vz','km/s'])**2) / cen['sigma']\n",
    "\n"
   ]
  },
  {
   "cell_type": "code",
   "execution_count": 61,
   "metadata": {},
   "outputs": [],
   "source": [
    "for key in LG.keys():\n",
    "    BGG = LG[key]['BGG']\n",
    "    subs = LG[key]['subs']\n",
    "    for sub in subs:\n",
    "        break\n",
    "        idm = pklload(f\"{dirname}/parts/insub/nh_dm_{key:04d}_{sub['id']:07d}.pickle\")\n",
    "        if(len(idm)==0): continue\n"
   ]
  },
  {
   "cell_type": "code",
   "execution_count": 125,
   "metadata": {},
   "outputs": [
    {
     "data": {
      "text/plain": [
       "0.007086753845214844"
      ]
     },
     "execution_count": 125,
     "metadata": {},
     "output_type": "execute_result"
    }
   ],
   "source": [
    "ref = time.time()\n",
    "sub = np.random.choice(subs)\n",
    "idm = pklload(f\"{dirname}/parts/insub/nh_dm_{key:04d}_{sub['id']:07d}.pickle\")\n",
    "idm = uri.Particle(idm,snap)\n",
    "time.time()-ref"
   ]
  },
  {
   "cell_type": "code",
   "execution_count": 137,
   "metadata": {},
   "outputs": [],
   "source": [
    "def single(logr, const, gamma):\n",
    "    # r = 10**logr\n",
    "    return gamma * logr + const\n",
    "\n",
    "def NFW(r_kpc, rs_kpc, rho0_Msunkpc3):\n",
    "    x = r_kpc/rs_kpc\n",
    "    return np.log10(rho0_Msunkpc3 / (x*(1+x)**2))\n",
    "\n",
    "def chisq(obs, exp, weight, ddof=0):\n",
    "    ssres = np.sum( (obs-exp)**2 * weight) / np.sum(weight)\n",
    "    mean = np.mean(obs)\n",
    "    sstot = np.sum( (obs-mean)**2 * weight) / np.sum(weight)\n",
    "    return 1 - ssres/sstot"
   ]
  },
  {
   "cell_type": "code",
   "execution_count": 134,
   "metadata": {},
   "outputs": [
    {
     "data": {
      "text/plain": [
       "(37,)"
      ]
     },
     "execution_count": 134,
     "metadata": {},
     "output_type": "execute_result"
    }
   ],
   "source": [
    "subs.shape"
   ]
  },
  {
   "cell_type": "code",
   "execution_count": 135,
   "metadata": {},
   "outputs": [
    {
     "data": {
      "text/plain": [
       "0.004390716552734375"
      ]
     },
     "execution_count": 135,
     "metadata": {},
     "output_type": "execute_result"
    }
   ],
   "source": [
    "ref = time.time()\n",
    "sub = np.random.choice(subs)\n",
    "tmp = uhmi.HaloMaker.read_member_part(snap, sub['id'], galaxy=False)\n",
    "time.time()-ref"
   ]
  },
  {
   "cell_type": "code",
   "execution_count": 139,
   "metadata": {},
   "outputs": [
    {
     "name": "stdout",
     "output_type": "stream",
     "text": [
      "0.9441931096833528\n"
     ]
    },
    {
     "data": {
      "text/plain": [
       "<matplotlib.legend.Legend at 0x7fa7cded51e0>"
      ]
     },
     "execution_count": 139,
     "metadata": {},
     "output_type": "execute_result"
    },
    {
     "data": {
      "image/png": "[encoded data removed]",
      "text/plain": [
       "<Figure size 640x480 with 1 Axes>"
      ]
     },
     "metadata": {},
     "output_type": "display_data"
    }
   ],
   "source": [
    "from scipy.optimize import curve_fit\n",
    "x,y,m = denprop(sub, tmp, nbin=15); x = (x[1:]+x[:-1])/2\n",
    "ws = 1/np.sqrt(m)\n",
    "plt.plot(x,y)\n",
    "plt.axvline(re/snap.unit['kpc'])\n",
    "ind = y>0\n",
    "popt,pcov = curve_fit(\n",
    "    NFW, x[ind], np.log10(y[ind]),\n",
    "    method='trf'\n",
    ")\n",
    "# popt, pcov = curve_fit(\n",
    "#     Nuker, np.log10(x[ind]), np.log10(y[ind]), \n",
    "#     sigma=ws[ind],\n",
    "#     p0=[1, -2], bounds=([-np.inf, -3.5], [np.inf, 0.5]), \n",
    "#     maxfev=5000, method='trf')\n",
    "# chi = chisq(Nuker(np.log10(x[ind]), *popt), np.log10(y[ind]), ws[ind], ddof=2)\n",
    "# plt.plot(x, 10**Nuker(np.log10(x), *popt), label=fr\"[Nuker] $\\gamma$={popt[-1]:.2f}$\\pm${np.sqrt(np.diag(pcov))[-1]:.2f}, $R^2$={chi:.4f}\")\n",
    "chi = chisq( NFW(x[ind], *popt), np.log10(y[ind]), ws[ind], ddof=2 )\n",
    "plt.plot(x, 10**NFW(x, *popt), label=fr\"[Nuker] $\\gamma$={popt[-1]:.2f}$\\pm${np.sqrt(np.diag(pcov))[-1]:.2f}, $R^2$={chi:.4f}\")\n",
    "\n",
    "print(chi)\n",
    "\n",
    "plt.yscale('log')\n",
    "plt.xscale('log')\n",
    "plt.legend()"
   ]
  },
  {
   "cell_type": "markdown",
   "metadata": {},
   "source": [
    "# Draw Phase Space"
   ]
  }
 ],
 "metadata": {
  "kernelspec": {
   "display_name": "jeonpy",
   "language": "python",
   "name": "python3"
  },
  "language_info": {
   "codemirror_mode": {
    "name": "ipython",
    "version": 3
   },
   "file_extension": ".py",
   "mimetype": "text/x-python",
   "name": "python",
   "nbconvert_exporter": "python",
   "pygments_lexer": "ipython3",
   "version": "3.10.4"
  }
 },
 "nbformat": 4,
 "nbformat_minor": 2
}
