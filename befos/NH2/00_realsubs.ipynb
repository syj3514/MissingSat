{
 "cells": [
  {
   "cell_type": "code",
   "execution_count": 1,
   "metadata": {},
   "outputs": [],
   "source": [
    "from tqdm import tqdm\n",
    "import matplotlib.pyplot as plt # type: module\n",
    "import matplotlib.ticker as ticker\n",
    "from matplotlib import colormaps\n",
    "from matplotlib.colors import Normalize\n",
    "\n",
    "import numpy as np\n",
    "import os, glob\n",
    "import time\n",
    "import warnings\n",
    "\n",
    "from rur.fortranfile import FortranFile\n",
    "from rur import uri, uhmi, painter, drawer\n",
    "from rur.sci.photometry import measure_luminosity\n",
    "from rur.sci.geometry import get_angles, euler_angle\n",
    "from rur.utool import rotate_data\n",
    "from scipy.ndimage import gaussian_filter\n",
    "uri.timer.verbose=1\n",
    "# from rur.sci.kinematics import f_getpot\n",
    "\n",
    "from icl_IO import mode2repo, pklsave, pklload\n",
    "from icl_tool import *\n",
    "from icl_numba import large_isin, large_isind, isin\n",
    "from icl_draw import drawsnap, add_scalebar, addtext, MakeSub_nolabel, label_to_in, fancy_axis, circle\n",
    "import argparse, subprocess\n",
    "from importlib import reload\n",
    "import cmasher as cmr\n",
    "from copy import deepcopy\n",
    "from multiprocessing import Pool, shared_memory"
   ]
  },
  {
   "cell_type": "code",
   "execution_count": 2,
   "metadata": {},
   "outputs": [
    {
     "name": "stdout",
     "output_type": "stream",
     "text": [
      "[2, 12, 45, 14, 3, 19, 18, 25, 37, 131, 143, 89, 10]\n"
     ]
    }
   ],
   "source": [
    "nhLG = pklload(\"/home/jeon/MissingSat/database/LG\")\n",
    "nh2keys = []\n",
    "for key in nhLG.keys():\n",
    "    if(nhLG[key]['isLG']):\n",
    "        nh2keys.append(nhLG[key]['BGG']['galaxy_nh2'])\n",
    "print(nh2keys)\n"
   ]
  },
  {
   "cell_type": "code",
   "execution_count": 3,
   "metadata": {},
   "outputs": [
    {
     "name": "stdout",
     "output_type": "stream",
     "text": [
      "[Output 00797] Age (Gyr) : 11.623 / 13.741, z = 0.17158 (a = 0.8536)\n"
     ]
    }
   ],
   "source": [
    "mode = 'nh2'\n",
    "iout = 797\n",
    "repo, rurmode, dp = mode2repo(mode)\n",
    "snap = uri.RamsesSnapshot(repo, iout, mode=rurmode)\n",
    "snaps = uri.TimeSeries(snap)\n",
    "snaps.read_iout_avail()\n",
    "nout = snaps.iout_avail['iout']\n",
    "gals = uhmi.HaloMaker.load(snap, galaxy=True, double_precision=dp)\n",
    "hals = uhmi.HaloMaker.load(snap, galaxy=False, double_precision=dp)\n",
    "database = f\"/home/jeon/MissingSat/database/nh2\""
   ]
  },
  {
   "cell_type": "markdown",
   "metadata": {},
   "source": [
    "# BGG From old catalog"
   ]
  },
  {
   "cell_type": "code",
   "execution_count": 4,
   "metadata": {},
   "outputs": [
    {
     "data": {
      "text/plain": [
       "array([   2,    1,   12,   13,   45,   14,   11,    3,   10,   20,   23,\n",
       "          4,   31,   35,   19,   68,   18,   25,   32,  123,   37,   73,\n",
       "         52,   33,   47,  686,   39,   28,   54,   17,  131,   59,   36,\n",
       "         34,  150,  101,   56,  125,  121,  163,   90,  143,   89,  152,\n",
       "        947,   97,    9,  230,  221,  331,  600,   38, 1142,  187],\n",
       "      dtype=int32)"
      ]
     },
     "execution_count": 4,
     "metadata": {},
     "output_type": "execute_result"
    }
   ],
   "source": [
    "old = pklload(f\"/home/jeon/MissingSat/database/old/befo231031/03_MWA2s.pickle\")\n",
    "assert isin(nh2keys,old['id']).all()\n",
    "old['id']"
   ]
  },
  {
   "cell_type": "code",
   "execution_count": 5,
   "metadata": {},
   "outputs": [],
   "source": [
    "LG = {}\n",
    "for key in nh2keys:\n",
    "    argwhere = np.where(old['id']==key)[0][0]\n",
    "    BGG = old[argwhere]\n",
    "    LG[key] = {}\n",
    "    LG[key]['BGG'] = BGG"
   ]
  },
  {
   "cell_type": "markdown",
   "metadata": {},
   "source": [
    "# Subs"
   ]
  },
  {
   "cell_type": "code",
   "execution_count": 6,
   "metadata": {},
   "outputs": [],
   "source": [
    "virials = pklload(f\"{database}/virial_radius_{mode}_{iout}.pickle\")"
   ]
  },
  {
   "cell_type": "code",
   "execution_count": 7,
   "metadata": {},
   "outputs": [
    {
     "name": "stderr",
     "output_type": "stream",
     "text": [
      "100%|██████████| 35/35 [00:00<00:00, 3532.85it/s]\n",
      "100%|██████████| 3/3 [00:00<00:00, 5393.45it/s]"
     ]
    },
    {
     "name": "stdout",
     "output_type": "stream",
     "text": [
      "('nparts', 'id', 'timestep', 'level', 'host', 'hostsub', 'nbsub', 'nextsub', 'aexp', 'm', 'x', 'y', 'z', 'vx', 'vy', 'vz', 'Lx', 'Ly', 'Lz', 'r', 'a', 'b', 'c', 'ek', 'ep', 'et', 'spin', 'sigma', 'rvir', 'mvir', 'tvir', 'cvel', 'rho0', 'rc', 'mcontam', 'r200kpc', 'm200', 'r200')\n"
     ]
    },
    {
     "name": "stderr",
     "output_type": "stream",
     "text": [
      "\n"
     ]
    }
   ],
   "source": [
    "dtype1 = hals.dtype\n",
    "dtype2 = virials.dtype\n",
    "dtype = np.dtype(dtype1.descr + dtype2.descr)\n",
    "nhals = np.zeros(hals.shape, dtype=dtype)\n",
    "for iname in tqdm(hals.dtype.names):\n",
    "    nhals[iname] = hals[iname]\n",
    "for iname in tqdm(virials.dtype.names):\n",
    "    nhals[iname] = virials[iname]\n",
    "print(dtype.names)"
   ]
  },
  {
   "cell_type": "code",
   "execution_count": 8,
   "metadata": {},
   "outputs": [],
   "source": [
    "if(not os.path.exists(f\"{database}/00_LocalGroup_a.pickle\")):\n",
    "    hor='x'; ver='y'\n",
    "    show = False\n",
    "    for key in LG.keys():\n",
    "        print(f\"[{key:04d}]\")\n",
    "        BGG = LG[key]['BGG']\n",
    "        ihals = cut_sphere(nhals, BGG['x'], BGG['y'], BGG['z'], 1.5*BGG['r200_code'], both_sphere=True, rname='r200')\n",
    "        ihals = ihals[ihals['id'] != BGG['halo_id']]\n",
    "\n",
    "        done = np.array([BGG['halo_id']])\n",
    "        queue = ihals['id']\n",
    "        lenq = len(queue)\n",
    "        i = 0\n",
    "        print(f\"{i:04d}th Nremain={len(queue):04d}\")\n",
    "        while(len(queue)>0):\n",
    "            ihal = nhals[queue[0]-1]\n",
    "            queue = queue[1:]\n",
    "            done = np.append(done, ihal['id'])\n",
    "\n",
    "            tmp = cut_sphere(nhals, ihal['x'], ihal['y'], ihal['z'], 1.5*ihal['r200'], both_sphere=True, rname='r200', factor=1.5)\n",
    "            tmp = tmp[~isin(tmp['id'], done)]\n",
    "            queue = np.append(queue, tmp['id'])\n",
    "            queue = np.unique(queue)\n",
    "            i += 1\n",
    "            if(len(queue) < lenq/2):\n",
    "                # print(f\"{i:04d}th Nremain={len(queue):04d}\")\n",
    "                lenq = len(queue)\n",
    "        news = done[~isin(done, ihals['id'])]\n",
    "        news = news[news != BGG['halo_id']]\n",
    "        print(f\"Total {len(news)} new halos found\")\n",
    "        subids = done[done != BGG['halo_id']]\n",
    "        LG[key]['subs'] = nhals[subids-1]\n",
    "\n",
    "    # del LG[92]\n",
    "    pklsave(LG, f\"{database}/00_LocalGroup_a.pickle\", overwrite=True)\n",
    "LG = pklload(f\"{database}/00_LocalGroup_a.pickle\")"
   ]
  },
  {
   "cell_type": "markdown",
   "metadata": {},
   "source": [
    "# Sats"
   ]
  },
  {
   "cell_type": "code",
   "execution_count": 9,
   "metadata": {},
   "outputs": [],
   "source": [
    "if(not os.path.exists(f\"{database}/00_LocalGroup_b.pickle\")):\n",
    "    hor='x'; ver='y'; show=False\n",
    "    for key in LG.keys():\n",
    "        print(f\"[{key:04d}]\")\n",
    "        BGG = LG[key]['BGG']\n",
    "\n",
    "        x1=BGG['x'] - 1.5*BGG['r200_code']; x2=BGG['x'] + 1.5*BGG['r200_code']\n",
    "        y1=BGG['y'] - 1.5*BGG['r200_code']; y2=BGG['y'] + 1.5*BGG['r200_code']\n",
    "        z1=BGG['z'] - 1.5*BGG['r200_code']; z2=BGG['z'] + 1.5*BGG['r200_code']\n",
    "        subids = LG[key]['subs']['id']\n",
    "        subs = nhals[subids-1]\n",
    "        x1 = min(x1, np.min(subs['x']-1.5*subs['r200']))\n",
    "        x2 = max(x2, np.max(subs['x']+1.5*subs['r200']))\n",
    "        y1 = min(y1, np.min(subs['y']-1.5*subs['r200']))\n",
    "        y2 = max(y2, np.max(subs['y']+1.5*subs['r200']))\n",
    "        z1 = min(z1, np.min(subs['z']-1.5*subs['r200']))\n",
    "        z2 = max(z2, np.max(subs['z']+1.5*subs['r200']))\n",
    "        \n",
    "        indx1 = (gals['x']+gals['r']) >= x1; indx2 = (gals['x']-gals['r']) <= x2\n",
    "        indy1 = (gals['y']+gals['r']) >= y1; indy2 = (gals['y']-gals['r']) <= y2\n",
    "        indz1 = (gals['z']+gals['r']) >= z1; indz2 = (gals['z']-gals['r']) <= z2\n",
    "        igals = gals[indx1 & indx2 & indy1 & indy2 & indz1 & indz2]\n",
    "        igals = igals[igals['id'] != BGG['id']]\n",
    "\n",
    "        LG[key]['sats'] = igals\n",
    "    pklsave(LG, f\"{database}/00_LocalGroup_b.pickle\", overwrite=True)\n",
    "LG = pklload( f\"{database}/00_LocalGroup_b.pickle\" )"
   ]
  },
  {
   "cell_type": "markdown",
   "metadata": {},
   "source": [
    "# Matching"
   ]
  },
  {
   "cell_type": "code",
   "execution_count": 10,
   "metadata": {},
   "outputs": [],
   "source": [
    "def point_in_sphere(point, sphere, rname='r', factor=1):\n",
    "    dist = np.sqrt( (point['x'] - sphere['x'])**2 + (point['y'] - sphere['y'])**2 + (point['z'] - sphere['z'])**2 )\n",
    "    # print(dist, sphere[rname]*factor)\n",
    "    return dist < sphere[rname]*factor\n",
    "\n",
    "def sphere_in_sphere(inner, outer, r1='r',r2='r', factor=1):\n",
    "    dist = np.sqrt( (inner['x'] - outer['x'])**2 + (inner['y'] - outer['y'])**2 + (inner['z'] - outer['z'])**2 )\n",
    "    # print(dist+inner[r1], outer[r2])\n",
    "    return (dist+inner[r1]) < outer[r2]\n",
    "\n",
    "def sphere_touch_sphere(sph1, sph2, r1='r',r2='r', factor=1):\n",
    "    dist = np.sqrt( (sph1['x'] - sph2['x'])**2 + (sph1['y'] - sph2['y'])**2 + (sph1['z'] - sph2['z'])**2 )\n",
    "    # print(dist, sph1[r1]+sph2[r2])\n",
    "    return dist < (sph1[r1]+sph2[r2])*factor\n"
   ]
  },
  {
   "cell_type": "code",
   "execution_count": 11,
   "metadata": {},
   "outputs": [],
   "source": [
    "if(not os.path.exists(f\"{database}/00_LocalGroup_c.pickle\")):\n",
    "    rdtype = nhLG[1]['real'].dtype\n",
    "    for key in LG.keys():\n",
    "        BGG = LG[key]['BGG']\n",
    "        sats = LG[key]['sats']\n",
    "        nsat = len(sats)\n",
    "        subs = LG[key]['subs']\n",
    "        nsub = len(subs)\n",
    "        \n",
    "        nreal = np.zeros(len(subs)+len(sats), dtype=rdtype)\n",
    "        nreal['gid'] = -1; nreal['hid'] = -1; nreal['state'] = 'dink'\n",
    "        nreal[:nsub]['hid'] = subs['id']\n",
    "\n",
    "        isats = sats\n",
    "        paired_sats = []\n",
    "        count1 = 0; count2 = 0\n",
    "        for i in tqdm( range(nsub) ):\n",
    "            isats = sats[~isin(sats['id'], paired_sats)]\n",
    "            # if(subs[i]['id'] in real['hid']):\n",
    "            #     where = np.where(real['hid'] == nreal['hid'][i])[0]\n",
    "            #     if(real[where]['gid']>0):\n",
    "            #         gid = real[where]['gid']\n",
    "            #         if(gid in isats['id']):\n",
    "            #             nreal[i]['gid'] = gid\n",
    "            #             nreal[i]['state'] = 'pair'\n",
    "            #             count1 +=1; paired_sats.append(gid)\n",
    "            #             continue\n",
    "            insides2 = isats['r'] < subs[i]['r']\n",
    "            insides = point_in_sphere(subs[i], isats, rname='r', factor=1) & insides2\n",
    "            if(np.sum(insides)==0):\n",
    "                insides = sphere_in_sphere(isats, subs[i], r2='rvir')\n",
    "            if(np.sum(insides)==0):\n",
    "                insides1 = sphere_touch_sphere(subs[i], isats, r1='rvir', factor=0.5)\n",
    "                insides = insides1&insides2\n",
    "            gcands = isats[insides]\n",
    "            if(len(gcands)==0): continue\n",
    "            elif(len(gcands)==1):\n",
    "                gcand = gcands[0]\n",
    "                nreal[i]['gid'] = gcand['id']; count2+=1\n",
    "                nreal[i]['state'] = 'pair'\n",
    "                paired_sats.append(gcand['id'])\n",
    "            else:\n",
    "                dists = distance(gcand, gcands)\n",
    "                argmin = np.argmin(dists)\n",
    "                gcand = gcands[argmin]\n",
    "                nreal[i]['gid'] = gcand['id']; count2+=1\n",
    "                nreal[i]['state'] = 'pair'\n",
    "                paired_sats.append(gcand['id'])\n",
    "            \n",
    "        unique, counts = np.unique(paired_sats, return_counts=True)\n",
    "        remained = sats[~isin(sats['id'], paired_sats)]\n",
    "        nreal[nsub:nsub+len(remained)]['gid'] = remained['id']\n",
    "        nreal[nsub:nsub+len(remained)]['state'] = 'orphan'\n",
    "        assert np.all(counts==1)\n",
    "        # print(key, nsub, nsat, count1, count2, np.sum(real['state']=='pair'))\n",
    "        mask = (nreal['gid']>0) | (nreal['hid']>0)\n",
    "        nreal = nreal[mask]\n",
    "        LG[key]['real'] = nreal\n",
    "    pklsave(LG,  f\"{database}/00_LocalGroup_c.pickle\", overwrite=True)\n",
    "LG = pklload(f\"{database}/00_LocalGroup_c.pickle\")"
   ]
  },
  {
   "cell_type": "markdown",
   "metadata": {},
   "source": [
    "# Remove Low Score"
   ]
  },
  {
   "cell_type": "code",
   "execution_count": 12,
   "metadata": {},
   "outputs": [],
   "source": [
    "scores = {}\n",
    "dm_scores = {}\n",
    "for key in LG.keys():\n",
    "    BGG = LG[key]['BGG']\n",
    "    sats = LG[key]['sats']\n",
    "    subs = LG[key]['subs']\n",
    "    scores[key] = {}; dm_scores[key] = {}\n",
    "\n",
    "    tmp = pklload(f\"{database}/scores/nh2_take_scores_host{key:04d}.pickle\")\n",
    "    for jkey in tmp.keys():\n",
    "        scores[key][jkey] = tmp[jkey]\n",
    "    tmp = pklload(f\"{database}/scores/nh2_take_dm_scores_host{key:04d}.pickle\")\n",
    "    for jkey in tmp.keys():\n",
    "        dm_scores[key][jkey] = tmp[jkey]"
   ]
  },
  {
   "cell_type": "markdown",
   "metadata": {},
   "source": [
    "## Find Omitted Sat & Sub"
   ]
  },
  {
   "cell_type": "code",
   "execution_count": 13,
   "metadata": {},
   "outputs": [],
   "source": [
    "if(not os.path.exists(f\"{database}/00_LocalGroup_d.pickle\")):\n",
    "    for key in LG.keys():\n",
    "        BGG = LG[key]['BGG']\n",
    "        print(f\"[{key:04d}]\")\n",
    "        sats = LG[key]['sats']\n",
    "        nsat = len(sats)\n",
    "        subs = LG[key]['subs']\n",
    "        nsub = len(subs)\n",
    "        real = LG[key]['real']\n",
    "\n",
    "        sat_scores = scores[key]\n",
    "        gisin = isin(sats['id'], list(sat_scores.keys()))\n",
    "        LG[key]['sats'] = sats[gisin]\n",
    "\n",
    "        sub_scores = dm_scores[key]\n",
    "        hisin = isin(subs['id'], list(sub_scores.keys()))\n",
    "        LG[key]['subs'] = subs[hisin]\n",
    "        print(f\"Sat: {np.sum(gisin)}/{len(sats)} Sub: {np.sum(hisin)}/{len(subs)}\")\n",
    "    pklsave(LG, f\"{database}/00_LocalGroup_d.pickle\", overwrite=True)\n",
    "LG = pklload(f\"{database}/00_LocalGroup_d.pickle\")"
   ]
  },
  {
   "cell_type": "markdown",
   "metadata": {},
   "source": [
    "## FIlter by scores"
   ]
  },
  {
   "cell_type": "code",
   "execution_count": 14,
   "metadata": {},
   "outputs": [],
   "source": [
    "if(not os.path.exists(f\"{database}/00_LocalGroup_e.pickle\")):\n",
    "    for key in LG.keys():\n",
    "        print(f\"[{key:04d}]\")\n",
    "        BGG = LG[key]['BGG']\n",
    "        sats = LG[key]['sats']\n",
    "        subs = LG[key]['subs']\n",
    "        real = LG[key]['real']\n",
    "\n",
    "        #-------------------------------------------------------\n",
    "        # CONFIRMED\n",
    "        #-------------------------------------------------------\n",
    "        # scores = pklload(f\"{database}/take_score_sats.pickle\")\n",
    "        # for satid in sats:\n",
    "        #     assert satid in scores.keys()\n",
    "        \n",
    "        # scores = pklload(f\"{database}/take_score_subs.pickle\")\n",
    "        # for subid in subs:\n",
    "        #     assert subid in scores.keys()\n",
    "        #-------------------------------------------------------\n",
    "        sat_banlist = []\n",
    "        sat_scores = scores[key]\n",
    "        for sat in sats:\n",
    "            satid = sat['id']\n",
    "            isgood = np.median(sat_scores[satid]%1) > 0.15\n",
    "            if(not isgood):\n",
    "                sat_banlist.append(satid)\n",
    "        newsats = sats[~isin(sats['id'], sat_banlist)]['id']\n",
    "        \n",
    "        sub_banlist = []\n",
    "        sub_scores = dm_scores[key]\n",
    "        for sub in subs:\n",
    "            subid = sub['id']\n",
    "            isgood = np.median(sub_scores[subid]%1) > 0.15\n",
    "            if(not isgood):\n",
    "                sub_banlist.append(subid)\n",
    "        newsubs = subs[~isin(subs['id'], sub_banlist)]['id']\n",
    "\n",
    "        newreal = np.copy(real)\n",
    "        for i in range(len(newreal)):\n",
    "            if(newreal[i]['state'] == 'pair'):\n",
    "                if(not newreal[i]['gid'] in newsats):\n",
    "                    newsats = np.append(newsats,newreal[i]['gid'])\n",
    "                if(not newreal[i]['hid'] in newsubs):\n",
    "                    newsubs = np.append(newsubs,newreal[i]['hid'])\n",
    "            elif(newreal[i]['state'] == 'dink'):\n",
    "                if(not newreal[i]['hid'] in newsubs):\n",
    "                    newreal[i]['state'] = 'ban'\n",
    "            elif(newreal[i]['state'] == 'orphan'):\n",
    "                if(not newreal[i]['gid'] in newsats):\n",
    "                    newreal[i]['state'] = 'ban'\n",
    "        print(f\"G{len(newsats)}/{len(sats)} | H{len(newsubs)}/{len(subs)} | R{np.sum(newreal['state']!='ban')}/{len(newreal)}\")\n",
    "        LG[key]['Final_sats'] = newsats\n",
    "        LG[key]['Final_subs'] = newsubs\n",
    "        LG[key]['Final_real'] = newreal\n",
    "    pklsave(LG, f\"{database}/00_LocalGroup_e.pickle\", overwrite=True)\n",
    "LG = pklload(f\"{database}/00_LocalGroup_e.pickle\")"
   ]
  },
  {
   "cell_type": "markdown",
   "metadata": {},
   "source": [
    "# Make Catalogs"
   ]
  },
  {
   "cell_type": "code",
   "execution_count": 15,
   "metadata": {},
   "outputs": [],
   "source": [
    "cols = [\n",
    "    \"Host\", \"Sat\", \"r50m\", \"r90m\", \"r50r\", \"r90r\", \n",
    "    \"SFR_mem\", \"u_mem\", \"g_mem\", \"r_mem\", \"i_mem\", \"z_mem\", \"metal_mem\", \"ager_mem\", \"t50_mem\", \"t90_mem\"] \n",
    "category = [\"r50m\", \"r90m\", \"r50r\", \"r90r\", \"rmax\"]\n",
    "\n",
    "\n",
    "for icate in category:\n",
    "    cols = cols+[f\"SFR_{icate}\", f\"u_{icate}\", f\"g_{icate}\", f\"r_{icate}\", f\"i_{icate}\", f\"z_{icate}\", f\"metal_{icate}\", f\"ager_{icate}\", f\"t50_{icate}\", f\"t90_{icate}\", f\"mgas_{icate}\", f\"mcold_{icate}\", f\"mdm_{icate}\"]\n",
    "\n",
    "def calc_rhalf(gal, part, weights, ratio=0.5):\n",
    "    dist = distance(gal, part)\n",
    "    argsort = np.argsort(dist)\n",
    "    sw = np.cumsum(weights[argsort])\n",
    "    sw /= sw[-1]\n",
    "    return dist[argsort][np.argmin(np.abs(sw-ratio))]\n",
    "\n",
    "def calc_rhalf_sorted(sorted_dist, sorted_weights, ratio=0.5):\n",
    "    sw = np.cumsum(sorted_weights)\n",
    "    sw /= sw[-1]\n",
    "    return sorted_dist[np.argmin(np.abs(sw-ratio))]\n",
    "\n",
    "def calc_tform(part, weights, ratio=0.5):\n",
    "    age = part['age','Gyr']\n",
    "    argsort = np.argsort(age)\n",
    "    sw = np.cumsum(weights[argsort])\n",
    "    sw /= sw[-1]\n",
    "    return age[argsort][np.argmin(np.abs(sw-ratio))]"
   ]
  },
  {
   "cell_type": "markdown",
   "metadata": {},
   "source": [
    "`make_gcatalog`"
   ]
  },
  {
   "cell_type": "code",
   "execution_count": 16,
   "metadata": {},
   "outputs": [
    {
     "name": "stdout",
     "output_type": "stream",
     "text": [
      "('nparts', 'id', 'timestep', 'level', 'host', 'hostsub', 'nbsub', 'nextsub', 'aexp', 'm', 'x', 'y', 'z', 'vx', 'vy', 'vz', 'Lx', 'Ly', 'Lz', 'r', 'a', 'b', 'c', 'ek', 'ep', 'et', 'spin', 'sigma', 'sigma_bulge', 'm_bulge', 'rvir', 'mvir', 'tvir', 'cvel', 'rho0', 'rc', 'halo_id', 'halo_nparts', 'halo_level', 'halo_host', 'halo_hostsub', 'halo_x', 'halo_y', 'halo_z', 'halo_vx', 'halo_vy', 'halo_vz', 'halo_mvir', 'halo_rvir', 'fcontam', 'dist', 'central', 'main', 'Host', 'r50m', 'r90m', 'r50r', 'r90r', 'SFR_mem', 'u_mem', 'g_mem', 'r_mem', 'i_mem', 'z_mem', 'metal_mem', 'ager_mem', 't50_mem', 't90_mem', 'SFR_r50m', 'u_r50m', 'g_r50m', 'r_r50m', 'i_r50m', 'z_r50m', 'metal_r50m', 'ager_r50m', 't50_r50m', 't90_r50m', 'mgas_r50m', 'mcold_r50m', 'mdm_r50m', 'SFR_r90m', 'u_r90m', 'g_r90m', 'r_r90m', 'i_r90m', 'z_r90m', 'metal_r90m', 'ager_r90m', 't50_r90m', 't90_r90m', 'mgas_r90m', 'mcold_r90m', 'mdm_r90m', 'SFR_r50r', 'u_r50r', 'g_r50r', 'r_r50r', 'i_r50r', 'z_r50r', 'metal_r50r', 'ager_r50r', 't50_r50r', 't90_r50r', 'mgas_r50r', 'mcold_r50r', 'mdm_r50r', 'SFR_r90r', 'u_r90r', 'g_r90r', 'r_r90r', 'i_r90r', 'z_r90r', 'metal_r90r', 'ager_r90r', 't50_r90r', 't90_r90r', 'mgas_r90r', 'mcold_r90r', 'mdm_r90r', 'SFR_rmax', 'u_rmax', 'g_rmax', 'r_rmax', 'i_rmax', 'z_rmax', 'metal_rmax', 'ager_rmax', 't50_rmax', 't90_rmax', 'mgas_rmax', 'mcold_rmax', 'mdm_rmax')\n"
     ]
    }
   ],
   "source": [
    "sat_dtype = nhLG[2]['sats'].dtype\n",
    "print( sat_dtype.names )"
   ]
  },
  {
   "cell_type": "code",
   "execution_count": 17,
   "metadata": {},
   "outputs": [],
   "source": [
    "def make_gcatalog(Hostkey:int, table:np.void, istar:uri.Particle, idm:uri.Particle, icell:uri.Cell) -> np.void:\n",
    "    global snap, sat_dtype\n",
    "    result = np.zeros(1, dtype=sat_dtype)[0]\n",
    "    for iname in result.dtype.names:\n",
    "        if(iname in table.dtype.names):\n",
    "            result[iname] = table[iname]\n",
    "    result['Host'] = Hostkey\n",
    "\n",
    "    satid = table['id']\n",
    "    pid = uhmi.HaloMaker.read_member_part(snap, satid, galaxy=True, simple=True).flatten()\n",
    "    ind = isin(np.abs(istar['id']), pid)\n",
    "    ibox = np.array([\n",
    "        [table['x']-table['r'], table['x']+table['r']],\n",
    "        [table['y']-table['r'], table['y']+table['r']],\n",
    "        [table['z']-table['r'], table['z']+table['r']]\n",
    "                     ])\n",
    "    assert np.sum(ind) == len(pid), f\"{np.sum(ind)}, {len(pid)}\\n{snap.box} <-> ({ibox})\"\n",
    "    mem_star = istar[ind]\n",
    "    mem_dist = distance(table, mem_star)\n",
    "    argsort = np.argsort(mem_dist)\n",
    "    mem_dist = mem_dist[argsort]\n",
    "    mem_mass = mem_star['m'][argsort]\n",
    "    mem_rband = measure_luminosity(mem_star, 'SDSS_r', model='cb07')[argsort]\n",
    "\n",
    "    result['r50m'] = calc_rhalf_sorted(mem_dist, mem_mass, ratio=0.5)\n",
    "    result['r90m'] = calc_rhalf_sorted(mem_dist, mem_mass, ratio=0.9)\n",
    "    result['r50r'] = calc_rhalf_sorted(mem_dist, mem_rband, ratio=0.5)\n",
    "    result['r90r'] = calc_rhalf_sorted(mem_dist, mem_rband, ratio=0.9)\n",
    "\n",
    "    ind = mem_star['age', 'Myr'] < 100\n",
    "    result['SFR_mem'] = np.sum(mem_star['m', 'Msol'][ind]) / 1e8\n",
    "    result['u_mem'] = measure_luminosity(mem_star, 'SDSS_u', model='cb07', total=True)\n",
    "    result['g_mem'] = measure_luminosity(mem_star, 'SDSS_g', model='cb07', total=True)\n",
    "    result['r_mem'] = measure_luminosity(mem_star, 'SDSS_r', model='cb07', total=True)\n",
    "    result['i_mem'] = measure_luminosity(mem_star, 'SDSS_i', model='cb07', total=True)\n",
    "    result['z_mem'] = measure_luminosity(mem_star, 'SDSS_z', model='cb07', total=True)\n",
    "    result['metal_mem'] = np.sum(mem_star['metal'] * mem_star['m']) / np.sum(mem_star['m'])\n",
    "    result['ager_mem'] = np.average(mem_star['age', 'Gyr'], weights=mem_rband)\n",
    "    result['t50_mem'] = calc_tform(mem_star, mem_rband, ratio=0.5)\n",
    "    result['t90_mem'] = calc_tform(mem_star, mem_rband, ratio=0.9)\n",
    "\n",
    "    radiis = [result['r50m'], result['r90m'], result['r50r'], result['r90r'], table['r']]\n",
    "    for radii, rname in zip(radiis, category):\n",
    "        cut_star = cut_sphere(istar, table['x'], table['y'], table['z'], radii)\n",
    "        rband = measure_luminosity(cut_star, 'SDSS_r', model='cb07')\n",
    "        result[f'SFR_{rname}'] = np.sum(cut_star['m', 'Msol'][cut_star['age', 'Myr'] < 100]) / 1e8\n",
    "        result[f'u_{rname}'] = measure_luminosity(cut_star, 'SDSS_u', model='cb07', total=True)\n",
    "        result[f'g_{rname}'] = measure_luminosity(cut_star, 'SDSS_g', model='cb07', total=True)\n",
    "        result[f'r_{rname}'] = measure_luminosity(cut_star, 'SDSS_r', model='cb07', total=True)\n",
    "        result[f'i_{rname}'] = measure_luminosity(cut_star, 'SDSS_i', model='cb07', total=True)\n",
    "        result[f'z_{rname}'] = measure_luminosity(cut_star, 'SDSS_z', model='cb07', total=True)\n",
    "        result[f'metal_{rname}'] = np.sum(cut_star['metal'] * cut_star['m']) / np.sum(cut_star['m'])\n",
    "        result[f'ager_{rname}'] = np.average(cut_star['age', 'Gyr'], weights=rband)\n",
    "        result[f't50_{rname}'] = calc_tform(cut_star, rband, ratio=0.5)\n",
    "        result[f't90_{rname}'] = calc_tform(cut_star, rband, ratio=0.9)\n",
    "        cut_gas = cut_sphere(icell, table['x'], table['y'], table['z'], radii)\n",
    "        cut_dm = cut_sphere(idm, table['x'], table['y'], table['z'], radii)\n",
    "        result[f'mgas_{rname}'] = np.sum(cut_gas['m', 'Msol'])\n",
    "        coldind = cut_gas['T', 'K'] < 1e4\n",
    "        result[f'mcold_{rname}'] = np.sum(cut_gas['m', 'Msol'][coldind])\n",
    "        result[f'mdm_{rname}'] = np.sum(cut_dm['m', 'Msol'])\n",
    "\n",
    "    return result"
   ]
  },
  {
   "cell_type": "code",
   "execution_count": 18,
   "metadata": {},
   "outputs": [
    {
     "name": "stdout",
     "output_type": "stream",
     "text": [
      "('nparts', 'id', 'timestep', 'level', 'host', 'hostsub', 'nbsub', 'nextsub', 'aexp', 'm', 'x', 'y', 'z', 'vx', 'vy', 'vz', 'Lx', 'Ly', 'Lz', 'r', 'a', 'b', 'c', 'ek', 'ep', 'et', 'spin', 'sigma', 'rvir', 'mvir', 'tvir', 'cvel', 'rho0', 'rc', 'mcontam', 'r10_mem', 'r50_mem', 'r90_mem', 'r10_vir', 'r50_vir', 'r90_vir', 'r10_max', 'r50_max', 'r90_max', 'sub', 'dink', 'mdm', 'mstar', 'mcold', 'mcell', 'Host', 'r200kpc', 'm200', 'r200', 'mdm_vir', 'mstar_vir', 'mcell_vir', 'mcold_vir')\n"
     ]
    }
   ],
   "source": [
    "sub_dtype = nhLG[2]['subs'].dtype\n",
    "print( sub_dtype.names )"
   ]
  },
  {
   "cell_type": "markdown",
   "metadata": {},
   "source": [
    "`make_hcatalog`"
   ]
  },
  {
   "cell_type": "code",
   "execution_count": 19,
   "metadata": {},
   "outputs": [],
   "source": [
    "def make_hcatalog(Hostkey:int, table:np.void, istar:uri.Particle, idm:uri.Particle, icell:uri.Cell) -> np.void:\n",
    "    global snap, sub_dtype, database\n",
    "    assert 'm200' in table.dtype.names\n",
    "    result = np.zeros(1, dtype=sub_dtype)[0]\n",
    "    for iname in result.dtype.names:\n",
    "        if(iname in table.dtype.names):\n",
    "            result[iname] = table[iname]\n",
    "\n",
    "    result['Host'] = Hostkey\n",
    "    result['mdm'] = np.sum(idm['m','Msol'])\n",
    "    result['mstar'] = np.sum(istar['m','Msol'])\n",
    "    result['mcell'] = np.sum(icell['m','Msol'])\n",
    "    mask = icell['T','K'] < 2e4\n",
    "    if(True in mask):\n",
    "        result['mcold'] = np.sum(icell['m','Msol'][mask])\n",
    "\n",
    "    all_dist = distance(table, idm); argsort = np.argsort(all_dist)\n",
    "    all_dist = all_dist[argsort]; all_mass = idm['m'][argsort]\n",
    "    memdm = uhmi.HaloMaker.read_member_part(snap, table['id'], galaxy=False, target_fields=['x','y','z','m'])\n",
    "    mem_dist = distance(table, memdm); argsort = np.argsort(mem_dist)\n",
    "    mem_dist = mem_dist[argsort]; mem_mass = memdm['m'][argsort]\n",
    "\n",
    "    result['r10_mem'] = calc_rhalf_sorted(mem_dist, mem_mass, ratio=0.1)\n",
    "    result['r50_mem'] = calc_rhalf_sorted(mem_dist, mem_mass, ratio=0.5)\n",
    "    result['r90_mem'] = calc_rhalf_sorted(mem_dist, mem_mass, ratio=0.9)\n",
    "    result['r10_max'] = calc_rhalf_sorted(all_dist, all_mass, ratio=0.1)\n",
    "    result['r50_max'] = calc_rhalf_sorted(all_dist, all_mass, ratio=0.5)\n",
    "    result['r90_max'] = calc_rhalf_sorted(all_dist, all_mass, ratio=0.9)\n",
    "    virdm, ind = cut_sphere(idm, table['x'], table['y'], table['z'], table['rvir'], return_index=True)\n",
    "    all_dist = all_dist[ind]; all_mass = idm['m'][ind]\n",
    "    result['r10_vir'] = calc_rhalf_sorted(all_dist, all_mass, ratio=0.1)\n",
    "    result['r50_vir'] = calc_rhalf_sorted(all_dist, all_mass, ratio=0.5)\n",
    "    result['r90_vir'] = calc_rhalf_sorted(all_dist, all_mass, ratio=0.9)\n",
    "    \n",
    "    return result"
   ]
  },
  {
   "cell_type": "markdown",
   "metadata": {},
   "source": [
    "`main routine`"
   ]
  },
  {
   "cell_type": "code",
   "execution_count": 20,
   "metadata": {},
   "outputs": [],
   "source": [
    "def box_in_box(sbox, lbox):\n",
    "    return (sbox[0,0] >= lbox[0,0]) & (sbox[0,1] <= lbox[0,1]) & (sbox[1,0] >= lbox[1,0]) & (sbox[1,1] <= lbox[1,1]) & (sbox[2,0] >= lbox[2,0]) & (sbox[2,1] <= lbox[2,1])"
   ]
  },
  {
   "cell_type": "code",
   "execution_count": 21,
   "metadata": {},
   "outputs": [],
   "source": [
    "if(not os.path.exists(f\"{database}/00_LocalGroup_f.pickle\")):\n",
    "    uri.timer.verbose=1\n",
    "    for key in LG.keys():\n",
    "        print(f\"[{key:04d}]\")\n",
    "        BGG = LG[key]['BGG']\n",
    "        oldsats = LG[key]['sats']\n",
    "        oldsubs = LG[key]['subs']\n",
    "        satids = LG[key]['Final_sats']\n",
    "        subids = LG[key]['Final_subs']\n",
    "        \n",
    "        newsats = np.zeros(len(satids), dtype=sat_dtype)\n",
    "        newsubs = np.zeros(len(subids), dtype=sub_dtype)\n",
    "        newreal = LG[key]['Final_real']\n",
    "\n",
    "        snap.box = np.array([[0,0],[0,0],[0,0]])\n",
    "\n",
    "        # Box check\n",
    "        gtmp = gals[satids-1]; htmp = nhals[subids-1]\n",
    "        x1 = min( np.min(gtmp['x'] - 1.1*gtmp['r']), np.min(htmp['x'] - 1.1*htmp['r']), BGG['x'] - 1.5*BGG['r200_code'] )\n",
    "        x2 = max( np.max(gtmp['x'] + 1.1*gtmp['r']), np.max(htmp['x'] + 1.1*htmp['r']), BGG['x'] + 1.5*BGG['r200_code'] )\n",
    "        y1 = min( np.min(gtmp['y'] - 1.1*gtmp['r']), np.min(htmp['y'] - 1.1*htmp['r']), BGG['y'] - 1.5*BGG['r200_code'] )\n",
    "        y2 = max( np.max(gtmp['y'] + 1.1*gtmp['r']), np.max(htmp['y'] + 1.1*htmp['r']), BGG['y'] + 1.5*BGG['r200_code'] )\n",
    "        z1 = min( np.min(gtmp['z'] - 1.1*gtmp['r']), np.min(htmp['z'] - 1.1*htmp['r']), BGG['z'] - 1.5*BGG['r200_code'] )\n",
    "        z2 = max( np.max(gtmp['z'] + 1.1*gtmp['r']), np.max(htmp['z'] + 1.1*htmp['r']), BGG['z'] + 1.5*BGG['r200_code'] )\n",
    "        sbox = np.array([[x1,x2],[y1,y2],[z1,z2]])\n",
    "\n",
    "        if(box_in_box(sbox, snap.box)):\n",
    "            print(\"Box check passed -> Shrink\")\n",
    "            LG[key]['box'] = sbox\n",
    "            star = pklload(f\"{database}/parts/nh2_star_{key:04d}.pickle\")\n",
    "            mask = (star['x'] >= sbox[0,0]) & (star['x'] <= sbox[0,1]) & (star['y'] >= sbox[1,0]) & (star['y'] <= sbox[1,1]) & (star['z'] >= sbox[2,0]) & (star['z'] <= sbox[2,1])\n",
    "            pklsave(star[mask], f\"{database}/parts/nh2_star_{key:04d}.pickle\", overwrite=True)\n",
    "            dm = pklload(f\"{database}/parts/nh2_dm_{key:04d}.pickle\")\n",
    "            mask = (dm['x'] >= sbox[0,0]) & (dm['x'] <= sbox[0,1]) & (dm['y'] >= sbox[1,0]) & (dm['y'] <= sbox[1,1]) & (dm['z'] >= sbox[2,0]) & (dm['z'] <= sbox[2,1])\n",
    "            pklsave(dm[mask], f\"{database}/parts/nh2_dm_{key:04d}.pickle\", overwrite=True)\n",
    "            cell = pklload(f\"{database}/parts/nh2_cell_{key:04d}.pickle\")\n",
    "            mask = (cell['x'] >= sbox[0,0]) & (cell['x'] <= sbox[0,1]) & (cell['y'] >= sbox[1,0]) & (cell['y'] <= sbox[1,1]) & (cell['z'] >= sbox[2,0]) & (cell['z'] <= sbox[2,1])\n",
    "            pklsave(cell[mask], f\"{database}/parts/nh2_cell_{key:04d}.pickle\", overwrite=True)\n",
    "        else:\n",
    "            print(\"Box check failed -> Recalc box\")\n",
    "            print(sbox)\n",
    "            print(snap.box)\n",
    "            snap.box = sbox; LG[key]['box']=sbox\n",
    "            print(\"Load particles\")\n",
    "            snap.get_part(nthread=32)\n",
    "            pklsave(snap.part['star'].table, f\"{database}/parts/nh2_star_{key:04d}.pickle\", overwrite=True)\n",
    "            pklsave(snap.part['dm'].table, f\"{database}/parts/nh2_dm_{key:04d}.pickle\", overwrite=True)\n",
    "            snap.part=None; snap.part_data=None; snap.cpulist_part=[]\n",
    "            print(\"Load cells\")\n",
    "            snap.get_cell(nthread=32)\n",
    "            pklsave(snap.cell.table, f\"{database}/parts/nh2_cell_{key:04d}.pickle\", overwrite=True)\n",
    "            snap.cell=None; snap.cell_data=None; snap.cpulist_cell=[]\n",
    "    uri.timer.verbose=0\n",
    "    pklsave(LG, f\"{database}/00_LocalGroup_f.pickle\", overwrite=True)\n",
    "LG = pklload(f\"{database}/00_LocalGroup_f.pickle\")"
   ]
  },
  {
   "cell_type": "code",
   "execution_count": 22,
   "metadata": {},
   "outputs": [
    {
     "data": {
      "text/plain": [
       "dtype([('nparts', '<i4'), ('id', '<i4'), ('timestep', '<i4'), ('level', '<i4'), ('host', '<i4'), ('hostsub', '<i4'), ('nbsub', '<i4'), ('nextsub', '<i4'), ('aexp', '<f8'), ('m', '<f8'), ('x', '<f8'), ('y', '<f8'), ('z', '<f8'), ('vx', '<f8'), ('vy', '<f8'), ('vz', '<f8'), ('Lx', '<f8'), ('Ly', '<f8'), ('Lz', '<f8'), ('r', '<f8'), ('a', '<f8'), ('b', '<f8'), ('c', '<f8'), ('ek', '<f8'), ('ep', '<f8'), ('et', '<f8'), ('spin', '<f8'), ('sigma', '<f8'), ('sigma_bulge', '<f8'), ('m_bulge', '<f8'), ('rvir', '<f8'), ('mvir', '<f8'), ('tvir', '<f8'), ('cvel', '<f8'), ('rho0', '<f8'), ('rc', '<f8'), ('halo_id', '<i4'), ('halo_nparts', '<i4'), ('halo_level', '<i4'), ('halo_host', '<i4'), ('halo_hostsub', '<i4'), ('halo_x', '<f8'), ('halo_y', '<f8'), ('halo_z', '<f8'), ('halo_vx', '<f8'), ('halo_vy', '<f8'), ('halo_vz', '<f8'), ('halo_mvir', '<f8'), ('halo_rvir', '<f8'), ('fcontam', '<f8'), ('dist', '<f8'), ('central', '?'), ('main', '?'), ('Host', '<i4'), ('r50m', '<f8'), ('r90m', '<f8'), ('r50r', '<f8'), ('r90r', '<f8'), ('SFR_mem', '<f8'), ('u_mem', '<f8'), ('g_mem', '<f8'), ('r_mem', '<f8'), ('i_mem', '<f8'), ('z_mem', '<f8'), ('metal_mem', '<f8'), ('ager_mem', '<f8'), ('t50_mem', '<f8'), ('t90_mem', '<f8'), ('SFR_r50m', '<f8'), ('u_r50m', '<f8'), ('g_r50m', '<f8'), ('r_r50m', '<f8'), ('i_r50m', '<f8'), ('z_r50m', '<f8'), ('metal_r50m', '<f8'), ('ager_r50m', '<f8'), ('t50_r50m', '<f8'), ('t90_r50m', '<f8'), ('mgas_r50m', '<f8'), ('mcold_r50m', '<f8'), ('mdm_r50m', '<f8'), ('SFR_r90m', '<f8'), ('u_r90m', '<f8'), ('g_r90m', '<f8'), ('r_r90m', '<f8'), ('i_r90m', '<f8'), ('z_r90m', '<f8'), ('metal_r90m', '<f8'), ('ager_r90m', '<f8'), ('t50_r90m', '<f8'), ('t90_r90m', '<f8'), ('mgas_r90m', '<f8'), ('mcold_r90m', '<f8'), ('mdm_r90m', '<f8'), ('SFR_r50r', '<f8'), ('u_r50r', '<f8'), ('g_r50r', '<f8'), ('r_r50r', '<f8'), ('i_r50r', '<f8'), ('z_r50r', '<f8'), ('metal_r50r', '<f8'), ('ager_r50r', '<f8'), ('t50_r50r', '<f8'), ('t90_r50r', '<f8'), ('mgas_r50r', '<f8'), ('mcold_r50r', '<f8'), ('mdm_r50r', '<f8'), ('SFR_r90r', '<f8'), ('u_r90r', '<f8'), ('g_r90r', '<f8'), ('r_r90r', '<f8'), ('i_r90r', '<f8'), ('z_r90r', '<f8'), ('metal_r90r', '<f8'), ('ager_r90r', '<f8'), ('t50_r90r', '<f8'), ('t90_r90r', '<f8'), ('mgas_r90r', '<f8'), ('mcold_r90r', '<f8'), ('mdm_r90r', '<f8'), ('SFR_rmax', '<f8'), ('u_rmax', '<f8'), ('g_rmax', '<f8'), ('r_rmax', '<f8'), ('i_rmax', '<f8'), ('z_rmax', '<f8'), ('metal_rmax', '<f8'), ('ager_rmax', '<f8'), ('t50_rmax', '<f8'), ('t90_rmax', '<f8'), ('mgas_rmax', '<f8'), ('mcold_rmax', '<f8'), ('mdm_rmax', '<f8')])"
      ]
     },
     "execution_count": 22,
     "metadata": {},
     "output_type": "execute_result"
    }
   ],
   "source": [
    "sat_dtype"
   ]
  },
  {
   "cell_type": "code",
   "execution_count": 23,
   "metadata": {},
   "outputs": [],
   "source": [
    "if(not os.path.exists(f\"{database}/00_LocalGroup_g.pickle\")):\n",
    "    for key in LG.keys():\n",
    "        print(f\"[{key:04d}]\")\n",
    "        BGG = LG[key]['BGG']\n",
    "        oldsats = LG[key]['sats']\n",
    "        oldsubs = LG[key]['subs']\n",
    "        satids = LG[key]['Final_sats']\n",
    "        subids = LG[key]['Final_subs']\n",
    "        \n",
    "        newsats = np.zeros(len(satids), dtype=sat_dtype)\n",
    "        newsubs = np.zeros(len(subids), dtype=sub_dtype)\n",
    "        newreal = LG[key]['Final_real']\n",
    "\n",
    "        snap.box = LG[key]['box']\n",
    "        star = uri.Particle(pklload(f\"{database}/parts/nh2_star_{key:04d}.pickle\"), snap)\n",
    "        dm = uri.Particle(pklload(f\"{database}/parts/nh2_dm_{key:04d}.pickle\"), snap)\n",
    "        cell = uri.Cell(pklload(f\"{database}/parts/nh2_cell_{key:04d}.pickle\"), snap)\n",
    "\n",
    "        # Box check\n",
    "        gtmp = gals[satids-1]; htmp = nhals[subids-1]\n",
    "        x1 = min( np.min(gtmp['x'] - 1.1*gtmp['r']), np.min(htmp['x'] - 1.1*htmp['r']), BGG['x'] - 1.5*BGG['r200_code'] )\n",
    "        x2 = max( np.max(gtmp['x'] + 1.1*gtmp['r']), np.max(htmp['x'] + 1.1*htmp['r']), BGG['x'] + 1.5*BGG['r200_code'] )\n",
    "        y1 = min( np.min(gtmp['y'] - 1.1*gtmp['r']), np.min(htmp['y'] - 1.1*htmp['r']), BGG['y'] - 1.5*BGG['r200_code'] )\n",
    "        y2 = max( np.max(gtmp['y'] + 1.1*gtmp['r']), np.max(htmp['y'] + 1.1*htmp['r']), BGG['y'] + 1.5*BGG['r200_code'] )\n",
    "        z1 = min( np.min(gtmp['z'] - 1.1*gtmp['r']), np.min(htmp['z'] - 1.1*htmp['r']), BGG['z'] - 1.5*BGG['r200_code'] )\n",
    "        z2 = max( np.max(gtmp['z'] + 1.1*gtmp['r']), np.max(htmp['z'] + 1.1*htmp['r']), BGG['z'] + 1.5*BGG['r200_code'] )\n",
    "        sbox = np.array([[x1,x2],[y1,y2],[z1,z2]])\n",
    "        if(box_in_box(sbox, snap.box)):\n",
    "            print(\"Box check passed\")\n",
    "        else:\n",
    "            print(\"Box check failed, recalc box\")\n",
    "            print(sbox)\n",
    "            print(snap.box)\n",
    "            raise ValueError(\"Box check failed\")\n",
    "\n",
    "        for i, satid in tqdm( enumerate(satids), total=len(satids), desc=f\"G[{key:04}]\"):\n",
    "            # if(satid in oldsats['id']): newsats[i] = oldsats[oldsats['id'] == satid][0]\n",
    "            # else:\n",
    "            sat = gals[satid-1]\n",
    "            istar = cut_sphere(star, sat['x'], sat['y'], sat['z'], 1.5*sat['r'])\n",
    "            idm = cut_sphere(dm, sat['x'], sat['y'], sat['z'], 1.5*sat['r'])\n",
    "            icell = cut_sphere(cell, sat['x'], sat['y'], sat['z'], 1.5*sat['r'])\n",
    "\n",
    "            newcat = make_gcatalog(key, sat, istar, idm, icell)\n",
    "            newsats[i] = newcat\n",
    "        \n",
    "        for i, subid in tqdm( enumerate(subids), total=len(subids), desc=f\"H[{key:04}]\" ):\n",
    "            sub = nhals[subid-1]\n",
    "            # if(subid in oldsubs['id']):\n",
    "            #     old = oldsubs[oldsubs['id'] == subid][0]\n",
    "            #     for iname in newsubs.dtype.names:\n",
    "            #         if(iname in old.dtype.names): newsubs[i][iname] = old[iname]\n",
    "            #         elif(iname in sub.dtype.names): newsubs[i][iname] = sub[iname]\n",
    "            #         else: raise TypeError(f\"`{iname}` is not in sub dtype\")\n",
    "            # else:\n",
    "            fname = f\"{database}/parts/insub/nh2_dm_{key:04d}_{sub['id']:07d}.pickle\"\n",
    "            if(os.path.exists(fname)): idm = uri.Particle(pklload(fname), snap)\n",
    "            else:\n",
    "                idm = cut_sphere(dm, sub['x'], sub['y'], sub['z'], sub['r'])\n",
    "                pklsave(idm.table, fname, overwrite=True)\n",
    "            fname = f\"{database}/parts/insub/nh2_star_{key:04d}_{sub['id']:07d}.pickle\"\n",
    "            if(os.path.exists(fname)): istar = uri.Particle(pklload(fname), snap)\n",
    "            else:\n",
    "                istar = cut_sphere(star, sub['x'], sub['y'], sub['z'], sub['r'])\n",
    "                pklsave(istar.table, fname, overwrite=True)\n",
    "            fname = f\"{database}/parts/insub/nh2_cell_{key:04d}_{sub['id']:07d}.pickle\"\n",
    "            if(os.path.exists(fname)): icell = uri.Cell(pklload(fname), snap)\n",
    "            else:\n",
    "                icell = cut_sphere(cell, sub['x'], sub['y'], sub['z'], sub['r'])\n",
    "                pklsave(icell.table, fname, overwrite=True)\n",
    "\n",
    "            newsub = make_hcatalog(key, sub, istar, idm, icell)\n",
    "            newsubs[i] = newsub\n",
    "        \n",
    "        LG[key]['sats'] = newsats\n",
    "        LG[key]['subs'] = newsubs\n",
    "        LG[key]['real'] = newreal[newreal['state'] != 'ban']\n",
    "    pklsave(LG, f\"{database}/00_LocalGroup_g.pickle\", overwrite=True)\n",
    "LG = pklload(f\"{database}/00_LocalGroup_g.pickle\")"
   ]
  },
  {
   "cell_type": "markdown",
   "metadata": {},
   "source": [
    "# Find UDG"
   ]
  },
  {
   "cell_type": "code",
   "execution_count": 24,
   "metadata": {},
   "outputs": [],
   "source": [
    "def make_udg(host:int, istar_vir:uri.Particle, idm_vir:uri.Particle, icell_vir:uri.Cell) -> np.void:\n",
    "    global snap, sat_dtype\n",
    "    result = np.zeros(1, dtype=sat_dtype)[0]\n",
    "    names = ['timestep', 'aexp', 'Host']\n",
    "    for name in names:\n",
    "        result[name] = host[name]\n",
    "    result['id'] = -host['id']\n",
    "    result['fcontam'] = host['mcontam']/host['m']\n",
    "    result['nparts'] = len(istar_vir)\n",
    "    names = ['halo_id', 'halo_nparts', 'halo_level', 'halo_host', 'halo_hostsub', 'halo_x', 'halo_y', 'halo_z', 'halo_vx', 'halo_vy', 'halo_vz', 'halo_mvir', 'halo_rvir']\n",
    "    for name in names:\n",
    "        result[name] = host[name[5:]]\n",
    "    # Default Info\n",
    "    result['m'] = np.sum(istar_vir['m', 'Msol'])\n",
    "    result['x'] = np.average(istar_vir['x'], weights=istar_vir['m'])\n",
    "    result['y'] = np.average(istar_vir['y'], weights=istar_vir['m'])\n",
    "    result['z'] = np.average(istar_vir['z'], weights=istar_vir['m'])\n",
    "    result['vx'] = np.average(istar_vir['vx','km/s'], weights=istar_vir['m'])\n",
    "    result['vy'] = np.average(istar_vir['vy','km/s'], weights=istar_vir['m'])\n",
    "    result['vz'] = np.average(istar_vir['vz','km/s'], weights=istar_vir['m'])\n",
    "    result['dist'] = distance(result, host)\n",
    "    # Calculate the angular momentum\n",
    "    dx = istar_vir['x'] - result['x']; dx /= snap.unit['Mpc']\n",
    "    dy = istar_vir['y'] - result['y']; dy /= snap.unit['Mpc']\n",
    "    dz = istar_vir['z'] - result['z']; dz /= snap.unit['Mpc']\n",
    "    dpx = (istar_vir['vx','km/s'] - result['vx'])*istar_vir['m','Msol']\n",
    "    dpy = (istar_vir['vy','km/s'] - result['vy'])*istar_vir['m','Msol']\n",
    "    dpz = (istar_vir['vz','km/s'] - result['vz'])*istar_vir['m','Msol']\n",
    "    result['Lx'] = np.sum(dpy*dz - dpz*dy)/1e11 # in 10**11 Msun * km/s * Mpc\n",
    "    result['Ly'] = np.sum(dpz*dx - dpx*dz)/1e11\n",
    "    result['Lz'] = np.sum(dpx*dy - dpy*dx)/1e11\n",
    "    result['r'] = np.max(np.sqrt(dx**2 + dy**2 + dz**2)) * snap.unit['Mpc']\n",
    "    # Value Added\n",
    "    mem_dist = distance(result, istar_vir)\n",
    "    argsort = np.argsort(mem_dist)\n",
    "    mem_dist = mem_dist[argsort]\n",
    "    mem_mass = istar_vir['m'][argsort]\n",
    "    mem_rband = measure_luminosity(istar_vir, 'SDSS_r', model='cb07')[argsort]\n",
    "    result['r50m'] = calc_rhalf_sorted(mem_dist, mem_mass, ratio=0.5)\n",
    "    result['r90m'] = calc_rhalf_sorted(mem_dist, mem_mass, ratio=0.9)\n",
    "    result['r50r'] = calc_rhalf_sorted(mem_dist, mem_rband, ratio=0.5)\n",
    "    result['r90r'] = calc_rhalf_sorted(mem_dist, mem_rband, ratio=0.9)\n",
    "    # Use member particles\n",
    "    ind = istar_vir['age', 'Myr'] < 100\n",
    "    result['SFR_mem'] = np.sum(istar_vir['m', 'Msol'][ind]) / 1e8\n",
    "    result['u_mem'] = measure_luminosity(istar_vir, 'SDSS_u', model='cb07', total=True)\n",
    "    result['g_mem'] = measure_luminosity(istar_vir, 'SDSS_g', model='cb07', total=True)\n",
    "    result['r_mem'] = measure_luminosity(istar_vir, 'SDSS_r', model='cb07', total=True)\n",
    "    result['i_mem'] = measure_luminosity(istar_vir, 'SDSS_i', model='cb07', total=True)\n",
    "    result['z_mem'] = measure_luminosity(istar_vir, 'SDSS_z', model='cb07', total=True)\n",
    "    result['metal_mem'] = np.sum(istar_vir['metal'] * istar_vir['m']) / np.sum(istar_vir['m'])\n",
    "    rband = measure_luminosity(istar_vir, 'SDSS_r', model='cb07')\n",
    "    result['ager_mem'] = np.average(istar_vir['age', 'Gyr'], weights=rband)\n",
    "    result['t50_mem'] = calc_tform(istar_vir, rband, ratio=0.5)\n",
    "    result['t90_mem'] = calc_tform(istar_vir, rband, ratio=0.9)\n",
    "    radiis = [result['r50m'], result['r90m'], result['r50r'], result['r90r'], result['r']]\n",
    "    for radii, rname in zip(radiis, category):\n",
    "        cut_star, cutind = cut_sphere(istar_vir, result['x'], result['y'], result['z'], radii, return_index=True)\n",
    "        rband = measure_luminosity(cut_star, 'SDSS_r', model='cb07')\n",
    "        result[f'SFR_{rname}'] = np.sum(cut_star['m', 'Msol'][cut_star['age', 'Myr'] < 100]) / 1e8\n",
    "        result[f'u_{rname}'] = measure_luminosity(cut_star, 'SDSS_u', model='cb07', total=True)\n",
    "        result[f'g_{rname}'] = measure_luminosity(cut_star, 'SDSS_g', model='cb07', total=True)\n",
    "        result[f'r_{rname}'] = measure_luminosity(cut_star, 'SDSS_r', model='cb07', total=True)\n",
    "        result[f'i_{rname}'] = measure_luminosity(cut_star, 'SDSS_i', model='cb07', total=True)\n",
    "        result[f'z_{rname}'] = measure_luminosity(cut_star, 'SDSS_z', model='cb07', total=True)\n",
    "        result[f'metal_{rname}'] = np.sum(cut_star['metal'] * cut_star['m']) / np.sum(cut_star['m'])\n",
    "        result[f'ager_{rname}'] = np.average(cut_star['age', 'Gyr'], weights=rband)\n",
    "        result[f't50_{rname}'] = calc_tform(cut_star, rband, ratio=0.5)\n",
    "        result[f't90_{rname}'] = calc_tform(cut_star, rband, ratio=0.9)\n",
    "        cut_gas = cut_sphere(icell, result['x'], result['y'], result['z'], radii)\n",
    "        cut_dm = cut_sphere(idm, result['x'], result['y'], result['z'], radii)\n",
    "        result[f'mgas_{rname}'] = np.sum(cut_gas['m', 'Msol'])\n",
    "        coldind = cut_gas['T', 'K'] < 1e4\n",
    "        result[f'mcold_{rname}'] = np.sum(cut_gas['m', 'Msol'][coldind])\n",
    "        result[f'mdm_{rname}'] = np.sum(cut_dm['m', 'Msol'])\n",
    "\n",
    "    return result"
   ]
  },
  {
   "cell_type": "code",
   "execution_count": 27,
   "metadata": {},
   "outputs": [],
   "source": [
    "if(not os.path.exists(f\"{database}/00_LocalGroup_h.pickle\")):\n",
    "    for key in LG.keys():\n",
    "        print(f\"[{key:04d}]\")\n",
    "        BGG = LG[key]['BGG']\n",
    "        sats = LG[key]['sats']\n",
    "        subs = LG[key]['subs']\n",
    "        real = LG[key]['real']\n",
    "        ind = subs['mstar'] <= 1e3; subs[ind]['mstar'] = 0\n",
    "        ind = subs['mcell'] <= 1e3; subs[ind]['mcell'] = 0\n",
    "        ind = subs['mcold'] <= 1e3; subs[ind]['mcold'] = 0\n",
    "        LG[key]['subs'] = subs\n",
    "        LG[key]['UDG'] = []\n",
    "        igals = gals[~isin(gals['id'], sats['id'])]\n",
    "        igals = igals[igals['id'] != BGG['id']]\n",
    "\n",
    "\n",
    "        dinks = real[real['gid'] < 0]['hid']\n",
    "\n",
    "        star = uri.Particle(pklload(f\"{database}/parts/nh2_star_{key:04d}.pickle\"), snap)\n",
    "        dm = uri.Particle(pklload(f\"{database}/parts/nh2_dm_{key:04d}.pickle\"), snap)\n",
    "        cell = uri.Cell(pklload(f\"{database}/parts/nh2_cell_{key:04d}.pickle\"), snap)\n",
    "\n",
    "        newsats = np.copy(sats); newreal = np.copy(real)\n",
    "        for i,dink in enumerate(dinks):\n",
    "            sub = subs[subs['id'] == dink][0]\n",
    "            if(sub['mstar'] < 6e5): continue\n",
    "\n",
    "            insides1 = sphere_touch_sphere(sub, igals, r1='rvir', factor=0.75)\n",
    "            insides2 = igals['r'] < 2*sub['rvir']\n",
    "            insides3 = ~isin(igals['id'], newreal['gid'])\n",
    "            insides = insides1&insides2&insides3\n",
    "            gcands = igals[insides]\n",
    "            if(len(gcands)==0):\n",
    "                # Truly No gals in this sub\n",
    "                if(len(star)>300):\n",
    "                    LG[key]['UDG'].append(dink)   # <-------------- Find UDG candidates!\n",
    "                continue\n",
    "            elif(len(gcands)==1):\n",
    "                # One son sat in this sub\n",
    "                gcand = gcands[0]\n",
    "                print(f\"\\t[{sub['id']}] 1 son\")\n",
    "            else:\n",
    "                # Multiple son sats in this sub\n",
    "                dist = distance(gcands, sub)\n",
    "                argmin = np.argmin(dist)\n",
    "                gcand = gcands[argmin]\n",
    "                print(f\"\\t[{sub['id']}] {len(gcands)} sons\")\n",
    "\n",
    "            # If you reach here, then you must find `gcand`\n",
    "            if(gcand['id'] in real['gid']):\n",
    "                # Connect `sub` and `gcand`\n",
    "                assert gcand['id'] in sats['id']\n",
    "                hwhere = np.where(newreal['hid'] == sub['id'])[0][0]\n",
    "                gwhere = np.where(newreal['gid'] == gcand['id'])[0][0]\n",
    "                newreal[hwhere]['gid'] = gcand['id']\n",
    "                newreal[hwhere]['state'] = 'pair'\n",
    "                newreal[gwhere]['state'] = 'ban'\n",
    "            else:\n",
    "                # Make new `gcand`\n",
    "                istar = cut_sphere(star, gcand['x'], gcand['y'], gcand['z'], 1.5*gcand['r'])\n",
    "                idm = cut_sphere(dm, gcand['x'], gcand['y'], gcand['z'], 1.5*gcand['r'])\n",
    "                icell = cut_sphere(cell, gcand['x'], gcand['y'], gcand['z'], 1.5*gcand['r'])\n",
    "                newcat = make_gcatalog(key, gcand, istar, idm, icell)\n",
    "                newsats = np.append(newsats, newcat)\n",
    "\n",
    "                hwhere = np.where(newreal['hid'] == sub['id'])[0][0]\n",
    "                newreal[hwhere]['gid'] = gcand['id']\n",
    "                newreal[hwhere]['state'] = 'pair'\n",
    "\n",
    "        if(len(LG[key]['UDG']) > 0):\n",
    "            for udghostid in LG[key]['UDG']:\n",
    "                udghost = subs[subs['id'] == udghostid][0]\n",
    "\n",
    "                istar_vir = cut_sphere(star, udghost['x'], udghost['y'], udghost['z'], udghost['rvir'])\n",
    "                if(len(istar_vir)>=100):\n",
    "                    idm_vir = cut_sphere(dm, udghost['x'], udghost['y'], udghost['z'], udghost['rvir'])\n",
    "                    icell_vir = cut_sphere(cell, udghost['x'], udghost['y'], udghost['z'], udghost['rvir'])\n",
    "                    udg = make_udg(udghost, istar_vir, idm_vir, icell_vir)\n",
    "                    \n",
    "                    newsats = np.append(newsats, udg)\n",
    "                    hwhere = np.where(newreal['hid'] == udghost['id'])[0][0]\n",
    "                    newreal[hwhere]['gid'] = udg['id']\n",
    "                    newreal[hwhere]['state'] = 'upair'\n",
    "        \n",
    "        LG[key]['sats'] = newsats\n",
    "        LG[key]['real'] = newreal[newreal['state'] != 'ban']\n",
    "    pklsave(LG, f\"{database}/00_LocalGroup_h.pickle\", overwrite=True)\n",
    "LG = pklload(f\"{database}/00_LocalGroup_h.pickle\")"
   ]
  },
  {
   "cell_type": "code",
   "execution_count": null,
   "metadata": {},
   "outputs": [],
   "source": [
    "for key in LG.keys():\n",
    "    LG[key]['isLG'] = True\n",
    "pklsave(LG, f\"{database}/00_LocalGroup_h.pickle\", overwrite=True)"
   ]
  },
  {
   "cell_type": "markdown",
   "metadata": {},
   "source": [
    "omitted"
   ]
  },
  {
   "cell_type": "code",
   "execution_count": 32,
   "metadata": {},
   "outputs": [
    {
     "name": "stdout",
     "output_type": "stream",
     "text": [
      "[0002]\n"
     ]
    },
    {
     "name": "stderr",
     "output_type": "stream",
     "text": [
      "100%|██████████| 105/105 [05:26<00:00,  3.11s/it]\n"
     ]
    },
    {
     "name": "stdout",
     "output_type": "stream",
     "text": [
      "[0012]\n"
     ]
    },
    {
     "name": "stderr",
     "output_type": "stream",
     "text": [
      "100%|██████████| 60/60 [01:50<00:00,  1.84s/it]\n"
     ]
    },
    {
     "name": "stdout",
     "output_type": "stream",
     "text": [
      "[0045]\n"
     ]
    },
    {
     "name": "stderr",
     "output_type": "stream",
     "text": [
      "100%|██████████| 104/104 [05:19<00:00,  3.07s/it]\n"
     ]
    },
    {
     "name": "stdout",
     "output_type": "stream",
     "text": [
      "[0014]\n"
     ]
    },
    {
     "name": "stderr",
     "output_type": "stream",
     "text": [
      "100%|██████████| 117/117 [06:15<00:00,  3.21s/it]\n"
     ]
    },
    {
     "name": "stdout",
     "output_type": "stream",
     "text": [
      "[0003]\n"
     ]
    },
    {
     "name": "stderr",
     "output_type": "stream",
     "text": [
      "100%|██████████| 169/169 [13:52<00:00,  4.93s/it]\n"
     ]
    },
    {
     "name": "stdout",
     "output_type": "stream",
     "text": [
      "[0019]\n"
     ]
    },
    {
     "name": "stderr",
     "output_type": "stream",
     "text": [
      "100%|██████████| 54/54 [01:41<00:00,  1.88s/it]\n"
     ]
    },
    {
     "name": "stdout",
     "output_type": "stream",
     "text": [
      "[0018]\n"
     ]
    },
    {
     "name": "stderr",
     "output_type": "stream",
     "text": [
      "100%|██████████| 206/206 [21:06<00:00,  6.15s/it]\n"
     ]
    },
    {
     "name": "stdout",
     "output_type": "stream",
     "text": [
      "[0025]\n"
     ]
    },
    {
     "name": "stderr",
     "output_type": "stream",
     "text": [
      "100%|██████████| 31/31 [00:41<00:00,  1.34s/it]\n"
     ]
    },
    {
     "name": "stdout",
     "output_type": "stream",
     "text": [
      "[0037]\n"
     ]
    },
    {
     "name": "stderr",
     "output_type": "stream",
     "text": [
      "100%|██████████| 185/185 [12:14<00:00,  3.97s/it]\n"
     ]
    },
    {
     "name": "stdout",
     "output_type": "stream",
     "text": [
      "[0131]\n"
     ]
    },
    {
     "name": "stderr",
     "output_type": "stream",
     "text": [
      "100%|██████████| 110/110 [03:57<00:00,  2.16s/it]\n"
     ]
    },
    {
     "name": "stdout",
     "output_type": "stream",
     "text": [
      "[0143]\n"
     ]
    },
    {
     "name": "stderr",
     "output_type": "stream",
     "text": [
      "100%|██████████| 23/23 [00:30<00:00,  1.32s/it]\n"
     ]
    },
    {
     "name": "stdout",
     "output_type": "stream",
     "text": [
      "[0089]\n"
     ]
    },
    {
     "name": "stderr",
     "output_type": "stream",
     "text": [
      "100%|██████████| 34/34 [00:36<00:00,  1.08s/it]\n"
     ]
    },
    {
     "name": "stdout",
     "output_type": "stream",
     "text": [
      "[0010]\n"
     ]
    },
    {
     "name": "stderr",
     "output_type": "stream",
     "text": [
      "100%|██████████| 44/44 [01:45<00:00,  2.39s/it]\n"
     ]
    }
   ],
   "source": [
    "if(not os.path.exists(f\"{database}/00_LocalGroup_i.pickle\")):\n",
    "    for key in LG.keys():\n",
    "        print(f\"[{key:04d}]\")\n",
    "        BGG = LG[key]['BGG']\n",
    "        sats = LG[key]['sats']\n",
    "        subs = LG[key]['subs']\n",
    "        real = LG[key]['real']\n",
    "\n",
    "        newsubs = np.copy(subs)\n",
    "        for i, sub in tqdm( enumerate(subs), total=len(subs) ):\n",
    "            table = uri.Particle(pklload(f\"{database}/parts/nh2_star_{key:04d}.pickle\"), snap)\n",
    "            newsubs['mstar'][i] = np.sum(table['m', 'Msol'])\n",
    "            table = cut_sphere(table, sub['x'], sub['y'], sub['z'], sub['rvir'])\n",
    "            newsubs['mstar_vir'][i] = np.sum(table['m', 'Msol'])\n",
    "            table = uri.Particle(pklload(f\"{database}/parts/nh2_dm_{key:04d}.pickle\"), snap)\n",
    "            newsubs['mdm'][i] = np.sum(table['m', 'Msol'])\n",
    "            table = cut_sphere(table, sub['x'], sub['y'], sub['z'], sub['rvir'])\n",
    "            newsubs['mdm_vir'][i] = np.sum(table['m', 'Msol'])\n",
    "            table = uri.Cell(pklload(f\"{database}/parts/nh2_cell_{key:04d}.pickle\"), snap)\n",
    "            coldind = table['T', 'K'] < 1e4\n",
    "            newsubs['mcell'][i] = np.sum(table['m', 'Msol'])\n",
    "            newsubs['mcold'][i] = np.sum(table['m', 'Msol'][coldind])\n",
    "            table = cut_sphere(table, sub['x'], sub['y'], sub['z'], sub['rvir'])\n",
    "            coldind = table['T', 'K'] < 1e4\n",
    "            newsubs['mcell_vir'][i] = np.sum(table['m', 'Msol'])\n",
    "            newsubs['mcold_vir'][i] = np.sum(table['m', 'Msol'][coldind])\n",
    "        LG[key]['subs'] = newsubs\n",
    "    pklsave(LG, f\"{database}/00_LocalGroup_i.pickle\", overwrite=True)\n",
    "LG = pklload(f\"{database}/00_LocalGroup_i.pickle\")\n"
   ]
  },
  {
   "cell_type": "code",
   "execution_count": 35,
   "metadata": {},
   "outputs": [
    {
     "data": {
      "text/plain": [
       "array([3.86698770e+07, 5.31431972e+06, 3.93157634e+07, 3.01177428e+06,\n",
       "       7.39444097e+06, 6.60327368e+06, 1.22449225e+07, 2.21879632e+07,\n",
       "       4.57094962e+07, 9.82038388e+06, 1.26206004e+09, 1.30789165e+06,\n",
       "       9.65774746e+07, 1.40784166e+08, 1.44303556e+07, 1.58787083e+07,\n",
       "       6.52869425e+06, 1.16538072e+07, 3.86325489e+06, 9.94360865e+07,\n",
       "       1.30499925e+07, 3.84041721e+06, 2.26281050e+07, 1.23328489e+07,\n",
       "       8.38649924e+06, 8.45551258e+06, 1.66030346e+08, 2.98623362e+08,\n",
       "       9.59513927e+07, 8.10555423e+06, 3.00924604e+06, 7.48251640e+06,\n",
       "       3.34839211e+06, 1.73517577e+07, 1.12869099e+06, 5.38454991e+09,\n",
       "       1.00382929e+10, 1.67524782e+06, 1.61856348e+06, 3.49068579e+07,\n",
       "       2.18217068e+05, 1.59949868e+07, 2.09172968e+06, 1.30053628e+07])"
      ]
     },
     "execution_count": 35,
     "metadata": {},
     "output_type": "execute_result"
    }
   ],
   "source": [
    "LG[key]['subs']['mcell_vir']"
   ]
  },
  {
   "cell_type": "code",
   "execution_count": 30,
   "metadata": {},
   "outputs": [
    {
     "data": {
      "text/plain": [
       "dtype([('nparts', '<i4'), ('id', '<i4'), ('timestep', '<i4'), ('level', '<i4'), ('host', '<i4'), ('hostsub', '<i4'), ('nbsub', '<i4'), ('nextsub', '<i4'), ('aexp', '<f8'), ('m', '<f8'), ('x', '<f8'), ('y', '<f8'), ('z', '<f8'), ('vx', '<f8'), ('vy', '<f8'), ('vz', '<f8'), ('Lx', '<f8'), ('Ly', '<f8'), ('Lz', '<f8'), ('r', '<f8'), ('a', '<f8'), ('b', '<f8'), ('c', '<f8'), ('ek', '<f8'), ('ep', '<f8'), ('et', '<f8'), ('spin', '<f8'), ('sigma', '<f8'), ('rvir', '<f8'), ('mvir', '<f8'), ('tvir', '<f8'), ('cvel', '<f8'), ('rho0', '<f8'), ('rc', '<f8'), ('mcontam', '<f8'), ('r10_mem', '<f8'), ('r50_mem', '<f8'), ('r90_mem', '<f8'), ('r10_vir', '<f8'), ('r50_vir', '<f8'), ('r90_vir', '<f8'), ('r10_max', '<f8'), ('r50_max', '<f8'), ('r90_max', '<f8'), ('sub', '<i8'), ('dink', '?'), ('mdm', '<f8'), ('mstar', '<f8'), ('mcold', '<f8'), ('mcell', '<f8'), ('Host', '<i4'), ('r200kpc', '<f8'), ('m200', '<f8'), ('r200', '<f8'), ('mdm_vir', '<f8'), ('mstar_vir', '<f8'), ('mcell_vir', '<f8'), ('mcold_vir', '<f8')])"
      ]
     },
     "execution_count": 30,
     "metadata": {},
     "output_type": "execute_result"
    }
   ],
   "source": [
    "LG[2]['subs'].dtype"
   ]
  },
  {
   "cell_type": "code",
   "execution_count": null,
   "metadata": {},
   "outputs": [],
   "source": []
  },
  {
   "cell_type": "markdown",
   "metadata": {},
   "source": [
    "---"
   ]
  },
  {
   "cell_type": "code",
   "execution_count": 16,
   "metadata": {},
   "outputs": [
    {
     "ename": "ValueError",
     "evalue": "stop!",
     "output_type": "error",
     "traceback": [
      "\u001b[0;31m---------------------------------------------------------------------------\u001b[0m",
      "\u001b[0;31mValueError\u001b[0m                                Traceback (most recent call last)",
      "\u001b[1;32m/home/jeon/MissingSat/NH2/00_realsubs.ipynb Cell 18\u001b[0m line \u001b[0;36m<cell line: 1>\u001b[0;34m()\u001b[0m\n\u001b[0;32m----> <a href='vscode-notebook-cell://ssh-remote%2B7b22686f73744e616d65223a22474336227d/home/jeon/MissingSat/NH2/00_realsubs.ipynb#X35sdnNjb2RlLXJlbW90ZQ%3D%3D?line=0'>1</a>\u001b[0m stop()\n",
      "File \u001b[0;32m~/ICLwork/icl_tool.py:38\u001b[0m, in \u001b[0;36mstop\u001b[0;34m()\u001b[0m\n\u001b[1;32m     35\u001b[0m \u001b[39mdef\u001b[39;00m \u001b[39mcheck_unique\u001b[39m(arr):\n\u001b[1;32m     36\u001b[0m     \u001b[39massert\u001b[39;00m \u001b[39mlen\u001b[39m(arr)\u001b[39m==\u001b[39m\u001b[39mlen\u001b[39m(np\u001b[39m.\u001b[39munique(arr))\n\u001b[0;32m---> 38\u001b[0m \u001b[39mdef\u001b[39;00m \u001b[39mstop\u001b[39m(): \u001b[39mraise\u001b[39;00m \u001b[39mValueError\u001b[39;00m(\u001b[39m\"\u001b[39m\u001b[39mstop!\u001b[39m\u001b[39m\"\u001b[39m)\n\u001b[1;32m     39\u001b[0m \u001b[39mdef\u001b[39;00m \u001b[39mgethalo\u001b[39m(iid, ytree, complete\u001b[39m=\u001b[39m\u001b[39mTrue\u001b[39;00m):\n\u001b[1;32m     40\u001b[0m     temp \u001b[39m=\u001b[39m ytree[ytree[\u001b[39m'\u001b[39m\u001b[39mtimestep\u001b[39m\u001b[39m'\u001b[39m] \u001b[39m==\u001b[39m iid\u001b[39m/\u001b[39m\u001b[39m/\u001b[39m\u001b[39m100000\u001b[39m]\n",
      "\u001b[0;31mValueError\u001b[0m: stop!"
     ]
    }
   ],
   "source": [
    "stop()"
   ]
  }
 ],
 "metadata": {
  "kernelspec": {
   "display_name": "jeonpy",
   "language": "python",
   "name": "python3"
  },
  "language_info": {
   "codemirror_mode": {
    "name": "ipython",
    "version": 3
   },
   "file_extension": ".py",
   "mimetype": "text/x-python",
   "name": "python",
   "nbconvert_exporter": "python",
   "pygments_lexer": "ipython3",
   "version": "3.10.4"
  }
 },
 "nbformat": 4,
 "nbformat_minor": 2
}
