{
 "cells": [
  {
   "cell_type": "code",
   "execution_count": 1,
   "metadata": {},
   "outputs": [],
   "source": [
    "from tqdm import tqdm\n",
    "import matplotlib.pyplot as plt # type: module\n",
    "import matplotlib.ticker as ticker\n",
    "\n",
    "import numpy as np\n",
    "import os, glob\n",
    "import time\n",
    "import warnings\n",
    "\n",
    "from rur.fortranfile import FortranFile\n",
    "from rur import uri, uhmi, painter, drawer\n",
    "from rur.sci.photometry import measure_luminosity\n",
    "from rur.sci.geometry import get_angles, euler_angle\n",
    "from rur.utool import rotate_data\n",
    "from scipy.ndimage import gaussian_filter\n",
    "uri.timer.verbose=0\n",
    "# from rur.sci.kinematics import f_getpot\n",
    "\n",
    "from icl_IO import mode2repo, pklsave, pklload\n",
    "from icl_tool import *\n",
    "from icl_numba import large_isin, large_isind, isin\n",
    "from icl_draw import drawsnap, add_scalebar, addtext, MakeSub_nolabel, label_to_in\n",
    "import argparse, subprocess\n",
    "from importlib import reload\n",
    "import cmasher as cmr"
   ]
  },
  {
   "cell_type": "code",
   "execution_count": 3,
   "metadata": {},
   "outputs": [
    {
     "data": {
      "text/plain": [
       "(array([(   1, 1026,  6459716, 1,    1,    0, 0.85361391, 0.46676515, 0.47558907, 0.51981606,   38.10322621,   59.92555592,  42.18115311, 5.70733728e+10, 5.99459678e-04,  1278,  941453, 1, 1278,   0, 0.4667652 , 0.47558909, 0.51981645,   46.91326255,   60.74175161,  45.83347496, 1.17616941e+12, 0.00203744, 8.49744015e-06, 3.99073296e-07,  True,  True),\n",
       "        (   2, 1026, 24790214, 1,    2,    0, 0.85361391, 0.50130222, 0.50063559, 0.5062117 ,   -2.49541847,   78.70240036, -48.00985953, 2.36677560e+11, 1.30097726e-03,  1417, 6741842, 1, 1417,   0, 0.50130211, 0.5006353 , 0.50621156,  -23.66507475,   81.6192084 , -38.93460233, 8.13017735e+12, 0.00388008, 0.00000000e+00, 3.38028877e-07,  True,  True),\n",
       "        (   3, 1026,  2020156, 1,    3,    0, 0.85361391, 0.4753261 , 0.45961361, 0.47863688,  -19.2019251 ,   67.07041283,  29.44856101, 1.77113924e+10, 6.92913378e-04,  1664,  381110, 1, 1664,   0, 0.47532378, 0.45961278, 0.47863639,    4.02893669,   81.35941644,  35.13073288, 4.76106794e+11, 0.0015055 , 2.17446700e-02, 2.50841772e-06,  True,  True),\n",
       "        ...,\n",
       "        (4068, 1026,      293, 3, 1108, 4037, 0.85361391, 0.49604607, 0.47570237, 0.4189055 , -328.21018425, -170.46214831, -38.8332346 , 2.57009215e+06, 2.66302346e-05, 19360,     949, 2,  474, 474, 0.49597962, 0.47575181, 0.41881509, -266.53411665, -155.99649064,   5.64878272, 8.72037127e+10, 0.00049999, 9.99461175e-01, 1.22605434e-04, False, False),\n",
       "        (4069, 1026,      812, 3, 1108, 4034, 0.85361391, 0.49605306, 0.47573691, 0.4188896 , -289.72039547, -229.75563502,  55.58571623, 7.39822557e+06, 1.44740937e-05, 19360,     949, 2,  474, 474, 0.49597962, 0.47575181, 0.41881509, -266.53411665, -155.99649064,   5.64878272, 8.72037127e+10, 0.00049999, 9.99461175e-01, 1.05673850e-04, False, False),\n",
       "        (4070, 1026,      232, 3, 1108, 4032, 0.85361391, 0.49614474, 0.47579832, 0.41885595, -261.34362696, -228.02402272,  39.88780633, 2.07081575e+06, 3.09325300e-05, 19360,     949, 2,  474, 474, 0.49597962, 0.47575181, 0.41881509, -266.53411665, -155.99649064,   5.64878272, 8.72037127e+10, 0.00049999, 9.99461175e-01, 1.76345692e-04, False, False)],\n",
       "       dtype=[('id', '<i4'), ('timestep', '<i4'), ('nparts', '<i4'), ('level', '<i4'), ('host', '<i4'), ('hostsub', '<i4'), ('aexp', '<f8'), ('x', '<f8'), ('y', '<f8'), ('z', '<f8'), ('vx', '<f8'), ('vy', '<f8'), ('vz', '<f8'), ('m', '<f8'), ('r', '<f8'), ('halo_id', '<i4'), ('halo_nparts', '<i4'), ('halo_level', '<i4'), ('halo_host', '<i4'), ('halo_hostsub', '<i4'), ('halo_x', '<f8'), ('halo_y', '<f8'), ('halo_z', '<f8'), ('halo_vx', '<f8'), ('halo_vy', '<f8'), ('halo_vz', '<f8'), ('halo_mvir', '<f8'), ('halo_rvir', '<f8'), ('fcontam', '<f8'), ('dist', '<f8'), ('central', '?'), ('main', '?')]),\n",
       " (4070,))"
      ]
     },
     "execution_count": 3,
     "metadata": {},
     "output_type": "execute_result"
    }
   ],
   "source": [
    "arr = pklload(f\"./database/01_nh_ghmatch.pickle\")\n",
    "arr, arr.shape"
   ]
  },
  {
   "cell_type": "code",
   "execution_count": 2,
   "metadata": {},
   "outputs": [],
   "source": [
    "mode = 'nh'\n",
    "iout = 1026\n",
    "repo, rurmode, dp = mode2repo(mode)\n",
    "snap1 = uri.RamsesSnapshot(repo, iout, mode=rurmode)\n",
    "snap1s = uri.TimeSeries(snap1)\n",
    "snap1s.read_iout_avail()\n",
    "nout1 = snap1s.iout_avail['iout']\n",
    "gal1s = uhmi.HaloMaker.load(snap1, galaxy=True, path_in_repo='galaxy_old')"
   ]
  },
  {
   "cell_type": "code",
   "execution_count": 5,
   "metadata": {},
   "outputs": [
    {
     "data": {
      "text/plain": [
       "array([ 269,  319,  368,  381,  410,  418,  419,  426,  456,  460,  467,\n",
       "        481,  485,  488,  491,  495,  506,  509,  511,  513,  620,  621,\n",
       "        623,  624,  625,  626,  627,  628,  633,  634,  639,  640,  641,\n",
       "        645,  662,  664,  710,  711,  724,  725,  727,  791,  792,  830,\n",
       "        831,  835,  836,  837,  840,  842,  854,  903,  968, 1006, 1008,\n",
       "       1209], dtype=int32)"
      ]
     },
     "execution_count": 5,
     "metadata": {},
     "output_type": "execute_result"
    }
   ],
   "source": [
    "sats = gal1s[[269-1,  319-1,  368-1,  381-1,  410-1,  418-1, 419-1,  426-1,  456-1,  460-1,  467-1,\n",
    "            481-1,  485-1,  488-1,  491-1,  495-1,  506-1,  509-1,  511-1,  513-1,  620-1,  621-1,\n",
    "            623-1,  624-1,  625-1,  626-1,  627-1,  628-1,  633-1,  634-1,  639-1,  640-1,  641-1,\n",
    "            645-1,  662-1,  664-1,  710-1,  711-1,  724-1,  725-1,  727-1,  791-1,  792-1,  830-1,\n",
    "            831-1,  835-1,  836-1,  837-1,  840-1,  842-1,  854-1,  903-1,  968-1, 1006-1, 1008-1,\n",
    "           1209-1]]\n",
    "sats['id']"
   ]
  },
  {
   "cell_type": "code",
   "execution_count": null,
   "metadata": {},
   "outputs": [],
   "source": [
    "pouts = snap1s.iout_avail['iout'][snap1s.iout_avail['age'] >= snap1.age-0.5]\n",
    "pouts = pouts[pouts < snap1.iout][::-1]\n",
    "print(pouts)\n",
    "\n",
    "rrange = 30*snap1.unit['kpc']\n",
    "\n",
    "\n",
    "centers = {}\n",
    "members = {}\n",
    "all_scores = {}\n",
    "give_scores = {}\n",
    "take_scores = {}\n",
    "\n",
    "def get_members(gal):\n",
    "    global members, snap1s\n",
    "    if(gal['timestep'] in members.keys()):\n",
    "        if(gal['id'] in members[gal['timestep']].keys()):\n",
    "            return members[gal['timestep']][gal['id']]\n",
    "    else:\n",
    "        members[gal['timestep']] = {}\n",
    "    members[gal['timestep']][gal['id']] = uhmi.HaloMaker.read_member_part(snap1s.get_snap(gal['timestep']), gal['id'], galaxy=True, simple=True)\n",
    "    return members[gal['timestep']][gal['id']]\n",
    "\n",
    "for ip, pout in tqdm( enumerate(pouts), total=len(pouts) ):\n",
    "    psnap = snap1s.get_snap(pout)\n",
    "    # psnap.set_box(sat, 2*rrange)\n",
    "    pgals = uhmi.HaloMaker.load(psnap, galaxy=True, double_precision=dp)\n",
    "    for sat in sats:\n",
    "        if(sat['id'] in centers.keys()):\n",
    "            center = centers[sat['id']]\n",
    "        else:\n",
    "            center = [sat['x'], sat['y'], sat['z']]\n",
    "            centers[sat['id']] = center\n",
    "        my_member = get_members(sat)\n",
    "        pneighbors = cut_box(pgals, *center, rrange)\n",
    "\n",
    "\n",
    "        if(len(pneighbors)==0): continue\n",
    "\n",
    "        give_score = np.zeros(len(pneighbors))\n",
    "        take_score = np.zeros(len(pneighbors))\n",
    "        for i, pg in enumerate(pneighbors):\n",
    "            pmember = get_members(pg)\n",
    "            intersect = np.sum( isin(pmember, my_member, assume_unique=True) )\n",
    "            give_score[i] = intersect / len(my_member) / 2\n",
    "            take_score[i] = intersect / len(pmember) / 2\n",
    "        all_score = give_score * take_score\n",
    "        \n",
    "        argmax_all = np.argmax(all_score)\n",
    "        argmax_give = np.argmax(give_score)\n",
    "        argmax_take = np.argmax(take_score)\n",
    "        if(not sat['id'] in all_scores.keys()):\n",
    "            all_scores[sat['id']] = np.zeros(len(pouts))\n",
    "            give_scores[sat['id']] = np.zeros(len(pouts))\n",
    "            take_scores[sat['id']] = np.zeros(len(pouts))\n",
    "        \n",
    "        all_scores[sat['id']][ip] = pneighbors['id'][argmax_all] + all_score[argmax_all]\n",
    "        # if(sat['id']==178): print(pneighbors['id'][argmax_all] + all_score[argmax_all], all_score[argmax_all])\n",
    "        # if(sat['id']==178): print(give_score)\n",
    "        give_scores[sat['id']][ip] = pneighbors['id'][argmax_give] + give_score[argmax_give]\n",
    "        take_scores[sat['id']][ip] = pneighbors['id'][argmax_take] + take_score[argmax_take]\n",
    "        centers[sat['id']] = [ pneighbors['x'][argmax_all], pneighbors['y'][argmax_all], pneighbors['z'][argmax_all] ]\n",
    "            \n",
    "\n",
    "\n"
   ]
  }
 ],
 "metadata": {
  "kernelspec": {
   "display_name": "jeonpy",
   "language": "python",
   "name": "python3"
  },
  "language_info": {
   "codemirror_mode": {
    "name": "ipython",
    "version": 3
   },
   "file_extension": ".py",
   "mimetype": "text/x-python",
   "name": "python",
   "nbconvert_exporter": "python",
   "pygments_lexer": "ipython3",
   "version": "3.10.4"
  },
  "orig_nbformat": 4
 },
 "nbformat": 4,
 "nbformat_minor": 2
}
