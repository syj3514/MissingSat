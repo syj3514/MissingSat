{
 "cells": [
  {
   "cell_type": "code",
   "execution_count": 1,
   "metadata": {},
   "outputs": [],
   "source": [
    "from IPython import get_ipython\n",
    "\n",
    "\n",
    "def type_of_script():\n",
    "    \"\"\"\n",
    "    Detects and returns the type of python kernel\n",
    "    :return: string 'jupyter' or 'ipython' or 'terminal'\n",
    "    \"\"\"\n",
    "    try:\n",
    "        ipy_str = str(type(get_ipython()))\n",
    "        if 'zmqshell' in ipy_str:\n",
    "            return 'jupyter'\n",
    "        if 'terminal' in ipy_str:\n",
    "            return 'ipython'\n",
    "    except:\n",
    "        return 'terminal'\n",
    "\n",
    "\n",
    "if type_of_script() == 'jupyter':\n",
    "    from tqdm.notebook import tqdm\n",
    "else:\n",
    "    from tqdm import tqdm\n",
    "    \n",
    "import matplotlib.pyplot as plt # type: module\n",
    "import matplotlib.ticker as ticker\n",
    "from matplotlib import colormaps\n",
    "from matplotlib.colors import Normalize\n",
    "import matplotlib.gridspec as gridspec\n",
    "\n",
    "import numpy as np\n",
    "import os, glob, atexit, signal\n",
    "os.nice(19)\n",
    "import time\n",
    "import warnings\n",
    "\n",
    "from rur.fortranfile import FortranFile\n",
    "from rur import uri, uhmi, painter, drawer\n",
    "from rur.sci.photometry import measure_luminosity\n",
    "from rur.sci.geometry import get_angles, euler_angle\n",
    "from rur.utool import rotate_data\n",
    "from scipy.ndimage import gaussian_filter\n",
    "uri.timer.verbose=0\n",
    "# from rur.sci.kinematics import f_getpot\n",
    "\n",
    "from icl_IO import mode2repo, pklsave, pklload\n",
    "from icl_tool import *\n",
    "from icl_numba import large_isin, large_isind, isin\n",
    "from icl_draw import drawsnap, add_scalebar, addtext, MakeSub_nolabel, label_to_in, fancy_axis, circle\n",
    "from importlib import reload\n",
    "from copy import deepcopy\n",
    "from multiprocessing import Pool, shared_memory, Value"
   ]
  },
  {
   "cell_type": "code",
   "execution_count": 2,
   "metadata": {},
   "outputs": [],
   "source": [
    "mode1 = 'nh'\n",
    "database1 = f\"/home/jeon/MissingSat/database/{mode1}\"\n",
    "iout1 = 1026\n",
    "repo1, rurmode1, dp1 = mode2repo(mode1)\n",
    "snap1 = uri.RamsesSnapshot(repo1, iout1, mode=rurmode1)\n",
    "snap1s = uri.TimeSeries(snap1)\n",
    "snap1s.read_iout_avail()\n",
    "nout1 = snap1s.iout_avail['iout']; nout=nout1[nout1 <= iout1]\n",
    "gal1s = uhmi.HaloMaker.load(snap1, galaxy=True, double_precision=dp1)\n",
    "hal1s = uhmi.HaloMaker.load(snap1, galaxy=False, double_precision=dp1)\n",
    "\n",
    "mode2 = 'nh2'\n",
    "database2 = f\"/home/jeon/MissingSat/database/{mode2}\"\n",
    "iout2 = 797\n",
    "repo2, rurmode2, dp2 = mode2repo(mode2)\n",
    "snap2 = uri.RamsesSnapshot(repo2, iout2, mode=rurmode2)\n",
    "snap2s = uri.TimeSeries(snap2)\n",
    "snap2s.read_iout_avail()\n",
    "nout2 = snap2s.iout_avail['iout']; nout=nout2[nout2 <= iout2]\n",
    "gal2s = uhmi.HaloMaker.load(snap2, galaxy=True, double_precision=dp2)\n",
    "hal2s = uhmi.HaloMaker.load(snap2, galaxy=False, double_precision=dp2)\n",
    "\n",
    "from common_func import *\n",
    "\n",
    "\n",
    "LG1 = pklload(f\"{database1}/LocalGroup.pickle\")\n",
    "LG2 = pklload(f\"{database2}/LocalGroup.pickle\")"
   ]
  },
  {
   "cell_type": "code",
   "execution_count": 5,
   "metadata": {},
   "outputs": [
    {
     "data": {
      "text/plain": [
       "(array([ 1.,  3., 24., 32., 17., 16.,  7., 15.,  7.,  8.]),\n",
       " array([ 5.10373094,  5.63441928,  6.16510761,  6.69579595,  7.22648428,\n",
       "         7.75717262,  8.28786096,  8.81854929,  9.34923763,  9.87992596,\n",
       "        10.4106143 ]),\n",
       " [<matplotlib.patches.Polygon at 0x7f0629115fc0>])"
      ]
     },
     "execution_count": 5,
     "metadata": {},
     "output_type": "execute_result"
    },
    {
     "data": {
      "image/png": "[encoded data removed]",
      "text/plain": [
       "<Figure size 640x480 with 1 Axes>"
      ]
     },
     "metadata": {},
     "output_type": "display_data"
    }
   ],
   "source": [
    "allsubs1 = None\n",
    "states1 = None\n",
    "for key in LG1.keys():\n",
    "    subs = LG1[key]['subs']\n",
    "    real = LG1[key]['real']\n",
    "    dink = real[real['state']=='dink']['hid']\n",
    "    ind = isin(subs['id'], dink)\n",
    "    subs['dink'][ind] = True\n",
    "    subs['dink'][~ind] = False\n",
    "    state = np.zeros(len(subs), dtype='<U7')\n",
    "    state[ind] = 'dink'\n",
    "    state[~ind] = 'pair'\n",
    "    upair = real[real['state']=='upair']['hid']\n",
    "    ind = isin(subs['id'], upair)\n",
    "    state[ind] = 'upair'\n",
    "\n",
    "    allsubs1 = subs if allsubs1 is None else np.hstack((allsubs1, subs))\n",
    "    states1 = state if states1 is None else np.hstack((states1, state))\n",
    "argsort = np.argsort(allsubs1['id'])\n",
    "allsubs1 = allsubs1[argsort]\n",
    "states1 = states1[argsort]\n",
    "\n",
    "fig,ax = plt.subplots()\n",
    "tmp = allsubs1[states1=='dink']\n",
    "value = tmp['mstar_vir']*1.\n",
    "value[value==0] = 1e3\n",
    "ax.hist(np.log10(value), color='salmon', histtype='stepfilled', alpha=0.3)\n",
    "tmp = allsubs1[states1=='pair']\n",
    "value = tmp['mstar_vir']*1.\n",
    "value[value==0] = 1e3\n",
    "ax.hist(np.log10(value), color='dodgerblue', histtype='stepfilled', alpha=0.3)"
   ]
  },
  {
   "cell_type": "code",
   "execution_count": 6,
   "metadata": {},
   "outputs": [
    {
     "data": {
      "text/plain": [
       "(array([12., 16.,  7.,  6.,  7.,  9.,  4.,  6.,  8.,  4.]),\n",
       " array([ 6.44781617,  6.82562351,  7.20343086,  7.5812382 ,  7.95904555,\n",
       "         8.33685289,  8.71466023,  9.09246758,  9.47027492,  9.84808227,\n",
       "        10.22588961]),\n",
       " [<matplotlib.patches.Polygon at 0x7f06287ad0f0>])"
      ]
     },
     "execution_count": 6,
     "metadata": {},
     "output_type": "execute_result"
    },
    {
     "data": {
      "image/png": "[encoded data removed]",
      "text/plain": [
       "<Figure size 640x480 with 1 Axes>"
      ]
     },
     "metadata": {},
     "output_type": "display_data"
    }
   ],
   "source": [
    "allsubs2 = None\n",
    "states2 = None\n",
    "for key in LG2.keys():\n",
    "    subs = LG2[key]['subs']\n",
    "    real = LG2[key]['real']\n",
    "    dink = real[real['state']=='dink']['hid']\n",
    "    ind = isin(subs['id'], dink)\n",
    "    subs['dink'][ind] = True\n",
    "    subs['dink'][~ind] = False\n",
    "    state = np.zeros(len(subs), dtype='<U7')\n",
    "    state[ind] = 'dink'\n",
    "    state[~ind] = 'pair'\n",
    "    upair = real[real['state']=='upair']['hid']\n",
    "    ind = isin(subs['id'], upair)\n",
    "    state[ind] = 'upair'\n",
    "\n",
    "    allsubs2 = subs if allsubs2 is None else np.hstack((allsubs2, subs))\n",
    "    states2 = state if states2 is None else np.hstack((states2, state))\n",
    "argsort = np.argsort(allsubs2['id'])\n",
    "allsubs2 = allsubs2[argsort]\n",
    "states2 = states2[argsort]\n",
    "\n",
    "fig,ax = plt.subplots()\n",
    "tmp = allsubs2[states2=='dink']\n",
    "value = tmp['mstar_vir']*1.\n",
    "value[value==0] = 1e3\n",
    "ax.hist(np.log10(value), color='salmon', histtype='stepfilled', alpha=0.3)\n",
    "tmp = allsubs2[states2=='pair']\n",
    "value = tmp['mstar_vir']*1.\n",
    "value[value==0] = 1e3\n",
    "ax.hist(np.log10(value), color='dodgerblue', histtype='stepfilled', alpha=0.3)"
   ]
  },
  {
   "cell_type": "code",
   "execution_count": 24,
   "metadata": {},
   "outputs": [
    {
     "data": {
      "application/json": {
       "ascii": false,
       "bar_format": null,
       "colour": null,
       "elapsed": 0.02026534080505371,
       "initial": 0,
       "n": 0,
       "ncols": null,
       "nrows": null,
       "postfix": null,
       "prefix": "",
       "rate": null,
       "total": 849,
       "unit": "it",
       "unit_divisor": 1000,
       "unit_scale": false
      },
      "application/vnd.jupyter.widget-view+json": {
       "model_id": "0f74a1d575374473864e726804858d8c",
       "version_major": 2,
       "version_minor": 0
      },
      "text/plain": [
       "  0%|          | 0/849 [00:00<?, ?it/s]"
      ]
     },
     "metadata": {},
     "output_type": "display_data"
    }
   ],
   "source": [
    "tree1 = pklload(f\"{database1}/main_progenitors.pickle\")\n",
    "fnames1 = os.listdir(f\"{database1}/main_prog\")\n",
    "fnames1 = [fname for fname in fnames1 if(fname.startswith('subhalos'))]\n",
    "fnames1.sort(reverse=True)\n",
    "\n",
    "tmp = pklload(f\"{database1}/main_prog/{fnames1[0]}\")[0]\n",
    "where = np.where(isin(tmp['lastid'], allsubs1['id']))[0]\n",
    "tmp = tmp[where]\n",
    "trees1 = np.empty(tmp.shape[0]*len(fnames1), dtype=tmp.dtype)\n",
    "cursor = 0\n",
    "uri.timer.verbose=0\n",
    "for fname in tqdm( fnames1 ):\n",
    "    tmp = pklload(f\"{database1}/main_prog/{fname}\")[0]\n",
    "    tmp = tmp[where]\n",
    "    trees1[cursor : cursor+len(tmp)] = tmp\n",
    "    cursor += len(tmp)\n",
    "trees1 = trees1[trees1['timestep'] <= iout1]"
   ]
  },
  {
   "cell_type": "code",
   "execution_count": 25,
   "metadata": {},
   "outputs": [
    {
     "data": {
      "text/plain": [
       "849.0"
      ]
     },
     "execution_count": 25,
     "metadata": {},
     "output_type": "execute_result"
    }
   ],
   "source": [
    "trees1.shape[0] / len(allsubs1)"
   ]
  },
  {
   "cell_type": "code",
   "execution_count": 15,
   "metadata": {},
   "outputs": [
    {
     "data": {
      "text/plain": [
       "array([  589,   605,   610, ..., 28582, 28865, 28866], dtype=int32)"
      ]
     },
     "execution_count": 15,
     "metadata": {},
     "output_type": "execute_result"
    }
   ],
   "source": [
    "trees1[0:3851]['id']"
   ]
  },
  {
   "cell_type": "code",
   "execution_count": 16,
   "metadata": {},
   "outputs": [
    {
     "data": {
      "text/plain": [
       "array([  591,   607,   612, ..., 28563, 28844, 28845], dtype=int32)"
      ]
     },
     "execution_count": 16,
     "metadata": {},
     "output_type": "execute_result"
    }
   ],
   "source": [
    "trees1[3851:2*3851]['id']"
   ]
  },
  {
   "cell_type": "code",
   "execution_count": 17,
   "metadata": {},
   "outputs": [
    {
     "data": {
      "text/plain": [
       "1336"
      ]
     },
     "execution_count": 17,
     "metadata": {},
     "output_type": "execute_result"
    }
   ],
   "source": [
    "len(allsubs1)"
   ]
  },
  {
   "cell_type": "code",
   "execution_count": null,
   "metadata": {},
   "outputs": [],
   "source": []
  }
 ],
 "metadata": {
  "kernelspec": {
   "display_name": "jeonpy",
   "language": "python",
   "name": "python3"
  },
  "language_info": {
   "codemirror_mode": {
    "name": "ipython",
    "version": 3
   },
   "file_extension": ".py",
   "mimetype": "text/x-python",
   "name": "python",
   "nbconvert_exporter": "python",
   "pygments_lexer": "ipython3",
   "version": "3.10.4"
  }
 },
 "nbformat": 4,
 "nbformat_minor": 2
}
