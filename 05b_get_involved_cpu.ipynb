{
 "cells": [
  {
   "cell_type": "code",
   "execution_count": 7,
   "metadata": {},
   "outputs": [
    {
     "name": "stdout",
     "output_type": "stream",
     "text": [
      "[Output 01026] Age (Gyr) : 11.624 / 13.741, z = 0.17149 (a = 0.8536)\n"
     ]
    }
   ],
   "source": [
    "from IPython import get_ipython\n",
    "\n",
    "\n",
    "def type_of_script():\n",
    "    \"\"\"\n",
    "    Detects and returns the type of python kernel\n",
    "    :return: string 'jupyter' or 'ipython' or 'terminal'\n",
    "    \"\"\"\n",
    "    try:\n",
    "        ipy_str = str(type(get_ipython()))\n",
    "        if 'zmqshell' in ipy_str:\n",
    "            return 'jupyter'\n",
    "        if 'terminal' in ipy_str:\n",
    "            return 'ipython'\n",
    "    except:\n",
    "        return 'terminal'\n",
    "\n",
    "\n",
    "if type_of_script() == 'jupyter':\n",
    "    from tqdm.notebook import tqdm\n",
    "else:\n",
    "    from tqdm import tqdm\n",
    "    \n",
    "import matplotlib.pyplot as plt # type: module\n",
    "import matplotlib.ticker as ticker\n",
    "from matplotlib import colormaps\n",
    "from matplotlib.colors import Normalize\n",
    "import matplotlib.gridspec as gridspec\n",
    "\n",
    "import numpy as np\n",
    "import os, glob\n",
    "import time\n",
    "import warnings\n",
    "\n",
    "from rur.fortranfile import FortranFile\n",
    "from rur import uri, uhmi, painter, drawer\n",
    "from rur.sci.photometry import measure_luminosity\n",
    "from rur.sci.geometry import get_angles, euler_angle\n",
    "from rur.utool import rotate_data\n",
    "from scipy.ndimage import gaussian_filter\n",
    "uri.timer.verbose=1\n",
    "# from rur.sci.kinematics import f_getpot\n",
    "\n",
    "from icl_IO import mode2repo, pklsave, pklload\n",
    "from icl_tool import *\n",
    "from icl_numba import large_isin, large_isind, isin\n",
    "from icl_draw import drawsnap, add_scalebar, addtext, MakeSub_nolabel, label_to_in, fancy_axis, circle\n",
    "import argparse, subprocess\n",
    "from importlib import reload\n",
    "import cmasher as cmr\n",
    "from copy import deepcopy\n",
    "from multiprocessing import Pool, shared_memory\n",
    "\n",
    "mode = 'nh'\n",
    "iout = 1026\n",
    "repo, rurmode, dp = mode2repo(mode)\n",
    "snap = uri.RamsesSnapshot(repo, iout, mode=rurmode)\n",
    "snaps = uri.TimeSeries(snap)\n",
    "snaps.read_iout_avail()\n",
    "nout = snaps.iout_avail['iout']\n",
    "gals = uhmi.HaloMaker.load(snap, galaxy=True, double_precision=dp)\n",
    "hals = uhmi.HaloMaker.load(snap, galaxy=False, double_precision=dp)\n",
    "database = f\"/home/jeon/MissingSat/database\"\n",
    "\n",
    "from common_func import *"
   ]
  },
  {
   "cell_type": "code",
   "execution_count": 8,
   "metadata": {},
   "outputs": [],
   "source": [
    "tree = pklload(f\"{database}/02_main_progenitors.pickle\")\n",
    "if(os.path.exists(f\"{database}/halo_dict.pickle\")):\n",
    "    halos = pklload(f\"{database}/halo_dict.pickle\")\n",
    "else:\n",
    "    halos = {'catalog':{}, 'index':{}}\n",
    "    uri.timer.verbose=0\n",
    "    for iout in tqdm(np.unique(tree['timestep'])):\n",
    "        isnap = snaps.get_snap(iout)\n",
    "        ihals = uhmi.HaloMaker.load(isnap, galaxy=False, double_precision=dp)\n",
    "        indicies = np.zeros(len(ihals), dtype=int)\n",
    "        iids = tree[tree['timestep'] == iout]['id']\n",
    "        ihals = ihals[iids-1]\n",
    "        indicies[iids-1] = np.arange(len(iids))\n",
    "        halos['catalog'][iout] = ihals\n",
    "        halos['index'][iout] = indicies   \n",
    "    pklsave(halos, f\"{database}/halo_dict.pickle\")"
   ]
  },
  {
   "cell_type": "code",
   "execution_count": 9,
   "metadata": {},
   "outputs": [],
   "source": [
    "def _ibox(h, factor=1):\n",
    "    return np.array([\n",
    "                    [h['x']-factor*h['r'], h['x']+factor*h['r']],\n",
    "                    [h['y']-factor*h['r'], h['y']+factor*h['r']],\n",
    "                    [h['z']-factor*h['r'], h['z']+factor*h['r']]\n",
    "                    ])"
   ]
  },
  {
   "cell_type": "code",
   "execution_count": 11,
   "metadata": {},
   "outputs": [
    {
     "data": {
      "application/json": {
       "ascii": false,
       "bar_format": null,
       "colour": null,
       "elapsed": 0.025960922241210938,
       "initial": 0,
       "n": 0,
       "ncols": null,
       "nrows": null,
       "postfix": null,
       "prefix": "iout=01026",
       "rate": null,
       "total": 500,
       "unit": "it",
       "unit_divisor": 1000,
       "unit_scale": false
      },
      "application/vnd.jupyter.widget-view+json": {
       "model_id": "3bcd477c7d224419b0c7c30980f84fa4",
       "version_major": 2,
       "version_minor": 0
      },
      "text/plain": [
       "iout=01026:   0%|          | 0/500 [00:00<?, ?it/s]"
      ]
     },
     "metadata": {},
     "output_type": "display_data"
    }
   ],
   "source": [
    "for iout in np.unique(tree['timestep'])[::-1]:\n",
    "    if(os.path.exists(f\"{database}/main_prog/cpulist/cpulist_{iout:05d}.pickle\")): continue\n",
    "    cpudict = {}\n",
    "    targets = halos['catalog'][iout][:500]\n",
    "    isnap = snaps.get_snap(iout)\n",
    "\n",
    "    cpulists = []\n",
    "    with Pool(32) as pool:\n",
    "        async_result = [\n",
    "                    pool.apply_async(\n",
    "                            uri.get_cpulist, \n",
    "                            (_ibox(h,factor=1.1), None, isnap.levelmax, isnap.bound_key, isnap.ndim, 5, isnap.ncpu)\n",
    "                            ) for h in targets\n",
    "                    ]\n",
    "        iterobj = tqdm(async_result, total=len(targets), desc=f\"iout={iout:05d}\")\n",
    "        for r in iterobj:\n",
    "            cpulists.append(r.get())\n",
    "    cpulists = np.unique( np.concatenate(cpulists) )\n",
    "    cpudict['all'] = cpulists\n",
    "    # pklsave(cpudict, f\"{database}/main_prog/cpulist/cpulist_{iout:05d}.pickle\")\n",
    "    # isnap.clear()\n",
    "    break"
   ]
  },
  {
   "cell_type": "code",
   "execution_count": null,
   "metadata": {},
   "outputs": [],
   "source": []
  }
 ],
 "metadata": {
  "kernelspec": {
   "display_name": "jeonpy",
   "language": "python",
   "name": "python3"
  },
  "language_info": {
   "codemirror_mode": {
    "name": "ipython",
    "version": 3
   },
   "file_extension": ".py",
   "mimetype": "text/x-python",
   "name": "python",
   "nbconvert_exporter": "python",
   "pygments_lexer": "ipython3",
   "version": "3.10.4"
  }
 },
 "nbformat": 4,
 "nbformat_minor": 2
}
