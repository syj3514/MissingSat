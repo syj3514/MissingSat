{
 "cells": [
  {
   "cell_type": "code",
   "execution_count": 1,
   "metadata": {},
   "outputs": [],
   "source": [
    "from common_func import *\n",
    "if type_of_script() == 'jupyter': from tqdm.notebook import tqdm\n",
    "else: from tqdm import tqdm\n",
    "    \n",
    "import matplotlib.pyplot as plt\n",
    "import matplotlib.ticker as ticker\n",
    "from matplotlib import colormaps\n",
    "from matplotlib.colors import Normalize\n",
    "import matplotlib.gridspec as gridspec\n",
    "from mpl_toolkits.mplot3d import Axes3D, proj3d\n",
    "#import cmasher as cmr\n",
    "\n",
    "import numpy as np\n",
    "import os, glob, atexit, signal, time, warnings, argparse, subprocess\n",
    "\n",
    "from rur.fortranfile import FortranFile\n",
    "from rur import uri, uhmi, painter, drawer\n",
    "from rur.sci.photometry import measure_luminosity\n",
    "from rur.sci.geometry import get_angles, euler_angle\n",
    "from rur.utool import rotate_data\n",
    "from scipy.ndimage import gaussian_filter\n",
    "uri.timer.verbose=1\n",
    "\n",
    "from icl_IO import mode2repo, pklsave, pklload\n",
    "from icl_tool import *\n",
    "from icl_numba import large_isin, large_isind, isin\n",
    "from icl_draw import drawsnap, add_scalebar, addtext, MakeSub_nolabel, label_to_in, fancy_axis, circle\n",
    "\n",
    "from importlib import reload\n",
    "from copy import deepcopy\n",
    "from multiprocessing import Pool, shared_memory, Value"
   ]
  },
  {
   "cell_type": "code",
   "execution_count": 2,
   "metadata": {},
   "outputs": [
    {
     "name": "stdout",
     "output_type": "stream",
     "text": [
      "[Output 01026] Age (Gyr) : 11.624 / 13.741, z = 0.17149 (a = 0.8536)\n"
     ]
    },
    {
     "name": "stdout",
     "output_type": "stream",
     "text": [
      "[  1   3   7   8  10  23  25  26  36  64 121 129  11]\n"
     ]
    }
   ],
   "source": [
    "mode = 'nh'\n",
    "iout = 1026\n",
    "repo, rurmode, dp = mode2repo(mode)\n",
    "nh = uri.RamsesSnapshot(repo, iout, mode=rurmode)\n",
    "nhs = uri.TimeSeries(nh)\n",
    "nhs.read_iout_avail()\n",
    "nout = nhs.iout_avail['iout']\n",
    "gals = uhmi.HaloMaker.load(nh, galaxy=True, double_precision=dp)\n",
    "hals = uhmi.HaloMaker.load(nh, galaxy=False, double_precision=dp)\n",
    "database = f\"/home/jeon/MissingSat/database\"\n",
    "LG = pklload(f\"{database}/LG\")\n",
    "keys = []\n",
    "for key in LG.keys():\n",
    "    if(LG[key]['isLG']): keys.append(key)\n",
    "keys = np.array(keys)\n",
    "print(keys)"
   ]
  },
  {
   "cell_type": "code",
   "execution_count": 3,
   "metadata": {},
   "outputs": [],
   "source": [
    "tree = pklload(f\"{database}/02_main_progenitors.pickle\")"
   ]
  },
  {
   "cell_type": "code",
   "execution_count": 4,
   "metadata": {},
   "outputs": [],
   "source": [
    "rtree = pklload(f\"{database}/06_reduced_tree.pickle\")"
   ]
  },
  {
   "cell_type": "markdown",
   "metadata": {},
   "source": [
    "New Algorithm with \"stable\" particles?"
   ]
  },
  {
   "cell_type": "code",
   "execution_count": 6,
   "metadata": {},
   "outputs": [
    {
     "name": "stdout",
     "output_type": "stream",
     "text": [
      "Reading 4800 part files (35.98 GiB) in /storage6/NewHorizon/snapshots/output_01026... \n",
      "Allocating Memory...\n"
     ]
    },
    {
     "name": "stdout",
     "output_type": "stream",
     "text": [
      "Done (2.821 sec)\n"
     ]
    },
    {
     "data": {
      "application/json": {
       "ascii": false,
       "bar_format": null,
       "colour": null,
       "elapsed": 0.03299403190612793,
       "initial": 0,
       "n": 0,
       "ncols": null,
       "nrows": null,
       "postfix": null,
       "prefix": "Reading parts",
       "rate": null,
       "total": 4800,
       "unit": "it",
       "unit_divisor": 1000,
       "unit_scale": false
      },
      "application/vnd.jupyter.widget-view+json": {
       "model_id": "93cdf1b098f74255bd978cb55dbc4f67",
       "version_major": 2,
       "version_minor": 0
      },
      "text/plain": [
       "Reading parts:   0%|          | 0/4800 [00:00<?, ?it/s]"
      ]
     },
     "metadata": {},
     "output_type": "display_data"
    },
    {
     "name": "stdout",
     "output_type": "stream",
     "text": [
      "Done (9.446s).\n"
     ]
    },
    {
     "data": {
      "text/plain": [
       "(126492136,)"
      ]
     },
     "execution_count": 6,
     "metadata": {},
     "output_type": "execute_result"
    }
   ],
   "source": [
    "nh.get_part(pname='dm', target_fields=['id'], nthread=32)\n",
    "maxid = len(nh.part['id'])\n",
    "nh.part.shape"
   ]
  },
  {
   "cell_type": "code",
   "execution_count": 7,
   "metadata": {},
   "outputs": [
    {
     "data": {
      "text/plain": [
       "((35,),\n",
       " array([1026, 1025, 1024, 1023, 1022, 1021, 1020, 1019, 1018, 1017, 1016,\n",
       "        1015, 1014, 1013, 1012, 1011, 1010, 1009, 1008, 1007, 1006, 1005,\n",
       "        1004, 1003, 1002, 1001, 1000,  999,  998,  997,  996,  995,  994,\n",
       "         993,  992]))"
      ]
     },
     "execution_count": 7,
     "metadata": {},
     "output_type": "execute_result"
    }
   ],
   "source": [
    "iouts = os.listdir(\"/storage6/NewHorizon/halo\")\n",
    "iouts = [int(f[-5:]) for f in iouts if f.startswith(\"tree_bricks\")]\n",
    "iouts.sort()\n",
    "iouts = np.array(iouts[::-1])\n",
    "\n",
    "ttable = nhs.iout_avail\n",
    "mask = ttable['age'] >= (nh.age-0.25)\n",
    "ttable[mask]['iout']\n",
    "\n",
    "iouts = iouts[iouts >= np.min(ttable[mask]['iout'])]\n",
    "iouts.shape, iouts"
   ]
  },
  {
   "cell_type": "markdown",
   "metadata": {},
   "source": [
    "### Example 1"
   ]
  },
  {
   "cell_type": "code",
   "execution_count": 45,
   "metadata": {},
   "outputs": [
    {
     "data": {
      "text/plain": [
       "(614, 20176, 1026, 2, 573, 573, 0, 20177, 0.85361391, 8.01399144e+08, 0.50041411, 0.49722965, 0.49063914, -208.34693026, -36.40497756, -124.92434242, -34732852.25019152, -83607812.28576629, 65705527.59170663, 9.95262422e-05, 0.00219804, 0.00331537, 0.00266059, 317.81196215, -3.2585066, 314.55345555, 8.02326491, 150.30961747, 9.95262422e-05, 8.01399144e+08, 10253.83546464, 16.90035933, 362.87718266, 9.95262422e-05, 0.)"
      ]
     },
     "execution_count": 45,
     "metadata": {},
     "output_type": "execute_result"
    }
   ],
   "source": [
    "tid = 20176\n",
    "final = hals[tid-1]\n",
    "final"
   ]
  },
  {
   "cell_type": "code",
   "execution_count": 46,
   "metadata": {},
   "outputs": [
    {
     "data": {
      "application/json": {
       "ascii": false,
       "bar_format": null,
       "colour": null,
       "elapsed": 0.019711017608642578,
       "initial": 0,
       "n": 0,
       "ncols": null,
       "nrows": null,
       "postfix": null,
       "prefix": "",
       "rate": null,
       "total": 34,
       "unit": "it",
       "unit_divisor": 1000,
       "unit_scale": false
      },
      "application/vnd.jupyter.widget-view+json": {
       "model_id": "23b0f702aaee4d129cfd4e562b45f626",
       "version_major": 2,
       "version_minor": 0
      },
      "text/plain": [
       "  0%|          | 0/34 [00:00<?, ?it/s]"
      ]
     },
     "metadata": {},
     "output_type": "display_data"
    }
   ],
   "source": [
    "pid = uhmi.HaloMaker.read_member_part(nh, tid, galaxy=False, simple=True)\n",
    "\n",
    "base = np.zeros(maxid, dtype=np.float64)\n",
    "base[pid-1] += 1\n",
    "\n",
    "uri.timer.verbose=0\n",
    "NOUT = 1\n",
    "for pout in tqdm(iouts[1:]):\n",
    "    psnap = nhs.get_snap(pout)\n",
    "    if(psnap.age < (nh.age-1)): break\n",
    "    phals, ppids = uhmi.HaloMaker.load(psnap, galaxy=False, load_parts=True)\n",
    "    cparts = phals['nparts']; cparts = np.cumsum(cparts); cparts = np.insert(cparts, 0, 0)\n",
    "    progids = np.zeros(max(maxid, ppids.max()), dtype=np.int32)\n",
    "    cursor=0\n",
    "    for i in range(len(phals)):\n",
    "        phal = phals[i]\n",
    "        myid = ppids[cursor:cursor+phal['nparts']]\n",
    "        progids[myid-1] = phal['id']\n",
    "        cursor += phal['nparts']\n",
    "\n",
    "    progs = progids[pid-1]\n",
    "    if(0 in progs): progs = progs[progs>0]\n",
    "    unique, counts = np.unique(progs, return_counts=True)\n",
    "    argsort = np.argsort(-counts)\n",
    "    unique, counts = unique[argsort], counts[argsort]\n",
    "    for uni, cou in zip(unique, counts):\n",
    "        phal = phals[uni-1]\n",
    "        tmp = ppids[cparts[uni-1] : cparts[uni]]\n",
    "        base[tmp-1] += cou/phal['nparts']\n",
    "        # print(f\"[{pout}] Halo{uni} -> ({cou}){len(tmp)} parts get score-{cou/phal['nparts']:.6f}\")\n",
    "    # pid = np.where(base>0)[0]+1\n",
    "    NOUT += 1"
   ]
  },
  {
   "cell_type": "code",
   "execution_count": 47,
   "metadata": {},
   "outputs": [
    {
     "data": {
      "image/png": "[encoded data removed]",
      "text/plain": [
       "<Figure size 640x480 with 1 Axes>"
      ]
     },
     "metadata": {},
     "output_type": "display_data"
    }
   ],
   "source": [
    "plt.hist(np.log10(base[base>0]))\n",
    "plt.yscale('log')"
   ]
  },
  {
   "cell_type": "code",
   "execution_count": 48,
   "metadata": {},
   "outputs": [
    {
     "name": "stdout",
     "output_type": "stream",
     "text": [
      "21.74196039981098\n"
     ]
    },
    {
     "name": "stdout",
     "output_type": "stream",
     "text": [
      "0.002081 -> 13988\n",
      "1.323623 -> 1012\n",
      "15.715986 -> 253\n",
      "12.983762 -> 317\n",
      "0.003630 -> 9131\n",
      "4.754546 -> 479\n",
      "11.842617 -> 343\n",
      "14.746288 -> 278\n"
     ]
    }
   ],
   "source": [
    "# What should be threshold?\n",
    "print(np.max(base))\n",
    "cut = np.median(base[base>0]); print(f\"{cut:5f} -> {np.sum(base>cut)}\" )\n",
    "cut = np.median(base[base>1]); print(f\"{cut:5f} -> {np.sum(base>cut)}\" )\n",
    "cut = np.median(base[base > (NOUT/10)]); print(f\"{cut:5f} -> {np.sum(base>cut)}\" )\n",
    "cut = np.median(base[pid-1]); print(f\"{cut:5f} -> {np.sum(base>cut)}\" )\n",
    "cut = np.mean(base[base>0]); print(f\"{cut:5f} -> {np.sum(base>cut)}\" )\n",
    "cut = np.mean(base[base>1]); print(f\"{cut:5f} -> {np.sum(base>cut)}\" )\n",
    "cut = np.mean(base[pid-1]); print(f\"{cut:5f} -> {np.sum(base>cut)}\" )\n",
    "cut = np.mean(base[base > (NOUT/10)]); print(f\"{cut:5f} -> {np.sum(base>cut)}\" )"
   ]
  },
  {
   "cell_type": "markdown",
   "metadata": {},
   "source": [
    "### Example 2"
   ]
  },
  {
   "cell_type": "code",
   "execution_count": 49,
   "metadata": {},
   "outputs": [
    {
     "data": {
      "text/plain": [
       "(220, 27322, 1026, 2, 10872, 10872, 0, 27323, 0.85361391, 3.96783941e+08, 0.54004821, 0.50139471, 0.51149277, -81.54584342, 201.209394, 71.33802077, 3202667.81286522, 56301871.84044226, 1.53678514e+08, 0.00018238, 0.00568587, 0.00311971, 0.00225822, 228.76046231, -0.62067514, 228.13978717, 57.9683464, 208.00135848, 0.00011682, 3.96783941e+08, 4325.29743001, 10.97642098, 111.10615913, 0.00011682, 1.14858509e+08)"
      ]
     },
     "execution_count": 49,
     "metadata": {},
     "output_type": "execute_result"
    }
   ],
   "source": [
    "tid = 27322\n",
    "final = hals[tid-1]\n",
    "final"
   ]
  },
  {
   "cell_type": "code",
   "execution_count": 50,
   "metadata": {},
   "outputs": [
    {
     "data": {
      "application/json": {
       "ascii": false,
       "bar_format": null,
       "colour": null,
       "elapsed": 0.02057933807373047,
       "initial": 0,
       "n": 0,
       "ncols": null,
       "nrows": null,
       "postfix": null,
       "prefix": "",
       "rate": null,
       "total": 34,
       "unit": "it",
       "unit_divisor": 1000,
       "unit_scale": false
      },
      "application/vnd.jupyter.widget-view+json": {
       "model_id": "2eb1354a55064951be88ee1e65f48498",
       "version_major": 2,
       "version_minor": 0
      },
      "text/plain": [
       "  0%|          | 0/34 [00:00<?, ?it/s]"
      ]
     },
     "metadata": {},
     "output_type": "display_data"
    }
   ],
   "source": [
    "pid = uhmi.HaloMaker.read_member_part(nh, tid, galaxy=False, simple=True)\n",
    "\n",
    "base = np.zeros(maxid, dtype=np.float64)\n",
    "base[pid-1] += 1\n",
    "\n",
    "uri.timer.verbose=0\n",
    "NOUT = 1\n",
    "for pout in tqdm(iouts[1:]):\n",
    "    psnap = nhs.get_snap(pout)\n",
    "    if(psnap.age < (nh.age-1)): break\n",
    "    phals, ppids = uhmi.HaloMaker.load(psnap, galaxy=False, load_parts=True)\n",
    "    cparts = phals['nparts']; cparts = np.cumsum(cparts); cparts = np.insert(cparts, 0, 0)\n",
    "    progids = np.zeros(max(maxid, ppids.max()), dtype=np.int32)\n",
    "    cursor=0\n",
    "    for i in range(len(phals)):\n",
    "        phal = phals[i]\n",
    "        myid = ppids[cursor:cursor+phal['nparts']]\n",
    "        progids[myid-1] = phal['id']\n",
    "        cursor += phal['nparts']\n",
    "\n",
    "    progs = progids[pid-1]\n",
    "    if(0 in progs): progs = progs[progs>0]\n",
    "    unique, counts = np.unique(progs, return_counts=True)\n",
    "    argsort = np.argsort(-counts)\n",
    "    unique, counts = unique[argsort], counts[argsort]\n",
    "    for uni, cou in zip(unique, counts):\n",
    "        phal = phals[uni-1]\n",
    "        tmp = ppids[cparts[uni-1] : cparts[uni]]\n",
    "        base[tmp-1] += cou/phal['nparts']\n",
    "        # print(f\"[{pout}] Halo{uni} -> ({cou}){len(tmp)} parts get score-{cou/phal['nparts']:.6f}\")\n",
    "    # pid = np.where(base>0)[0]+1\n",
    "    NOUT += 1"
   ]
  },
  {
   "cell_type": "code",
   "execution_count": 51,
   "metadata": {},
   "outputs": [
    {
     "data": {
      "image/png": "[encoded data removed]",
      "text/plain": [
       "<Figure size 640x480 with 1 Axes>"
      ]
     },
     "metadata": {},
     "output_type": "display_data"
    }
   ],
   "source": [
    "plt.hist(np.log10(base[base>0]))\n",
    "plt.yscale('log')"
   ]
  },
  {
   "cell_type": "code",
   "execution_count": 54,
   "metadata": {},
   "outputs": [
    {
     "data": {
      "text/plain": [
       "220"
      ]
     },
     "execution_count": 54,
     "metadata": {},
     "output_type": "execute_result"
    }
   ],
   "source": [
    "len(pid)"
   ]
  },
  {
   "cell_type": "code",
   "execution_count": 52,
   "metadata": {},
   "outputs": [
    {
     "name": "stdout",
     "output_type": "stream",
     "text": [
      "22.57574629812177\n",
      "0.000930 -> 2462\n",
      "2.299434 -> 358\n",
      "22.071270 -> 97\n",
      "12.517546 -> 114\n",
      "0.001727 -> 2462\n",
      "5.479277 -> 133\n",
      "12.488203 -> 114\n",
      "14.854708 -> 109\n"
     ]
    }
   ],
   "source": [
    "# What should be threshold?\n",
    "print(np.max(base))\n",
    "cut = np.median(base[base>0]); print(f\"{cut:5f} -> {np.sum(base>cut)}\" )\n",
    "cut = np.median(base[base>1]); print(f\"{cut:5f} -> {np.sum(base>cut)}\" )\n",
    "cut = np.median(base[base > (NOUT/10)]); print(f\"{cut:5f} -> {np.sum(base>cut)}\" )\n",
    "cut = np.median(base[pid-1]); print(f\"{cut:5f} -> {np.sum(base>cut)}\" )\n",
    "cut = np.mean(base[base>0]); print(f\"{cut:5f} -> {np.sum(base>cut)}\" )\n",
    "cut = np.mean(base[base>1]); print(f\"{cut:5f} -> {np.sum(base>cut)}\" )\n",
    "cut = np.mean(base[pid-1]); print(f\"{cut:5f} -> {np.sum(base>cut)}\" )\n",
    "cut = np.mean(base[base > (NOUT/10)]); print(f\"{cut:5f} -> {np.sum(base>cut)}\" )"
   ]
  }
 ],
 "metadata": {
  "kernelspec": {
   "display_name": "jeonpy",
   "language": "python",
   "name": "python3"
  },
  "language_info": {
   "codemirror_mode": {
    "name": "ipython",
    "version": 3
   },
   "file_extension": ".py",
   "mimetype": "text/x-python",
   "name": "python",
   "nbconvert_exporter": "python",
   "pygments_lexer": "ipython3",
   "version": "3.10.4"
  }
 },
 "nbformat": 4,
 "nbformat_minor": 2
}
