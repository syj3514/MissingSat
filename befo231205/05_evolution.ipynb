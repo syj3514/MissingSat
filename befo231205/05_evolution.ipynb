{
 "cells": [
  {
   "cell_type": "code",
   "execution_count": 1,
   "metadata": {},
   "outputs": [
    {
     "name": "stdout",
     "output_type": "stream",
     "text": [
      "[Output 01026] Age (Gyr) : 11.624 / 13.741, z = 0.17149 (a = 0.8536)\n"
     ]
    }
   ],
   "source": [
    "from tqdm import tqdm\n",
    "import matplotlib.pyplot as plt # type: module\n",
    "import matplotlib.ticker as ticker\n",
    "from matplotlib import colormaps\n",
    "from matplotlib.colors import Normalize\n",
    "\n",
    "import numpy as np\n",
    "import os, glob\n",
    "import time\n",
    "import warnings\n",
    "\n",
    "from rur.fortranfile import FortranFile\n",
    "from rur import uri, uhmi, painter, drawer\n",
    "from rur.sci.photometry import measure_luminosity\n",
    "from rur.sci.geometry import get_angles, euler_angle\n",
    "from rur.utool import rotate_data\n",
    "from scipy.ndimage import gaussian_filter\n",
    "uri.timer.verbose=1\n",
    "# from rur.sci.kinematics import f_getpot\n",
    "\n",
    "from icl_IO import mode2repo, pklsave, pklload\n",
    "from icl_tool import *\n",
    "from icl_numba import large_isin, large_isind, isin\n",
    "from icl_draw import drawsnap, add_scalebar, addtext, MakeSub_nolabel, label_to_in, fancy_axis, circle\n",
    "import argparse, subprocess\n",
    "from importlib import reload\n",
    "import cmasher as cmr\n",
    "from copy import deepcopy\n",
    "from multiprocessing import Pool, shared_memory\n",
    "\n",
    "mode = 'nh'\n",
    "iout = 1026\n",
    "repo, rurmode, dp = mode2repo(mode)\n",
    "snap = uri.RamsesSnapshot(repo, iout, mode=rurmode)\n",
    "snaps = uri.TimeSeries(snap)\n",
    "snaps.read_iout_avail()\n",
    "nout = snaps.iout_avail['iout']\n",
    "gals = uhmi.HaloMaker.load(snap, galaxy=True, double_precision=dp)\n",
    "hals = uhmi.HaloMaker.load(snap, galaxy=False, double_precision=dp)\n",
    "database = f\"/home/jeon/MissingSat/database\"\n",
    "\n",
    "from common_func import *"
   ]
  },
  {
   "cell_type": "code",
   "execution_count": 2,
   "metadata": {},
   "outputs": [],
   "source": [
    "LG = pklload(f\"{database}/LG\")\n",
    "allsubs = None\n",
    "states = None\n",
    "for key in LG.keys():\n",
    "    subs = LG[key]['subs']\n",
    "    real = LG[key]['real']\n",
    "    dink = real[real['state']=='dink']['hid']\n",
    "    ind = isin(subs['id'], dink)\n",
    "    subs['dink'][ind] = True\n",
    "    subs['dink'][~ind] = False\n",
    "    state = np.zeros(len(subs), dtype='<U7')\n",
    "    state[ind] = 'dink'\n",
    "    state[~ind] = 'pair'\n",
    "    upair = real[real['state']=='upair']['hid']\n",
    "    ind = isin(subs['id'], upair)\n",
    "    state[ind] = 'upair'\n",
    "\n",
    "    allsubs = subs if allsubs is None else np.hstack((allsubs, subs))\n",
    "    states = state if states is None else np.hstack((states, state))\n",
    "argsort = np.argsort(allsubs['id'])\n",
    "allsubs = allsubs[argsort]"
   ]
  },
  {
   "cell_type": "code",
   "execution_count": 3,
   "metadata": {},
   "outputs": [
    {
     "data": {
      "text/plain": [
       "((3281052,),\n",
       " dtype([('lastid', '<i2'), ('timestep', '<i2'), ('id', '<i2'), ('give_score', '<f8'), ('take_score', '<f8')]),\n",
       " (589, 1026, 589, 1., 1.))"
      ]
     },
     "execution_count": 3,
     "metadata": {},
     "output_type": "execute_result"
    }
   ],
   "source": [
    "tree = pklload(f\"{database}/02_main_progenitors.pickle\")\n",
    "tree.shape, tree.dtype, tree[0]"
   ]
  },
  {
   "cell_type": "code",
   "execution_count": 4,
   "metadata": {},
   "outputs": [],
   "source": [
    "if(os.path.exists(f\"{database}/halo_dict.pickle\")):\n",
    "    halos = pklload(f\"{database}/halo_dict.pickle\")\n",
    "else:\n",
    "    halos = {'catalog':{}, 'index':{}}\n",
    "    uri.timer.verbose=0\n",
    "    for iout in tqdm(np.unique(tree['timestep'])):\n",
    "        isnap = snaps.get_snap(iout)\n",
    "        ihals = uhmi.HaloMaker.load(isnap, galaxy=False, double_precision=dp)\n",
    "        indicies = np.zeros(len(ihals), dtype=int)\n",
    "        iids = tree[tree['timestep'] == iout]['id']\n",
    "        ihals = ihals[iids-1]\n",
    "        indicies[iids-1] = np.arange(len(iids))\n",
    "        halos['catalog'][iout] = ihals\n",
    "        halos['index'][iout] = indicies   \n",
    "    pklsave(halos, f\"{database}/halo_dict.pickle\")"
   ]
  },
  {
   "cell_type": "code",
   "execution_count": 5,
   "metadata": {},
   "outputs": [
    {
     "data": {
      "text/plain": [
       "(353420, 592, 1020, 1, 592, 0, 45, 21711, 0.85097384, 4.62858909e+11, 0.49432707, 0.48607818, 0.47447001, 75.02861941, 83.49368329, 134.07337116, -3.10094319e+11, -5.3608248e+11, 7.95886209e+11, 0.00385547, 0.11305825, 0.04801294, 0.07035723, 42236.15492919, -36300.89495075, 5935.25997844, 0.03919084, 78.32725047, 0.00138886, 3.71653421e+11, 341822.48651226, 97.57826257, 62.50632897, 0.00138886, 1.79596942e+09)"
      ]
     },
     "execution_count": 5,
     "metadata": {},
     "output_type": "execute_result"
    }
   ],
   "source": [
    "def read_halo(iout, iid, halos=None):\n",
    "    i = halos['index'][iout][iid-1]\n",
    "    return halos['catalog'][iout][i]\n",
    "read_halo(1020, 1, halos=halos)"
   ]
  },
  {
   "cell_type": "markdown",
   "metadata": {},
   "source": [
    "At 1026"
   ]
  },
  {
   "cell_type": "code",
   "execution_count": 6,
   "metadata": {},
   "outputs": [],
   "source": [
    "dtype = allsubs.dtype\n",
    "# ('nparts', '<i4'), ('id', '<i4'), ('timestep', '<i4'), \n",
    "# ('level', '<i4'), ('host', '<i4'), ('hostsub', '<i4'), \n",
    "# ('nbsub', '<i4'), ('nextsub', '<i4'), ('aexp', '<f8'), \n",
    "# ('m', '<f8'), ('x', '<f8'), ('y', '<f8'), ('z', '<f8'), \n",
    "# ('vx', '<f8'), ('vy', '<f8'), ('vz', '<f8'), ('Lx', '<f8'), ('Ly', '<f8'), ('Lz', '<f8'), \n",
    "# ('r', '<f8'), ('a', '<f8'), ('b', '<f8'), ('c', '<f8'), \n",
    "# ('ek', '<f8'), ('ep', '<f8'), ('et', '<f8'), ('spin', '<f8'), ('sigma', '<f8'), \n",
    "# ('rvir', '<f8'), ('mvir', '<f8'), ('tvir', '<f8'), ('cvel', '<f8'), ('rho0', '<f8'), ('rc', '<f8'), \n",
    "# ('mcontam', '<f8'), \n",
    "# -------------------------------------------------\n",
    "# ('r10_mem', '<f8'), ('r50_mem', '<f8'), ('r90_mem', '<f8'), \n",
    "# ('r10_vir', '<f8'), ('r50_vir', '<f8'), ('r90_vir', '<f8'), \n",
    "# ('r10_max', '<f8'), ('r50_max', '<f8'), ('r90_max', '<f8'), \n",
    "# ('sub', '<i8'), ('dink', '?'), \n",
    "# ('mdm', '<f8'), ('mstar', '<f8'), ('mcold', '<f8'), ('mcell', '<f8'), \n",
    "# ('Host', '<i4'), ('r200kpc', '<f8'), ('m200', '<f8'), ('r200', '<f8'), \n",
    "# ('mdm_vir', '<f8'), ('mstar_vir', '<f8'), ('mcell_vir', '<f8'), ('mcold_vir', '<f8')]\n",
    "\n",
    "fname = f\"{database}/main_prog/subhalos_01026.pickle\"\n",
    "if(os.path.exists(fname)):\n",
    "    newsubs = pklload(fname)\n",
    "else:\n",
    "    newsubs = np.zeros(\n",
    "        len(allsubs), dtype=dtype.descr + [('lastid', '<i4'),('give_score', '<f8'), ('take_score', '<f8')])\n",
    "\n",
    "    for iname in dtype.names:\n",
    "        newsubs[iname] = allsubs[iname]\n",
    "    #--------------------------------------------------------------\n",
    "    # 'lastid', 'give_score', 'take_score'\n",
    "    #--------------------------------------------------------------\n",
    "    newsubs['lastid'] = allsubs['id']\n",
    "    newsubs['give_score'] = 1\n",
    "    newsubs['take_score'] = 1\n",
    "\n",
    "\n",
    "    argsort = np.argsort(newsubs['lastid'])\n",
    "    newsubs = newsubs[argsort]\n",
    "    pklsave(newsubs, fname)"
   ]
  },
  {
   "cell_type": "markdown",
   "metadata": {},
   "source": [
    "Other snapshots"
   ]
  },
  {
   "cell_type": "code",
   "execution_count": 7,
   "metadata": {},
   "outputs": [
    {
     "name": "stdout",
     "output_type": "stream",
     "text": [
      "Reading 4195 AMR & hydro files (78.52 GiB) in /storage6/NewHorizon/snapshots/output_01025... \n"
     ]
    },
    {
     "data": {
      "application/json": {
       "ascii": false,
       "bar_format": null,
       "colour": null,
       "elapsed": 0.023447036743164062,
       "initial": 0,
       "n": 0,
       "ncols": null,
       "nrows": null,
       "postfix": null,
       "prefix": "Reading cells",
       "rate": null,
       "total": 4195,
       "unit": "it",
       "unit_divisor": 1000,
       "unit_scale": false
      },
      "application/vnd.jupyter.widget-view+json": {
       "model_id": "d338122626ec4e498d2abceb27b04c64",
       "version_major": 2,
       "version_minor": 0
      },
      "text/plain": [
       "Reading cells:   0%|          | 0/4195 [00:00<?, ?it/s]"
      ]
     },
     "metadata": {},
     "output_type": "display_data"
    },
    {
     "name": "stdout",
     "output_type": "stream",
     "text": [
      "Done (27.055s).\n",
      "Reading 4195 part files (31.11 GiB) in /storage6/NewHorizon/snapshots/output_01025... \n"
     ]
    },
    {
     "data": {
      "application/json": {
       "ascii": false,
       "bar_format": null,
       "colour": null,
       "elapsed": 0.030046939849853516,
       "initial": 0,
       "n": 0,
       "ncols": null,
       "nrows": null,
       "postfix": null,
       "prefix": "Reading parts",
       "rate": null,
       "total": 4195,
       "unit": "it",
       "unit_divisor": 1000,
       "unit_scale": false
      },
      "application/vnd.jupyter.widget-view+json": {
       "model_id": "1e32ae3c0a504c5eb80e4bf7bd8516cb",
       "version_major": 2,
       "version_minor": 0
      },
      "text/plain": [
       "Reading parts:   0%|          | 0/4195 [00:00<?, ?it/s]"
      ]
     },
     "metadata": {},
     "output_type": "display_data"
    },
    {
     "name": "stdout",
     "output_type": "stream",
     "text": [
      "Done (48.971s).\n"
     ]
    },
    {
     "name": "stderr",
     "output_type": "stream",
     "text": [
      "IOUT01025 :   0%|          | 1/3851 [00:00<21:53,  2.93it/s]"
     ]
    },
    {
     "name": "stdout",
     "output_type": "stream",
     "text": [
      "[get_part] 0.12 sec\n",
      "[cutstar] 0.00 sec\n",
      "[get_cell] 0.20 sec\n",
      "[cut_cell] 0.00 sec\n",
      "[cut_dm] 0.00 sec\n",
      "[rhalfs] 0.02 sec\n"
     ]
    },
    {
     "name": "stderr",
     "output_type": "stream",
     "text": [
      "IOUT01025 :   0%|          | 2/3851 [00:00<21:05,  3.04it/s]"
     ]
    },
    {
     "name": "stdout",
     "output_type": "stream",
     "text": [
      "[get_part] 0.06 sec\n",
      "[cutstar] 0.00 sec\n",
      "[get_cell] 0.25 sec\n",
      "[cut_cell] 0.00 sec\n",
      "[cut_dm] 0.00 sec\n",
      "[rhalfs] 0.00 sec\n"
     ]
    },
    {
     "name": "stderr",
     "output_type": "stream",
     "text": [
      "IOUT01025 :   0%|          | 4/3851 [00:01<17:35,  3.65it/s]"
     ]
    },
    {
     "name": "stdout",
     "output_type": "stream",
     "text": [
      "[get_part] 0.12 sec\n",
      "[cutstar] 0.00 sec\n",
      "[get_cell] 0.24 sec\n",
      "[cut_cell] 0.00 sec\n",
      "[cut_dm] 0.00 sec\n",
      "[rhalfs] 0.00 sec\n",
      "[get_part] 0.06 sec\n",
      "[cutstar] 0.00 sec\n",
      "[get_cell] 0.10 sec\n",
      "[cut_cell] 0.00 sec\n",
      "[cut_dm] 0.00 sec\n",
      "[rhalfs] 0.00 sec\n"
     ]
    },
    {
     "name": "stderr",
     "output_type": "stream",
     "text": [
      "IOUT01025 :   0%|          | 6/3851 [00:01<12:58,  4.94it/s]"
     ]
    },
    {
     "name": "stdout",
     "output_type": "stream",
     "text": [
      "[get_part] 0.05 sec\n",
      "[cutstar] 0.00 sec\n",
      "[get_cell] 0.08 sec\n",
      "[cut_cell] 0.00 sec\n",
      "[cut_dm] 0.00 sec\n",
      "[rhalfs] 0.00 sec\n",
      "[get_part] 0.04 sec\n",
      "[cutstar] 0.00 sec\n",
      "[get_cell] 0.12 sec\n",
      "[cut_cell] 0.00 sec\n",
      "[cut_dm] 0.00 sec\n",
      "[rhalfs] 0.00 sec\n"
     ]
    },
    {
     "name": "stderr",
     "output_type": "stream",
     "text": [
      "IOUT01025 :   0%|          | 7/3851 [00:01<10:55,  5.87it/s]"
     ]
    },
    {
     "name": "stdout",
     "output_type": "stream",
     "text": [
      "[get_part] 0.05 sec\n",
      "[cutstar] 0.00 sec\n",
      "[get_cell] 0.04 sec\n",
      "[cut_cell] 0.01 sec\n",
      "[cut_dm] 0.00 sec\n",
      "[rhalfs] 0.00 sec\n"
     ]
    },
    {
     "name": "stderr",
     "output_type": "stream",
     "text": [
      "IOUT01025 :   0%|          | 8/3851 [00:01<14:10,  4.52it/s]"
     ]
    },
    {
     "name": "stdout",
     "output_type": "stream",
     "text": [
      "[get_part] 0.08 sec\n",
      "[cutstar] 0.00 sec\n",
      "[get_cell] 0.25 sec\n",
      "[cut_cell] 0.00 sec\n",
      "[cut_dm] 0.00 sec\n",
      "[rhalfs] 0.00 sec\n"
     ]
    },
    {
     "name": "stderr",
     "output_type": "stream",
     "text": [
      "IOUT01025 :   0%|          | 9/3851 [00:02<18:41,  3.43it/s]"
     ]
    },
    {
     "name": "stdout",
     "output_type": "stream",
     "text": [
      "[get_part] 0.09 sec\n",
      "[cutstar] 0.00 sec\n",
      "[get_cell] 0.35 sec\n",
      "[cut_cell] 0.00 sec\n",
      "[cut_dm] 0.00 sec\n",
      "[rhalfs] 0.00 sec\n"
     ]
    },
    {
     "name": "stderr",
     "output_type": "stream",
     "text": [
      "IOUT01025 :   0%|          | 11/3851 [00:02<14:34,  4.39it/s]"
     ]
    },
    {
     "name": "stdout",
     "output_type": "stream",
     "text": [
      "[get_part] 0.07 sec\n",
      "[cutstar] 0.00 sec\n",
      "[get_cell] 0.14 sec\n",
      "[cut_cell] 0.00 sec\n",
      "[cut_dm] 0.00 sec\n",
      "[rhalfs] 0.00 sec\n",
      "[get_part] 0.05 sec\n",
      "[cutstar] 0.00 sec\n",
      "[get_cell] 0.08 sec\n",
      "[cut_cell] 0.00 sec\n",
      "[cut_dm] 0.00 sec\n",
      "[rhalfs] 0.00 sec\n"
     ]
    },
    {
     "name": "stderr",
     "output_type": "stream",
     "text": [
      "IOUT01025 :   0%|          | 12/3851 [00:03<18:43,  3.42it/s]"
     ]
    },
    {
     "name": "stdout",
     "output_type": "stream",
     "text": [
      "[get_part] 0.10 sec\n",
      "[cutstar] 0.00 sec\n",
      "[get_cell] 0.34 sec\n",
      "[cut_cell] 0.00 sec\n",
      "[cut_dm] 0.00 sec\n",
      "[rhalfs] 0.00 sec\n"
     ]
    },
    {
     "name": "stderr",
     "output_type": "stream",
     "text": [
      "IOUT01025 :   0%|          | 13/3851 [00:03<21:01,  3.04it/s]"
     ]
    },
    {
     "name": "stdout",
     "output_type": "stream",
     "text": [
      "[get_part] 0.12 sec\n",
      "[cutstar] 0.00 sec\n",
      "[get_cell] 0.28 sec\n",
      "[cut_cell] 0.00 sec\n",
      "[cut_dm] 0.00 sec\n",
      "[rhalfs] 0.00 sec\n"
     ]
    },
    {
     "name": "stderr",
     "output_type": "stream",
     "text": [
      "IOUT01025 :   0%|          | 14/3851 [00:03<19:14,  3.32it/s]"
     ]
    },
    {
     "name": "stdout",
     "output_type": "stream",
     "text": [
      "[get_part] 0.10 sec\n",
      "[cutstar] 0.00 sec\n",
      "[get_cell] 0.13 sec\n",
      "[cut_cell] 0.00 sec\n",
      "[cut_dm] 0.00 sec\n",
      "[rhalfs] 0.00 sec\n",
      "[get_part] 0.03 sec\n",
      "[cutstar] 0.00 sec\n",
      "[get_cell] 0.06 sec\n",
      "[cut_cell] 0.00 sec\n",
      "[cut_dm] 0.00 sec\n",
      "[rhalfs] 0.00 sec\n"
     ]
    },
    {
     "name": "stderr",
     "output_type": "stream",
     "text": [
      "IOUT01025 :   0%|          | 16/3851 [00:04<14:37,  4.37it/s]"
     ]
    },
    {
     "name": "stdout",
     "output_type": "stream",
     "text": [
      "[get_part] 0.04 sec\n",
      "[cutstar] 0.00 sec\n",
      "[get_cell] 0.15 sec\n",
      "[cut_cell] 0.00 sec\n",
      "[cut_dm] 0.00 sec\n",
      "[rhalfs] 0.00 sec\n",
      "[get_part] 0.03 sec\n",
      "[cutstar] 0.00 sec\n",
      "[get_cell] 0.06 sec\n",
      "[cut_cell] 0.00 sec\n",
      "[cut_dm] 0.00 sec\n",
      "[rhalfs] 0.00 sec\n"
     ]
    },
    {
     "name": "stderr",
     "output_type": "stream",
     "text": [
      "IOUT01025 :   0%|          | 18/3851 [00:04<11:26,  5.58it/s]"
     ]
    },
    {
     "name": "stdout",
     "output_type": "stream",
     "text": [
      "[get_part] 0.05 sec\n",
      "[cutstar] 0.00 sec\n",
      "[get_cell] 0.06 sec\n",
      "[cut_cell] 0.00 sec\n",
      "[cut_dm] 0.00 sec\n",
      "[rhalfs] 0.00 sec\n"
     ]
    },
    {
     "name": "stderr",
     "output_type": "stream",
     "text": [
      "IOUT01025 :   0%|          | 19/3851 [00:04<12:06,  5.28it/s]"
     ]
    },
    {
     "name": "stdout",
     "output_type": "stream",
     "text": [
      "[get_part] 0.07 sec\n",
      "[cutstar] 0.00 sec\n",
      "[get_cell] 0.15 sec\n",
      "[cut_cell] 0.00 sec\n",
      "[cut_dm] 0.00 sec\n",
      "[rhalfs] 0.00 sec\n"
     ]
    },
    {
     "name": "stderr",
     "output_type": "stream",
     "text": [
      "IOUT01025 :   1%|          | 20/3851 [00:04<12:45,  5.01it/s]"
     ]
    },
    {
     "name": "stdout",
     "output_type": "stream",
     "text": [
      "[get_part] 0.04 sec\n",
      "[cutstar] 0.00 sec\n",
      "[get_cell] 0.19 sec\n",
      "[cut_cell] 0.00 sec\n",
      "[cut_dm] 0.00 sec\n",
      "[rhalfs] 0.00 sec\n"
     ]
    },
    {
     "name": "stderr",
     "output_type": "stream",
     "text": [
      "IOUT01025 :   1%|          | 22/3851 [00:05<11:42,  5.45it/s]"
     ]
    },
    {
     "name": "stdout",
     "output_type": "stream",
     "text": [
      "[get_part] 0.07 sec\n",
      "[cutstar] 0.00 sec\n",
      "[get_cell] 0.15 sec\n",
      "[cut_cell] 0.00 sec\n",
      "[cut_dm] 0.00 sec\n",
      "[rhalfs] 0.00 sec\n",
      "[get_part] 0.04 sec\n",
      "[cutstar] 0.00 sec\n",
      "[get_cell] 0.04 sec\n",
      "[cut_cell] 0.00 sec\n",
      "[cut_dm] 0.00 sec\n",
      "[rhalfs] 0.04 sec\n",
      "[Signal2] Clearing memory\n",
      "  ['psm_714fd47c', 'psm_b7645b5a']\n",
      "\tUnlink `psm_b7645b5a`\n",
      "\tUnlink `psm_714fd47c`\n"
     ]
    },
    {
     "name": "stderr",
     "output_type": "stream",
     "text": [
      "IOUT01025 :   1%|          | 22/3851 [00:10<29:22,  2.17it/s]\n"
     ]
    },
    {
     "ename": "SystemExit",
     "evalue": "0",
     "output_type": "error",
     "traceback": [
      "An exception has occurred, use %tb to see the full traceback.\n",
      "\u001b[0;31mSystemExit\u001b[0m\u001b[0;31m:\u001b[0m 0\n"
     ]
    },
    {
     "name": "stderr",
     "output_type": "stream",
     "text": [
      "/home/jeon/.conda/envs/jeonpy/lib/python3.10/site-packages/IPython/core/interactiveshell.py:3406: UserWarning: To exit: use 'exit', 'quit', or Ctrl-D.\n",
      "  warn(\"To exit: use 'exit', 'quit', or Ctrl-D.\", stacklevel=1)\n"
     ]
    }
   ],
   "source": [
    "cursor = 0\n",
    "nsub = len(allsubs)\n",
    "uri.timer.verbose=0\n",
    "for iout in np.unique(tree['timestep'])[::-1]:\n",
    "    if(os.path.exists( f\"{database}/main_prog/subhalos_{iout:05d}.pickle\"))or(iout%10 != 0):\n",
    "        cursor += nsub\n",
    "        continue\n",
    "    isnap = snaps.get_snap(iout)\n",
    "    ihals = halos['catalog'][iout]\n",
    "    indicies = halos['index'][iout]\n",
    "\n",
    "    x1 = np.min(ihals['x']-ihals['r']); x2 = np.max(ihals['x']+ihals['r'])\n",
    "    y1 = np.min(ihals['y']-ihals['r']); y2 = np.max(ihals['y']+ihals['r'])\n",
    "    z1 = np.min(ihals['z']-ihals['r']); z2 = np.max(ihals['z']+ihals['r'])\n",
    "    isnap.box = np.array([[x1,x2],[y1,y2],[z1,z2]])\n",
    "    uri.timer.verbose=1\n",
    "    isnap.get_cell(nthread=40, target_fields=['x','y','z','rho','P'], exact_box=False)\n",
    "    isnap.get_part(nthread=40, target_fields=['x','y','z','m','epoch','id'], exact_box=False)\n",
    "    uri.timer.verbose=0\n",
    "\n",
    "    #--------------------------------------------------------------\n",
    "    #--------------------------------------------------------------\n",
    "    newsubs = np.zeros(len(allsubs), dtype=dtype.descr + [('lastid', '<i4'),('give_score', '<f8'), ('take_score', '<f8')])\n",
    "\n",
    "    #--------------------------------------------------------------\n",
    "    # 'nparts', 'id', 'timestep',\n",
    "    # 'level', 'host', 'hostsub', 'nbsub', 'nextsub', \n",
    "    # 'aexp', 'm', \n",
    "    # 'x', 'y', 'z', 'vx', 'vy', 'vz', 'Lx', 'Ly', 'Lz', \n",
    "    # 'r', 'a', 'b', 'c', 'ek', 'ep', 'et', 'spin', 'sigma', \n",
    "    # 'rvir', 'mvir', 'tvir', 'cvel', 'rho0', 'rc', 'mcontam' \n",
    "    #--------------------------------------------------------------\n",
    "    for iname in dtype.names:\n",
    "        if(iname in ihals.dtype.names):\n",
    "            newsubs[iname] = ihals[iname]\n",
    "\n",
    "    #--------------------------------------------------------------\n",
    "    # 'lastid', 'give_score', 'take_score'\n",
    "    #--------------------------------------------------------------\n",
    "    itree = tree[cursor:cursor+nsub]\n",
    "    newsubs['lastid'] = itree['lastid']\n",
    "    newsubs['give_score'] = itree['give_score']\n",
    "    newsubs['take_score'] = itree['take_score']\n",
    "    \n",
    "    for ith in tqdm( range(nsub), desc=f\"IOUT{iout:05d} \"):\n",
    "        timereport = []; ref = time.time()\n",
    "        ihal = ihals[np.argsort(ihals['m'])][ith]\n",
    "        #--------------------------------------------------------------\n",
    "        # 'mdm', 'mstar', 'mcold', 'mcell', \n",
    "        # 'mdm_vir', 'mstar_vir', 'mcell_vir', 'mcold_vir'\n",
    "        #--------------------------------------------------------------\n",
    "        isnap.set_box_halo(ihal, 1, radius_name='r')\n",
    "        isnap.get_part(nthread=40, target_fields=['x','y','z','m','epoch','id'])\n",
    "        timereport.append((\"get_part\", time.time()-ref)); ref = time.time()\n",
    "        table = isnap.part['star']\n",
    "        if(len(table)>0):\n",
    "            table = cut_sphere(table, ihal['x'], ihal['y'], ihal['z'], ihal['r'])\n",
    "            if(len(table)>0):\n",
    "                newsubs['mstar'][ith] = np.sum(table['m','Msol'])\n",
    "                table_vir = cut_sphere(table, ihal['x'], ihal['y'], ihal['z'], ihal['rvir'])\n",
    "                if(len(table_vir)>0):\n",
    "                    newsubs['mstar_vir'][ith] = np.sum(table_vir['m','Msol'])\n",
    "        timereport.append((\"cutstar\", time.time()-ref)); ref = time.time()\n",
    "        table = isnap.get_cell(nthread=40, target_fields=['x','y','z','rho','P'])#,'level'])\n",
    "        timereport.append((\"get_cell\", time.time()-ref)); ref = time.time()\n",
    "        table = cut_sphere(table, ihal['x'], ihal['y'], ihal['z'], ihal['r'])\n",
    "        if(len(table)>0):\n",
    "            newsubs['mcell'][ith] = np.sum(table['m','Msol'])\n",
    "            ctable = table[table['T','K']<2e4]\n",
    "            if(len(ctable)>0):\n",
    "                newsubs['mcold'][ith] = np.sum(ctable['m','Msol'])\n",
    "            table_vir = cut_sphere(table, ihal['x'], ihal['y'], ihal['z'], ihal['rvir'])\n",
    "            if(len(table_vir)>0):\n",
    "                newsubs['mcell_vir'][ith] = np.sum(table_vir['m','Msol'])\n",
    "                ctable_vir = table_vir[table_vir['T','K']<2e4]\n",
    "                if(len(ctable_vir)>0):\n",
    "                    newsubs['mcold_vir'][ith] = np.sum(ctable_vir['m','Msol'])\n",
    "        timereport.append((\"cut_cell\", time.time()-ref)); ref = time.time()\n",
    "        table = isnap.part['dm']\n",
    "        table = cut_sphere(table, ihal['x'], ihal['y'], ihal['z'], ihal['r'])\n",
    "        newsubs['mdm'][ith] = np.sum(table['m','Msol'])\n",
    "        table_vir = cut_sphere(table, ihal['x'], ihal['y'], ihal['z'], ihal['rvir'])\n",
    "        newsubs['mdm_vir'][ith] = np.sum(table_vir['m','Msol'])\n",
    "        timereport.append((\"cut_dm\", time.time()-ref)); ref = time.time()\n",
    "\n",
    "        #--------------------------------------------------------------\n",
    "        # 'r10_mem', 'r50_mem', 'r90_mem', 'r10_vir', 'r50_vir', 'r90_vir', 'r10_max', 'r50_max', 'r90_max', \n",
    "        #--------------------------------------------------------------\n",
    "        all_dist = distance(ihal, table); argsort = np.argsort(all_dist)\n",
    "        all_dist = all_dist[argsort]; all_mass = table['m'][argsort]\n",
    "        memdm = uhmi.HaloMaker.read_member_part(isnap, ihal['id'], galaxy=False, target_fields=['x','y','z','m'])\n",
    "        mem_dist = distance(ihal, memdm); argsort = np.argsort(mem_dist)\n",
    "        mem_dist = mem_dist[argsort]; mem_mass = memdm['m'][argsort]\n",
    "\n",
    "        newsubs['r10_mem'][ith] = calc_rhalf_sorted(mem_dist, mem_mass, ratio=0.1)\n",
    "        newsubs['r50_mem'][ith] = calc_rhalf_sorted(mem_dist, mem_mass, ratio=0.5)\n",
    "        newsubs['r90_mem'][ith] = calc_rhalf_sorted(mem_dist, mem_mass, ratio=0.9)\n",
    "        newsubs['r10_max'][ith] = calc_rhalf_sorted(all_dist, all_mass, ratio=0.1)\n",
    "        newsubs['r50_max'][ith] = calc_rhalf_sorted(all_dist, all_mass, ratio=0.5)\n",
    "        newsubs['r90_max'][ith] = calc_rhalf_sorted(all_dist, all_mass, ratio=0.9)\n",
    "        _, ind = cut_sphere(table, ihal['x'], ihal['y'], ihal['z'], ihal['rvir'], return_index=True)\n",
    "        all_dist = all_dist[ind]; all_mass = table['m'][ind]\n",
    "        newsubs['r10_vir'][ith] = calc_rhalf_sorted(all_dist, all_mass, ratio=0.1)\n",
    "        newsubs['r50_vir'][ith] = calc_rhalf_sorted(all_dist, all_mass, ratio=0.5)\n",
    "        newsubs['r90_vir'][ith] = calc_rhalf_sorted(all_dist, all_mass, ratio=0.9)\n",
    "        timereport.append((\"rhalfs\", time.time()-ref)); ref = time.time()\n",
    "\n",
    "        for ireport in timereport:\n",
    "            print(f\"[{ireport[0]}] {ireport[1]:.2f} sec\")\n",
    "    isnap.clear()\n",
    "    README = \"`sub`, `dink`, `Host`, `r200kpc`, `m200`, `r200` are missed!\"\n",
    "    pklsave((newsubs, README), f\"{database}/main_prog/subhalos_{iout:05d}.pickle\")\n",
    "\n",
    "    cursor += nsub\n",
    "    stop()"
   ]
  },
  {
   "cell_type": "code",
   "execution_count": null,
   "metadata": {},
   "outputs": [
    {
     "data": {
      "text/plain": [
       "98"
      ]
     },
     "execution_count": 9,
     "metadata": {},
     "output_type": "execute_result"
    }
   ],
   "source": [
    "isnap.clear()"
   ]
  },
  {
   "cell_type": "code",
   "execution_count": null,
   "metadata": {},
   "outputs": [],
   "source": []
  }
 ],
 "metadata": {
  "kernelspec": {
   "display_name": "jeonpy",
   "language": "python",
   "name": "python3"
  },
  "language_info": {
   "codemirror_mode": {
    "name": "ipython",
    "version": 3
   },
   "file_extension": ".py",
   "mimetype": "text/x-python",
   "name": "python",
   "nbconvert_exporter": "python",
   "pygments_lexer": "ipython3",
   "version": "3.10.4"
  }
 },
 "nbformat": 4,
 "nbformat_minor": 2
}
