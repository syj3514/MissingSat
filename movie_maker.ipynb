{
 "cells": [
  {
   "cell_type": "code",
   "execution_count": 2,
   "metadata": {},
   "outputs": [],
   "source": [
    "from common_func import *\n",
    "import os\n",
    "import numpy as np"
   ]
  },
  {
   "cell_type": "code",
   "execution_count": 3,
   "metadata": {},
   "outputs": [
    {
     "name": "stdout",
     "output_type": "stream",
     "text": [
      "111 ['/home/jeon/MissingSat/database/nh/photo/0024838/0024838_0028.png', '/home/jeon/MissingSat/database/nh/photo/0024838/0024838_0029.png', '/home/jeon/MissingSat/database/nh/photo/0024838/0024838_0030.png'] ['/home/jeon/MissingSat/database/nh/photo/0024838/0024838_0150.png', '/home/jeon/MissingSat/database/nh/photo/0024838/0024838_0151.png', '/home/jeon/MissingSat/database/nh/photo/0024838/0024838_0152.png']\n"
     ]
    }
   ],
   "source": [
    "iid = 24838\n",
    "directory = f\"/home/jeon/MissingSat/database/nh/photo\"\n",
    "\n",
    "fnames = os.listdir(f\"{directory}/{iid:07d}\")\n",
    "fnames = [f\"{directory}/{iid:07d}/{f}\" for f in fnames if f.endswith(\".png\")]\n",
    "fnames.sort()\n",
    "print(len(fnames), fnames[:3], fnames[-3:])"
   ]
  },
  {
   "cell_type": "code",
   "execution_count": 4,
   "metadata": {},
   "outputs": [
    {
     "name": "stderr",
     "output_type": "stream",
     "text": [
      "Read images...: 100%|██████████| 111/111 [00:25<00:00,  4.40it/s]\n"
     ]
    },
    {
     "name": "stdout",
     "output_type": "stream",
     "text": [
      "Size: (3634, 2734) with 15 frame/sec\n"
     ]
    },
    {
     "name": "stderr",
     "output_type": "stream",
     "text": [
      "Write output...: 100%|██████████| 111/111 [00:10<00:00, 10.22it/s]\n"
     ]
    }
   ],
   "source": [
    "output = f\"{directory}/{iid}_l{len(fnames)}.mp4\"\n",
    "makemovie(fnames, output, fps=15)"
   ]
  },
  {
   "cell_type": "code",
   "execution_count": null,
   "metadata": {},
   "outputs": [],
   "source": []
  }
 ],
 "metadata": {
  "kernelspec": {
   "display_name": "jeonpy",
   "language": "python",
   "name": "python3"
  },
  "language_info": {
   "codemirror_mode": {
    "name": "ipython",
    "version": 3
   },
   "file_extension": ".py",
   "mimetype": "text/x-python",
   "name": "python",
   "nbconvert_exporter": "python",
   "pygments_lexer": "ipython3",
   "version": "3.10.4"
  }
 },
 "nbformat": 4,
 "nbformat_minor": 2
}
